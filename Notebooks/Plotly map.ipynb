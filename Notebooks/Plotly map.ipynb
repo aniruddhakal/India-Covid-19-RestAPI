{
 "cells": [
  {
   "cell_type": "code",
   "execution_count": 5,
   "metadata": {},
   "outputs": [],
   "source": [
    "import pandas as pd"
   ]
  },
  {
   "cell_type": "code",
   "execution_count": 6,
   "metadata": {
    "scrolled": false
   },
   "outputs": [
    {
     "data": {
      "application/vnd.plotly.v1+json": {
       "config": {
        "plotlyServerURL": "https://plot.ly"
       },
       "data": [
        {
         "geo": "geo",
         "hoverlabel": {
          "namelength": 0
         },
         "hovertemplate": "<b>%{hovertext}</b><br><br>continent=Asia<br>pop=%{marker.size}<br>iso_alpha=%{location}",
         "hovertext": [
          "Afghanistan",
          "Bahrain",
          "Bangladesh",
          "Cambodia",
          "China",
          "Hong Kong, China",
          "India",
          "Indonesia",
          "Iran",
          "Iraq",
          "Israel",
          "Japan",
          "Jordan",
          "Korea, Dem. Rep.",
          "Korea, Rep.",
          "Kuwait",
          "Lebanon",
          "Malaysia",
          "Mongolia",
          "Myanmar",
          "Nepal",
          "Oman",
          "Pakistan",
          "Philippines",
          "Saudi Arabia",
          "Singapore",
          "Sri Lanka",
          "Syria",
          "Taiwan",
          "Thailand",
          "Vietnam",
          "West Bank and Gaza",
          "Yemen, Rep."
         ],
         "legendgroup": "continent=Asia",
         "locations": [
          "AFG",
          "BHR",
          "BGD",
          "KHM",
          "CHN",
          "HKG",
          "IND",
          "IDN",
          "IRN",
          "IRQ",
          "ISR",
          "JPN",
          "JOR",
          "KOR",
          "KOR",
          "KWT",
          "LBN",
          "MYS",
          "MNG",
          "MMR",
          "NPL",
          "OMN",
          "PAK",
          "PHL",
          "SAU",
          "SGP",
          "LKA",
          "SYR",
          "TWN",
          "THA",
          "VNM",
          "PSE",
          "YEM"
         ],
         "marker": {
          "color": "#636efa",
          "size": [
           31889923,
           708573,
           150448339,
           14131858,
           1318683096,
           6980412,
           1110396331,
           223547000,
           69453570,
           27499638,
           6426679,
           127467972,
           6053193,
           23301725,
           49044790,
           2505559,
           3921278,
           24821286,
           2874127,
           47761980,
           28901790,
           3204897,
           169270617,
           91077287,
           27601038,
           4553009,
           20378239,
           19314747,
           23174294,
           65068149,
           85262356,
           4018332,
           22211743
          ],
          "sizemode": "area",
          "sizeref": 3296707.74
         },
         "name": "continent=Asia",
         "showlegend": true,
         "type": "scattergeo"
        },
        {
         "geo": "geo",
         "hoverlabel": {
          "namelength": 0
         },
         "hovertemplate": "<b>%{hovertext}</b><br><br>continent=Europe<br>pop=%{marker.size}<br>iso_alpha=%{location}",
         "hovertext": [
          "Albania",
          "Austria",
          "Belgium",
          "Bosnia and Herzegovina",
          "Bulgaria",
          "Croatia",
          "Czech Republic",
          "Denmark",
          "Finland",
          "France",
          "Germany",
          "Greece",
          "Hungary",
          "Iceland",
          "Ireland",
          "Italy",
          "Montenegro",
          "Netherlands",
          "Norway",
          "Poland",
          "Portugal",
          "Romania",
          "Serbia",
          "Slovak Republic",
          "Slovenia",
          "Spain",
          "Sweden",
          "Switzerland",
          "Turkey",
          "United Kingdom"
         ],
         "legendgroup": "continent=Europe",
         "locations": [
          "ALB",
          "AUT",
          "BEL",
          "BIH",
          "BGR",
          "HRV",
          "CZE",
          "DNK",
          "FIN",
          "FRA",
          "DEU",
          "GRC",
          "HUN",
          "ISL",
          "IRL",
          "ITA",
          "MNE",
          "NLD",
          "NOR",
          "POL",
          "PRT",
          "ROU",
          "SRB",
          "SVK",
          "SVN",
          "ESP",
          "SWE",
          "CHE",
          "TUR",
          "GBR"
         ],
         "marker": {
          "color": "#EF553B",
          "size": [
           3600523,
           8199783,
           10392226,
           4552198,
           7322858,
           4493312,
           10228744,
           5468120,
           5238460,
           61083916,
           82400996,
           10706290,
           9956108,
           301931,
           4109086,
           58147733,
           684736,
           16570613,
           4627926,
           38518241,
           10642836,
           22276056,
           10150265,
           5447502,
           2009245,
           40448191,
           9031088,
           7554661,
           71158647,
           60776238
          ],
          "sizemode": "area",
          "sizeref": 3296707.74
         },
         "name": "continent=Europe",
         "showlegend": true,
         "type": "scattergeo"
        },
        {
         "geo": "geo",
         "hoverlabel": {
          "namelength": 0
         },
         "hovertemplate": "<b>%{hovertext}</b><br><br>continent=Africa<br>pop=%{marker.size}<br>iso_alpha=%{location}",
         "hovertext": [
          "Algeria",
          "Angola",
          "Benin",
          "Botswana",
          "Burkina Faso",
          "Burundi",
          "Cameroon",
          "Central African Republic",
          "Chad",
          "Comoros",
          "Congo, Dem. Rep.",
          "Congo, Rep.",
          "Cote d'Ivoire",
          "Djibouti",
          "Egypt",
          "Equatorial Guinea",
          "Eritrea",
          "Ethiopia",
          "Gabon",
          "Gambia",
          "Ghana",
          "Guinea",
          "Guinea-Bissau",
          "Kenya",
          "Lesotho",
          "Liberia",
          "Libya",
          "Madagascar",
          "Malawi",
          "Mali",
          "Mauritania",
          "Mauritius",
          "Morocco",
          "Mozambique",
          "Namibia",
          "Niger",
          "Nigeria",
          "Reunion",
          "Rwanda",
          "Sao Tome and Principe",
          "Senegal",
          "Sierra Leone",
          "Somalia",
          "South Africa",
          "Sudan",
          "Swaziland",
          "Tanzania",
          "Togo",
          "Tunisia",
          "Uganda",
          "Zambia",
          "Zimbabwe"
         ],
         "legendgroup": "continent=Africa",
         "locations": [
          "DZA",
          "AGO",
          "BEN",
          "BWA",
          "BFA",
          "BDI",
          "CMR",
          "CAF",
          "TCD",
          "COM",
          "COD",
          "COG",
          "CIV",
          "DJI",
          "EGY",
          "GNQ",
          "ERI",
          "ETH",
          "GAB",
          "GMB",
          "GHA",
          "GIN",
          "GNB",
          "KEN",
          "LSO",
          "LBR",
          "LBY",
          "MDG",
          "MWI",
          "MLI",
          "MRT",
          "MUS",
          "MAR",
          "MOZ",
          "NAM",
          "NER",
          "NGA",
          "REU",
          "RWA",
          "STP",
          "SEN",
          "SLE",
          "SOM",
          "ZAF",
          "SDN",
          "SWZ",
          "TZA",
          "TGO",
          "TUN",
          "UGA",
          "ZMB",
          "ZWE"
         ],
         "marker": {
          "color": "#00cc96",
          "size": [
           33333216,
           12420476,
           8078314,
           1639131,
           14326203,
           8390505,
           17696293,
           4369038,
           10238807,
           710960,
           64606759,
           3800610,
           18013409,
           496374,
           80264543,
           551201,
           4906585,
           76511887,
           1454867,
           1688359,
           22873338,
           9947814,
           1472041,
           35610177,
           2012649,
           3193942,
           6036914,
           19167654,
           13327079,
           12031795,
           3270065,
           1250882,
           33757175,
           19951656,
           2055080,
           12894865,
           135031164,
           798094,
           8860588,
           199579,
           12267493,
           6144562,
           9118773,
           43997828,
           42292929,
           1133066,
           38139640,
           5701579,
           10276158,
           29170398,
           11746035,
           12311143
          ],
          "sizemode": "area",
          "sizeref": 3296707.74
         },
         "name": "continent=Africa",
         "showlegend": true,
         "type": "scattergeo"
        },
        {
         "geo": "geo",
         "hoverlabel": {
          "namelength": 0
         },
         "hovertemplate": "<b>%{hovertext}</b><br><br>continent=Americas<br>pop=%{marker.size}<br>iso_alpha=%{location}",
         "hovertext": [
          "Argentina",
          "Bolivia",
          "Brazil",
          "Canada",
          "Chile",
          "Colombia",
          "Costa Rica",
          "Cuba",
          "Dominican Republic",
          "Ecuador",
          "El Salvador",
          "Guatemala",
          "Haiti",
          "Honduras",
          "Jamaica",
          "Mexico",
          "Nicaragua",
          "Panama",
          "Paraguay",
          "Peru",
          "Puerto Rico",
          "Trinidad and Tobago",
          "United States",
          "Uruguay",
          "Venezuela"
         ],
         "legendgroup": "continent=Americas",
         "locations": [
          "ARG",
          "BOL",
          "BRA",
          "CAN",
          "CHL",
          "COL",
          "CRI",
          "CUB",
          "DOM",
          "ECU",
          "SLV",
          "GTM",
          "HTI",
          "HND",
          "JAM",
          "MEX",
          "NIC",
          "PAN",
          "PRY",
          "PER",
          "PRI",
          "TTO",
          "USA",
          "URY",
          "VEN"
         ],
         "marker": {
          "color": "#ab63fa",
          "size": [
           40301927,
           9119152,
           190010647,
           33390141,
           16284741,
           44227550,
           4133884,
           11416987,
           9319622,
           13755680,
           6939688,
           12572928,
           8502814,
           7483763,
           2780132,
           108700891,
           5675356,
           3242173,
           6667147,
           28674757,
           3942491,
           1056608,
           301139947,
           3447496,
           26084662
          ],
          "sizemode": "area",
          "sizeref": 3296707.74
         },
         "name": "continent=Americas",
         "showlegend": true,
         "type": "scattergeo"
        },
        {
         "geo": "geo",
         "hoverlabel": {
          "namelength": 0
         },
         "hovertemplate": "<b>%{hovertext}</b><br><br>continent=Oceania<br>pop=%{marker.size}<br>iso_alpha=%{location}",
         "hovertext": [
          "Australia",
          "New Zealand"
         ],
         "legendgroup": "continent=Oceania",
         "locations": [
          "AUS",
          "NZL"
         ],
         "marker": {
          "color": "#FFA15A",
          "size": [
           20434176,
           4115771
          ],
          "sizemode": "area",
          "sizeref": 3296707.74
         },
         "name": "continent=Oceania",
         "showlegend": true,
         "type": "scattergeo"
        }
       ],
       "layout": {
        "geo": {
         "center": {},
         "domain": {
          "x": [
           0,
           1
          ],
          "y": [
           0,
           1
          ]
         },
         "projection": {
          "type": "natural earth"
         }
        },
        "legend": {
         "itemsizing": "constant",
         "tracegroupgap": 0
        },
        "margin": {
         "t": 60
        },
        "template": {
         "data": {
          "bar": [
           {
            "error_x": {
             "color": "#2a3f5f"
            },
            "error_y": {
             "color": "#2a3f5f"
            },
            "marker": {
             "line": {
              "color": "#E5ECF6",
              "width": 0.5
             }
            },
            "type": "bar"
           }
          ],
          "barpolar": [
           {
            "marker": {
             "line": {
              "color": "#E5ECF6",
              "width": 0.5
             }
            },
            "type": "barpolar"
           }
          ],
          "carpet": [
           {
            "aaxis": {
             "endlinecolor": "#2a3f5f",
             "gridcolor": "white",
             "linecolor": "white",
             "minorgridcolor": "white",
             "startlinecolor": "#2a3f5f"
            },
            "baxis": {
             "endlinecolor": "#2a3f5f",
             "gridcolor": "white",
             "linecolor": "white",
             "minorgridcolor": "white",
             "startlinecolor": "#2a3f5f"
            },
            "type": "carpet"
           }
          ],
          "choropleth": [
           {
            "colorbar": {
             "outlinewidth": 0,
             "ticks": ""
            },
            "type": "choropleth"
           }
          ],
          "contour": [
           {
            "colorbar": {
             "outlinewidth": 0,
             "ticks": ""
            },
            "colorscale": [
             [
              0,
              "#0d0887"
             ],
             [
              0.1111111111111111,
              "#46039f"
             ],
             [
              0.2222222222222222,
              "#7201a8"
             ],
             [
              0.3333333333333333,
              "#9c179e"
             ],
             [
              0.4444444444444444,
              "#bd3786"
             ],
             [
              0.5555555555555556,
              "#d8576b"
             ],
             [
              0.6666666666666666,
              "#ed7953"
             ],
             [
              0.7777777777777778,
              "#fb9f3a"
             ],
             [
              0.8888888888888888,
              "#fdca26"
             ],
             [
              1,
              "#f0f921"
             ]
            ],
            "type": "contour"
           }
          ],
          "contourcarpet": [
           {
            "colorbar": {
             "outlinewidth": 0,
             "ticks": ""
            },
            "type": "contourcarpet"
           }
          ],
          "heatmap": [
           {
            "colorbar": {
             "outlinewidth": 0,
             "ticks": ""
            },
            "colorscale": [
             [
              0,
              "#0d0887"
             ],
             [
              0.1111111111111111,
              "#46039f"
             ],
             [
              0.2222222222222222,
              "#7201a8"
             ],
             [
              0.3333333333333333,
              "#9c179e"
             ],
             [
              0.4444444444444444,
              "#bd3786"
             ],
             [
              0.5555555555555556,
              "#d8576b"
             ],
             [
              0.6666666666666666,
              "#ed7953"
             ],
             [
              0.7777777777777778,
              "#fb9f3a"
             ],
             [
              0.8888888888888888,
              "#fdca26"
             ],
             [
              1,
              "#f0f921"
             ]
            ],
            "type": "heatmap"
           }
          ],
          "heatmapgl": [
           {
            "colorbar": {
             "outlinewidth": 0,
             "ticks": ""
            },
            "colorscale": [
             [
              0,
              "#0d0887"
             ],
             [
              0.1111111111111111,
              "#46039f"
             ],
             [
              0.2222222222222222,
              "#7201a8"
             ],
             [
              0.3333333333333333,
              "#9c179e"
             ],
             [
              0.4444444444444444,
              "#bd3786"
             ],
             [
              0.5555555555555556,
              "#d8576b"
             ],
             [
              0.6666666666666666,
              "#ed7953"
             ],
             [
              0.7777777777777778,
              "#fb9f3a"
             ],
             [
              0.8888888888888888,
              "#fdca26"
             ],
             [
              1,
              "#f0f921"
             ]
            ],
            "type": "heatmapgl"
           }
          ],
          "histogram": [
           {
            "marker": {
             "colorbar": {
              "outlinewidth": 0,
              "ticks": ""
             }
            },
            "type": "histogram"
           }
          ],
          "histogram2d": [
           {
            "colorbar": {
             "outlinewidth": 0,
             "ticks": ""
            },
            "colorscale": [
             [
              0,
              "#0d0887"
             ],
             [
              0.1111111111111111,
              "#46039f"
             ],
             [
              0.2222222222222222,
              "#7201a8"
             ],
             [
              0.3333333333333333,
              "#9c179e"
             ],
             [
              0.4444444444444444,
              "#bd3786"
             ],
             [
              0.5555555555555556,
              "#d8576b"
             ],
             [
              0.6666666666666666,
              "#ed7953"
             ],
             [
              0.7777777777777778,
              "#fb9f3a"
             ],
             [
              0.8888888888888888,
              "#fdca26"
             ],
             [
              1,
              "#f0f921"
             ]
            ],
            "type": "histogram2d"
           }
          ],
          "histogram2dcontour": [
           {
            "colorbar": {
             "outlinewidth": 0,
             "ticks": ""
            },
            "colorscale": [
             [
              0,
              "#0d0887"
             ],
             [
              0.1111111111111111,
              "#46039f"
             ],
             [
              0.2222222222222222,
              "#7201a8"
             ],
             [
              0.3333333333333333,
              "#9c179e"
             ],
             [
              0.4444444444444444,
              "#bd3786"
             ],
             [
              0.5555555555555556,
              "#d8576b"
             ],
             [
              0.6666666666666666,
              "#ed7953"
             ],
             [
              0.7777777777777778,
              "#fb9f3a"
             ],
             [
              0.8888888888888888,
              "#fdca26"
             ],
             [
              1,
              "#f0f921"
             ]
            ],
            "type": "histogram2dcontour"
           }
          ],
          "mesh3d": [
           {
            "colorbar": {
             "outlinewidth": 0,
             "ticks": ""
            },
            "type": "mesh3d"
           }
          ],
          "parcoords": [
           {
            "line": {
             "colorbar": {
              "outlinewidth": 0,
              "ticks": ""
             }
            },
            "type": "parcoords"
           }
          ],
          "pie": [
           {
            "automargin": true,
            "type": "pie"
           }
          ],
          "scatter": [
           {
            "marker": {
             "colorbar": {
              "outlinewidth": 0,
              "ticks": ""
             }
            },
            "type": "scatter"
           }
          ],
          "scatter3d": [
           {
            "line": {
             "colorbar": {
              "outlinewidth": 0,
              "ticks": ""
             }
            },
            "marker": {
             "colorbar": {
              "outlinewidth": 0,
              "ticks": ""
             }
            },
            "type": "scatter3d"
           }
          ],
          "scattercarpet": [
           {
            "marker": {
             "colorbar": {
              "outlinewidth": 0,
              "ticks": ""
             }
            },
            "type": "scattercarpet"
           }
          ],
          "scattergeo": [
           {
            "marker": {
             "colorbar": {
              "outlinewidth": 0,
              "ticks": ""
             }
            },
            "type": "scattergeo"
           }
          ],
          "scattergl": [
           {
            "marker": {
             "colorbar": {
              "outlinewidth": 0,
              "ticks": ""
             }
            },
            "type": "scattergl"
           }
          ],
          "scattermapbox": [
           {
            "marker": {
             "colorbar": {
              "outlinewidth": 0,
              "ticks": ""
             }
            },
            "type": "scattermapbox"
           }
          ],
          "scatterpolar": [
           {
            "marker": {
             "colorbar": {
              "outlinewidth": 0,
              "ticks": ""
             }
            },
            "type": "scatterpolar"
           }
          ],
          "scatterpolargl": [
           {
            "marker": {
             "colorbar": {
              "outlinewidth": 0,
              "ticks": ""
             }
            },
            "type": "scatterpolargl"
           }
          ],
          "scatterternary": [
           {
            "marker": {
             "colorbar": {
              "outlinewidth": 0,
              "ticks": ""
             }
            },
            "type": "scatterternary"
           }
          ],
          "surface": [
           {
            "colorbar": {
             "outlinewidth": 0,
             "ticks": ""
            },
            "colorscale": [
             [
              0,
              "#0d0887"
             ],
             [
              0.1111111111111111,
              "#46039f"
             ],
             [
              0.2222222222222222,
              "#7201a8"
             ],
             [
              0.3333333333333333,
              "#9c179e"
             ],
             [
              0.4444444444444444,
              "#bd3786"
             ],
             [
              0.5555555555555556,
              "#d8576b"
             ],
             [
              0.6666666666666666,
              "#ed7953"
             ],
             [
              0.7777777777777778,
              "#fb9f3a"
             ],
             [
              0.8888888888888888,
              "#fdca26"
             ],
             [
              1,
              "#f0f921"
             ]
            ],
            "type": "surface"
           }
          ],
          "table": [
           {
            "cells": {
             "fill": {
              "color": "#EBF0F8"
             },
             "line": {
              "color": "white"
             }
            },
            "header": {
             "fill": {
              "color": "#C8D4E3"
             },
             "line": {
              "color": "white"
             }
            },
            "type": "table"
           }
          ]
         },
         "layout": {
          "annotationdefaults": {
           "arrowcolor": "#2a3f5f",
           "arrowhead": 0,
           "arrowwidth": 1
          },
          "coloraxis": {
           "colorbar": {
            "outlinewidth": 0,
            "ticks": ""
           }
          },
          "colorscale": {
           "diverging": [
            [
             0,
             "#8e0152"
            ],
            [
             0.1,
             "#c51b7d"
            ],
            [
             0.2,
             "#de77ae"
            ],
            [
             0.3,
             "#f1b6da"
            ],
            [
             0.4,
             "#fde0ef"
            ],
            [
             0.5,
             "#f7f7f7"
            ],
            [
             0.6,
             "#e6f5d0"
            ],
            [
             0.7,
             "#b8e186"
            ],
            [
             0.8,
             "#7fbc41"
            ],
            [
             0.9,
             "#4d9221"
            ],
            [
             1,
             "#276419"
            ]
           ],
           "sequential": [
            [
             0,
             "#0d0887"
            ],
            [
             0.1111111111111111,
             "#46039f"
            ],
            [
             0.2222222222222222,
             "#7201a8"
            ],
            [
             0.3333333333333333,
             "#9c179e"
            ],
            [
             0.4444444444444444,
             "#bd3786"
            ],
            [
             0.5555555555555556,
             "#d8576b"
            ],
            [
             0.6666666666666666,
             "#ed7953"
            ],
            [
             0.7777777777777778,
             "#fb9f3a"
            ],
            [
             0.8888888888888888,
             "#fdca26"
            ],
            [
             1,
             "#f0f921"
            ]
           ],
           "sequentialminus": [
            [
             0,
             "#0d0887"
            ],
            [
             0.1111111111111111,
             "#46039f"
            ],
            [
             0.2222222222222222,
             "#7201a8"
            ],
            [
             0.3333333333333333,
             "#9c179e"
            ],
            [
             0.4444444444444444,
             "#bd3786"
            ],
            [
             0.5555555555555556,
             "#d8576b"
            ],
            [
             0.6666666666666666,
             "#ed7953"
            ],
            [
             0.7777777777777778,
             "#fb9f3a"
            ],
            [
             0.8888888888888888,
             "#fdca26"
            ],
            [
             1,
             "#f0f921"
            ]
           ]
          },
          "colorway": [
           "#636efa",
           "#EF553B",
           "#00cc96",
           "#ab63fa",
           "#FFA15A",
           "#19d3f3",
           "#FF6692",
           "#B6E880",
           "#FF97FF",
           "#FECB52"
          ],
          "font": {
           "color": "#2a3f5f"
          },
          "geo": {
           "bgcolor": "white",
           "lakecolor": "white",
           "landcolor": "#E5ECF6",
           "showlakes": true,
           "showland": true,
           "subunitcolor": "white"
          },
          "hoverlabel": {
           "align": "left"
          },
          "hovermode": "closest",
          "mapbox": {
           "style": "light"
          },
          "paper_bgcolor": "white",
          "plot_bgcolor": "#E5ECF6",
          "polar": {
           "angularaxis": {
            "gridcolor": "white",
            "linecolor": "white",
            "ticks": ""
           },
           "bgcolor": "#E5ECF6",
           "radialaxis": {
            "gridcolor": "white",
            "linecolor": "white",
            "ticks": ""
           }
          },
          "scene": {
           "xaxis": {
            "backgroundcolor": "#E5ECF6",
            "gridcolor": "white",
            "gridwidth": 2,
            "linecolor": "white",
            "showbackground": true,
            "ticks": "",
            "zerolinecolor": "white"
           },
           "yaxis": {
            "backgroundcolor": "#E5ECF6",
            "gridcolor": "white",
            "gridwidth": 2,
            "linecolor": "white",
            "showbackground": true,
            "ticks": "",
            "zerolinecolor": "white"
           },
           "zaxis": {
            "backgroundcolor": "#E5ECF6",
            "gridcolor": "white",
            "gridwidth": 2,
            "linecolor": "white",
            "showbackground": true,
            "ticks": "",
            "zerolinecolor": "white"
           }
          },
          "shapedefaults": {
           "line": {
            "color": "#2a3f5f"
           }
          },
          "ternary": {
           "aaxis": {
            "gridcolor": "white",
            "linecolor": "white",
            "ticks": ""
           },
           "baxis": {
            "gridcolor": "white",
            "linecolor": "white",
            "ticks": ""
           },
           "bgcolor": "#E5ECF6",
           "caxis": {
            "gridcolor": "white",
            "linecolor": "white",
            "ticks": ""
           }
          },
          "title": {
           "x": 0.05
          },
          "xaxis": {
           "automargin": true,
           "gridcolor": "white",
           "linecolor": "white",
           "ticks": "",
           "title": {
            "standoff": 15
           },
           "zerolinecolor": "white",
           "zerolinewidth": 2
          },
          "yaxis": {
           "automargin": true,
           "gridcolor": "white",
           "linecolor": "white",
           "ticks": "",
           "title": {
            "standoff": 15
           },
           "zerolinecolor": "white",
           "zerolinewidth": 2
          }
         }
        }
       }
      },
      "text/html": [
       "<div>\n",
       "        \n",
       "        \n",
       "            <div id=\"6cb7faea-5b4d-427e-99f9-b6ab4ed6e2bf\" class=\"plotly-graph-div\" style=\"height:525px; width:100%;\"></div>\n",
       "            <script type=\"text/javascript\">\n",
       "                require([\"plotly\"], function(Plotly) {\n",
       "                    window.PLOTLYENV=window.PLOTLYENV || {};\n",
       "                    \n",
       "                if (document.getElementById(\"6cb7faea-5b4d-427e-99f9-b6ab4ed6e2bf\")) {\n",
       "                    Plotly.newPlot(\n",
       "                        '6cb7faea-5b4d-427e-99f9-b6ab4ed6e2bf',\n",
       "                        [{\"geo\": \"geo\", \"hoverlabel\": {\"namelength\": 0}, \"hovertemplate\": \"<b>%{hovertext}</b><br><br>continent=Asia<br>pop=%{marker.size}<br>iso_alpha=%{location}\", \"hovertext\": [\"Afghanistan\", \"Bahrain\", \"Bangladesh\", \"Cambodia\", \"China\", \"Hong Kong, China\", \"India\", \"Indonesia\", \"Iran\", \"Iraq\", \"Israel\", \"Japan\", \"Jordan\", \"Korea, Dem. Rep.\", \"Korea, Rep.\", \"Kuwait\", \"Lebanon\", \"Malaysia\", \"Mongolia\", \"Myanmar\", \"Nepal\", \"Oman\", \"Pakistan\", \"Philippines\", \"Saudi Arabia\", \"Singapore\", \"Sri Lanka\", \"Syria\", \"Taiwan\", \"Thailand\", \"Vietnam\", \"West Bank and Gaza\", \"Yemen, Rep.\"], \"legendgroup\": \"continent=Asia\", \"locations\": [\"AFG\", \"BHR\", \"BGD\", \"KHM\", \"CHN\", \"HKG\", \"IND\", \"IDN\", \"IRN\", \"IRQ\", \"ISR\", \"JPN\", \"JOR\", \"KOR\", \"KOR\", \"KWT\", \"LBN\", \"MYS\", \"MNG\", \"MMR\", \"NPL\", \"OMN\", \"PAK\", \"PHL\", \"SAU\", \"SGP\", \"LKA\", \"SYR\", \"TWN\", \"THA\", \"VNM\", \"PSE\", \"YEM\"], \"marker\": {\"color\": \"#636efa\", \"size\": [31889923, 708573, 150448339, 14131858, 1318683096, 6980412, 1110396331, 223547000, 69453570, 27499638, 6426679, 127467972, 6053193, 23301725, 49044790, 2505559, 3921278, 24821286, 2874127, 47761980, 28901790, 3204897, 169270617, 91077287, 27601038, 4553009, 20378239, 19314747, 23174294, 65068149, 85262356, 4018332, 22211743], \"sizemode\": \"area\", \"sizeref\": 3296707.74}, \"name\": \"continent=Asia\", \"showlegend\": true, \"type\": \"scattergeo\"}, {\"geo\": \"geo\", \"hoverlabel\": {\"namelength\": 0}, \"hovertemplate\": \"<b>%{hovertext}</b><br><br>continent=Europe<br>pop=%{marker.size}<br>iso_alpha=%{location}\", \"hovertext\": [\"Albania\", \"Austria\", \"Belgium\", \"Bosnia and Herzegovina\", \"Bulgaria\", \"Croatia\", \"Czech Republic\", \"Denmark\", \"Finland\", \"France\", \"Germany\", \"Greece\", \"Hungary\", \"Iceland\", \"Ireland\", \"Italy\", \"Montenegro\", \"Netherlands\", \"Norway\", \"Poland\", \"Portugal\", \"Romania\", \"Serbia\", \"Slovak Republic\", \"Slovenia\", \"Spain\", \"Sweden\", \"Switzerland\", \"Turkey\", \"United Kingdom\"], \"legendgroup\": \"continent=Europe\", \"locations\": [\"ALB\", \"AUT\", \"BEL\", \"BIH\", \"BGR\", \"HRV\", \"CZE\", \"DNK\", \"FIN\", \"FRA\", \"DEU\", \"GRC\", \"HUN\", \"ISL\", \"IRL\", \"ITA\", \"MNE\", \"NLD\", \"NOR\", \"POL\", \"PRT\", \"ROU\", \"SRB\", \"SVK\", \"SVN\", \"ESP\", \"SWE\", \"CHE\", \"TUR\", \"GBR\"], \"marker\": {\"color\": \"#EF553B\", \"size\": [3600523, 8199783, 10392226, 4552198, 7322858, 4493312, 10228744, 5468120, 5238460, 61083916, 82400996, 10706290, 9956108, 301931, 4109086, 58147733, 684736, 16570613, 4627926, 38518241, 10642836, 22276056, 10150265, 5447502, 2009245, 40448191, 9031088, 7554661, 71158647, 60776238], \"sizemode\": \"area\", \"sizeref\": 3296707.74}, \"name\": \"continent=Europe\", \"showlegend\": true, \"type\": \"scattergeo\"}, {\"geo\": \"geo\", \"hoverlabel\": {\"namelength\": 0}, \"hovertemplate\": \"<b>%{hovertext}</b><br><br>continent=Africa<br>pop=%{marker.size}<br>iso_alpha=%{location}\", \"hovertext\": [\"Algeria\", \"Angola\", \"Benin\", \"Botswana\", \"Burkina Faso\", \"Burundi\", \"Cameroon\", \"Central African Republic\", \"Chad\", \"Comoros\", \"Congo, Dem. Rep.\", \"Congo, Rep.\", \"Cote d'Ivoire\", \"Djibouti\", \"Egypt\", \"Equatorial Guinea\", \"Eritrea\", \"Ethiopia\", \"Gabon\", \"Gambia\", \"Ghana\", \"Guinea\", \"Guinea-Bissau\", \"Kenya\", \"Lesotho\", \"Liberia\", \"Libya\", \"Madagascar\", \"Malawi\", \"Mali\", \"Mauritania\", \"Mauritius\", \"Morocco\", \"Mozambique\", \"Namibia\", \"Niger\", \"Nigeria\", \"Reunion\", \"Rwanda\", \"Sao Tome and Principe\", \"Senegal\", \"Sierra Leone\", \"Somalia\", \"South Africa\", \"Sudan\", \"Swaziland\", \"Tanzania\", \"Togo\", \"Tunisia\", \"Uganda\", \"Zambia\", \"Zimbabwe\"], \"legendgroup\": \"continent=Africa\", \"locations\": [\"DZA\", \"AGO\", \"BEN\", \"BWA\", \"BFA\", \"BDI\", \"CMR\", \"CAF\", \"TCD\", \"COM\", \"COD\", \"COG\", \"CIV\", \"DJI\", \"EGY\", \"GNQ\", \"ERI\", \"ETH\", \"GAB\", \"GMB\", \"GHA\", \"GIN\", \"GNB\", \"KEN\", \"LSO\", \"LBR\", \"LBY\", \"MDG\", \"MWI\", \"MLI\", \"MRT\", \"MUS\", \"MAR\", \"MOZ\", \"NAM\", \"NER\", \"NGA\", \"REU\", \"RWA\", \"STP\", \"SEN\", \"SLE\", \"SOM\", \"ZAF\", \"SDN\", \"SWZ\", \"TZA\", \"TGO\", \"TUN\", \"UGA\", \"ZMB\", \"ZWE\"], \"marker\": {\"color\": \"#00cc96\", \"size\": [33333216, 12420476, 8078314, 1639131, 14326203, 8390505, 17696293, 4369038, 10238807, 710960, 64606759, 3800610, 18013409, 496374, 80264543, 551201, 4906585, 76511887, 1454867, 1688359, 22873338, 9947814, 1472041, 35610177, 2012649, 3193942, 6036914, 19167654, 13327079, 12031795, 3270065, 1250882, 33757175, 19951656, 2055080, 12894865, 135031164, 798094, 8860588, 199579, 12267493, 6144562, 9118773, 43997828, 42292929, 1133066, 38139640, 5701579, 10276158, 29170398, 11746035, 12311143], \"sizemode\": \"area\", \"sizeref\": 3296707.74}, \"name\": \"continent=Africa\", \"showlegend\": true, \"type\": \"scattergeo\"}, {\"geo\": \"geo\", \"hoverlabel\": {\"namelength\": 0}, \"hovertemplate\": \"<b>%{hovertext}</b><br><br>continent=Americas<br>pop=%{marker.size}<br>iso_alpha=%{location}\", \"hovertext\": [\"Argentina\", \"Bolivia\", \"Brazil\", \"Canada\", \"Chile\", \"Colombia\", \"Costa Rica\", \"Cuba\", \"Dominican Republic\", \"Ecuador\", \"El Salvador\", \"Guatemala\", \"Haiti\", \"Honduras\", \"Jamaica\", \"Mexico\", \"Nicaragua\", \"Panama\", \"Paraguay\", \"Peru\", \"Puerto Rico\", \"Trinidad and Tobago\", \"United States\", \"Uruguay\", \"Venezuela\"], \"legendgroup\": \"continent=Americas\", \"locations\": [\"ARG\", \"BOL\", \"BRA\", \"CAN\", \"CHL\", \"COL\", \"CRI\", \"CUB\", \"DOM\", \"ECU\", \"SLV\", \"GTM\", \"HTI\", \"HND\", \"JAM\", \"MEX\", \"NIC\", \"PAN\", \"PRY\", \"PER\", \"PRI\", \"TTO\", \"USA\", \"URY\", \"VEN\"], \"marker\": {\"color\": \"#ab63fa\", \"size\": [40301927, 9119152, 190010647, 33390141, 16284741, 44227550, 4133884, 11416987, 9319622, 13755680, 6939688, 12572928, 8502814, 7483763, 2780132, 108700891, 5675356, 3242173, 6667147, 28674757, 3942491, 1056608, 301139947, 3447496, 26084662], \"sizemode\": \"area\", \"sizeref\": 3296707.74}, \"name\": \"continent=Americas\", \"showlegend\": true, \"type\": \"scattergeo\"}, {\"geo\": \"geo\", \"hoverlabel\": {\"namelength\": 0}, \"hovertemplate\": \"<b>%{hovertext}</b><br><br>continent=Oceania<br>pop=%{marker.size}<br>iso_alpha=%{location}\", \"hovertext\": [\"Australia\", \"New Zealand\"], \"legendgroup\": \"continent=Oceania\", \"locations\": [\"AUS\", \"NZL\"], \"marker\": {\"color\": \"#FFA15A\", \"size\": [20434176, 4115771], \"sizemode\": \"area\", \"sizeref\": 3296707.74}, \"name\": \"continent=Oceania\", \"showlegend\": true, \"type\": \"scattergeo\"}],\n",
       "                        {\"geo\": {\"center\": {}, \"domain\": {\"x\": [0.0, 1.0], \"y\": [0.0, 1.0]}, \"projection\": {\"type\": \"natural earth\"}}, \"legend\": {\"itemsizing\": \"constant\", \"tracegroupgap\": 0}, \"margin\": {\"t\": 60}, \"template\": {\"data\": {\"bar\": [{\"error_x\": {\"color\": \"#2a3f5f\"}, \"error_y\": {\"color\": \"#2a3f5f\"}, \"marker\": {\"line\": {\"color\": \"#E5ECF6\", \"width\": 0.5}}, \"type\": \"bar\"}], \"barpolar\": [{\"marker\": {\"line\": {\"color\": \"#E5ECF6\", \"width\": 0.5}}, \"type\": \"barpolar\"}], \"carpet\": [{\"aaxis\": {\"endlinecolor\": \"#2a3f5f\", \"gridcolor\": \"white\", \"linecolor\": \"white\", \"minorgridcolor\": \"white\", \"startlinecolor\": \"#2a3f5f\"}, \"baxis\": {\"endlinecolor\": \"#2a3f5f\", \"gridcolor\": \"white\", \"linecolor\": \"white\", \"minorgridcolor\": \"white\", \"startlinecolor\": \"#2a3f5f\"}, \"type\": \"carpet\"}], \"choropleth\": [{\"colorbar\": {\"outlinewidth\": 0, \"ticks\": \"\"}, \"type\": \"choropleth\"}], \"contour\": [{\"colorbar\": {\"outlinewidth\": 0, \"ticks\": \"\"}, \"colorscale\": [[0.0, \"#0d0887\"], [0.1111111111111111, \"#46039f\"], [0.2222222222222222, \"#7201a8\"], [0.3333333333333333, \"#9c179e\"], [0.4444444444444444, \"#bd3786\"], [0.5555555555555556, \"#d8576b\"], [0.6666666666666666, \"#ed7953\"], [0.7777777777777778, \"#fb9f3a\"], [0.8888888888888888, \"#fdca26\"], [1.0, \"#f0f921\"]], \"type\": \"contour\"}], \"contourcarpet\": [{\"colorbar\": {\"outlinewidth\": 0, \"ticks\": \"\"}, \"type\": \"contourcarpet\"}], \"heatmap\": [{\"colorbar\": {\"outlinewidth\": 0, \"ticks\": \"\"}, \"colorscale\": [[0.0, \"#0d0887\"], [0.1111111111111111, \"#46039f\"], [0.2222222222222222, \"#7201a8\"], [0.3333333333333333, \"#9c179e\"], [0.4444444444444444, \"#bd3786\"], [0.5555555555555556, \"#d8576b\"], [0.6666666666666666, \"#ed7953\"], [0.7777777777777778, \"#fb9f3a\"], [0.8888888888888888, \"#fdca26\"], [1.0, \"#f0f921\"]], \"type\": \"heatmap\"}], \"heatmapgl\": [{\"colorbar\": {\"outlinewidth\": 0, \"ticks\": \"\"}, \"colorscale\": [[0.0, \"#0d0887\"], [0.1111111111111111, \"#46039f\"], [0.2222222222222222, \"#7201a8\"], [0.3333333333333333, \"#9c179e\"], [0.4444444444444444, \"#bd3786\"], [0.5555555555555556, \"#d8576b\"], [0.6666666666666666, \"#ed7953\"], [0.7777777777777778, \"#fb9f3a\"], [0.8888888888888888, \"#fdca26\"], [1.0, \"#f0f921\"]], \"type\": \"heatmapgl\"}], \"histogram\": [{\"marker\": {\"colorbar\": {\"outlinewidth\": 0, \"ticks\": \"\"}}, \"type\": \"histogram\"}], \"histogram2d\": [{\"colorbar\": {\"outlinewidth\": 0, \"ticks\": \"\"}, \"colorscale\": [[0.0, \"#0d0887\"], [0.1111111111111111, \"#46039f\"], [0.2222222222222222, \"#7201a8\"], [0.3333333333333333, \"#9c179e\"], [0.4444444444444444, \"#bd3786\"], [0.5555555555555556, \"#d8576b\"], [0.6666666666666666, \"#ed7953\"], [0.7777777777777778, \"#fb9f3a\"], [0.8888888888888888, \"#fdca26\"], [1.0, \"#f0f921\"]], \"type\": \"histogram2d\"}], \"histogram2dcontour\": [{\"colorbar\": {\"outlinewidth\": 0, \"ticks\": \"\"}, \"colorscale\": [[0.0, \"#0d0887\"], [0.1111111111111111, \"#46039f\"], [0.2222222222222222, \"#7201a8\"], [0.3333333333333333, \"#9c179e\"], [0.4444444444444444, \"#bd3786\"], [0.5555555555555556, \"#d8576b\"], [0.6666666666666666, \"#ed7953\"], [0.7777777777777778, \"#fb9f3a\"], [0.8888888888888888, \"#fdca26\"], [1.0, \"#f0f921\"]], \"type\": \"histogram2dcontour\"}], \"mesh3d\": [{\"colorbar\": {\"outlinewidth\": 0, \"ticks\": \"\"}, \"type\": \"mesh3d\"}], \"parcoords\": [{\"line\": {\"colorbar\": {\"outlinewidth\": 0, \"ticks\": \"\"}}, \"type\": \"parcoords\"}], \"pie\": [{\"automargin\": true, \"type\": \"pie\"}], \"scatter\": [{\"marker\": {\"colorbar\": {\"outlinewidth\": 0, \"ticks\": \"\"}}, \"type\": \"scatter\"}], \"scatter3d\": [{\"line\": {\"colorbar\": {\"outlinewidth\": 0, \"ticks\": \"\"}}, \"marker\": {\"colorbar\": {\"outlinewidth\": 0, \"ticks\": \"\"}}, \"type\": \"scatter3d\"}], \"scattercarpet\": [{\"marker\": {\"colorbar\": {\"outlinewidth\": 0, \"ticks\": \"\"}}, \"type\": \"scattercarpet\"}], \"scattergeo\": [{\"marker\": {\"colorbar\": {\"outlinewidth\": 0, \"ticks\": \"\"}}, \"type\": \"scattergeo\"}], \"scattergl\": [{\"marker\": {\"colorbar\": {\"outlinewidth\": 0, \"ticks\": \"\"}}, \"type\": \"scattergl\"}], \"scattermapbox\": [{\"marker\": {\"colorbar\": {\"outlinewidth\": 0, \"ticks\": \"\"}}, \"type\": \"scattermapbox\"}], \"scatterpolar\": [{\"marker\": {\"colorbar\": {\"outlinewidth\": 0, \"ticks\": \"\"}}, \"type\": \"scatterpolar\"}], \"scatterpolargl\": [{\"marker\": {\"colorbar\": {\"outlinewidth\": 0, \"ticks\": \"\"}}, \"type\": \"scatterpolargl\"}], \"scatterternary\": [{\"marker\": {\"colorbar\": {\"outlinewidth\": 0, \"ticks\": \"\"}}, \"type\": \"scatterternary\"}], \"surface\": [{\"colorbar\": {\"outlinewidth\": 0, \"ticks\": \"\"}, \"colorscale\": [[0.0, \"#0d0887\"], [0.1111111111111111, \"#46039f\"], [0.2222222222222222, \"#7201a8\"], [0.3333333333333333, \"#9c179e\"], [0.4444444444444444, \"#bd3786\"], [0.5555555555555556, \"#d8576b\"], [0.6666666666666666, \"#ed7953\"], [0.7777777777777778, \"#fb9f3a\"], [0.8888888888888888, \"#fdca26\"], [1.0, \"#f0f921\"]], \"type\": \"surface\"}], \"table\": [{\"cells\": {\"fill\": {\"color\": \"#EBF0F8\"}, \"line\": {\"color\": \"white\"}}, \"header\": {\"fill\": {\"color\": \"#C8D4E3\"}, \"line\": {\"color\": \"white\"}}, \"type\": \"table\"}]}, \"layout\": {\"annotationdefaults\": {\"arrowcolor\": \"#2a3f5f\", \"arrowhead\": 0, \"arrowwidth\": 1}, \"coloraxis\": {\"colorbar\": {\"outlinewidth\": 0, \"ticks\": \"\"}}, \"colorscale\": {\"diverging\": [[0, \"#8e0152\"], [0.1, \"#c51b7d\"], [0.2, \"#de77ae\"], [0.3, \"#f1b6da\"], [0.4, \"#fde0ef\"], [0.5, \"#f7f7f7\"], [0.6, \"#e6f5d0\"], [0.7, \"#b8e186\"], [0.8, \"#7fbc41\"], [0.9, \"#4d9221\"], [1, \"#276419\"]], \"sequential\": [[0.0, \"#0d0887\"], [0.1111111111111111, \"#46039f\"], [0.2222222222222222, \"#7201a8\"], [0.3333333333333333, \"#9c179e\"], [0.4444444444444444, \"#bd3786\"], [0.5555555555555556, \"#d8576b\"], [0.6666666666666666, \"#ed7953\"], [0.7777777777777778, \"#fb9f3a\"], [0.8888888888888888, \"#fdca26\"], [1.0, \"#f0f921\"]], \"sequentialminus\": [[0.0, \"#0d0887\"], [0.1111111111111111, \"#46039f\"], [0.2222222222222222, \"#7201a8\"], [0.3333333333333333, \"#9c179e\"], [0.4444444444444444, \"#bd3786\"], [0.5555555555555556, \"#d8576b\"], [0.6666666666666666, \"#ed7953\"], [0.7777777777777778, \"#fb9f3a\"], [0.8888888888888888, \"#fdca26\"], [1.0, \"#f0f921\"]]}, \"colorway\": [\"#636efa\", \"#EF553B\", \"#00cc96\", \"#ab63fa\", \"#FFA15A\", \"#19d3f3\", \"#FF6692\", \"#B6E880\", \"#FF97FF\", \"#FECB52\"], \"font\": {\"color\": \"#2a3f5f\"}, \"geo\": {\"bgcolor\": \"white\", \"lakecolor\": \"white\", \"landcolor\": \"#E5ECF6\", \"showlakes\": true, \"showland\": true, \"subunitcolor\": \"white\"}, \"hoverlabel\": {\"align\": \"left\"}, \"hovermode\": \"closest\", \"mapbox\": {\"style\": \"light\"}, \"paper_bgcolor\": \"white\", \"plot_bgcolor\": \"#E5ECF6\", \"polar\": {\"angularaxis\": {\"gridcolor\": \"white\", \"linecolor\": \"white\", \"ticks\": \"\"}, \"bgcolor\": \"#E5ECF6\", \"radialaxis\": {\"gridcolor\": \"white\", \"linecolor\": \"white\", \"ticks\": \"\"}}, \"scene\": {\"xaxis\": {\"backgroundcolor\": \"#E5ECF6\", \"gridcolor\": \"white\", \"gridwidth\": 2, \"linecolor\": \"white\", \"showbackground\": true, \"ticks\": \"\", \"zerolinecolor\": \"white\"}, \"yaxis\": {\"backgroundcolor\": \"#E5ECF6\", \"gridcolor\": \"white\", \"gridwidth\": 2, \"linecolor\": \"white\", \"showbackground\": true, \"ticks\": \"\", \"zerolinecolor\": \"white\"}, \"zaxis\": {\"backgroundcolor\": \"#E5ECF6\", \"gridcolor\": \"white\", \"gridwidth\": 2, \"linecolor\": \"white\", \"showbackground\": true, \"ticks\": \"\", \"zerolinecolor\": \"white\"}}, \"shapedefaults\": {\"line\": {\"color\": \"#2a3f5f\"}}, \"ternary\": {\"aaxis\": {\"gridcolor\": \"white\", \"linecolor\": \"white\", \"ticks\": \"\"}, \"baxis\": {\"gridcolor\": \"white\", \"linecolor\": \"white\", \"ticks\": \"\"}, \"bgcolor\": \"#E5ECF6\", \"caxis\": {\"gridcolor\": \"white\", \"linecolor\": \"white\", \"ticks\": \"\"}}, \"title\": {\"x\": 0.05}, \"xaxis\": {\"automargin\": true, \"gridcolor\": \"white\", \"linecolor\": \"white\", \"ticks\": \"\", \"title\": {\"standoff\": 15}, \"zerolinecolor\": \"white\", \"zerolinewidth\": 2}, \"yaxis\": {\"automargin\": true, \"gridcolor\": \"white\", \"linecolor\": \"white\", \"ticks\": \"\", \"title\": {\"standoff\": 15}, \"zerolinecolor\": \"white\", \"zerolinewidth\": 2}}}},\n",
       "                        {\"responsive\": true}\n",
       "                    ).then(function(){\n",
       "                            \n",
       "var gd = document.getElementById('6cb7faea-5b4d-427e-99f9-b6ab4ed6e2bf');\n",
       "var x = new MutationObserver(function (mutations, observer) {{\n",
       "        var display = window.getComputedStyle(gd).display;\n",
       "        if (!display || display === 'none') {{\n",
       "            console.log([gd, 'removed!']);\n",
       "            Plotly.purge(gd);\n",
       "            observer.disconnect();\n",
       "        }}\n",
       "}});\n",
       "\n",
       "// Listen for the removal of the full notebook cells\n",
       "var notebookContainer = gd.closest('#notebook-container');\n",
       "if (notebookContainer) {{\n",
       "    x.observe(notebookContainer, {childList: true});\n",
       "}}\n",
       "\n",
       "// Listen for the clearing of the current output cell\n",
       "var outputEl = gd.closest('.output');\n",
       "if (outputEl) {{\n",
       "    x.observe(outputEl, {childList: true});\n",
       "}}\n",
       "\n",
       "                        })\n",
       "                };\n",
       "                });\n",
       "            </script>\n",
       "        </div>"
      ]
     },
     "metadata": {},
     "output_type": "display_data"
    }
   ],
   "source": [
    "import plotly.express as px\n",
    "df = px.data.gapminder().query(\"year==2007\")\n",
    "fig = px.scatter_geo(df, locations=\"iso_alpha\", color=\"continent\",\n",
    "                     hover_name=\"country\", size=\"pop\",\n",
    "                     projection=\"natural earth\")\n",
    "fig.show()"
   ]
  },
  {
   "cell_type": "code",
   "execution_count": 7,
   "metadata": {
    "scrolled": true
   },
   "outputs": [
    {
     "data": {
      "text/html": [
       "<div>\n",
       "<style scoped>\n",
       "    .dataframe tbody tr th:only-of-type {\n",
       "        vertical-align: middle;\n",
       "    }\n",
       "\n",
       "    .dataframe tbody tr th {\n",
       "        vertical-align: top;\n",
       "    }\n",
       "\n",
       "    .dataframe thead th {\n",
       "        text-align: right;\n",
       "    }\n",
       "</style>\n",
       "<table border=\"1\" class=\"dataframe\">\n",
       "  <thead>\n",
       "    <tr style=\"text-align: right;\">\n",
       "      <th></th>\n",
       "      <th>country</th>\n",
       "      <th>continent</th>\n",
       "      <th>year</th>\n",
       "      <th>lifeExp</th>\n",
       "      <th>pop</th>\n",
       "      <th>gdpPercap</th>\n",
       "      <th>iso_alpha</th>\n",
       "      <th>iso_num</th>\n",
       "    </tr>\n",
       "  </thead>\n",
       "  <tbody>\n",
       "    <tr>\n",
       "      <th>11</th>\n",
       "      <td>Afghanistan</td>\n",
       "      <td>Asia</td>\n",
       "      <td>2007</td>\n",
       "      <td>43.828</td>\n",
       "      <td>31889923</td>\n",
       "      <td>974.580338</td>\n",
       "      <td>AFG</td>\n",
       "      <td>4</td>\n",
       "    </tr>\n",
       "    <tr>\n",
       "      <th>23</th>\n",
       "      <td>Albania</td>\n",
       "      <td>Europe</td>\n",
       "      <td>2007</td>\n",
       "      <td>76.423</td>\n",
       "      <td>3600523</td>\n",
       "      <td>5937.029526</td>\n",
       "      <td>ALB</td>\n",
       "      <td>8</td>\n",
       "    </tr>\n",
       "    <tr>\n",
       "      <th>35</th>\n",
       "      <td>Algeria</td>\n",
       "      <td>Africa</td>\n",
       "      <td>2007</td>\n",
       "      <td>72.301</td>\n",
       "      <td>33333216</td>\n",
       "      <td>6223.367465</td>\n",
       "      <td>DZA</td>\n",
       "      <td>12</td>\n",
       "    </tr>\n",
       "    <tr>\n",
       "      <th>47</th>\n",
       "      <td>Angola</td>\n",
       "      <td>Africa</td>\n",
       "      <td>2007</td>\n",
       "      <td>42.731</td>\n",
       "      <td>12420476</td>\n",
       "      <td>4797.231267</td>\n",
       "      <td>AGO</td>\n",
       "      <td>24</td>\n",
       "    </tr>\n",
       "    <tr>\n",
       "      <th>59</th>\n",
       "      <td>Argentina</td>\n",
       "      <td>Americas</td>\n",
       "      <td>2007</td>\n",
       "      <td>75.320</td>\n",
       "      <td>40301927</td>\n",
       "      <td>12779.379640</td>\n",
       "      <td>ARG</td>\n",
       "      <td>32</td>\n",
       "    </tr>\n",
       "    <tr>\n",
       "      <th>...</th>\n",
       "      <td>...</td>\n",
       "      <td>...</td>\n",
       "      <td>...</td>\n",
       "      <td>...</td>\n",
       "      <td>...</td>\n",
       "      <td>...</td>\n",
       "      <td>...</td>\n",
       "      <td>...</td>\n",
       "    </tr>\n",
       "    <tr>\n",
       "      <th>1655</th>\n",
       "      <td>Vietnam</td>\n",
       "      <td>Asia</td>\n",
       "      <td>2007</td>\n",
       "      <td>74.249</td>\n",
       "      <td>85262356</td>\n",
       "      <td>2441.576404</td>\n",
       "      <td>VNM</td>\n",
       "      <td>704</td>\n",
       "    </tr>\n",
       "    <tr>\n",
       "      <th>1667</th>\n",
       "      <td>West Bank and Gaza</td>\n",
       "      <td>Asia</td>\n",
       "      <td>2007</td>\n",
       "      <td>73.422</td>\n",
       "      <td>4018332</td>\n",
       "      <td>3025.349798</td>\n",
       "      <td>PSE</td>\n",
       "      <td>275</td>\n",
       "    </tr>\n",
       "    <tr>\n",
       "      <th>1679</th>\n",
       "      <td>Yemen, Rep.</td>\n",
       "      <td>Asia</td>\n",
       "      <td>2007</td>\n",
       "      <td>62.698</td>\n",
       "      <td>22211743</td>\n",
       "      <td>2280.769906</td>\n",
       "      <td>YEM</td>\n",
       "      <td>887</td>\n",
       "    </tr>\n",
       "    <tr>\n",
       "      <th>1691</th>\n",
       "      <td>Zambia</td>\n",
       "      <td>Africa</td>\n",
       "      <td>2007</td>\n",
       "      <td>42.384</td>\n",
       "      <td>11746035</td>\n",
       "      <td>1271.211593</td>\n",
       "      <td>ZMB</td>\n",
       "      <td>894</td>\n",
       "    </tr>\n",
       "    <tr>\n",
       "      <th>1703</th>\n",
       "      <td>Zimbabwe</td>\n",
       "      <td>Africa</td>\n",
       "      <td>2007</td>\n",
       "      <td>43.487</td>\n",
       "      <td>12311143</td>\n",
       "      <td>469.709298</td>\n",
       "      <td>ZWE</td>\n",
       "      <td>716</td>\n",
       "    </tr>\n",
       "  </tbody>\n",
       "</table>\n",
       "<p>142 rows × 8 columns</p>\n",
       "</div>"
      ],
      "text/plain": [
       "                 country continent  year  lifeExp       pop     gdpPercap  \\\n",
       "11           Afghanistan      Asia  2007   43.828  31889923    974.580338   \n",
       "23               Albania    Europe  2007   76.423   3600523   5937.029526   \n",
       "35               Algeria    Africa  2007   72.301  33333216   6223.367465   \n",
       "47                Angola    Africa  2007   42.731  12420476   4797.231267   \n",
       "59             Argentina  Americas  2007   75.320  40301927  12779.379640   \n",
       "...                  ...       ...   ...      ...       ...           ...   \n",
       "1655             Vietnam      Asia  2007   74.249  85262356   2441.576404   \n",
       "1667  West Bank and Gaza      Asia  2007   73.422   4018332   3025.349798   \n",
       "1679         Yemen, Rep.      Asia  2007   62.698  22211743   2280.769906   \n",
       "1691              Zambia    Africa  2007   42.384  11746035   1271.211593   \n",
       "1703            Zimbabwe    Africa  2007   43.487  12311143    469.709298   \n",
       "\n",
       "     iso_alpha  iso_num  \n",
       "11         AFG        4  \n",
       "23         ALB        8  \n",
       "35         DZA       12  \n",
       "47         AGO       24  \n",
       "59         ARG       32  \n",
       "...        ...      ...  \n",
       "1655       VNM      704  \n",
       "1667       PSE      275  \n",
       "1679       YEM      887  \n",
       "1691       ZMB      894  \n",
       "1703       ZWE      716  \n",
       "\n",
       "[142 rows x 8 columns]"
      ]
     },
     "execution_count": 7,
     "metadata": {},
     "output_type": "execute_result"
    }
   ],
   "source": [
    "df"
   ]
  },
  {
   "cell_type": "code",
   "execution_count": 8,
   "metadata": {},
   "outputs": [
    {
     "data": {
      "text/html": [
       "<div>\n",
       "<style scoped>\n",
       "    .dataframe tbody tr th:only-of-type {\n",
       "        vertical-align: middle;\n",
       "    }\n",
       "\n",
       "    .dataframe tbody tr th {\n",
       "        vertical-align: top;\n",
       "    }\n",
       "\n",
       "    .dataframe thead th {\n",
       "        text-align: right;\n",
       "    }\n",
       "</style>\n",
       "<table border=\"1\" class=\"dataframe\">\n",
       "  <thead>\n",
       "    <tr style=\"text-align: right;\">\n",
       "      <th></th>\n",
       "      <th>name</th>\n",
       "      <th>pop</th>\n",
       "      <th>lat</th>\n",
       "      <th>lon</th>\n",
       "    </tr>\n",
       "  </thead>\n",
       "  <tbody>\n",
       "    <tr>\n",
       "      <th>0</th>\n",
       "      <td>New York</td>\n",
       "      <td>8287238</td>\n",
       "      <td>40.730599</td>\n",
       "      <td>-73.986581</td>\n",
       "    </tr>\n",
       "    <tr>\n",
       "      <th>1</th>\n",
       "      <td>Los Angeles</td>\n",
       "      <td>3826423</td>\n",
       "      <td>34.053717</td>\n",
       "      <td>-118.242727</td>\n",
       "    </tr>\n",
       "    <tr>\n",
       "      <th>2</th>\n",
       "      <td>Chicago</td>\n",
       "      <td>2705627</td>\n",
       "      <td>41.875555</td>\n",
       "      <td>-87.624421</td>\n",
       "    </tr>\n",
       "    <tr>\n",
       "      <th>3</th>\n",
       "      <td>Houston</td>\n",
       "      <td>2129784</td>\n",
       "      <td>29.758938</td>\n",
       "      <td>-95.367697</td>\n",
       "    </tr>\n",
       "    <tr>\n",
       "      <th>4</th>\n",
       "      <td>Philadelphia</td>\n",
       "      <td>1539313</td>\n",
       "      <td>39.952335</td>\n",
       "      <td>-75.163789</td>\n",
       "    </tr>\n",
       "  </tbody>\n",
       "</table>\n",
       "</div>"
      ],
      "text/plain": [
       "            name      pop        lat         lon\n",
       "0      New York   8287238  40.730599  -73.986581\n",
       "1   Los Angeles   3826423  34.053717 -118.242727\n",
       "2       Chicago   2705627  41.875555  -87.624421\n",
       "3       Houston   2129784  29.758938  -95.367697\n",
       "4  Philadelphia   1539313  39.952335  -75.163789"
      ]
     },
     "execution_count": 8,
     "metadata": {},
     "output_type": "execute_result"
    }
   ],
   "source": [
    "us_cities_df = pd.read_csv('../data/2014_us_cities.csv')\n",
    "us_cities_df.head()"
   ]
  },
  {
   "cell_type": "code",
   "execution_count": 9,
   "metadata": {},
   "outputs": [
    {
     "data": {
      "text/html": [
       "<div>\n",
       "<style scoped>\n",
       "    .dataframe tbody tr th:only-of-type {\n",
       "        vertical-align: middle;\n",
       "    }\n",
       "\n",
       "    .dataframe tbody tr th {\n",
       "        vertical-align: top;\n",
       "    }\n",
       "\n",
       "    .dataframe thead th {\n",
       "        text-align: right;\n",
       "    }\n",
       "</style>\n",
       "<table border=\"1\" class=\"dataframe\">\n",
       "  <thead>\n",
       "    <tr style=\"text-align: right;\">\n",
       "      <th></th>\n",
       "      <th>city</th>\n",
       "      <th>city_ascii</th>\n",
       "      <th>lat</th>\n",
       "      <th>lng</th>\n",
       "      <th>country</th>\n",
       "      <th>iso2</th>\n",
       "      <th>iso3</th>\n",
       "      <th>admin_name</th>\n",
       "      <th>capital</th>\n",
       "      <th>population</th>\n",
       "      <th>id</th>\n",
       "    </tr>\n",
       "  </thead>\n",
       "  <tbody>\n",
       "    <tr>\n",
       "      <th>0</th>\n",
       "      <td>Tokyo</td>\n",
       "      <td>Tokyo</td>\n",
       "      <td>35.6850</td>\n",
       "      <td>139.7514</td>\n",
       "      <td>Japan</td>\n",
       "      <td>JP</td>\n",
       "      <td>JPN</td>\n",
       "      <td>Tōkyō</td>\n",
       "      <td>primary</td>\n",
       "      <td>35676000.0</td>\n",
       "      <td>1392685764</td>\n",
       "    </tr>\n",
       "    <tr>\n",
       "      <th>1</th>\n",
       "      <td>New York</td>\n",
       "      <td>New York</td>\n",
       "      <td>40.6943</td>\n",
       "      <td>-73.9249</td>\n",
       "      <td>United States</td>\n",
       "      <td>US</td>\n",
       "      <td>USA</td>\n",
       "      <td>New York</td>\n",
       "      <td>NaN</td>\n",
       "      <td>19354922.0</td>\n",
       "      <td>1840034016</td>\n",
       "    </tr>\n",
       "    <tr>\n",
       "      <th>2</th>\n",
       "      <td>Mexico City</td>\n",
       "      <td>Mexico City</td>\n",
       "      <td>19.4424</td>\n",
       "      <td>-99.1310</td>\n",
       "      <td>Mexico</td>\n",
       "      <td>MX</td>\n",
       "      <td>MEX</td>\n",
       "      <td>Ciudad de México</td>\n",
       "      <td>primary</td>\n",
       "      <td>19028000.0</td>\n",
       "      <td>1484247881</td>\n",
       "    </tr>\n",
       "    <tr>\n",
       "      <th>3</th>\n",
       "      <td>Mumbai</td>\n",
       "      <td>Mumbai</td>\n",
       "      <td>19.0170</td>\n",
       "      <td>72.8570</td>\n",
       "      <td>India</td>\n",
       "      <td>IN</td>\n",
       "      <td>IND</td>\n",
       "      <td>Mahārāshtra</td>\n",
       "      <td>admin</td>\n",
       "      <td>18978000.0</td>\n",
       "      <td>1356226629</td>\n",
       "    </tr>\n",
       "    <tr>\n",
       "      <th>4</th>\n",
       "      <td>São Paulo</td>\n",
       "      <td>Sao Paulo</td>\n",
       "      <td>-23.5587</td>\n",
       "      <td>-46.6250</td>\n",
       "      <td>Brazil</td>\n",
       "      <td>BR</td>\n",
       "      <td>BRA</td>\n",
       "      <td>São Paulo</td>\n",
       "      <td>admin</td>\n",
       "      <td>18845000.0</td>\n",
       "      <td>1076532519</td>\n",
       "    </tr>\n",
       "    <tr>\n",
       "      <th>...</th>\n",
       "      <td>...</td>\n",
       "      <td>...</td>\n",
       "      <td>...</td>\n",
       "      <td>...</td>\n",
       "      <td>...</td>\n",
       "      <td>...</td>\n",
       "      <td>...</td>\n",
       "      <td>...</td>\n",
       "      <td>...</td>\n",
       "      <td>...</td>\n",
       "      <td>...</td>\n",
       "    </tr>\n",
       "    <tr>\n",
       "      <th>15488</th>\n",
       "      <td>Timmiarmiut</td>\n",
       "      <td>Timmiarmiut</td>\n",
       "      <td>62.5333</td>\n",
       "      <td>-42.2167</td>\n",
       "      <td>Greenland</td>\n",
       "      <td>GL</td>\n",
       "      <td>GRL</td>\n",
       "      <td>Kujalleq</td>\n",
       "      <td>NaN</td>\n",
       "      <td>10.0</td>\n",
       "      <td>1304206491</td>\n",
       "    </tr>\n",
       "    <tr>\n",
       "      <th>15489</th>\n",
       "      <td>Cheremoshna</td>\n",
       "      <td>Cheremoshna</td>\n",
       "      <td>51.3894</td>\n",
       "      <td>30.0989</td>\n",
       "      <td>Ukraine</td>\n",
       "      <td>UA</td>\n",
       "      <td>UKR</td>\n",
       "      <td>Kyyivs’ka Oblast’</td>\n",
       "      <td>NaN</td>\n",
       "      <td>0.0</td>\n",
       "      <td>1804043438</td>\n",
       "    </tr>\n",
       "    <tr>\n",
       "      <th>15490</th>\n",
       "      <td>Ambarchik</td>\n",
       "      <td>Ambarchik</td>\n",
       "      <td>69.6510</td>\n",
       "      <td>162.3336</td>\n",
       "      <td>Russia</td>\n",
       "      <td>RU</td>\n",
       "      <td>RUS</td>\n",
       "      <td>Sakha (Yakutiya)</td>\n",
       "      <td>NaN</td>\n",
       "      <td>0.0</td>\n",
       "      <td>1643739159</td>\n",
       "    </tr>\n",
       "    <tr>\n",
       "      <th>15491</th>\n",
       "      <td>Nordvik</td>\n",
       "      <td>Nordvik</td>\n",
       "      <td>74.0165</td>\n",
       "      <td>111.5100</td>\n",
       "      <td>Russia</td>\n",
       "      <td>RU</td>\n",
       "      <td>RUS</td>\n",
       "      <td>Krasnoyarskiy Kray</td>\n",
       "      <td>NaN</td>\n",
       "      <td>0.0</td>\n",
       "      <td>1643587468</td>\n",
       "    </tr>\n",
       "    <tr>\n",
       "      <th>15492</th>\n",
       "      <td>Ennadai</td>\n",
       "      <td>Ennadai</td>\n",
       "      <td>61.1333</td>\n",
       "      <td>-100.8833</td>\n",
       "      <td>Canada</td>\n",
       "      <td>CA</td>\n",
       "      <td>CAN</td>\n",
       "      <td>Nunavut</td>\n",
       "      <td>NaN</td>\n",
       "      <td>0.0</td>\n",
       "      <td>1124019423</td>\n",
       "    </tr>\n",
       "  </tbody>\n",
       "</table>\n",
       "<p>15493 rows × 11 columns</p>\n",
       "</div>"
      ],
      "text/plain": [
       "              city   city_ascii      lat       lng        country iso2 iso3  \\\n",
       "0            Tokyo        Tokyo  35.6850  139.7514          Japan   JP  JPN   \n",
       "1         New York     New York  40.6943  -73.9249  United States   US  USA   \n",
       "2      Mexico City  Mexico City  19.4424  -99.1310         Mexico   MX  MEX   \n",
       "3           Mumbai       Mumbai  19.0170   72.8570          India   IN  IND   \n",
       "4        São Paulo    Sao Paulo -23.5587  -46.6250         Brazil   BR  BRA   \n",
       "...            ...          ...      ...       ...            ...  ...  ...   \n",
       "15488  Timmiarmiut  Timmiarmiut  62.5333  -42.2167      Greenland   GL  GRL   \n",
       "15489  Cheremoshna  Cheremoshna  51.3894   30.0989        Ukraine   UA  UKR   \n",
       "15490    Ambarchik    Ambarchik  69.6510  162.3336         Russia   RU  RUS   \n",
       "15491      Nordvik      Nordvik  74.0165  111.5100         Russia   RU  RUS   \n",
       "15492      Ennadai      Ennadai  61.1333 -100.8833         Canada   CA  CAN   \n",
       "\n",
       "               admin_name  capital  population          id  \n",
       "0                   Tōkyō  primary  35676000.0  1392685764  \n",
       "1                New York      NaN  19354922.0  1840034016  \n",
       "2        Ciudad de México  primary  19028000.0  1484247881  \n",
       "3             Mahārāshtra    admin  18978000.0  1356226629  \n",
       "4               São Paulo    admin  18845000.0  1076532519  \n",
       "...                   ...      ...         ...         ...  \n",
       "15488            Kujalleq      NaN        10.0  1304206491  \n",
       "15489   Kyyivs’ka Oblast’      NaN         0.0  1804043438  \n",
       "15490    Sakha (Yakutiya)      NaN         0.0  1643739159  \n",
       "15491  Krasnoyarskiy Kray      NaN         0.0  1643587468  \n",
       "15492             Nunavut      NaN         0.0  1124019423  \n",
       "\n",
       "[15493 rows x 11 columns]"
      ]
     },
     "execution_count": 9,
     "metadata": {},
     "output_type": "execute_result"
    }
   ],
   "source": [
    "world_cities = pd.read_csv('../data/worldcities.csv')\n",
    "world_cities"
   ]
  },
  {
   "cell_type": "code",
   "execution_count": 11,
   "metadata": {},
   "outputs": [
    {
     "data": {
      "text/html": [
       "<div>\n",
       "<style scoped>\n",
       "    .dataframe tbody tr th:only-of-type {\n",
       "        vertical-align: middle;\n",
       "    }\n",
       "\n",
       "    .dataframe tbody tr th {\n",
       "        vertical-align: top;\n",
       "    }\n",
       "\n",
       "    .dataframe thead th {\n",
       "        text-align: right;\n",
       "    }\n",
       "</style>\n",
       "<table border=\"1\" class=\"dataframe\">\n",
       "  <thead>\n",
       "    <tr style=\"text-align: right;\">\n",
       "      <th></th>\n",
       "      <th>city</th>\n",
       "      <th>city_ascii</th>\n",
       "      <th>lat</th>\n",
       "      <th>lng</th>\n",
       "      <th>country</th>\n",
       "      <th>iso2</th>\n",
       "      <th>iso3</th>\n",
       "      <th>admin_name</th>\n",
       "      <th>capital</th>\n",
       "      <th>population</th>\n",
       "      <th>id</th>\n",
       "    </tr>\n",
       "  </thead>\n",
       "  <tbody>\n",
       "    <tr>\n",
       "      <th>3</th>\n",
       "      <td>Mumbai</td>\n",
       "      <td>Mumbai</td>\n",
       "      <td>19.0170</td>\n",
       "      <td>72.8570</td>\n",
       "      <td>India</td>\n",
       "      <td>IN</td>\n",
       "      <td>IND</td>\n",
       "      <td>Mahārāshtra</td>\n",
       "      <td>admin</td>\n",
       "      <td>18978000.0</td>\n",
       "      <td>1356226629</td>\n",
       "    </tr>\n",
       "    <tr>\n",
       "      <th>5</th>\n",
       "      <td>Delhi</td>\n",
       "      <td>Delhi</td>\n",
       "      <td>28.6700</td>\n",
       "      <td>77.2300</td>\n",
       "      <td>India</td>\n",
       "      <td>IN</td>\n",
       "      <td>IND</td>\n",
       "      <td>Delhi</td>\n",
       "      <td>admin</td>\n",
       "      <td>15926000.0</td>\n",
       "      <td>1356872604</td>\n",
       "    </tr>\n",
       "    <tr>\n",
       "      <th>7</th>\n",
       "      <td>Kolkata</td>\n",
       "      <td>Kolkata</td>\n",
       "      <td>22.4950</td>\n",
       "      <td>88.3247</td>\n",
       "      <td>India</td>\n",
       "      <td>IN</td>\n",
       "      <td>IND</td>\n",
       "      <td>West Bengal</td>\n",
       "      <td>admin</td>\n",
       "      <td>14787000.0</td>\n",
       "      <td>1356060520</td>\n",
       "    </tr>\n",
       "    <tr>\n",
       "      <th>34</th>\n",
       "      <td>Chennai</td>\n",
       "      <td>Chennai</td>\n",
       "      <td>13.0900</td>\n",
       "      <td>80.2800</td>\n",
       "      <td>India</td>\n",
       "      <td>IN</td>\n",
       "      <td>IND</td>\n",
       "      <td>Tamil Nādu</td>\n",
       "      <td>admin</td>\n",
       "      <td>7163000.0</td>\n",
       "      <td>1356374944</td>\n",
       "    </tr>\n",
       "    <tr>\n",
       "      <th>36</th>\n",
       "      <td>Bengalūru</td>\n",
       "      <td>Bengaluru</td>\n",
       "      <td>12.9700</td>\n",
       "      <td>77.5600</td>\n",
       "      <td>India</td>\n",
       "      <td>IN</td>\n",
       "      <td>IND</td>\n",
       "      <td>Karnātaka</td>\n",
       "      <td>admin</td>\n",
       "      <td>6787000.0</td>\n",
       "      <td>1356410365</td>\n",
       "    </tr>\n",
       "    <tr>\n",
       "      <th>...</th>\n",
       "      <td>...</td>\n",
       "      <td>...</td>\n",
       "      <td>...</td>\n",
       "      <td>...</td>\n",
       "      <td>...</td>\n",
       "      <td>...</td>\n",
       "      <td>...</td>\n",
       "      <td>...</td>\n",
       "      <td>...</td>\n",
       "      <td>...</td>\n",
       "      <td>...</td>\n",
       "    </tr>\n",
       "    <tr>\n",
       "      <th>7305</th>\n",
       "      <td>Karūr</td>\n",
       "      <td>Karur</td>\n",
       "      <td>10.9504</td>\n",
       "      <td>78.0833</td>\n",
       "      <td>India</td>\n",
       "      <td>IN</td>\n",
       "      <td>IND</td>\n",
       "      <td>Tamil Nādu</td>\n",
       "      <td>NaN</td>\n",
       "      <td>76915.0</td>\n",
       "      <td>1356837900</td>\n",
       "    </tr>\n",
       "    <tr>\n",
       "      <th>7441</th>\n",
       "      <td>Jorhāt</td>\n",
       "      <td>Jorhat</td>\n",
       "      <td>26.7500</td>\n",
       "      <td>94.2167</td>\n",
       "      <td>India</td>\n",
       "      <td>IN</td>\n",
       "      <td>IND</td>\n",
       "      <td>Assam</td>\n",
       "      <td>NaN</td>\n",
       "      <td>69033.0</td>\n",
       "      <td>1356638741</td>\n",
       "    </tr>\n",
       "    <tr>\n",
       "      <th>7583</th>\n",
       "      <td>Sopur</td>\n",
       "      <td>Sopur</td>\n",
       "      <td>34.3000</td>\n",
       "      <td>74.4667</td>\n",
       "      <td>India</td>\n",
       "      <td>IN</td>\n",
       "      <td>IND</td>\n",
       "      <td>Jammu and Kashmīr</td>\n",
       "      <td>NaN</td>\n",
       "      <td>63035.0</td>\n",
       "      <td>1356978065</td>\n",
       "    </tr>\n",
       "    <tr>\n",
       "      <th>7681</th>\n",
       "      <td>Tezpur</td>\n",
       "      <td>Tezpur</td>\n",
       "      <td>26.6338</td>\n",
       "      <td>92.8000</td>\n",
       "      <td>India</td>\n",
       "      <td>IN</td>\n",
       "      <td>IND</td>\n",
       "      <td>Assam</td>\n",
       "      <td>NaN</td>\n",
       "      <td>58851.0</td>\n",
       "      <td>1356299437</td>\n",
       "    </tr>\n",
       "    <tr>\n",
       "      <th>9384</th>\n",
       "      <td>Diu</td>\n",
       "      <td>Diu</td>\n",
       "      <td>20.7197</td>\n",
       "      <td>70.9904</td>\n",
       "      <td>India</td>\n",
       "      <td>IN</td>\n",
       "      <td>IND</td>\n",
       "      <td>Damān and Diu</td>\n",
       "      <td>NaN</td>\n",
       "      <td>23779.0</td>\n",
       "      <td>1356923516</td>\n",
       "    </tr>\n",
       "  </tbody>\n",
       "</table>\n",
       "<p>212 rows × 11 columns</p>\n",
       "</div>"
      ],
      "text/plain": [
       "           city city_ascii      lat      lng country iso2 iso3  \\\n",
       "3        Mumbai     Mumbai  19.0170  72.8570   India   IN  IND   \n",
       "5         Delhi      Delhi  28.6700  77.2300   India   IN  IND   \n",
       "7       Kolkata    Kolkata  22.4950  88.3247   India   IN  IND   \n",
       "34      Chennai    Chennai  13.0900  80.2800   India   IN  IND   \n",
       "36    Bengalūru  Bengaluru  12.9700  77.5600   India   IN  IND   \n",
       "...         ...        ...      ...      ...     ...  ...  ...   \n",
       "7305      Karūr      Karur  10.9504  78.0833   India   IN  IND   \n",
       "7441     Jorhāt     Jorhat  26.7500  94.2167   India   IN  IND   \n",
       "7583      Sopur      Sopur  34.3000  74.4667   India   IN  IND   \n",
       "7681     Tezpur     Tezpur  26.6338  92.8000   India   IN  IND   \n",
       "9384        Diu        Diu  20.7197  70.9904   India   IN  IND   \n",
       "\n",
       "             admin_name capital  population          id  \n",
       "3           Mahārāshtra   admin  18978000.0  1356226629  \n",
       "5                 Delhi   admin  15926000.0  1356872604  \n",
       "7           West Bengal   admin  14787000.0  1356060520  \n",
       "34          Tamil Nādu    admin   7163000.0  1356374944  \n",
       "36            Karnātaka   admin   6787000.0  1356410365  \n",
       "...                 ...     ...         ...         ...  \n",
       "7305        Tamil Nādu      NaN     76915.0  1356837900  \n",
       "7441              Assam     NaN     69033.0  1356638741  \n",
       "7583  Jammu and Kashmīr     NaN     63035.0  1356978065  \n",
       "7681              Assam     NaN     58851.0  1356299437  \n",
       "9384      Damān and Diu     NaN     23779.0  1356923516  \n",
       "\n",
       "[212 rows x 11 columns]"
      ]
     },
     "execution_count": 11,
     "metadata": {},
     "output_type": "execute_result"
    }
   ],
   "source": [
    "india_cities_df = world_cities[world_cities['country'] == 'India']\n",
    "india_cities_df"
   ]
  },
  {
   "cell_type": "code",
   "execution_count": 17,
   "metadata": {},
   "outputs": [
    {
     "data": {
      "application/vnd.plotly.v1+json": {
       "config": {
        "plotlyServerURL": "https://plot.ly"
       },
       "data": [
        {
         "geo": "geo",
         "hoverlabel": {
          "namelength": 0
         },
         "hovertemplate": "<b>%{hovertext}</b><br><br>city=%{location}<br>population=%{marker.size}",
         "hovertext": [
          "Mumbai"
         ],
         "legendgroup": "city=Mumbai",
         "locations": [
          "Mumbai"
         ],
         "marker": {
          "color": "#636efa",
          "size": [
           18978000
          ],
          "sizemode": "area",
          "sizeref": 47445
         },
         "name": "city=Mumbai",
         "showlegend": true,
         "type": "scattergeo"
        },
        {
         "geo": "geo",
         "hoverlabel": {
          "namelength": 0
         },
         "hovertemplate": "<b>%{hovertext}</b><br><br>city=%{location}<br>population=%{marker.size}",
         "hovertext": [
          "Delhi"
         ],
         "legendgroup": "city=Delhi",
         "locations": [
          "Delhi"
         ],
         "marker": {
          "color": "#EF553B",
          "size": [
           15926000
          ],
          "sizemode": "area",
          "sizeref": 47445
         },
         "name": "city=Delhi",
         "showlegend": true,
         "type": "scattergeo"
        },
        {
         "geo": "geo",
         "hoverlabel": {
          "namelength": 0
         },
         "hovertemplate": "<b>%{hovertext}</b><br><br>city=%{location}<br>population=%{marker.size}",
         "hovertext": [
          "Kolkata"
         ],
         "legendgroup": "city=Kolkata",
         "locations": [
          "Kolkata"
         ],
         "marker": {
          "color": "#00cc96",
          "size": [
           14787000
          ],
          "sizemode": "area",
          "sizeref": 47445
         },
         "name": "city=Kolkata",
         "showlegend": true,
         "type": "scattergeo"
        },
        {
         "geo": "geo",
         "hoverlabel": {
          "namelength": 0
         },
         "hovertemplate": "<b>%{hovertext}</b><br><br>city=%{location}<br>population=%{marker.size}",
         "hovertext": [
          "Chennai"
         ],
         "legendgroup": "city=Chennai",
         "locations": [
          "Chennai"
         ],
         "marker": {
          "color": "#ab63fa",
          "size": [
           7163000
          ],
          "sizemode": "area",
          "sizeref": 47445
         },
         "name": "city=Chennai",
         "showlegend": true,
         "type": "scattergeo"
        },
        {
         "geo": "geo",
         "hoverlabel": {
          "namelength": 0
         },
         "hovertemplate": "<b>%{hovertext}</b><br><br>city=%{location}<br>population=%{marker.size}",
         "hovertext": [
          "Bengalūru"
         ],
         "legendgroup": "city=Bengalūru",
         "locations": [
          "Bengalūru"
         ],
         "marker": {
          "color": "#FFA15A",
          "size": [
           6787000
          ],
          "sizemode": "area",
          "sizeref": 47445
         },
         "name": "city=Bengalūru",
         "showlegend": true,
         "type": "scattergeo"
        },
        {
         "geo": "geo",
         "hoverlabel": {
          "namelength": 0
         },
         "hovertemplate": "<b>%{hovertext}</b><br><br>city=%{location}<br>population=%{marker.size}",
         "hovertext": [
          "Hyderabad"
         ],
         "legendgroup": "city=Hyderabad",
         "locations": [
          "Hyderabad"
         ],
         "marker": {
          "color": "#19d3f3",
          "size": [
           6376000
          ],
          "sizemode": "area",
          "sizeref": 47445
         },
         "name": "city=Hyderabad",
         "showlegend": true,
         "type": "scattergeo"
        },
        {
         "geo": "geo",
         "hoverlabel": {
          "namelength": 0
         },
         "hovertemplate": "<b>%{hovertext}</b><br><br>city=%{location}<br>population=%{marker.size}",
         "hovertext": [
          "Ahmadābād"
         ],
         "legendgroup": "city=Ahmadābād",
         "locations": [
          "Ahmadābād"
         ],
         "marker": {
          "color": "#FF6692",
          "size": [
           5375000
          ],
          "sizemode": "area",
          "sizeref": 47445
         },
         "name": "city=Ahmadābād",
         "showlegend": true,
         "type": "scattergeo"
        },
        {
         "geo": "geo",
         "hoverlabel": {
          "namelength": 0
         },
         "hovertemplate": "<b>%{hovertext}</b><br><br>city=%{location}<br>population=%{marker.size}",
         "hovertext": [
          "Hāora"
         ],
         "legendgroup": "city=Hāora",
         "locations": [
          "Hāora"
         ],
         "marker": {
          "color": "#B6E880",
          "size": [
           4841638
          ],
          "sizemode": "area",
          "sizeref": 47445
         },
         "name": "city=Hāora",
         "showlegend": true,
         "type": "scattergeo"
        },
        {
         "geo": "geo",
         "hoverlabel": {
          "namelength": 0
         },
         "hovertemplate": "<b>%{hovertext}</b><br><br>city=%{location}<br>population=%{marker.size}",
         "hovertext": [
          "Pune"
         ],
         "legendgroup": "city=Pune",
         "locations": [
          "Pune"
         ],
         "marker": {
          "color": "#FF97FF",
          "size": [
           4672000
          ],
          "sizemode": "area",
          "sizeref": 47445
         },
         "name": "city=Pune",
         "showlegend": true,
         "type": "scattergeo"
        },
        {
         "geo": "geo",
         "hoverlabel": {
          "namelength": 0
         },
         "hovertemplate": "<b>%{hovertext}</b><br><br>city=%{location}<br>population=%{marker.size}",
         "hovertext": [
          "Sūrat"
         ],
         "legendgroup": "city=Sūrat",
         "locations": [
          "Sūrat"
         ],
         "marker": {
          "color": "#FECB52",
          "size": [
           3842000
          ],
          "sizemode": "area",
          "sizeref": 47445
         },
         "name": "city=Sūrat",
         "showlegend": true,
         "type": "scattergeo"
        },
        {
         "geo": "geo",
         "hoverlabel": {
          "namelength": 0
         },
         "hovertemplate": "<b>%{hovertext}</b><br><br>city=%{location}<br>population=%{marker.size}",
         "hovertext": [
          "Cawnpore"
         ],
         "legendgroup": "city=Cawnpore",
         "locations": [
          "Cawnpore"
         ],
         "marker": {
          "color": "#636efa",
          "size": [
           3162000
          ],
          "sizemode": "area",
          "sizeref": 47445
         },
         "name": "city=Cawnpore",
         "showlegend": true,
         "type": "scattergeo"
        },
        {
         "geo": "geo",
         "hoverlabel": {
          "namelength": 0
         },
         "hovertemplate": "<b>%{hovertext}</b><br><br>city=%{location}<br>population=%{marker.size}",
         "hovertext": [
          "Jaipur"
         ],
         "legendgroup": "city=Jaipur",
         "locations": [
          "Jaipur"
         ],
         "marker": {
          "color": "#EF553B",
          "size": [
           2917000
          ],
          "sizemode": "area",
          "sizeref": 47445
         },
         "name": "city=Jaipur",
         "showlegend": true,
         "type": "scattergeo"
        },
        {
         "geo": "geo",
         "hoverlabel": {
          "namelength": 0
         },
         "hovertemplate": "<b>%{hovertext}</b><br><br>city=%{location}<br>population=%{marker.size}",
         "hovertext": [
          "Lucknow"
         ],
         "legendgroup": "city=Lucknow",
         "locations": [
          "Lucknow"
         ],
         "marker": {
          "color": "#00cc96",
          "size": [
           2695000
          ],
          "sizemode": "area",
          "sizeref": 47445
         },
         "name": "city=Lucknow",
         "showlegend": true,
         "type": "scattergeo"
        },
        {
         "geo": "geo",
         "hoverlabel": {
          "namelength": 0
         },
         "hovertemplate": "<b>%{hovertext}</b><br><br>city=%{location}<br>population=%{marker.size}",
         "hovertext": [
          "Nāgpur"
         ],
         "legendgroup": "city=Nāgpur",
         "locations": [
          "Nāgpur"
         ],
         "marker": {
          "color": "#ab63fa",
          "size": [
           2454000
          ],
          "sizemode": "area",
          "sizeref": 47445
         },
         "name": "city=Nāgpur",
         "showlegend": true,
         "type": "scattergeo"
        },
        {
         "geo": "geo",
         "hoverlabel": {
          "namelength": 0
         },
         "hovertemplate": "<b>%{hovertext}</b><br><br>city=%{location}<br>population=%{marker.size}",
         "hovertext": [
          "Patna"
         ],
         "legendgroup": "city=Patna",
         "locations": [
          "Patna"
         ],
         "marker": {
          "color": "#FFA15A",
          "size": [
           2158000
          ],
          "sizemode": "area",
          "sizeref": 47445
         },
         "name": "city=Patna",
         "showlegend": true,
         "type": "scattergeo"
        },
        {
         "geo": "geo",
         "hoverlabel": {
          "namelength": 0
         },
         "hovertemplate": "<b>%{hovertext}</b><br><br>city=%{location}<br>population=%{marker.size}",
         "hovertext": [
          "Indore"
         ],
         "legendgroup": "city=Indore",
         "locations": [
          "Indore"
         ],
         "marker": {
          "color": "#19d3f3",
          "size": [
           2026000
          ],
          "sizemode": "area",
          "sizeref": 47445
         },
         "name": "city=Indore",
         "showlegend": true,
         "type": "scattergeo"
        },
        {
         "geo": "geo",
         "hoverlabel": {
          "namelength": 0
         },
         "hovertemplate": "<b>%{hovertext}</b><br><br>city=%{location}<br>population=%{marker.size}",
         "hovertext": [
          "Vadodara"
         ],
         "legendgroup": "city=Vadodara",
         "locations": [
          "Vadodara"
         ],
         "marker": {
          "color": "#FF6692",
          "size": [
           1756000
          ],
          "sizemode": "area",
          "sizeref": 47445
         },
         "name": "city=Vadodara",
         "showlegend": true,
         "type": "scattergeo"
        },
        {
         "geo": "geo",
         "hoverlabel": {
          "namelength": 0
         },
         "hovertemplate": "<b>%{hovertext}</b><br><br>city=%{location}<br>population=%{marker.size}",
         "hovertext": [
          "Bhopal"
         ],
         "legendgroup": "city=Bhopal",
         "locations": [
          "Bhopal"
         ],
         "marker": {
          "color": "#B6E880",
          "size": [
           1727000
          ],
          "sizemode": "area",
          "sizeref": 47445
         },
         "name": "city=Bhopal",
         "showlegend": true,
         "type": "scattergeo"
        },
        {
         "geo": "geo",
         "hoverlabel": {
          "namelength": 0
         },
         "hovertemplate": "<b>%{hovertext}</b><br><br>city=%{location}<br>population=%{marker.size}",
         "hovertext": [
          "Coimbatore"
         ],
         "legendgroup": "city=Coimbatore",
         "locations": [
          "Coimbatore"
         ],
         "marker": {
          "color": "#FF97FF",
          "size": [
           1696000
          ],
          "sizemode": "area",
          "sizeref": 47445
         },
         "name": "city=Coimbatore",
         "showlegend": true,
         "type": "scattergeo"
        },
        {
         "geo": "geo",
         "hoverlabel": {
          "namelength": 0
         },
         "hovertemplate": "<b>%{hovertext}</b><br><br>city=%{location}<br>population=%{marker.size}",
         "hovertext": [
          "Ludhiāna"
         ],
         "legendgroup": "city=Ludhiāna",
         "locations": [
          "Ludhiāna"
         ],
         "marker": {
          "color": "#FECB52",
          "size": [
           1649000
          ],
          "sizemode": "area",
          "sizeref": 47445
         },
         "name": "city=Ludhiāna",
         "showlegend": true,
         "type": "scattergeo"
        },
        {
         "geo": "geo",
         "hoverlabel": {
          "namelength": 0
         },
         "hovertemplate": "<b>%{hovertext}</b><br><br>city=%{location}<br>population=%{marker.size}",
         "hovertext": [
          "Āgra"
         ],
         "legendgroup": "city=Āgra",
         "locations": [
          "Āgra"
         ],
         "marker": {
          "color": "#636efa",
          "size": [
           1592000
          ],
          "sizemode": "area",
          "sizeref": 47445
         },
         "name": "city=Āgra",
         "showlegend": true,
         "type": "scattergeo"
        },
        {
         "geo": "geo",
         "hoverlabel": {
          "namelength": 0
         },
         "hovertemplate": "<b>%{hovertext}</b><br><br>city=%{location}<br>population=%{marker.size}",
         "hovertext": [
          "Kalyān"
         ],
         "legendgroup": "city=Kalyān",
         "locations": [
          "Kalyān"
         ],
         "marker": {
          "color": "#EF553B",
          "size": [
           1576614
          ],
          "sizemode": "area",
          "sizeref": 47445
         },
         "name": "city=Kalyān",
         "showlegend": true,
         "type": "scattergeo"
        },
        {
         "geo": "geo",
         "hoverlabel": {
          "namelength": 0
         },
         "hovertemplate": "<b>%{hovertext}</b><br><br>city=%{location}<br>population=%{marker.size}",
         "hovertext": [
          "Vishākhapatnam"
         ],
         "legendgroup": "city=Vishākhapatnam",
         "locations": [
          "Vishākhapatnam"
         ],
         "marker": {
          "color": "#00cc96",
          "size": [
           1529000
          ],
          "sizemode": "area",
          "sizeref": 47445
         },
         "name": "city=Vishākhapatnam",
         "showlegend": true,
         "type": "scattergeo"
        },
        {
         "geo": "geo",
         "hoverlabel": {
          "namelength": 0
         },
         "hovertemplate": "<b>%{hovertext}</b><br><br>city=%{location}<br>population=%{marker.size}",
         "hovertext": [
          "Kochi"
         ],
         "legendgroup": "city=Kochi",
         "locations": [
          "Kochi"
         ],
         "marker": {
          "color": "#ab63fa",
          "size": [
           1519000
          ],
          "sizemode": "area",
          "sizeref": 47445
         },
         "name": "city=Kochi",
         "showlegend": true,
         "type": "scattergeo"
        },
        {
         "geo": "geo",
         "hoverlabel": {
          "namelength": 0
         },
         "hovertemplate": "<b>%{hovertext}</b><br><br>city=%{location}<br>population=%{marker.size}",
         "hovertext": [
          "Nāsik"
         ],
         "legendgroup": "city=Nāsik",
         "locations": [
          "Nāsik"
         ],
         "marker": {
          "color": "#FFA15A",
          "size": [
           1473000
          ],
          "sizemode": "area",
          "sizeref": 47445
         },
         "name": "city=Nāsik",
         "showlegend": true,
         "type": "scattergeo"
        },
        {
         "geo": "geo",
         "hoverlabel": {
          "namelength": 0
         },
         "hovertemplate": "<b>%{hovertext}</b><br><br>city=%{location}<br>population=%{marker.size}",
         "hovertext": [
          "Meerut"
         ],
         "legendgroup": "city=Meerut",
         "locations": [
          "Meerut"
         ],
         "marker": {
          "color": "#19d3f3",
          "size": [
           1398000
          ],
          "sizemode": "area",
          "sizeref": 47445
         },
         "name": "city=Meerut",
         "showlegend": true,
         "type": "scattergeo"
        },
        {
         "geo": "geo",
         "hoverlabel": {
          "namelength": 0
         },
         "hovertemplate": "<b>%{hovertext}</b><br><br>city=%{location}<br>population=%{marker.size}",
         "hovertext": [
          "Farīdābād"
         ],
         "legendgroup": "city=Farīdābād",
         "locations": [
          "Farīdābād"
         ],
         "marker": {
          "color": "#FF6692",
          "size": [
           1394000
          ],
          "sizemode": "area",
          "sizeref": 47445
         },
         "name": "city=Farīdābād",
         "showlegend": true,
         "type": "scattergeo"
        },
        {
         "geo": "geo",
         "hoverlabel": {
          "namelength": 0
         },
         "hovertemplate": "<b>%{hovertext}</b><br><br>city=%{location}<br>population=%{marker.size}",
         "hovertext": [
          "Vārānasi"
         ],
         "legendgroup": "city=Vārānasi",
         "locations": [
          "Vārānasi"
         ],
         "marker": {
          "color": "#B6E880",
          "size": [
           1352000
          ],
          "sizemode": "area",
          "sizeref": 47445
         },
         "name": "city=Vārānasi",
         "showlegend": true,
         "type": "scattergeo"
        },
        {
         "geo": "geo",
         "hoverlabel": {
          "namelength": 0
         },
         "hovertemplate": "<b>%{hovertext}</b><br><br>city=%{location}<br>population=%{marker.size}",
         "hovertext": [
          "Ghāziābād"
         ],
         "legendgroup": "city=Ghāziābād",
         "locations": [
          "Ghāziābād"
         ],
         "marker": {
          "color": "#FF97FF",
          "size": [
           1341000
          ],
          "sizemode": "area",
          "sizeref": 47445
         },
         "name": "city=Ghāziābād",
         "showlegend": true,
         "type": "scattergeo"
        },
        {
         "geo": "geo",
         "hoverlabel": {
          "namelength": 0
         },
         "hovertemplate": "<b>%{hovertext}</b><br><br>city=%{location}<br>population=%{marker.size}",
         "hovertext": [
          "Āsansol"
         ],
         "legendgroup": "city=Āsansol",
         "locations": [
          "Āsansol"
         ],
         "marker": {
          "color": "#FECB52",
          "size": [
           1328000
          ],
          "sizemode": "area",
          "sizeref": 47445
         },
         "name": "city=Āsansol",
         "showlegend": true,
         "type": "scattergeo"
        },
        {
         "geo": "geo",
         "hoverlabel": {
          "namelength": 0
         },
         "hovertemplate": "<b>%{hovertext}</b><br><br>city=%{location}<br>population=%{marker.size}",
         "hovertext": [
          "Jamshedpur"
         ],
         "legendgroup": "city=Jamshedpur",
         "locations": [
          "Jamshedpur"
         ],
         "marker": {
          "color": "#636efa",
          "size": [
           1300000
          ],
          "sizemode": "area",
          "sizeref": 47445
         },
         "name": "city=Jamshedpur",
         "showlegend": true,
         "type": "scattergeo"
        },
        {
         "geo": "geo",
         "hoverlabel": {
          "namelength": 0
         },
         "hovertemplate": "<b>%{hovertext}</b><br><br>city=%{location}<br>population=%{marker.size}",
         "hovertext": [
          "Madura"
         ],
         "legendgroup": "city=Madura",
         "locations": [
          "Madura"
         ],
         "marker": {
          "color": "#EF553B",
          "size": [
           1294000
          ],
          "sizemode": "area",
          "sizeref": 47445
         },
         "name": "city=Madura",
         "showlegend": true,
         "type": "scattergeo"
        },
        {
         "geo": "geo",
         "hoverlabel": {
          "namelength": 0
         },
         "hovertemplate": "<b>%{hovertext}</b><br><br>city=%{location}<br>population=%{marker.size}",
         "hovertext": [
          "Jabalpur"
         ],
         "legendgroup": "city=Jabalpur",
         "locations": [
          "Jabalpur"
         ],
         "marker": {
          "color": "#00cc96",
          "size": [
           1285000
          ],
          "sizemode": "area",
          "sizeref": 47445
         },
         "name": "city=Jabalpur",
         "showlegend": true,
         "type": "scattergeo"
        },
        {
         "geo": "geo",
         "hoverlabel": {
          "namelength": 0
         },
         "hovertemplate": "<b>%{hovertext}</b><br><br>city=%{location}<br>population=%{marker.size}",
         "hovertext": [
          "Rājkot"
         ],
         "legendgroup": "city=Rājkot",
         "locations": [
          "Rājkot"
         ],
         "marker": {
          "color": "#ab63fa",
          "size": [
           1260000
          ],
          "sizemode": "area",
          "sizeref": 47445
         },
         "name": "city=Rājkot",
         "showlegend": true,
         "type": "scattergeo"
        },
        {
         "geo": "geo",
         "hoverlabel": {
          "namelength": 0
         },
         "hovertemplate": "<b>%{hovertext}</b><br><br>city=%{location}<br>population=%{marker.size}",
         "hovertext": [
          "Dhanbād"
         ],
         "legendgroup": "city=Dhanbād",
         "locations": [
          "Dhanbād"
         ],
         "marker": {
          "color": "#FFA15A",
          "size": [
           1246000
          ],
          "sizemode": "area",
          "sizeref": 47445
         },
         "name": "city=Dhanbād",
         "showlegend": true,
         "type": "scattergeo"
        },
        {
         "geo": "geo",
         "hoverlabel": {
          "namelength": 0
         },
         "hovertemplate": "<b>%{hovertext}</b><br><br>city=%{location}<br>population=%{marker.size}",
         "hovertext": [
          "Amritsar"
         ],
         "legendgroup": "city=Amritsar",
         "locations": [
          "Amritsar"
         ],
         "marker": {
          "color": "#19d3f3",
          "size": [
           1212000
          ],
          "sizemode": "area",
          "sizeref": 47445
         },
         "name": "city=Amritsar",
         "showlegend": true,
         "type": "scattergeo"
        },
        {
         "geo": "geo",
         "hoverlabel": {
          "namelength": 0
         },
         "hovertemplate": "<b>%{hovertext}</b><br><br>city=%{location}<br>population=%{marker.size}",
         "hovertext": [
          "Warangal"
         ],
         "legendgroup": "city=Warangal",
         "locations": [
          "Warangal"
         ],
         "marker": {
          "color": "#FF6692",
          "size": [
           1203853
          ],
          "sizemode": "area",
          "sizeref": 47445
         },
         "name": "city=Warangal",
         "showlegend": true,
         "type": "scattergeo"
        },
        {
         "geo": "geo",
         "hoverlabel": {
          "namelength": 0
         },
         "hovertemplate": "<b>%{hovertext}</b><br><br>city=%{location}<br>population=%{marker.size}",
         "hovertext": [
          "Allahābād"
         ],
         "legendgroup": "city=Allahābād",
         "locations": [
          "Allahābād"
         ],
         "marker": {
          "color": "#B6E880",
          "size": [
           1201000
          ],
          "sizemode": "area",
          "sizeref": 47445
         },
         "name": "city=Allahābād",
         "showlegend": true,
         "type": "scattergeo"
        },
        {
         "geo": "geo",
         "hoverlabel": {
          "namelength": 0
         },
         "hovertemplate": "<b>%{hovertext}</b><br><br>city=%{location}<br>population=%{marker.size}",
         "hovertext": [
          "Srīnagar"
         ],
         "legendgroup": "city=Srīnagar",
         "locations": [
          "Srīnagar"
         ],
         "marker": {
          "color": "#FF97FF",
          "size": [
           1140000
          ],
          "sizemode": "area",
          "sizeref": 47445
         },
         "name": "city=Srīnagar",
         "showlegend": true,
         "type": "scattergeo"
        },
        {
         "geo": "geo",
         "hoverlabel": {
          "namelength": 0
         },
         "hovertemplate": "<b>%{hovertext}</b><br><br>city=%{location}<br>population=%{marker.size}",
         "hovertext": [
          "Bezwāda"
         ],
         "legendgroup": "city=Bezwāda",
         "locations": [
          "Bezwāda"
         ],
         "marker": {
          "color": "#FECB52",
          "size": [
           1137000
          ],
          "sizemode": "area",
          "sizeref": 47445
         },
         "name": "city=Bezwāda",
         "showlegend": true,
         "type": "scattergeo"
        },
        {
         "geo": "geo",
         "hoverlabel": {
          "namelength": 0
         },
         "hovertemplate": "<b>%{hovertext}</b><br><br>city=%{location}<br>population=%{marker.size}",
         "hovertext": [
          "Aurangābād",
          "Aurangābād"
         ],
         "legendgroup": "city=Aurangābād",
         "locations": [
          "Aurangābād",
          "Aurangābād"
         ],
         "marker": {
          "color": "#636efa",
          "size": [
           1113000,
           95929
          ],
          "sizemode": "area",
          "sizeref": 47445
         },
         "name": "city=Aurangābād",
         "showlegend": true,
         "type": "scattergeo"
        },
        {
         "geo": "geo",
         "hoverlabel": {
          "namelength": 0
         },
         "hovertemplate": "<b>%{hovertext}</b><br><br>city=%{location}<br>population=%{marker.size}",
         "hovertext": [
          "Bhilai"
         ],
         "legendgroup": "city=Bhilai",
         "locations": [
          "Bhilai"
         ],
         "marker": {
          "color": "#EF553B",
          "size": [
           1097000
          ],
          "sizemode": "area",
          "sizeref": 47445
         },
         "name": "city=Bhilai",
         "showlegend": true,
         "type": "scattergeo"
        },
        {
         "geo": "geo",
         "hoverlabel": {
          "namelength": 0
         },
         "hovertemplate": "<b>%{hovertext}</b><br><br>city=%{location}<br>population=%{marker.size}",
         "hovertext": [
          "Solāpur"
         ],
         "legendgroup": "city=Solāpur",
         "locations": [
          "Solāpur"
         ],
         "marker": {
          "color": "#00cc96",
          "size": [
           1057000
          ],
          "sizemode": "area",
          "sizeref": 47445
         },
         "name": "city=Solāpur",
         "showlegend": true,
         "type": "scattergeo"
        },
        {
         "geo": "geo",
         "hoverlabel": {
          "namelength": 0
         },
         "hovertemplate": "<b>%{hovertext}</b><br><br>city=%{location}<br>population=%{marker.size}",
         "hovertext": [
          "Ranchi"
         ],
         "legendgroup": "city=Ranchi",
         "locations": [
          "Ranchi"
         ],
         "marker": {
          "color": "#ab63fa",
          "size": [
           1044000
          ],
          "sizemode": "area",
          "sizeref": 47445
         },
         "name": "city=Ranchi",
         "showlegend": true,
         "type": "scattergeo"
        },
        {
         "geo": "geo",
         "hoverlabel": {
          "namelength": 0
         },
         "hovertemplate": "<b>%{hovertext}</b><br><br>city=%{location}<br>population=%{marker.size}",
         "hovertext": [
          "New Delhi"
         ],
         "legendgroup": "city=New Delhi",
         "locations": [
          "New Delhi"
         ],
         "marker": {
          "color": "#FFA15A",
          "size": [
           317797
          ],
          "sizemode": "area",
          "sizeref": 47445
         },
         "name": "city=New Delhi",
         "showlegend": true,
         "type": "scattergeo"
        },
        {
         "geo": "geo",
         "hoverlabel": {
          "namelength": 0
         },
         "hovertemplate": "<b>%{hovertext}</b><br><br>city=%{location}<br>population=%{marker.size}",
         "hovertext": [
          "Jodhpur"
         ],
         "legendgroup": "city=Jodhpur",
         "locations": [
          "Jodhpur"
         ],
         "marker": {
          "color": "#19d3f3",
          "size": [
           995000
          ],
          "sizemode": "area",
          "sizeref": 47445
         },
         "name": "city=Jodhpur",
         "showlegend": true,
         "type": "scattergeo"
        },
        {
         "geo": "geo",
         "hoverlabel": {
          "namelength": 0
         },
         "hovertemplate": "<b>%{hovertext}</b><br><br>city=%{location}<br>population=%{marker.size}",
         "hovertext": [
          "Guwāhāti"
         ],
         "legendgroup": "city=Guwāhāti",
         "locations": [
          "Guwāhāti"
         ],
         "marker": {
          "color": "#FF6692",
          "size": [
           983000
          ],
          "sizemode": "area",
          "sizeref": 47445
         },
         "name": "city=Guwāhāti",
         "showlegend": true,
         "type": "scattergeo"
        },
        {
         "geo": "geo",
         "hoverlabel": {
          "namelength": 0
         },
         "hovertemplate": "<b>%{hovertext}</b><br><br>city=%{location}<br>population=%{marker.size}",
         "hovertext": [
          "Chandigarh"
         ],
         "legendgroup": "city=Chandigarh",
         "locations": [
          "Chandigarh"
         ],
         "marker": {
          "color": "#B6E880",
          "size": [
           979000
          ],
          "sizemode": "area",
          "sizeref": 47445
         },
         "name": "city=Chandigarh",
         "showlegend": true,
         "type": "scattergeo"
        },
        {
         "geo": "geo",
         "hoverlabel": {
          "namelength": 0
         },
         "hovertemplate": "<b>%{hovertext}</b><br><br>city=%{location}<br>population=%{marker.size}",
         "hovertext": [
          "Gwalior"
         ],
         "legendgroup": "city=Gwalior",
         "locations": [
          "Gwalior"
         ],
         "marker": {
          "color": "#FF97FF",
          "size": [
           978000
          ],
          "sizemode": "area",
          "sizeref": 47445
         },
         "name": "city=Gwalior",
         "showlegend": true,
         "type": "scattergeo"
        },
        {
         "geo": "geo",
         "hoverlabel": {
          "namelength": 0
         },
         "hovertemplate": "<b>%{hovertext}</b><br><br>city=%{location}<br>population=%{marker.size}",
         "hovertext": [
          "Thiruvananthapuram"
         ],
         "legendgroup": "city=Thiruvananthapuram",
         "locations": [
          "Thiruvananthapuram"
         ],
         "marker": {
          "color": "#FECB52",
          "size": [
           954000
          ],
          "sizemode": "area",
          "sizeref": 47445
         },
         "name": "city=Thiruvananthapuram",
         "showlegend": true,
         "type": "scattergeo"
        },
        {
         "geo": "geo",
         "hoverlabel": {
          "namelength": 0
         },
         "hovertemplate": "<b>%{hovertext}</b><br><br>city=%{location}<br>population=%{marker.size}",
         "hovertext": [
          "Calicut"
         ],
         "legendgroup": "city=Calicut",
         "locations": [
          "Calicut"
         ],
         "marker": {
          "color": "#636efa",
          "size": [
           953000
          ],
          "sizemode": "area",
          "sizeref": 47445
         },
         "name": "city=Calicut",
         "showlegend": true,
         "type": "scattergeo"
        },
        {
         "geo": "geo",
         "hoverlabel": {
          "namelength": 0
         },
         "hovertemplate": "<b>%{hovertext}</b><br><br>city=%{location}<br>population=%{marker.size}",
         "hovertext": [
          "Trichinopoly"
         ],
         "legendgroup": "city=Trichinopoly",
         "locations": [
          "Trichinopoly"
         ],
         "marker": {
          "color": "#EF553B",
          "size": [
           951000
          ],
          "sizemode": "area",
          "sizeref": 47445
         },
         "name": "city=Trichinopoly",
         "showlegend": true,
         "type": "scattergeo"
        },
        {
         "geo": "geo",
         "hoverlabel": {
          "namelength": 0
         },
         "hovertemplate": "<b>%{hovertext}</b><br><br>city=%{location}<br>population=%{marker.size}",
         "hovertext": [
          "Hubli"
         ],
         "legendgroup": "city=Hubli",
         "locations": [
          "Hubli"
         ],
         "marker": {
          "color": "#00cc96",
          "size": [
           890000
          ],
          "sizemode": "area",
          "sizeref": 47445
         },
         "name": "city=Hubli",
         "showlegend": true,
         "type": "scattergeo"
        },
        {
         "geo": "geo",
         "hoverlabel": {
          "namelength": 0
         },
         "hovertemplate": "<b>%{hovertext}</b><br><br>city=%{location}<br>population=%{marker.size}",
         "hovertext": [
          "Mysore"
         ],
         "legendgroup": "city=Mysore",
         "locations": [
          "Mysore"
         ],
         "marker": {
          "color": "#ab63fa",
          "size": [
           887000
          ],
          "sizemode": "area",
          "sizeref": 47445
         },
         "name": "city=Mysore",
         "showlegend": true,
         "type": "scattergeo"
        },
        {
         "geo": "geo",
         "hoverlabel": {
          "namelength": 0
         },
         "hovertemplate": "<b>%{hovertext}</b><br><br>city=%{location}<br>population=%{marker.size}",
         "hovertext": [
          "Raipur"
         ],
         "legendgroup": "city=Raipur",
         "locations": [
          "Raipur"
         ],
         "marker": {
          "color": "#FFA15A",
          "size": [
           875000
          ],
          "sizemode": "area",
          "sizeref": 47445
         },
         "name": "city=Raipur",
         "showlegend": true,
         "type": "scattergeo"
        },
        {
         "geo": "geo",
         "hoverlabel": {
          "namelength": 0
         },
         "hovertemplate": "<b>%{hovertext}</b><br><br>city=%{location}<br>population=%{marker.size}",
         "hovertext": [
          "Salem"
         ],
         "legendgroup": "city=Salem",
         "locations": [
          "Salem"
         ],
         "marker": {
          "color": "#19d3f3",
          "size": [
           873000
          ],
          "sizemode": "area",
          "sizeref": 47445
         },
         "name": "city=Salem",
         "showlegend": true,
         "type": "scattergeo"
        },
        {
         "geo": "geo",
         "hoverlabel": {
          "namelength": 0
         },
         "hovertemplate": "<b>%{hovertext}</b><br><br>city=%{location}<br>population=%{marker.size}",
         "hovertext": [
          "Jalandhar"
         ],
         "legendgroup": "city=Jalandhar",
         "locations": [
          "Jalandhar"
         ],
         "marker": {
          "color": "#FF6692",
          "size": [
           855000
          ],
          "sizemode": "area",
          "sizeref": 47445
         },
         "name": "city=Jalandhar",
         "showlegend": true,
         "type": "scattergeo"
        },
        {
         "geo": "geo",
         "hoverlabel": {
          "namelength": 0
         },
         "hovertemplate": "<b>%{hovertext}</b><br><br>city=%{location}<br>population=%{marker.size}",
         "hovertext": [
          "Bhubaneshwar"
         ],
         "legendgroup": "city=Bhubaneshwar",
         "locations": [
          "Bhubaneshwar"
         ],
         "marker": {
          "color": "#B6E880",
          "size": [
           844000
          ],
          "sizemode": "area",
          "sizeref": 47445
         },
         "name": "city=Bhubaneshwar",
         "showlegend": true,
         "type": "scattergeo"
        },
        {
         "geo": "geo",
         "hoverlabel": {
          "namelength": 0
         },
         "hovertemplate": "<b>%{hovertext}</b><br><br>city=%{location}<br>population=%{marker.size}",
         "hovertext": [
          "Kota"
         ],
         "legendgroup": "city=Kota",
         "locations": [
          "Kota"
         ],
         "marker": {
          "color": "#FF97FF",
          "size": [
           827000
          ],
          "sizemode": "area",
          "sizeref": 47445
         },
         "name": "city=Kota",
         "showlegend": true,
         "type": "scattergeo"
        },
        {
         "geo": "geo",
         "hoverlabel": {
          "namelength": 0
         },
         "hovertemplate": "<b>%{hovertext}</b><br><br>city=%{location}<br>population=%{marker.size}",
         "hovertext": [
          "Jhānsi"
         ],
         "legendgroup": "city=Jhānsi",
         "locations": [
          "Jhānsi"
         ],
         "marker": {
          "color": "#FECB52",
          "size": [
           826494
          ],
          "sizemode": "area",
          "sizeref": 47445
         },
         "name": "city=Jhānsi",
         "showlegend": true,
         "type": "scattergeo"
        },
        {
         "geo": "geo",
         "hoverlabel": {
          "namelength": 0
         },
         "hovertemplate": "<b>%{hovertext}</b><br><br>city=%{location}<br>population=%{marker.size}",
         "hovertext": [
          "Bareilly"
         ],
         "legendgroup": "city=Bareilly",
         "locations": [
          "Bareilly"
         ],
         "marker": {
          "color": "#636efa",
          "size": [
           817000
          ],
          "sizemode": "area",
          "sizeref": 47445
         },
         "name": "city=Bareilly",
         "showlegend": true,
         "type": "scattergeo"
        },
        {
         "geo": "geo",
         "hoverlabel": {
          "namelength": 0
         },
         "hovertemplate": "<b>%{hovertext}</b><br><br>city=%{location}<br>population=%{marker.size}",
         "hovertext": [
          "Alīgarh"
         ],
         "legendgroup": "city=Alīgarh",
         "locations": [
          "Alīgarh"
         ],
         "marker": {
          "color": "#EF553B",
          "size": [
           805000
          ],
          "sizemode": "area",
          "sizeref": 47445
         },
         "name": "city=Alīgarh",
         "showlegend": true,
         "type": "scattergeo"
        },
        {
         "geo": "geo",
         "hoverlabel": {
          "namelength": 0
         },
         "hovertemplate": "<b>%{hovertext}</b><br><br>city=%{location}<br>population=%{marker.size}",
         "hovertext": [
          "Bhiwandi"
         ],
         "legendgroup": "city=Bhiwandi",
         "locations": [
          "Bhiwandi"
         ],
         "marker": {
          "color": "#00cc96",
          "size": [
           795000
          ],
          "sizemode": "area",
          "sizeref": 47445
         },
         "name": "city=Bhiwandi",
         "showlegend": true,
         "type": "scattergeo"
        },
        {
         "geo": "geo",
         "hoverlabel": {
          "namelength": 0
         },
         "hovertemplate": "<b>%{hovertext}</b><br><br>city=%{location}<br>population=%{marker.size}",
         "hovertext": [
          "Jammu"
         ],
         "legendgroup": "city=Jammu",
         "locations": [
          "Jammu"
         ],
         "marker": {
          "color": "#ab63fa",
          "size": [
           791000
          ],
          "sizemode": "area",
          "sizeref": 47445
         },
         "name": "city=Jammu",
         "showlegend": true,
         "type": "scattergeo"
        },
        {
         "geo": "geo",
         "hoverlabel": {
          "namelength": 0
         },
         "hovertemplate": "<b>%{hovertext}</b><br><br>city=%{location}<br>population=%{marker.size}",
         "hovertext": [
          "Morādābād"
         ],
         "legendgroup": "city=Morādābād",
         "locations": [
          "Morādābād"
         ],
         "marker": {
          "color": "#FFA15A",
          "size": [
           787000
          ],
          "sizemode": "area",
          "sizeref": 47445
         },
         "name": "city=Morādābād",
         "showlegend": true,
         "type": "scattergeo"
        },
        {
         "geo": "geo",
         "hoverlabel": {
          "namelength": 0
         },
         "hovertemplate": "<b>%{hovertext}</b><br><br>city=%{location}<br>population=%{marker.size}",
         "hovertext": [
          "Mangalore"
         ],
         "legendgroup": "city=Mangalore",
         "locations": [
          "Mangalore"
         ],
         "marker": {
          "color": "#19d3f3",
          "size": [
           776632
          ],
          "sizemode": "area",
          "sizeref": 47445
         },
         "name": "city=Mangalore",
         "showlegend": true,
         "type": "scattergeo"
        },
        {
         "geo": "geo",
         "hoverlabel": {
          "namelength": 0
         },
         "hovertemplate": "<b>%{hovertext}</b><br><br>city=%{location}<br>population=%{marker.size}",
         "hovertext": [
          "Kolhāpur"
         ],
         "legendgroup": "city=Kolhāpur",
         "locations": [
          "Kolhāpur"
         ],
         "marker": {
          "color": "#FF6692",
          "size": [
           750000
          ],
          "sizemode": "area",
          "sizeref": 47445
         },
         "name": "city=Kolhāpur",
         "showlegend": true,
         "type": "scattergeo"
        },
        {
         "geo": "geo",
         "hoverlabel": {
          "namelength": 0
         },
         "hovertemplate": "<b>%{hovertext}</b><br><br>city=%{location}<br>population=%{marker.size}",
         "hovertext": [
          "Amrāvati"
         ],
         "legendgroup": "city=Amrāvati",
         "locations": [
          "Amrāvati"
         ],
         "marker": {
          "color": "#B6E880",
          "size": [
           734451
          ],
          "sizemode": "area",
          "sizeref": 47445
         },
         "name": "city=Amrāvati",
         "showlegend": true,
         "type": "scattergeo"
        },
        {
         "geo": "geo",
         "hoverlabel": {
          "namelength": 0
         },
         "hovertemplate": "<b>%{hovertext}</b><br><br>city=%{location}<br>population=%{marker.size}",
         "hovertext": [
          "Dehra Dūn"
         ],
         "legendgroup": "city=Dehra Dūn",
         "locations": [
          "Dehra Dūn"
         ],
         "marker": {
          "color": "#FF97FF",
          "size": [
           714223
          ],
          "sizemode": "area",
          "sizeref": 47445
         },
         "name": "city=Dehra Dūn",
         "showlegend": true,
         "type": "scattergeo"
        },
        {
         "geo": "geo",
         "hoverlabel": {
          "namelength": 0
         },
         "hovertemplate": "<b>%{hovertext}</b><br><br>city=%{location}<br>population=%{marker.size}",
         "hovertext": [
          "Mālegaon"
         ],
         "legendgroup": "city=Mālegaon",
         "locations": [
          "Mālegaon"
         ],
         "marker": {
          "color": "#FECB52",
          "size": [
           690844
          ],
          "sizemode": "area",
          "sizeref": 47445
         },
         "name": "city=Mālegaon",
         "showlegend": true,
         "type": "scattergeo"
        },
        {
         "geo": "geo",
         "hoverlabel": {
          "namelength": 0
         },
         "hovertemplate": "<b>%{hovertext}</b><br><br>city=%{location}<br>population=%{marker.size}",
         "hovertext": [
          "Nellore"
         ],
         "legendgroup": "city=Nellore",
         "locations": [
          "Nellore"
         ],
         "marker": {
          "color": "#636efa",
          "size": [
           678004
          ],
          "sizemode": "area",
          "sizeref": 47445
         },
         "name": "city=Nellore",
         "showlegend": true,
         "type": "scattergeo"
        },
        {
         "geo": "geo",
         "hoverlabel": {
          "namelength": 0
         },
         "hovertemplate": "<b>%{hovertext}</b><br><br>city=%{location}<br>population=%{marker.size}",
         "hovertext": [
          "Gorakhpur"
         ],
         "legendgroup": "city=Gorakhpur",
         "locations": [
          "Gorakhpur"
         ],
         "marker": {
          "color": "#EF553B",
          "size": [
           674246
          ],
          "sizemode": "area",
          "sizeref": 47445
         },
         "name": "city=Gorakhpur",
         "showlegend": true,
         "type": "scattergeo"
        },
        {
         "geo": "geo",
         "hoverlabel": {
          "namelength": 0
         },
         "hovertemplate": "<b>%{hovertext}</b><br><br>city=%{location}<br>population=%{marker.size}",
         "hovertext": [
          "Shimoga"
         ],
         "legendgroup": "city=Shimoga",
         "locations": [
          "Shimoga"
         ],
         "marker": {
          "color": "#00cc96",
          "size": [
           654055
          ],
          "sizemode": "area",
          "sizeref": 47445
         },
         "name": "city=Shimoga",
         "showlegend": true,
         "type": "scattergeo"
        },
        {
         "geo": "geo",
         "hoverlabel": {
          "namelength": 0
         },
         "hovertemplate": "<b>%{hovertext}</b><br><br>city=%{location}<br>population=%{marker.size}",
         "hovertext": [
          "Tiruppūr"
         ],
         "legendgroup": "city=Tiruppūr",
         "locations": [
          "Tiruppūr"
         ],
         "marker": {
          "color": "#ab63fa",
          "size": [
           650000
          ],
          "sizemode": "area",
          "sizeref": 47445
         },
         "name": "city=Tiruppūr",
         "showlegend": true,
         "type": "scattergeo"
        },
        {
         "geo": "geo",
         "hoverlabel": {
          "namelength": 0
         },
         "hovertemplate": "<b>%{hovertext}</b><br><br>city=%{location}<br>population=%{marker.size}",
         "hovertext": [
          "Raurkela"
         ],
         "legendgroup": "city=Raurkela",
         "locations": [
          "Raurkela"
         ],
         "marker": {
          "color": "#FFA15A",
          "size": [
           625831
          ],
          "sizemode": "area",
          "sizeref": 47445
         },
         "name": "city=Raurkela",
         "showlegend": true,
         "type": "scattergeo"
        },
        {
         "geo": "geo",
         "hoverlabel": {
          "namelength": 0
         },
         "hovertemplate": "<b>%{hovertext}</b><br><br>city=%{location}<br>population=%{marker.size}",
         "hovertext": [
          "Nānded"
         ],
         "legendgroup": "city=Nānded",
         "locations": [
          "Nānded"
         ],
         "marker": {
          "color": "#19d3f3",
          "size": [
           623708
          ],
          "sizemode": "area",
          "sizeref": 47445
         },
         "name": "city=Nānded",
         "showlegend": true,
         "type": "scattergeo"
        },
        {
         "geo": "geo",
         "hoverlabel": {
          "namelength": 0
         },
         "hovertemplate": "<b>%{hovertext}</b><br><br>city=%{location}<br>population=%{marker.size}",
         "hovertext": [
          "Belgaum"
         ],
         "legendgroup": "city=Belgaum",
         "locations": [
          "Belgaum"
         ],
         "marker": {
          "color": "#FF6692",
          "size": [
           608756
          ],
          "sizemode": "area",
          "sizeref": 47445
         },
         "name": "city=Belgaum",
         "showlegend": true,
         "type": "scattergeo"
        },
        {
         "geo": "geo",
         "hoverlabel": {
          "namelength": 0
         },
         "hovertemplate": "<b>%{hovertext}</b><br><br>city=%{location}<br>population=%{marker.size}",
         "hovertext": [
          "Sāngli"
         ],
         "legendgroup": "city=Sāngli",
         "locations": [
          "Sāngli"
         ],
         "marker": {
          "color": "#B6E880",
          "size": [
           601214
          ],
          "sizemode": "area",
          "sizeref": 47445
         },
         "name": "city=Sāngli",
         "showlegend": true,
         "type": "scattergeo"
        },
        {
         "geo": "geo",
         "hoverlabel": {
          "namelength": 0
         },
         "hovertemplate": "<b>%{hovertext}</b><br><br>city=%{location}<br>population=%{marker.size}",
         "hovertext": [
          "Chānda"
         ],
         "legendgroup": "city=Chānda",
         "locations": [
          "Chānda"
         ],
         "marker": {
          "color": "#FF97FF",
          "size": [
           595118
          ],
          "sizemode": "area",
          "sizeref": 47445
         },
         "name": "city=Chānda",
         "showlegend": true,
         "type": "scattergeo"
        },
        {
         "geo": "geo",
         "hoverlabel": {
          "namelength": 0
         },
         "hovertemplate": "<b>%{hovertext}</b><br><br>city=%{location}<br>population=%{marker.size}",
         "hovertext": [
          "Ajmer"
         ],
         "legendgroup": "city=Ajmer",
         "locations": [
          "Ajmer"
         ],
         "marker": {
          "color": "#FECB52",
          "size": [
           589985
          ],
          "sizemode": "area",
          "sizeref": 47445
         },
         "name": "city=Ajmer",
         "showlegend": true,
         "type": "scattergeo"
        },
        {
         "geo": "geo",
         "hoverlabel": {
          "namelength": 0
         },
         "hovertemplate": "<b>%{hovertext}</b><br><br>city=%{location}<br>population=%{marker.size}",
         "hovertext": [
          "Cuttack"
         ],
         "legendgroup": "city=Cuttack",
         "locations": [
          "Cuttack"
         ],
         "marker": {
          "color": "#636efa",
          "size": [
           580000
          ],
          "sizemode": "area",
          "sizeref": 47445
         },
         "name": "city=Cuttack",
         "showlegend": true,
         "type": "scattergeo"
        },
        {
         "geo": "geo",
         "hoverlabel": {
          "namelength": 0
         },
         "hovertemplate": "<b>%{hovertext}</b><br><br>city=%{location}<br>population=%{marker.size}",
         "hovertext": [
          "Bīkaner"
         ],
         "legendgroup": "city=Bīkaner",
         "locations": [
          "Bīkaner"
         ],
         "marker": {
          "color": "#EF553B",
          "size": [
           576015
          ],
          "sizemode": "area",
          "sizeref": 47445
         },
         "name": "city=Bīkaner",
         "showlegend": true,
         "type": "scattergeo"
        },
        {
         "geo": "geo",
         "hoverlabel": {
          "namelength": 0
         },
         "hovertemplate": "<b>%{hovertext}</b><br><br>city=%{location}<br>population=%{marker.size}",
         "hovertext": [
          "Bhāvnagar"
         ],
         "legendgroup": "city=Bhāvnagar",
         "locations": [
          "Bhāvnagar"
         ],
         "marker": {
          "color": "#00cc96",
          "size": [
           554978
          ],
          "sizemode": "area",
          "sizeref": 47445
         },
         "name": "city=Bhāvnagar",
         "showlegend": true,
         "type": "scattergeo"
        },
        {
         "geo": "geo",
         "hoverlabel": {
          "namelength": 0
         },
         "hovertemplate": "<b>%{hovertext}</b><br><br>city=%{location}<br>population=%{marker.size}",
         "hovertext": [
          "Hisar"
         ],
         "legendgroup": "city=Hisar",
         "locations": [
          "Hisar"
         ],
         "marker": {
          "color": "#ab63fa",
          "size": [
           544829
          ],
          "sizemode": "area",
          "sizeref": 47445
         },
         "name": "city=Hisar",
         "showlegend": true,
         "type": "scattergeo"
        },
        {
         "geo": "geo",
         "hoverlabel": {
          "namelength": 0
         },
         "hovertemplate": "<b>%{hovertext}</b><br><br>city=%{location}<br>population=%{marker.size}",
         "hovertext": [
          "Bilāspur"
         ],
         "legendgroup": "city=Bilāspur",
         "locations": [
          "Bilāspur"
         ],
         "marker": {
          "color": "#FFA15A",
          "size": [
           543454
          ],
          "sizemode": "area",
          "sizeref": 47445
         },
         "name": "city=Bilāspur",
         "showlegend": true,
         "type": "scattergeo"
        },
        {
         "geo": "geo",
         "hoverlabel": {
          "namelength": 0
         },
         "hovertemplate": "<b>%{hovertext}</b><br><br>city=%{location}<br>population=%{marker.size}",
         "hovertext": [
          "Tinnevelly"
         ],
         "legendgroup": "city=Tinnevelly",
         "locations": [
          "Tinnevelly"
         ],
         "marker": {
          "color": "#19d3f3",
          "size": [
           542200
          ],
          "sizemode": "area",
          "sizeref": 47445
         },
         "name": "city=Tinnevelly",
         "showlegend": true,
         "type": "scattergeo"
        },
        {
         "geo": "geo",
         "hoverlabel": {
          "namelength": 0
         },
         "hovertemplate": "<b>%{hovertext}</b><br><br>city=%{location}<br>population=%{marker.size}",
         "hovertext": [
          "Guntūr"
         ],
         "legendgroup": "city=Guntūr",
         "locations": [
          "Guntūr"
         ],
         "marker": {
          "color": "#FF6692",
          "size": [
           530577
          ],
          "sizemode": "area",
          "sizeref": 47445
         },
         "name": "city=Guntūr",
         "showlegend": true,
         "type": "scattergeo"
        },
        {
         "geo": "geo",
         "hoverlabel": {
          "namelength": 0
         },
         "hovertemplate": "<b>%{hovertext}</b><br><br>city=%{location}<br>population=%{marker.size}",
         "hovertext": [
          "Shiliguri"
         ],
         "legendgroup": "city=Shiliguri",
         "locations": [
          "Shiliguri"
         ],
         "marker": {
          "color": "#B6E880",
          "size": [
           515574
          ],
          "sizemode": "area",
          "sizeref": 47445
         },
         "name": "city=Shiliguri",
         "showlegend": true,
         "type": "scattergeo"
        },
        {
         "geo": "geo",
         "hoverlabel": {
          "namelength": 0
         },
         "hovertemplate": "<b>%{hovertext}</b><br><br>city=%{location}<br>population=%{marker.size}",
         "hovertext": [
          "Ujjain"
         ],
         "legendgroup": "city=Ujjain",
         "locations": [
          "Ujjain"
         ],
         "marker": {
          "color": "#FF97FF",
          "size": [
           513350
          ],
          "sizemode": "area",
          "sizeref": 47445
         },
         "name": "city=Ujjain",
         "showlegend": true,
         "type": "scattergeo"
        },
        {
         "geo": "geo",
         "hoverlabel": {
          "namelength": 0
         },
         "hovertemplate": "<b>%{hovertext}</b><br><br>city=%{location}<br>population=%{marker.size}",
         "hovertext": [
          "Davangere"
         ],
         "legendgroup": "city=Davangere",
         "locations": [
          "Davangere"
         ],
         "marker": {
          "color": "#FECB52",
          "size": [
           503564
          ],
          "sizemode": "area",
          "sizeref": 47445
         },
         "name": "city=Davangere",
         "showlegend": true,
         "type": "scattergeo"
        },
        {
         "geo": "geo",
         "hoverlabel": {
          "namelength": 0
         },
         "hovertemplate": "<b>%{hovertext}</b><br><br>city=%{location}<br>population=%{marker.size}",
         "hovertext": [
          "Akola"
         ],
         "legendgroup": "city=Akola",
         "locations": [
          "Akola"
         ],
         "marker": {
          "color": "#636efa",
          "size": [
           503502
          ],
          "sizemode": "area",
          "sizeref": 47445
         },
         "name": "city=Akola",
         "showlegend": true,
         "type": "scattergeo"
        },
        {
         "geo": "geo",
         "hoverlabel": {
          "namelength": 0
         },
         "hovertemplate": "<b>%{hovertext}</b><br><br>city=%{location}<br>population=%{marker.size}",
         "hovertext": [
          "Sahāranpur"
         ],
         "legendgroup": "city=Sahāranpur",
         "locations": [
          "Sahāranpur"
         ],
         "marker": {
          "color": "#EF553B",
          "size": [
           484873
          ],
          "sizemode": "area",
          "sizeref": 47445
         },
         "name": "city=Sahāranpur",
         "showlegend": true,
         "type": "scattergeo"
        },
        {
         "geo": "geo",
         "hoverlabel": {
          "namelength": 0
         },
         "hovertemplate": "<b>%{hovertext}</b><br><br>city=%{location}<br>population=%{marker.size}",
         "hovertext": [
          "Gulbarga"
         ],
         "legendgroup": "city=Gulbarga",
         "locations": [
          "Gulbarga"
         ],
         "marker": {
          "color": "#00cc96",
          "size": [
           483615
          ],
          "sizemode": "area",
          "sizeref": 47445
         },
         "name": "city=Gulbarga",
         "showlegend": true,
         "type": "scattergeo"
        },
        {
         "geo": "geo",
         "hoverlabel": {
          "namelength": 0
         },
         "hovertemplate": "<b>%{hovertext}</b><br><br>city=%{location}<br>population=%{marker.size}",
         "hovertext": [
          "Bhātpāra"
         ],
         "legendgroup": "city=Bhātpāra",
         "locations": [
          "Bhātpāra"
         ],
         "marker": {
          "color": "#ab63fa",
          "size": [
           483129
          ],
          "sizemode": "area",
          "sizeref": 47445
         },
         "name": "city=Bhātpāra",
         "showlegend": true,
         "type": "scattergeo"
        },
        {
         "geo": "geo",
         "hoverlabel": {
          "namelength": 0
         },
         "hovertemplate": "<b>%{hovertext}</b><br><br>city=%{location}<br>population=%{marker.size}",
         "hovertext": [
          "Dhūlia"
         ],
         "legendgroup": "city=Dhūlia",
         "locations": [
          "Dhūlia"
         ],
         "marker": {
          "color": "#FFA15A",
          "size": [
           479073
          ],
          "sizemode": "area",
          "sizeref": 47445
         },
         "name": "city=Dhūlia",
         "showlegend": true,
         "type": "scattergeo"
        },
        {
         "geo": "geo",
         "hoverlabel": {
          "namelength": 0
         },
         "hovertemplate": "<b>%{hovertext}</b><br><br>city=%{location}<br>population=%{marker.size}",
         "hovertext": [
          "Udaipur"
         ],
         "legendgroup": "city=Udaipur",
         "locations": [
          "Udaipur"
         ],
         "marker": {
          "color": "#19d3f3",
          "size": [
           469737
          ],
          "sizemode": "area",
          "sizeref": 47445
         },
         "name": "city=Udaipur",
         "showlegend": true,
         "type": "scattergeo"
        },
        {
         "geo": "geo",
         "hoverlabel": {
          "namelength": 0
         },
         "hovertemplate": "<b>%{hovertext}</b><br><br>city=%{location}<br>population=%{marker.size}",
         "hovertext": [
          "Bellary"
         ],
         "legendgroup": "city=Bellary",
         "locations": [
          "Bellary"
         ],
         "marker": {
          "color": "#FF6692",
          "size": [
           445388
          ],
          "sizemode": "area",
          "sizeref": 47445
         },
         "name": "city=Bellary",
         "showlegend": true,
         "type": "scattergeo"
        },
        {
         "geo": "geo",
         "hoverlabel": {
          "namelength": 0
         },
         "hovertemplate": "<b>%{hovertext}</b><br><br>city=%{location}<br>population=%{marker.size}",
         "hovertext": [
          "Tuticorin"
         ],
         "legendgroup": "city=Tuticorin",
         "locations": [
          "Tuticorin"
         ],
         "marker": {
          "color": "#B6E880",
          "size": [
           436094
          ],
          "sizemode": "area",
          "sizeref": 47445
         },
         "name": "city=Tuticorin",
         "showlegend": true,
         "type": "scattergeo"
        },
        {
         "geo": "geo",
         "hoverlabel": {
          "namelength": 0
         },
         "hovertemplate": "<b>%{hovertext}</b><br><br>city=%{location}<br>population=%{marker.size}",
         "hovertext": [
          "Kurnool"
         ],
         "legendgroup": "city=Kurnool",
         "locations": [
          "Kurnool"
         ],
         "marker": {
          "color": "#FF97FF",
          "size": [
           424920
          ],
          "sizemode": "area",
          "sizeref": 47445
         },
         "name": "city=Kurnool",
         "showlegend": true,
         "type": "scattergeo"
        },
        {
         "geo": "geo",
         "hoverlabel": {
          "namelength": 0
         },
         "hovertemplate": "<b>%{hovertext}</b><br><br>city=%{location}<br>population=%{marker.size}",
         "hovertext": [
          "Gaya"
         ],
         "legendgroup": "city=Gaya",
         "locations": [
          "Gaya"
         ],
         "marker": {
          "color": "#FECB52",
          "size": [
           423692
          ],
          "sizemode": "area",
          "sizeref": 47445
         },
         "name": "city=Gaya",
         "showlegend": true,
         "type": "scattergeo"
        },
        {
         "geo": "geo",
         "hoverlabel": {
          "namelength": 0
         },
         "hovertemplate": "<b>%{hovertext}</b><br><br>city=%{location}<br>population=%{marker.size}",
         "hovertext": [
          "Sīkar"
         ],
         "legendgroup": "city=Sīkar",
         "locations": [
          "Sīkar"
         ],
         "marker": {
          "color": "#636efa",
          "size": [
           400000
          ],
          "sizemode": "area",
          "sizeref": 47445
         },
         "name": "city=Sīkar",
         "showlegend": true,
         "type": "scattergeo"
        },
        {
         "geo": "geo",
         "hoverlabel": {
          "namelength": 0
         },
         "hovertemplate": "<b>%{hovertext}</b><br><br>city=%{location}<br>population=%{marker.size}",
         "hovertext": [
          "Tumkūr"
         ],
         "legendgroup": "city=Tumkūr",
         "locations": [
          "Tumkūr"
         ],
         "marker": {
          "color": "#EF553B",
          "size": [
           399606
          ],
          "sizemode": "area",
          "sizeref": 47445
         },
         "name": "city=Tumkūr",
         "showlegend": true,
         "type": "scattergeo"
        },
        {
         "geo": "geo",
         "hoverlabel": {
          "namelength": 0
         },
         "hovertemplate": "<b>%{hovertext}</b><br><br>city=%{location}<br>population=%{marker.size}",
         "hovertext": [
          "Quilon"
         ],
         "legendgroup": "city=Quilon",
         "locations": [
          "Quilon"
         ],
         "marker": {
          "color": "#00cc96",
          "size": [
           394163
          ],
          "sizemode": "area",
          "sizeref": 47445
         },
         "name": "city=Quilon",
         "showlegend": true,
         "type": "scattergeo"
        },
        {
         "geo": "geo",
         "hoverlabel": {
          "namelength": 0
         },
         "hovertemplate": "<b>%{hovertext}</b><br><br>city=%{location}<br>population=%{marker.size}",
         "hovertext": [
          "Ahmadnagar"
         ],
         "legendgroup": "city=Ahmadnagar",
         "locations": [
          "Ahmadnagar"
         ],
         "marker": {
          "color": "#ab63fa",
          "size": [
           391760
          ],
          "sizemode": "area",
          "sizeref": 47445
         },
         "name": "city=Ahmadnagar",
         "showlegend": true,
         "type": "scattergeo"
        },
        {
         "geo": "geo",
         "hoverlabel": {
          "namelength": 0
         },
         "hovertemplate": "<b>%{hovertext}</b><br><br>city=%{location}<br>population=%{marker.size}",
         "hovertext": [
          "Bhīlwāra"
         ],
         "legendgroup": "city=Bhīlwāra",
         "locations": [
          "Bhīlwāra"
         ],
         "marker": {
          "color": "#FFA15A",
          "size": [
           389911
          ],
          "sizemode": "area",
          "sizeref": 47445
         },
         "name": "city=Bhīlwāra",
         "showlegend": true,
         "type": "scattergeo"
        },
        {
         "geo": "geo",
         "hoverlabel": {
          "namelength": 0
         },
         "hovertemplate": "<b>%{hovertext}</b><br><br>city=%{location}<br>population=%{marker.size}",
         "hovertext": [
          "Nizāmābād"
         ],
         "legendgroup": "city=Nizāmābād",
         "locations": [
          "Nizāmābād"
         ],
         "marker": {
          "color": "#19d3f3",
          "size": [
           388505
          ],
          "sizemode": "area",
          "sizeref": 47445
         },
         "name": "city=Nizāmābād",
         "showlegend": true,
         "type": "scattergeo"
        },
        {
         "geo": "geo",
         "hoverlabel": {
          "namelength": 0
         },
         "hovertemplate": "<b>%{hovertext}</b><br><br>city=%{location}<br>population=%{marker.size}",
         "hovertext": [
          "Parbhani"
         ],
         "legendgroup": "city=Parbhani",
         "locations": [
          "Parbhani"
         ],
         "marker": {
          "color": "#FF6692",
          "size": [
           378326
          ],
          "sizemode": "area",
          "sizeref": 47445
         },
         "name": "city=Parbhani",
         "showlegend": true,
         "type": "scattergeo"
        },
        {
         "geo": "geo",
         "hoverlabel": {
          "namelength": 0
         },
         "hovertemplate": "<b>%{hovertext}</b><br><br>city=%{location}<br>population=%{marker.size}",
         "hovertext": [
          "Shillong"
         ],
         "legendgroup": "city=Shillong",
         "locations": [
          "Shillong"
         ],
         "marker": {
          "color": "#B6E880",
          "size": [
           375527
          ],
          "sizemode": "area",
          "sizeref": 47445
         },
         "name": "city=Shillong",
         "showlegend": true,
         "type": "scattergeo"
        },
        {
         "geo": "geo",
         "hoverlabel": {
          "namelength": 0
         },
         "hovertemplate": "<b>%{hovertext}</b><br><br>city=%{location}<br>population=%{marker.size}",
         "hovertext": [
          "Lātūr"
         ],
         "legendgroup": "city=Lātūr",
         "locations": [
          "Lātūr"
         ],
         "marker": {
          "color": "#FF97FF",
          "size": [
           374394
          ],
          "sizemode": "area",
          "sizeref": 47445
         },
         "name": "city=Lātūr",
         "showlegend": true,
         "type": "scattergeo"
        },
        {
         "geo": "geo",
         "hoverlabel": {
          "namelength": 0
         },
         "hovertemplate": "<b>%{hovertext}</b><br><br>city=%{location}<br>population=%{marker.size}",
         "hovertext": [
          "Rājapālaiyam"
         ],
         "legendgroup": "city=Rājapālaiyam",
         "locations": [
          "Rājapālaiyam"
         ],
         "marker": {
          "color": "#FECB52",
          "size": [
           369991
          ],
          "sizemode": "area",
          "sizeref": 47445
         },
         "name": "city=Rājapālaiyam",
         "showlegend": true,
         "type": "scattergeo"
        },
        {
         "geo": "geo",
         "hoverlabel": {
          "namelength": 0
         },
         "hovertemplate": "<b>%{hovertext}</b><br><br>city=%{location}<br>population=%{marker.size}",
         "hovertext": [
          "Bhāgalpur"
         ],
         "legendgroup": "city=Bhāgalpur",
         "locations": [
          "Bhāgalpur"
         ],
         "marker": {
          "color": "#636efa",
          "size": [
           361548
          ],
          "sizemode": "area",
          "sizeref": 47445
         },
         "name": "city=Bhāgalpur",
         "showlegend": true,
         "type": "scattergeo"
        },
        {
         "geo": "geo",
         "hoverlabel": {
          "namelength": 0
         },
         "hovertemplate": "<b>%{hovertext}</b><br><br>city=%{location}<br>population=%{marker.size}",
         "hovertext": [
          "Muzaffarnagar"
         ],
         "legendgroup": "city=Muzaffarnagar",
         "locations": [
          "Muzaffarnagar"
         ],
         "marker": {
          "color": "#EF553B",
          "size": [
           349706
          ],
          "sizemode": "area",
          "sizeref": 47445
         },
         "name": "city=Muzaffarnagar",
         "showlegend": true,
         "type": "scattergeo"
        },
        {
         "geo": "geo",
         "hoverlabel": {
          "namelength": 0
         },
         "hovertemplate": "<b>%{hovertext}</b><br><br>city=%{location}<br>population=%{marker.size}",
         "hovertext": [
          "Muzaffarpur"
         ],
         "legendgroup": "city=Muzaffarpur",
         "locations": [
          "Muzaffarpur"
         ],
         "marker": {
          "color": "#00cc96",
          "size": [
           333200
          ],
          "sizemode": "area",
          "sizeref": 47445
         },
         "name": "city=Muzaffarpur",
         "showlegend": true,
         "type": "scattergeo"
        },
        {
         "geo": "geo",
         "hoverlabel": {
          "namelength": 0
         },
         "hovertemplate": "<b>%{hovertext}</b><br><br>city=%{location}<br>population=%{marker.size}",
         "hovertext": [
          "Mathura"
         ],
         "legendgroup": "city=Mathura",
         "locations": [
          "Mathura"
         ],
         "marker": {
          "color": "#ab63fa",
          "size": [
           330511
          ],
          "sizemode": "area",
          "sizeref": 47445
         },
         "name": "city=Mathura",
         "showlegend": true,
         "type": "scattergeo"
        },
        {
         "geo": "geo",
         "hoverlabel": {
          "namelength": 0
         },
         "hovertemplate": "<b>%{hovertext}</b><br><br>city=%{location}<br>population=%{marker.size}",
         "hovertext": [
          "Patiāla"
         ],
         "legendgroup": "city=Patiāla",
         "locations": [
          "Patiāla"
         ],
         "marker": {
          "color": "#FFA15A",
          "size": [
           329224
          ],
          "sizemode": "area",
          "sizeref": 47445
         },
         "name": "city=Patiāla",
         "showlegend": true,
         "type": "scattergeo"
        },
        {
         "geo": "geo",
         "hoverlabel": {
          "namelength": 0
         },
         "hovertemplate": "<b>%{hovertext}</b><br><br>city=%{location}<br>population=%{marker.size}",
         "hovertext": [
          "Saugor"
         ],
         "legendgroup": "city=Saugor",
         "locations": [
          "Saugor"
         ],
         "marker": {
          "color": "#19d3f3",
          "size": [
           328240
          ],
          "sizemode": "area",
          "sizeref": 47445
         },
         "name": "city=Saugor",
         "showlegend": true,
         "type": "scattergeo"
        },
        {
         "geo": "geo",
         "hoverlabel": {
          "namelength": 0
         },
         "hovertemplate": "<b>%{hovertext}</b><br><br>city=%{location}<br>population=%{marker.size}",
         "hovertext": [
          "Brahmapur"
         ],
         "legendgroup": "city=Brahmapur",
         "locations": [
          "Brahmapur"
         ],
         "marker": {
          "color": "#FF6692",
          "size": [
           324726
          ],
          "sizemode": "area",
          "sizeref": 47445
         },
         "name": "city=Brahmapur",
         "showlegend": true,
         "type": "scattergeo"
        },
        {
         "geo": "geo",
         "hoverlabel": {
          "namelength": 0
         },
         "hovertemplate": "<b>%{hovertext}</b><br><br>city=%{location}<br>population=%{marker.size}",
         "hovertext": [
          "Shāhjānpur"
         ],
         "legendgroup": "city=Shāhjānpur",
         "locations": [
          "Shāhjānpur"
         ],
         "marker": {
          "color": "#B6E880",
          "size": [
           320434
          ],
          "sizemode": "area",
          "sizeref": 47445
         },
         "name": "city=Shāhjānpur",
         "showlegend": true,
         "type": "scattergeo"
        },
        {
         "geo": "geo",
         "hoverlabel": {
          "namelength": 0
         },
         "hovertemplate": "<b>%{hovertext}</b><br><br>city=%{location}<br>population=%{marker.size}",
         "hovertext": [
          "Rohtak"
         ],
         "legendgroup": "city=Rohtak",
         "locations": [
          "Rohtak"
         ],
         "marker": {
          "color": "#FF97FF",
          "size": [
           317245
          ],
          "sizemode": "area",
          "sizeref": 47445
         },
         "name": "city=Rohtak",
         "showlegend": true,
         "type": "scattergeo"
        },
        {
         "geo": "geo",
         "hoverlabel": {
          "namelength": 0
         },
         "hovertemplate": "<b>%{hovertext}</b><br><br>city=%{location}<br>population=%{marker.size}",
         "hovertext": [
          "Sambalpur"
         ],
         "legendgroup": "city=Sambalpur",
         "locations": [
          "Sambalpur"
         ],
         "marker": {
          "color": "#FECB52",
          "size": [
           310852
          ],
          "sizemode": "area",
          "sizeref": 47445
         },
         "name": "city=Sambalpur",
         "showlegend": true,
         "type": "scattergeo"
        },
        {
         "geo": "geo",
         "hoverlabel": {
          "namelength": 0
         },
         "hovertemplate": "<b>%{hovertext}</b><br><br>city=%{location}<br>population=%{marker.size}",
         "hovertext": [
          "Ratlām"
         ],
         "legendgroup": "city=Ratlām",
         "locations": [
          "Ratlām"
         ],
         "marker": {
          "color": "#636efa",
          "size": [
           307229
          ],
          "sizemode": "area",
          "sizeref": 47445
         },
         "name": "city=Ratlām",
         "showlegend": true,
         "type": "scattergeo"
        },
        {
         "geo": "geo",
         "hoverlabel": {
          "namelength": 0
         },
         "hovertemplate": "<b>%{hovertext}</b><br><br>city=%{location}<br>population=%{marker.size}",
         "hovertext": [
          "Fīrozābād"
         ],
         "legendgroup": "city=Fīrozābād",
         "locations": [
          "Fīrozābād"
         ],
         "marker": {
          "color": "#EF553B",
          "size": [
           306409
          ],
          "sizemode": "area",
          "sizeref": 47445
         },
         "name": "city=Fīrozābād",
         "showlegend": true,
         "type": "scattergeo"
        },
        {
         "geo": "geo",
         "hoverlabel": {
          "namelength": 0
         },
         "hovertemplate": "<b>%{hovertext}</b><br><br>city=%{location}<br>population=%{marker.size}",
         "hovertext": [
          "Rājahmundry"
         ],
         "legendgroup": "city=Rājahmundry",
         "locations": [
          "Rājahmundry"
         ],
         "marker": {
          "color": "#00cc96",
          "size": [
           304804
          ],
          "sizemode": "area",
          "sizeref": 47445
         },
         "name": "city=Rājahmundry",
         "showlegend": true,
         "type": "scattergeo"
        },
        {
         "geo": "geo",
         "hoverlabel": {
          "namelength": 0
         },
         "hovertemplate": "<b>%{hovertext}</b><br><br>city=%{location}<br>population=%{marker.size}",
         "hovertext": [
          "Barddhamān"
         ],
         "legendgroup": "city=Barddhamān",
         "locations": [
          "Barddhamān"
         ],
         "marker": {
          "color": "#ab63fa",
          "size": [
           301725
          ],
          "sizemode": "area",
          "sizeref": 47445
         },
         "name": "city=Barddhamān",
         "showlegend": true,
         "type": "scattergeo"
        },
        {
         "geo": "geo",
         "hoverlabel": {
          "namelength": 0
         },
         "hovertemplate": "<b>%{hovertext}</b><br><br>city=%{location}<br>population=%{marker.size}",
         "hovertext": [
          "Bīdar"
         ],
         "legendgroup": "city=Bīdar",
         "locations": [
          "Bīdar"
         ],
         "marker": {
          "color": "#FFA15A",
          "size": [
           300136
          ],
          "sizemode": "area",
          "sizeref": 47445
         },
         "name": "city=Bīdar",
         "showlegend": true,
         "type": "scattergeo"
        },
        {
         "geo": "geo",
         "hoverlabel": {
          "namelength": 0
         },
         "hovertemplate": "<b>%{hovertext}</b><br><br>city=%{location}<br>population=%{marker.size}",
         "hovertext": [
          "Rāmpur"
         ],
         "legendgroup": "city=Rāmpur",
         "locations": [
          "Rāmpur"
         ],
         "marker": {
          "color": "#19d3f3",
          "size": [
           296418
          ],
          "sizemode": "area",
          "sizeref": 47445
         },
         "name": "city=Rāmpur",
         "showlegend": true,
         "type": "scattergeo"
        },
        {
         "geo": "geo",
         "hoverlabel": {
          "namelength": 0
         },
         "hovertemplate": "<b>%{hovertext}</b><br><br>city=%{location}<br>population=%{marker.size}",
         "hovertext": [
          "Kākināda"
         ],
         "legendgroup": "city=Kākināda",
         "locations": [
          "Kākināda"
         ],
         "marker": {
          "color": "#FF6692",
          "size": [
           292923
          ],
          "sizemode": "area",
          "sizeref": 47445
         },
         "name": "city=Kākināda",
         "showlegend": true,
         "type": "scattergeo"
        },
        {
         "geo": "geo",
         "hoverlabel": {
          "namelength": 0
         },
         "hovertemplate": "<b>%{hovertext}</b><br><br>city=%{location}<br>population=%{marker.size}",
         "hovertext": [
          "Pānīpat"
         ],
         "legendgroup": "city=Pānīpat",
         "locations": [
          "Pānīpat"
         ],
         "marker": {
          "color": "#B6E880",
          "size": [
           292808
          ],
          "sizemode": "area",
          "sizeref": 47445
         },
         "name": "city=Pānīpat",
         "showlegend": true,
         "type": "scattergeo"
        },
        {
         "geo": "geo",
         "hoverlabel": {
          "namelength": 0
         },
         "hovertemplate": "<b>%{hovertext}</b><br><br>city=%{location}<br>population=%{marker.size}",
         "hovertext": [
          "Khammam"
         ],
         "legendgroup": "city=Khammam",
         "locations": [
          "Khammam"
         ],
         "marker": {
          "color": "#FF97FF",
          "size": [
           290839
          ],
          "sizemode": "area",
          "sizeref": 47445
         },
         "name": "city=Khammam",
         "showlegend": true,
         "type": "scattergeo"
        },
        {
         "geo": "geo",
         "hoverlabel": {
          "namelength": 0
         },
         "hovertemplate": "<b>%{hovertext}</b><br><br>city=%{location}<br>population=%{marker.size}",
         "hovertext": [
          "Bhuj"
         ],
         "legendgroup": "city=Bhuj",
         "locations": [
          "Bhuj"
         ],
         "marker": {
          "color": "#FECB52",
          "size": [
           289429
          ],
          "sizemode": "area",
          "sizeref": 47445
         },
         "name": "city=Bhuj",
         "showlegend": true,
         "type": "scattergeo"
        },
        {
         "geo": "geo",
         "hoverlabel": {
          "namelength": 0
         },
         "hovertemplate": "<b>%{hovertext}</b><br><br>city=%{location}<br>population=%{marker.size}",
         "hovertext": [
          "Karīmnagar"
         ],
         "legendgroup": "city=Karīmnagar",
         "locations": [
          "Karīmnagar"
         ],
         "marker": {
          "color": "#636efa",
          "size": [
           288251
          ],
          "sizemode": "area",
          "sizeref": 47445
         },
         "name": "city=Karīmnagar",
         "showlegend": true,
         "type": "scattergeo"
        },
        {
         "geo": "geo",
         "hoverlabel": {
          "namelength": 0
         },
         "hovertemplate": "<b>%{hovertext}</b><br><br>city=%{location}<br>population=%{marker.size}",
         "hovertext": [
          "Tirupati"
         ],
         "legendgroup": "city=Tirupati",
         "locations": [
          "Tirupati"
         ],
         "marker": {
          "color": "#EF553B",
          "size": [
           287035
          ],
          "sizemode": "area",
          "sizeref": 47445
         },
         "name": "city=Tirupati",
         "showlegend": true,
         "type": "scattergeo"
        },
        {
         "geo": "geo",
         "hoverlabel": {
          "namelength": 0
         },
         "hovertemplate": "<b>%{hovertext}</b><br><br>city=%{location}<br>population=%{marker.size}",
         "hovertext": [
          "Hospet"
         ],
         "legendgroup": "city=Hospet",
         "locations": [
          "Hospet"
         ],
         "marker": {
          "color": "#00cc96",
          "size": [
           286007
          ],
          "sizemode": "area",
          "sizeref": 47445
         },
         "name": "city=Hospet",
         "showlegend": true,
         "type": "scattergeo"
        },
        {
         "geo": "geo",
         "hoverlabel": {
          "namelength": 0
         },
         "hovertemplate": "<b>%{hovertext}</b><br><br>city=%{location}<br>population=%{marker.size}",
         "hovertext": [
          "Mandya"
         ],
         "legendgroup": "city=Mandya",
         "locations": [
          "Mandya"
         ],
         "marker": {
          "color": "#ab63fa",
          "size": [
           285034
          ],
          "sizemode": "area",
          "sizeref": 47445
         },
         "name": "city=Mandya",
         "showlegend": true,
         "type": "scattergeo"
        },
        {
         "geo": "geo",
         "hoverlabel": {
          "namelength": 0
         },
         "hovertemplate": "<b>%{hovertext}</b><br><br>city=%{location}<br>population=%{marker.size}",
         "hovertext": [
          "Alwar"
         ],
         "legendgroup": "city=Alwar",
         "locations": [
          "Alwar"
         ],
         "marker": {
          "color": "#FFA15A",
          "size": [
           283228
          ],
          "sizemode": "area",
          "sizeref": 47445
         },
         "name": "city=Alwar",
         "showlegend": true,
         "type": "scattergeo"
        },
        {
         "geo": "geo",
         "hoverlabel": {
          "namelength": 0
         },
         "hovertemplate": "<b>%{hovertext}</b><br><br>city=%{location}<br>population=%{marker.size}",
         "hovertext": [
          "Aizawl"
         ],
         "legendgroup": "city=Aizawl",
         "locations": [
          "Aizawl"
         ],
         "marker": {
          "color": "#19d3f3",
          "size": [
           283021
          ],
          "sizemode": "area",
          "sizeref": 47445
         },
         "name": "city=Aizawl",
         "showlegend": true,
         "type": "scattergeo"
        },
        {
         "geo": "geo",
         "hoverlabel": {
          "namelength": 0
         },
         "hovertemplate": "<b>%{hovertext}</b><br><br>city=%{location}<br>population=%{marker.size}",
         "hovertext": [
          "Bijāpur"
         ],
         "legendgroup": "city=Bijāpur",
         "locations": [
          "Bijāpur"
         ],
         "marker": {
          "color": "#FF6692",
          "size": [
           271064
          ],
          "sizemode": "area",
          "sizeref": 47445
         },
         "name": "city=Bijāpur",
         "showlegend": true,
         "type": "scattergeo"
        },
        {
         "geo": "geo",
         "hoverlabel": {
          "namelength": 0
         },
         "hovertemplate": "<b>%{hovertext}</b><br><br>city=%{location}<br>population=%{marker.size}",
         "hovertext": [
          "Imphal"
         ],
         "legendgroup": "city=Imphal",
         "locations": [
          "Imphal"
         ],
         "marker": {
          "color": "#B6E880",
          "size": [
           264986
          ],
          "sizemode": "area",
          "sizeref": 47445
         },
         "name": "city=Imphal",
         "showlegend": true,
         "type": "scattergeo"
        },
        {
         "geo": "geo",
         "hoverlabel": {
          "namelength": 0
         },
         "hovertemplate": "<b>%{hovertext}</b><br><br>city=%{location}<br>population=%{marker.size}",
         "hovertext": [
          "Etāwah"
         ],
         "legendgroup": "city=Etāwah",
         "locations": [
          "Etāwah"
         ],
         "marker": {
          "color": "#FF97FF",
          "size": [
           257448
          ],
          "sizemode": "area",
          "sizeref": 47445
         },
         "name": "city=Etāwah",
         "showlegend": true,
         "type": "scattergeo"
        },
        {
         "geo": "geo",
         "hoverlabel": {
          "namelength": 0
         },
         "hovertemplate": "<b>%{hovertext}</b><br><br>city=%{location}<br>population=%{marker.size}",
         "hovertext": [
          "Rāichūr"
         ],
         "legendgroup": "city=Rāichūr",
         "locations": [
          "Rāichūr"
         ],
         "marker": {
          "color": "#FECB52",
          "size": [
           255240
          ],
          "sizemode": "area",
          "sizeref": 47445
         },
         "name": "city=Rāichūr",
         "showlegend": true,
         "type": "scattergeo"
        },
        {
         "geo": "geo",
         "hoverlabel": {
          "namelength": 0
         },
         "hovertemplate": "<b>%{hovertext}</b><br><br>city=%{location}<br>population=%{marker.size}",
         "hovertext": [
          "Pathānkot"
         ],
         "legendgroup": "city=Pathānkot",
         "locations": [
          "Pathānkot"
         ],
         "marker": {
          "color": "#636efa",
          "size": [
           253987
          ],
          "sizemode": "area",
          "sizeref": 47445
         },
         "name": "city=Pathānkot",
         "showlegend": true,
         "type": "scattergeo"
        },
        {
         "geo": "geo",
         "hoverlabel": {
          "namelength": 0
         },
         "hovertemplate": "<b>%{hovertext}</b><br><br>city=%{location}<br>population=%{marker.size}",
         "hovertext": [
          "Chīrāla"
         ],
         "legendgroup": "city=Chīrāla",
         "locations": [
          "Chīrāla"
         ],
         "marker": {
          "color": "#EF553B",
          "size": [
           253000
          ],
          "sizemode": "area",
          "sizeref": 47445
         },
         "name": "city=Chīrāla",
         "showlegend": true,
         "type": "scattergeo"
        },
        {
         "geo": "geo",
         "hoverlabel": {
          "namelength": 0
         },
         "hovertemplate": "<b>%{hovertext}</b><br><br>city=%{location}<br>population=%{marker.size}",
         "hovertext": [
          "Sonīpat"
         ],
         "legendgroup": "city=Sonīpat",
         "locations": [
          "Sonīpat"
         ],
         "marker": {
          "color": "#00cc96",
          "size": [
           250521
          ],
          "sizemode": "area",
          "sizeref": 47445
         },
         "name": "city=Sonīpat",
         "showlegend": true,
         "type": "scattergeo"
        },
        {
         "geo": "geo",
         "hoverlabel": {
          "namelength": 0
         },
         "hovertemplate": "<b>%{hovertext}</b><br><br>city=%{location}<br>population=%{marker.size}",
         "hovertext": [
          "Mirzāpur"
         ],
         "legendgroup": "city=Mirzāpur",
         "locations": [
          "Mirzāpur"
         ],
         "marker": {
          "color": "#ab63fa",
          "size": [
           245817
          ],
          "sizemode": "area",
          "sizeref": 47445
         },
         "name": "city=Mirzāpur",
         "showlegend": true,
         "type": "scattergeo"
        },
        {
         "geo": "geo",
         "hoverlabel": {
          "namelength": 0
         },
         "hovertemplate": "<b>%{hovertext}</b><br><br>city=%{location}<br>population=%{marker.size}",
         "hovertext": [
          "Hāpur"
         ],
         "legendgroup": "city=Hāpur",
         "locations": [
          "Hāpur"
         ],
         "marker": {
          "color": "#FFA15A",
          "size": [
           242920
          ],
          "sizemode": "area",
          "sizeref": 47445
         },
         "name": "city=Hāpur",
         "showlegend": true,
         "type": "scattergeo"
        },
        {
         "geo": "geo",
         "hoverlabel": {
          "namelength": 0
         },
         "hovertemplate": "<b>%{hovertext}</b><br><br>city=%{location}<br>population=%{marker.size}",
         "hovertext": [
          "Porbandar"
         ],
         "legendgroup": "city=Porbandar",
         "locations": [
          "Porbandar"
         ],
         "marker": {
          "color": "#19d3f3",
          "size": [
           234684
          ],
          "sizemode": "area",
          "sizeref": 47445
         },
         "name": "city=Porbandar",
         "showlegend": true,
         "type": "scattergeo"
        },
        {
         "geo": "geo",
         "hoverlabel": {
          "namelength": 0
         },
         "hovertemplate": "<b>%{hovertext}</b><br><br>city=%{location}<br>population=%{marker.size}",
         "hovertext": [
          "Bharatpur"
         ],
         "legendgroup": "city=Bharatpur",
         "locations": [
          "Bharatpur"
         ],
         "marker": {
          "color": "#FF6692",
          "size": [
           229384
          ],
          "sizemode": "area",
          "sizeref": 47445
         },
         "name": "city=Bharatpur",
         "showlegend": true,
         "type": "scattergeo"
        },
        {
         "geo": "geo",
         "hoverlabel": {
          "namelength": 0
         },
         "hovertemplate": "<b>%{hovertext}</b><br><br>city=%{location}<br>population=%{marker.size}",
         "hovertext": [
          "Puducherry"
         ],
         "legendgroup": "city=Puducherry",
         "locations": [
          "Puducherry"
         ],
         "marker": {
          "color": "#B6E880",
          "size": [
           227411
          ],
          "sizemode": "area",
          "sizeref": 47445
         },
         "name": "city=Puducherry",
         "showlegend": true,
         "type": "scattergeo"
        },
        {
         "geo": "geo",
         "hoverlabel": {
          "namelength": 0
         },
         "hovertemplate": "<b>%{hovertext}</b><br><br>city=%{location}<br>population=%{marker.size}",
         "hovertext": [
          "Karnāl"
         ],
         "legendgroup": "city=Karnāl",
         "locations": [
          "Karnāl"
         ],
         "marker": {
          "color": "#FF97FF",
          "size": [
           225049
          ],
          "sizemode": "area",
          "sizeref": 47445
         },
         "name": "city=Karnāl",
         "showlegend": true,
         "type": "scattergeo"
        },
        {
         "geo": "geo",
         "hoverlabel": {
          "namelength": 0
         },
         "hovertemplate": "<b>%{hovertext}</b><br><br>city=%{location}<br>population=%{marker.size}",
         "hovertext": [
          "Nāgercoil"
         ],
         "legendgroup": "city=Nāgercoil",
         "locations": [
          "Nāgercoil"
         ],
         "marker": {
          "color": "#FECB52",
          "size": [
           224329
          ],
          "sizemode": "area",
          "sizeref": 47445
         },
         "name": "city=Nāgercoil",
         "showlegend": true,
         "type": "scattergeo"
        },
        {
         "geo": "geo",
         "hoverlabel": {
          "namelength": 0
         },
         "hovertemplate": "<b>%{hovertext}</b><br><br>city=%{location}<br>population=%{marker.size}",
         "hovertext": [
          "Tanjore"
         ],
         "legendgroup": "city=Tanjore",
         "locations": [
          "Tanjore"
         ],
         "marker": {
          "color": "#636efa",
          "size": [
           219571
          ],
          "sizemode": "area",
          "sizeref": 47445
         },
         "name": "city=Tanjore",
         "showlegend": true,
         "type": "scattergeo"
        },
        {
         "geo": "geo",
         "hoverlabel": {
          "namelength": 0
         },
         "hovertemplate": "<b>%{hovertext}</b><br><br>city=%{location}<br>population=%{marker.size}",
         "hovertext": [
          "Pāli"
         ],
         "legendgroup": "city=Pāli",
         "locations": [
          "Pāli"
         ],
         "marker": {
          "color": "#EF553B",
          "size": [
           210103
          ],
          "sizemode": "area",
          "sizeref": 47445
         },
         "name": "city=Pāli",
         "showlegend": true,
         "type": "scattergeo"
        },
        {
         "geo": "geo",
         "hoverlabel": {
          "namelength": 0
         },
         "hovertemplate": "<b>%{hovertext}</b><br><br>city=%{location}<br>population=%{marker.size}",
         "hovertext": [
          "Agartala"
         ],
         "legendgroup": "city=Agartala",
         "locations": [
          "Agartala"
         ],
         "marker": {
          "color": "#00cc96",
          "size": [
           203264
          ],
          "sizemode": "area",
          "sizeref": 47445
         },
         "name": "city=Agartala",
         "showlegend": true,
         "type": "scattergeo"
        },
        {
         "geo": "geo",
         "hoverlabel": {
          "namelength": 0
         },
         "hovertemplate": "<b>%{hovertext}</b><br><br>city=%{location}<br>population=%{marker.size}",
         "hovertext": [
          "Ongole"
         ],
         "legendgroup": "city=Ongole",
         "locations": [
          "Ongole"
         ],
         "marker": {
          "color": "#ab63fa",
          "size": [
           202860
          ],
          "sizemode": "area",
          "sizeref": 47445
         },
         "name": "city=Ongole",
         "showlegend": true,
         "type": "scattergeo"
        },
        {
         "geo": "geo",
         "hoverlabel": {
          "namelength": 0
         },
         "hovertemplate": "<b>%{hovertext}</b><br><br>city=%{location}<br>population=%{marker.size}",
         "hovertext": [
          "Puri"
         ],
         "legendgroup": "city=Puri",
         "locations": [
          "Puri"
         ],
         "marker": {
          "color": "#FFA15A",
          "size": [
           201026
          ],
          "sizemode": "area",
          "sizeref": 47445
         },
         "name": "city=Puri",
         "showlegend": true,
         "type": "scattergeo"
        },
        {
         "geo": "geo",
         "hoverlabel": {
          "namelength": 0
         },
         "hovertemplate": "<b>%{hovertext}</b><br><br>city=%{location}<br>population=%{marker.size}",
         "hovertext": [
          "Dindigul"
         ],
         "legendgroup": "city=Dindigul",
         "locations": [
          "Dindigul"
         ],
         "marker": {
          "color": "#19d3f3",
          "size": [
           200797
          ],
          "sizemode": "area",
          "sizeref": 47445
         },
         "name": "city=Dindigul",
         "showlegend": true,
         "type": "scattergeo"
        },
        {
         "geo": "geo",
         "hoverlabel": {
          "namelength": 0
         },
         "hovertemplate": "<b>%{hovertext}</b><br><br>city=%{location}<br>population=%{marker.size}",
         "hovertext": [
          "Haldia"
         ],
         "legendgroup": "city=Haldia",
         "locations": [
          "Haldia"
         ],
         "marker": {
          "color": "#FF6692",
          "size": [
           200762
          ],
          "sizemode": "area",
          "sizeref": 47445
         },
         "name": "city=Haldia",
         "showlegend": true,
         "type": "scattergeo"
        },
        {
         "geo": "geo",
         "hoverlabel": {
          "namelength": 0
         },
         "hovertemplate": "<b>%{hovertext}</b><br><br>city=%{location}<br>population=%{marker.size}",
         "hovertext": [
          "Bulandshahr"
         ],
         "legendgroup": "city=Bulandshahr",
         "locations": [
          "Bulandshahr"
         ],
         "marker": {
          "color": "#B6E880",
          "size": [
           198612
          ],
          "sizemode": "area",
          "sizeref": 47445
         },
         "name": "city=Bulandshahr",
         "showlegend": true,
         "type": "scattergeo"
        },
        {
         "geo": "geo",
         "hoverlabel": {
          "namelength": 0
         },
         "hovertemplate": "<b>%{hovertext}</b><br><br>city=%{location}<br>population=%{marker.size}",
         "hovertext": [
          "Purnea"
         ],
         "legendgroup": "city=Purnea",
         "locations": [
          "Purnea"
         ],
         "marker": {
          "color": "#FF97FF",
          "size": [
           198453
          ],
          "sizemode": "area",
          "sizeref": 47445
         },
         "name": "city=Purnea",
         "showlegend": true,
         "type": "scattergeo"
        },
        {
         "geo": "geo",
         "hoverlabel": {
          "namelength": 0
         },
         "hovertemplate": "<b>%{hovertext}</b><br><br>city=%{location}<br>population=%{marker.size}",
         "hovertext": [
          "Proddatūr"
         ],
         "legendgroup": "city=Proddatūr",
         "locations": [
          "Proddatūr"
         ],
         "marker": {
          "color": "#FECB52",
          "size": [
           197451
          ],
          "sizemode": "area",
          "sizeref": 47445
         },
         "name": "city=Proddatūr",
         "showlegend": true,
         "type": "scattergeo"
        },
        {
         "geo": "geo",
         "hoverlabel": {
          "namelength": 0
         },
         "hovertemplate": "<b>%{hovertext}</b><br><br>city=%{location}<br>population=%{marker.size}",
         "hovertext": [
          "Gurgaon"
         ],
         "legendgroup": "city=Gurgaon",
         "locations": [
          "Gurgaon"
         ],
         "marker": {
          "color": "#636efa",
          "size": [
           197340
          ],
          "sizemode": "area",
          "sizeref": 47445
         },
         "name": "city=Gurgaon",
         "showlegend": true,
         "type": "scattergeo"
        },
        {
         "geo": "geo",
         "hoverlabel": {
          "namelength": 0
         },
         "hovertemplate": "<b>%{hovertext}</b><br><br>city=%{location}<br>population=%{marker.size}",
         "hovertext": [
          "Burhānpur"
         ],
         "legendgroup": "city=Burhānpur",
         "locations": [
          "Burhānpur"
         ],
         "marker": {
          "color": "#EF553B",
          "size": [
           197233
          ],
          "sizemode": "area",
          "sizeref": 47445
         },
         "name": "city=Burhānpur",
         "showlegend": true,
         "type": "scattergeo"
        },
        {
         "geo": "geo",
         "hoverlabel": {
          "namelength": 0
         },
         "hovertemplate": "<b>%{hovertext}</b><br><br>city=%{location}<br>population=%{marker.size}",
         "hovertext": [
          "Ghandinagar"
         ],
         "legendgroup": "city=Ghandinagar",
         "locations": [
          "Ghandinagar"
         ],
         "marker": {
          "color": "#00cc96",
          "size": [
           195891
          ],
          "sizemode": "area",
          "sizeref": 47445
         },
         "name": "city=Ghandinagar",
         "showlegend": true,
         "type": "scattergeo"
        },
        {
         "geo": "geo",
         "hoverlabel": {
          "namelength": 0
         },
         "hovertemplate": "<b>%{hovertext}</b><br><br>city=%{location}<br>population=%{marker.size}",
         "hovertext": [
          "Machilīpatnam"
         ],
         "legendgroup": "city=Machilīpatnam",
         "locations": [
          "Machilīpatnam"
         ],
         "marker": {
          "color": "#ab63fa",
          "size": [
           192827
          ],
          "sizemode": "area",
          "sizeref": 47445
         },
         "name": "city=Machilīpatnam",
         "showlegend": true,
         "type": "scattergeo"
        },
        {
         "geo": "geo",
         "hoverlabel": {
          "namelength": 0
         },
         "hovertemplate": "<b>%{hovertext}</b><br><br>city=%{location}<br>population=%{marker.size}",
         "hovertext": [
          "Bhiwāni"
         ],
         "legendgroup": "city=Bhiwāni",
         "locations": [
          "Bhiwāni"
         ],
         "marker": {
          "color": "#FFA15A",
          "size": [
           190855
          ],
          "sizemode": "area",
          "sizeref": 47445
         },
         "name": "city=Bhiwāni",
         "showlegend": true,
         "type": "scattergeo"
        },
        {
         "geo": "geo",
         "hoverlabel": {
          "namelength": 0
         },
         "hovertemplate": "<b>%{hovertext}</b><br><br>city=%{location}<br>population=%{marker.size}",
         "hovertext": [
          "Nandyāl"
         ],
         "legendgroup": "city=Nandyāl",
         "locations": [
          "Nandyāl"
         ],
         "marker": {
          "color": "#19d3f3",
          "size": [
           188654
          ],
          "sizemode": "area",
          "sizeref": 47445
         },
         "name": "city=Nandyāl",
         "showlegend": true,
         "type": "scattergeo"
        },
        {
         "geo": "geo",
         "hoverlabel": {
          "namelength": 0
         },
         "hovertemplate": "<b>%{hovertext}</b><br><br>city=%{location}<br>population=%{marker.size}",
         "hovertext": [
          "Bhusāval"
         ],
         "legendgroup": "city=Bhusāval",
         "locations": [
          "Bhusāval"
         ],
         "marker": {
          "color": "#FF6692",
          "size": [
           183001
          ],
          "sizemode": "area",
          "sizeref": 47445
         },
         "name": "city=Bhusāval",
         "showlegend": true,
         "type": "scattergeo"
        },
        {
         "geo": "geo",
         "hoverlabel": {
          "namelength": 0
         },
         "hovertemplate": "<b>%{hovertext}</b><br><br>city=%{location}<br>population=%{marker.size}",
         "hovertext": [
          "Bahraigh"
         ],
         "legendgroup": "city=Bahraigh",
         "locations": [
          "Bahraigh"
         ],
         "marker": {
          "color": "#B6E880",
          "size": [
           182218
          ],
          "sizemode": "area",
          "sizeref": 47445
         },
         "name": "city=Bahraigh",
         "showlegend": true,
         "type": "scattergeo"
        },
        {
         "geo": "geo",
         "hoverlabel": {
          "namelength": 0
         },
         "hovertemplate": "<b>%{hovertext}</b><br><br>city=%{location}<br>population=%{marker.size}",
         "hovertext": [
          "Tonk"
         ],
         "legendgroup": "city=Tonk",
         "locations": [
          "Tonk"
         ],
         "marker": {
          "color": "#FF97FF",
          "size": [
           181734
          ],
          "sizemode": "area",
          "sizeref": 47445
         },
         "name": "city=Tonk",
         "showlegend": true,
         "type": "scattergeo"
        },
        {
         "geo": "geo",
         "hoverlabel": {
          "namelength": 0
         },
         "hovertemplate": "<b>%{hovertext}</b><br><br>city=%{location}<br>population=%{marker.size}",
         "hovertext": [
          "Sirsa"
         ],
         "legendgroup": "city=Sirsa",
         "locations": [
          "Sirsa"
         ],
         "marker": {
          "color": "#FECB52",
          "size": [
           181639
          ],
          "sizemode": "area",
          "sizeref": 47445
         },
         "name": "city=Sirsa",
         "showlegend": true,
         "type": "scattergeo"
        },
        {
         "geo": "geo",
         "hoverlabel": {
          "namelength": 0
         },
         "hovertemplate": "<b>%{hovertext}</b><br><br>city=%{location}<br>population=%{marker.size}",
         "hovertext": [
          "Vizianagaram"
         ],
         "legendgroup": "city=Vizianagaram",
         "locations": [
          "Vizianagaram"
         ],
         "marker": {
          "color": "#636efa",
          "size": [
           179358
          ],
          "sizemode": "area",
          "sizeref": 47445
         },
         "name": "city=Vizianagaram",
         "showlegend": true,
         "type": "scattergeo"
        },
        {
         "geo": "geo",
         "hoverlabel": {
          "namelength": 0
         },
         "hovertemplate": "<b>%{hovertext}</b><br><br>city=%{location}<br>population=%{marker.size}",
         "hovertext": [
          "Vellore"
         ],
         "legendgroup": "city=Vellore",
         "locations": [
          "Vellore"
         ],
         "marker": {
          "color": "#EF553B",
          "size": [
           177081
          ],
          "sizemode": "area",
          "sizeref": 47445
         },
         "name": "city=Vellore",
         "showlegend": true,
         "type": "scattergeo"
        },
        {
         "geo": "geo",
         "hoverlabel": {
          "namelength": 0
         },
         "hovertemplate": "<b>%{hovertext}</b><br><br>city=%{location}<br>population=%{marker.size}",
         "hovertext": [
          "Alleppey"
         ],
         "legendgroup": "city=Alleppey",
         "locations": [
          "Alleppey"
         ],
         "marker": {
          "color": "#00cc96",
          "size": [
           176783
          ],
          "sizemode": "area",
          "sizeref": 47445
         },
         "name": "city=Alleppey",
         "showlegend": true,
         "type": "scattergeo"
        },
        {
         "geo": "geo",
         "hoverlabel": {
          "namelength": 0
         },
         "hovertemplate": "<b>%{hovertext}</b><br><br>city=%{location}<br>population=%{marker.size}",
         "hovertext": [
          "Shimla"
         ],
         "legendgroup": "city=Shimla",
         "locations": [
          "Shimla"
         ],
         "marker": {
          "color": "#ab63fa",
          "size": [
           173503
          ],
          "sizemode": "area",
          "sizeref": 47445
         },
         "name": "city=Shimla",
         "showlegend": true,
         "type": "scattergeo"
        },
        {
         "geo": "geo",
         "hoverlabel": {
          "namelength": 0
         },
         "hovertemplate": "<b>%{hovertext}</b><br><br>city=%{location}<br>population=%{marker.size}",
         "hovertext": [
          "Medinīpur"
         ],
         "legendgroup": "city=Medinīpur",
         "locations": [
          "Medinīpur"
         ],
         "marker": {
          "color": "#FFA15A",
          "size": [
           169127
          ],
          "sizemode": "area",
          "sizeref": 47445
         },
         "name": "city=Medinīpur",
         "showlegend": true,
         "type": "scattergeo"
        },
        {
         "geo": "geo",
         "hoverlabel": {
          "namelength": 0
         },
         "hovertemplate": "<b>%{hovertext}</b><br><br>city=%{location}<br>population=%{marker.size}",
         "hovertext": [
          "Hindupur"
         ],
         "legendgroup": "city=Hindupur",
         "locations": [
          "Hindupur"
         ],
         "marker": {
          "color": "#19d3f3",
          "size": [
           168312
          ],
          "sizemode": "area",
          "sizeref": 47445
         },
         "name": "city=Hindupur",
         "showlegend": true,
         "type": "scattergeo"
        },
        {
         "geo": "geo",
         "hoverlabel": {
          "namelength": 0
         },
         "hovertemplate": "<b>%{hovertext}</b><br><br>city=%{location}<br>population=%{marker.size}",
         "hovertext": [
          "Bāramūla"
         ],
         "legendgroup": "city=Bāramūla",
         "locations": [
          "Bāramūla"
         ],
         "marker": {
          "color": "#FF6692",
          "size": [
           167986
          ],
          "sizemode": "area",
          "sizeref": 47445
         },
         "name": "city=Bāramūla",
         "showlegend": true,
         "type": "scattergeo"
        },
        {
         "geo": "geo",
         "hoverlabel": {
          "namelength": 0
         },
         "hovertemplate": "<b>%{hovertext}</b><br><br>city=%{location}<br>population=%{marker.size}",
         "hovertext": [
          "Fatehpur"
         ],
         "legendgroup": "city=Fatehpur",
         "locations": [
          "Fatehpur"
         ],
         "marker": {
          "color": "#B6E880",
          "size": [
           166480
          ],
          "sizemode": "area",
          "sizeref": 47445
         },
         "name": "city=Fatehpur",
         "showlegend": true,
         "type": "scattergeo"
        },
        {
         "geo": "geo",
         "hoverlabel": {
          "namelength": 0
         },
         "hovertemplate": "<b>%{hovertext}</b><br><br>city=%{location}<br>population=%{marker.size}",
         "hovertext": [
          "Dibrugarh"
         ],
         "legendgroup": "city=Dibrugarh",
         "locations": [
          "Dibrugarh"
         ],
         "marker": {
          "color": "#FF97FF",
          "size": [
           166366
          ],
          "sizemode": "area",
          "sizeref": 47445
         },
         "name": "city=Dibrugarh",
         "showlegend": true,
         "type": "scattergeo"
        },
        {
         "geo": "geo",
         "hoverlabel": {
          "namelength": 0
         },
         "hovertemplate": "<b>%{hovertext}</b><br><br>city=%{location}<br>population=%{marker.size}",
         "hovertext": [
          "Sitalpur"
         ],
         "legendgroup": "city=Sitalpur",
         "locations": [
          "Sitalpur"
         ],
         "marker": {
          "color": "#FECB52",
          "size": [
           164435
          ],
          "sizemode": "area",
          "sizeref": 47445
         },
         "name": "city=Sitalpur",
         "showlegend": true,
         "type": "scattergeo"
        },
        {
         "geo": "geo",
         "hoverlabel": {
          "namelength": 0
         },
         "hovertemplate": "<b>%{hovertext}</b><br><br>city=%{location}<br>population=%{marker.size}",
         "hovertext": [
          "Navsāri"
         ],
         "legendgroup": "city=Navsāri",
         "locations": [
          "Navsāri"
         ],
         "marker": {
          "color": "#636efa",
          "size": [
           163000
          ],
          "sizemode": "area",
          "sizeref": 47445
         },
         "name": "city=Navsāri",
         "showlegend": true,
         "type": "scattergeo"
        },
        {
         "geo": "geo",
         "hoverlabel": {
          "namelength": 0
         },
         "hovertemplate": "<b>%{hovertext}</b><br><br>city=%{location}<br>population=%{marker.size}",
         "hovertext": [
          "Budaun"
         ],
         "legendgroup": "city=Budaun",
         "locations": [
          "Budaun"
         ],
         "marker": {
          "color": "#EF553B",
          "size": [
           161555
          ],
          "sizemode": "area",
          "sizeref": 47445
         },
         "name": "city=Budaun",
         "showlegend": true,
         "type": "scattergeo"
        },
        {
         "geo": "geo",
         "hoverlabel": {
          "namelength": 0
         },
         "hovertemplate": "<b>%{hovertext}</b><br><br>city=%{location}<br>population=%{marker.size}",
         "hovertext": [
          "Cuddalore"
         ],
         "legendgroup": "city=Cuddalore",
         "locations": [
          "Cuddalore"
         ],
         "marker": {
          "color": "#00cc96",
          "size": [
           158569
          ],
          "sizemode": "area",
          "sizeref": 47445
         },
         "name": "city=Cuddalore",
         "showlegend": true,
         "type": "scattergeo"
        },
        {
         "geo": "geo",
         "hoverlabel": {
          "namelength": 0
         },
         "hovertemplate": "<b>%{hovertext}</b><br><br>city=%{location}<br>population=%{marker.size}",
         "hovertext": [
          "Harīpur"
         ],
         "legendgroup": "city=Harīpur",
         "locations": [
          "Harīpur"
         ],
         "marker": {
          "color": "#ab63fa",
          "size": [
           158142
          ],
          "sizemode": "area",
          "sizeref": 47445
         },
         "name": "city=Harīpur",
         "showlegend": true,
         "type": "scattergeo"
        },
        {
         "geo": "geo",
         "hoverlabel": {
          "namelength": 0
         },
         "hovertemplate": "<b>%{hovertext}</b><br><br>city=%{location}<br>population=%{marker.size}",
         "hovertext": [
          "Conjeeveram"
         ],
         "legendgroup": "city=Conjeeveram",
         "locations": [
          "Conjeeveram"
         ],
         "marker": {
          "color": "#FFA15A",
          "size": [
           155029
          ],
          "sizemode": "area",
          "sizeref": 47445
         },
         "name": "city=Conjeeveram",
         "showlegend": true,
         "type": "scattergeo"
        },
        {
         "geo": "geo",
         "hoverlabel": {
          "namelength": 0
         },
         "hovertemplate": "<b>%{hovertext}</b><br><br>city=%{location}<br>population=%{marker.size}",
         "hovertext": [
          "Fyzābād"
         ],
         "legendgroup": "city=Fyzābād",
         "locations": [
          "Fyzābād"
         ],
         "marker": {
          "color": "#19d3f3",
          "size": [
           153047
          ],
          "sizemode": "area",
          "sizeref": 47445
         },
         "name": "city=Fyzābād",
         "showlegend": true,
         "type": "scattergeo"
        },
        {
         "geo": "geo",
         "hoverlabel": {
          "namelength": 0
         },
         "hovertemplate": "<b>%{hovertext}</b><br><br>city=%{location}<br>population=%{marker.size}",
         "hovertext": [
          "Silchar"
         ],
         "legendgroup": "city=Silchar",
         "locations": [
          "Silchar"
         ],
         "marker": {
          "color": "#FF6692",
          "size": [
           152393
          ],
          "sizemode": "area",
          "sizeref": 47445
         },
         "name": "city=Silchar",
         "showlegend": true,
         "type": "scattergeo"
        },
        {
         "geo": "geo",
         "hoverlabel": {
          "namelength": 0
         },
         "hovertemplate": "<b>%{hovertext}</b><br><br>city=%{location}<br>population=%{marker.size}",
         "hovertext": [
          "Ambāla"
         ],
         "legendgroup": "city=Ambāla",
         "locations": [
          "Ambāla"
         ],
         "marker": {
          "color": "#B6E880",
          "size": [
           146787
          ],
          "sizemode": "area",
          "sizeref": 47445
         },
         "name": "city=Ambāla",
         "showlegend": true,
         "type": "scattergeo"
        },
        {
         "geo": "geo",
         "hoverlabel": {
          "namelength": 0
         },
         "hovertemplate": "<b>%{hovertext}</b><br><br>city=%{location}<br>population=%{marker.size}",
         "hovertext": [
          "Krishnanagar"
         ],
         "legendgroup": "city=Krishnanagar",
         "locations": [
          "Krishnanagar"
         ],
         "marker": {
          "color": "#FF97FF",
          "size": [
           145926
          ],
          "sizemode": "area",
          "sizeref": 47445
         },
         "name": "city=Krishnanagar",
         "showlegend": true,
         "type": "scattergeo"
        },
        {
         "geo": "geo",
         "hoverlabel": {
          "namelength": 0
         },
         "hovertemplate": "<b>%{hovertext}</b><br><br>city=%{location}<br>population=%{marker.size}",
         "hovertext": [
          "Kolār"
         ],
         "legendgroup": "city=Kolār",
         "locations": [
          "Kolār"
         ],
         "marker": {
          "color": "#FECB52",
          "size": [
           144625
          ],
          "sizemode": "area",
          "sizeref": 47445
         },
         "name": "city=Kolār",
         "showlegend": true,
         "type": "scattergeo"
        },
        {
         "geo": "geo",
         "hoverlabel": {
          "namelength": 0
         },
         "hovertemplate": "<b>%{hovertext}</b><br><br>city=%{location}<br>population=%{marker.size}",
         "hovertext": [
          "Kumbakonam"
         ],
         "legendgroup": "city=Kumbakonam",
         "locations": [
          "Kumbakonam"
         ],
         "marker": {
          "color": "#636efa",
          "size": [
           139264
          ],
          "sizemode": "area",
          "sizeref": 47445
         },
         "name": "city=Kumbakonam",
         "showlegend": true,
         "type": "scattergeo"
        },
        {
         "geo": "geo",
         "hoverlabel": {
          "namelength": 0
         },
         "hovertemplate": "<b>%{hovertext}</b><br><br>city=%{location}<br>population=%{marker.size}",
         "hovertext": [
          "Tiruvannāmalai"
         ],
         "legendgroup": "city=Tiruvannāmalai",
         "locations": [
          "Tiruvannāmalai"
         ],
         "marker": {
          "color": "#EF553B",
          "size": [
           138243
          ],
          "sizemode": "area",
          "sizeref": 47445
         },
         "name": "city=Tiruvannāmalai",
         "showlegend": true,
         "type": "scattergeo"
        },
        {
         "geo": "geo",
         "hoverlabel": {
          "namelength": 0
         },
         "hovertemplate": "<b>%{hovertext}</b><br><br>city=%{location}<br>population=%{marker.size}",
         "hovertext": [
          "Pīlibhīt"
         ],
         "legendgroup": "city=Pīlibhīt",
         "locations": [
          "Pīlibhīt"
         ],
         "marker": {
          "color": "#00cc96",
          "size": [
           131008
          ],
          "sizemode": "area",
          "sizeref": 47445
         },
         "name": "city=Pīlibhīt",
         "showlegend": true,
         "type": "scattergeo"
        },
        {
         "geo": "geo",
         "hoverlabel": {
          "namelength": 0
         },
         "hovertemplate": "<b>%{hovertext}</b><br><br>city=%{location}<br>population=%{marker.size}",
         "hovertext": [
          "Abohar"
         ],
         "legendgroup": "city=Abohar",
         "locations": [
          "Abohar"
         ],
         "marker": {
          "color": "#ab63fa",
          "size": [
           130603
          ],
          "sizemode": "area",
          "sizeref": 47445
         },
         "name": "city=Abohar",
         "showlegend": true,
         "type": "scattergeo"
        },
        {
         "geo": "geo",
         "hoverlabel": {
          "namelength": 0
         },
         "hovertemplate": "<b>%{hovertext}</b><br><br>city=%{location}<br>population=%{marker.size}",
         "hovertext": [
          "Port Blair"
         ],
         "legendgroup": "city=Port Blair",
         "locations": [
          "Port Blair"
         ],
         "marker": {
          "color": "#FFA15A",
          "size": [
           127562
          ],
          "sizemode": "area",
          "sizeref": 47445
         },
         "name": "city=Port Blair",
         "showlegend": true,
         "type": "scattergeo"
        },
        {
         "geo": "geo",
         "hoverlabel": {
          "namelength": 0
         },
         "hovertemplate": "<b>%{hovertext}</b><br><br>city=%{location}<br>population=%{marker.size}",
         "hovertext": [
          "Alīpur Duār"
         ],
         "legendgroup": "city=Alīpur Duār",
         "locations": [
          "Alīpur Duār"
         ],
         "marker": {
          "color": "#19d3f3",
          "size": [
           127342
          ],
          "sizemode": "area",
          "sizeref": 47445
         },
         "name": "city=Alīpur Duār",
         "showlegend": true,
         "type": "scattergeo"
        },
        {
         "geo": "geo",
         "hoverlabel": {
          "namelength": 0
         },
         "hovertemplate": "<b>%{hovertext}</b><br><br>city=%{location}<br>population=%{marker.size}",
         "hovertext": [
          "Hāthras"
         ],
         "legendgroup": "city=Hāthras",
         "locations": [
          "Hāthras"
         ],
         "marker": {
          "color": "#FF6692",
          "size": [
           126882
          ],
          "sizemode": "area",
          "sizeref": 47445
         },
         "name": "city=Hāthras",
         "showlegend": true,
         "type": "scattergeo"
        },
        {
         "geo": "geo",
         "hoverlabel": {
          "namelength": 0
         },
         "hovertemplate": "<b>%{hovertext}</b><br><br>city=%{location}<br>population=%{marker.size}",
         "hovertext": [
          "Vālpārai"
         ],
         "legendgroup": "city=Vālpārai",
         "locations": [
          "Vālpārai"
         ],
         "marker": {
          "color": "#B6E880",
          "size": [
           114308
          ],
          "sizemode": "area",
          "sizeref": 47445
         },
         "name": "city=Vālpārai",
         "showlegend": true,
         "type": "scattergeo"
        },
        {
         "geo": "geo",
         "hoverlabel": {
          "namelength": 0
         },
         "hovertemplate": "<b>%{hovertext}</b><br><br>city=%{location}<br>population=%{marker.size}",
         "hovertext": [
          "Kohima"
         ],
         "legendgroup": "city=Kohima",
         "locations": [
          "Kohima"
         ],
         "marker": {
          "color": "#FF97FF",
          "size": [
           92113
          ],
          "sizemode": "area",
          "sizeref": 47445
         },
         "name": "city=Kohima",
         "showlegend": true,
         "type": "scattergeo"
        },
        {
         "geo": "geo",
         "hoverlabel": {
          "namelength": 0
         },
         "hovertemplate": "<b>%{hovertext}</b><br><br>city=%{location}<br>population=%{marker.size}",
         "hovertext": [
          "Gangtok"
         ],
         "legendgroup": "city=Gangtok",
         "locations": [
          "Gangtok"
         ],
         "marker": {
          "color": "#FECB52",
          "size": [
           77900
          ],
          "sizemode": "area",
          "sizeref": 47445
         },
         "name": "city=Gangtok",
         "showlegend": true,
         "type": "scattergeo"
        },
        {
         "geo": "geo",
         "hoverlabel": {
          "namelength": 0
         },
         "hovertemplate": "<b>%{hovertext}</b><br><br>city=%{location}<br>population=%{marker.size}",
         "hovertext": [
          "Panaji"
         ],
         "legendgroup": "city=Panaji",
         "locations": [
          "Panaji"
         ],
         "marker": {
          "color": "#636efa",
          "size": [
           65586
          ],
          "sizemode": "area",
          "sizeref": 47445
         },
         "name": "city=Panaji",
         "showlegend": true,
         "type": "scattergeo"
        },
        {
         "geo": "geo",
         "hoverlabel": {
          "namelength": 0
         },
         "hovertemplate": "<b>%{hovertext}</b><br><br>city=%{location}<br>population=%{marker.size}",
         "hovertext": [
          "Itanagar"
         ],
         "legendgroup": "city=Itanagar",
         "locations": [
          "Itanagar"
         ],
         "marker": {
          "color": "#EF553B",
          "size": [
           44971
          ],
          "sizemode": "area",
          "sizeref": 47445
         },
         "name": "city=Itanagar",
         "showlegend": true,
         "type": "scattergeo"
        },
        {
         "geo": "geo",
         "hoverlabel": {
          "namelength": 0
         },
         "hovertemplate": "<b>%{hovertext}</b><br><br>city=%{location}<br>population=%{marker.size}",
         "hovertext": [
          "Daman"
         ],
         "legendgroup": "city=Daman",
         "locations": [
          "Daman"
         ],
         "marker": {
          "color": "#00cc96",
          "size": [
           39737
          ],
          "sizemode": "area",
          "sizeref": 47445
         },
         "name": "city=Daman",
         "showlegend": true,
         "type": "scattergeo"
        },
        {
         "geo": "geo",
         "hoverlabel": {
          "namelength": 0
         },
         "hovertemplate": "<b>%{hovertext}</b><br><br>city=%{location}<br>population=%{marker.size}",
         "hovertext": [
          "Silvassa"
         ],
         "legendgroup": "city=Silvassa",
         "locations": [
          "Silvassa"
         ],
         "marker": {
          "color": "#ab63fa",
          "size": [
           27359
          ],
          "sizemode": "area",
          "sizeref": 47445
         },
         "name": "city=Silvassa",
         "showlegend": true,
         "type": "scattergeo"
        },
        {
         "geo": "geo",
         "hoverlabel": {
          "namelength": 0
         },
         "hovertemplate": "<b>%{hovertext}</b><br><br>city=%{location}<br>population=%{marker.size}",
         "hovertext": [
          "Dispur"
         ],
         "legendgroup": "city=Dispur",
         "locations": [
          "Dispur"
         ],
         "marker": {
          "color": "#FFA15A",
          "size": [
           16140
          ],
          "sizemode": "area",
          "sizeref": 47445
         },
         "name": "city=Dispur",
         "showlegend": true,
         "type": "scattergeo"
        },
        {
         "geo": "geo",
         "hoverlabel": {
          "namelength": 0
         },
         "hovertemplate": "<b>%{hovertext}</b><br><br>city=%{location}<br>population=%{marker.size}",
         "hovertext": [
          "Kavaratti"
         ],
         "legendgroup": "city=Kavaratti",
         "locations": [
          "Kavaratti"
         ],
         "marker": {
          "color": "#19d3f3",
          "size": [
           10688
          ],
          "sizemode": "area",
          "sizeref": 47445
         },
         "name": "city=Kavaratti",
         "showlegend": true,
         "type": "scattergeo"
        },
        {
         "geo": "geo",
         "hoverlabel": {
          "namelength": 0
         },
         "hovertemplate": "<b>%{hovertext}</b><br><br>city=%{location}<br>population=%{marker.size}",
         "hovertext": [
          "Karūr"
         ],
         "legendgroup": "city=Karūr",
         "locations": [
          "Karūr"
         ],
         "marker": {
          "color": "#FF6692",
          "size": [
           76915
          ],
          "sizemode": "area",
          "sizeref": 47445
         },
         "name": "city=Karūr",
         "showlegend": true,
         "type": "scattergeo"
        },
        {
         "geo": "geo",
         "hoverlabel": {
          "namelength": 0
         },
         "hovertemplate": "<b>%{hovertext}</b><br><br>city=%{location}<br>population=%{marker.size}",
         "hovertext": [
          "Jorhāt"
         ],
         "legendgroup": "city=Jorhāt",
         "locations": [
          "Jorhāt"
         ],
         "marker": {
          "color": "#B6E880",
          "size": [
           69033
          ],
          "sizemode": "area",
          "sizeref": 47445
         },
         "name": "city=Jorhāt",
         "showlegend": true,
         "type": "scattergeo"
        },
        {
         "geo": "geo",
         "hoverlabel": {
          "namelength": 0
         },
         "hovertemplate": "<b>%{hovertext}</b><br><br>city=%{location}<br>population=%{marker.size}",
         "hovertext": [
          "Sopur"
         ],
         "legendgroup": "city=Sopur",
         "locations": [
          "Sopur"
         ],
         "marker": {
          "color": "#FF97FF",
          "size": [
           63035
          ],
          "sizemode": "area",
          "sizeref": 47445
         },
         "name": "city=Sopur",
         "showlegend": true,
         "type": "scattergeo"
        },
        {
         "geo": "geo",
         "hoverlabel": {
          "namelength": 0
         },
         "hovertemplate": "<b>%{hovertext}</b><br><br>city=%{location}<br>population=%{marker.size}",
         "hovertext": [
          "Tezpur"
         ],
         "legendgroup": "city=Tezpur",
         "locations": [
          "Tezpur"
         ],
         "marker": {
          "color": "#FECB52",
          "size": [
           58851
          ],
          "sizemode": "area",
          "sizeref": 47445
         },
         "name": "city=Tezpur",
         "showlegend": true,
         "type": "scattergeo"
        },
        {
         "geo": "geo",
         "hoverlabel": {
          "namelength": 0
         },
         "hovertemplate": "<b>%{hovertext}</b><br><br>city=%{location}<br>population=%{marker.size}",
         "hovertext": [
          "Diu"
         ],
         "legendgroup": "city=Diu",
         "locations": [
          "Diu"
         ],
         "marker": {
          "color": "#636efa",
          "size": [
           23779
          ],
          "sizemode": "area",
          "sizeref": 47445
         },
         "name": "city=Diu",
         "showlegend": true,
         "type": "scattergeo"
        }
       ],
       "layout": {
        "geo": {
         "center": {},
         "domain": {
          "x": [
           0,
           1
          ],
          "y": [
           0,
           1
          ]
         },
         "projection": {
          "type": "natural earth"
         }
        },
        "legend": {
         "itemsizing": "constant",
         "tracegroupgap": 0
        },
        "margin": {
         "t": 60
        },
        "template": {
         "data": {
          "bar": [
           {
            "error_x": {
             "color": "#2a3f5f"
            },
            "error_y": {
             "color": "#2a3f5f"
            },
            "marker": {
             "line": {
              "color": "#E5ECF6",
              "width": 0.5
             }
            },
            "type": "bar"
           }
          ],
          "barpolar": [
           {
            "marker": {
             "line": {
              "color": "#E5ECF6",
              "width": 0.5
             }
            },
            "type": "barpolar"
           }
          ],
          "carpet": [
           {
            "aaxis": {
             "endlinecolor": "#2a3f5f",
             "gridcolor": "white",
             "linecolor": "white",
             "minorgridcolor": "white",
             "startlinecolor": "#2a3f5f"
            },
            "baxis": {
             "endlinecolor": "#2a3f5f",
             "gridcolor": "white",
             "linecolor": "white",
             "minorgridcolor": "white",
             "startlinecolor": "#2a3f5f"
            },
            "type": "carpet"
           }
          ],
          "choropleth": [
           {
            "colorbar": {
             "outlinewidth": 0,
             "ticks": ""
            },
            "type": "choropleth"
           }
          ],
          "contour": [
           {
            "colorbar": {
             "outlinewidth": 0,
             "ticks": ""
            },
            "colorscale": [
             [
              0,
              "#0d0887"
             ],
             [
              0.1111111111111111,
              "#46039f"
             ],
             [
              0.2222222222222222,
              "#7201a8"
             ],
             [
              0.3333333333333333,
              "#9c179e"
             ],
             [
              0.4444444444444444,
              "#bd3786"
             ],
             [
              0.5555555555555556,
              "#d8576b"
             ],
             [
              0.6666666666666666,
              "#ed7953"
             ],
             [
              0.7777777777777778,
              "#fb9f3a"
             ],
             [
              0.8888888888888888,
              "#fdca26"
             ],
             [
              1,
              "#f0f921"
             ]
            ],
            "type": "contour"
           }
          ],
          "contourcarpet": [
           {
            "colorbar": {
             "outlinewidth": 0,
             "ticks": ""
            },
            "type": "contourcarpet"
           }
          ],
          "heatmap": [
           {
            "colorbar": {
             "outlinewidth": 0,
             "ticks": ""
            },
            "colorscale": [
             [
              0,
              "#0d0887"
             ],
             [
              0.1111111111111111,
              "#46039f"
             ],
             [
              0.2222222222222222,
              "#7201a8"
             ],
             [
              0.3333333333333333,
              "#9c179e"
             ],
             [
              0.4444444444444444,
              "#bd3786"
             ],
             [
              0.5555555555555556,
              "#d8576b"
             ],
             [
              0.6666666666666666,
              "#ed7953"
             ],
             [
              0.7777777777777778,
              "#fb9f3a"
             ],
             [
              0.8888888888888888,
              "#fdca26"
             ],
             [
              1,
              "#f0f921"
             ]
            ],
            "type": "heatmap"
           }
          ],
          "heatmapgl": [
           {
            "colorbar": {
             "outlinewidth": 0,
             "ticks": ""
            },
            "colorscale": [
             [
              0,
              "#0d0887"
             ],
             [
              0.1111111111111111,
              "#46039f"
             ],
             [
              0.2222222222222222,
              "#7201a8"
             ],
             [
              0.3333333333333333,
              "#9c179e"
             ],
             [
              0.4444444444444444,
              "#bd3786"
             ],
             [
              0.5555555555555556,
              "#d8576b"
             ],
             [
              0.6666666666666666,
              "#ed7953"
             ],
             [
              0.7777777777777778,
              "#fb9f3a"
             ],
             [
              0.8888888888888888,
              "#fdca26"
             ],
             [
              1,
              "#f0f921"
             ]
            ],
            "type": "heatmapgl"
           }
          ],
          "histogram": [
           {
            "marker": {
             "colorbar": {
              "outlinewidth": 0,
              "ticks": ""
             }
            },
            "type": "histogram"
           }
          ],
          "histogram2d": [
           {
            "colorbar": {
             "outlinewidth": 0,
             "ticks": ""
            },
            "colorscale": [
             [
              0,
              "#0d0887"
             ],
             [
              0.1111111111111111,
              "#46039f"
             ],
             [
              0.2222222222222222,
              "#7201a8"
             ],
             [
              0.3333333333333333,
              "#9c179e"
             ],
             [
              0.4444444444444444,
              "#bd3786"
             ],
             [
              0.5555555555555556,
              "#d8576b"
             ],
             [
              0.6666666666666666,
              "#ed7953"
             ],
             [
              0.7777777777777778,
              "#fb9f3a"
             ],
             [
              0.8888888888888888,
              "#fdca26"
             ],
             [
              1,
              "#f0f921"
             ]
            ],
            "type": "histogram2d"
           }
          ],
          "histogram2dcontour": [
           {
            "colorbar": {
             "outlinewidth": 0,
             "ticks": ""
            },
            "colorscale": [
             [
              0,
              "#0d0887"
             ],
             [
              0.1111111111111111,
              "#46039f"
             ],
             [
              0.2222222222222222,
              "#7201a8"
             ],
             [
              0.3333333333333333,
              "#9c179e"
             ],
             [
              0.4444444444444444,
              "#bd3786"
             ],
             [
              0.5555555555555556,
              "#d8576b"
             ],
             [
              0.6666666666666666,
              "#ed7953"
             ],
             [
              0.7777777777777778,
              "#fb9f3a"
             ],
             [
              0.8888888888888888,
              "#fdca26"
             ],
             [
              1,
              "#f0f921"
             ]
            ],
            "type": "histogram2dcontour"
           }
          ],
          "mesh3d": [
           {
            "colorbar": {
             "outlinewidth": 0,
             "ticks": ""
            },
            "type": "mesh3d"
           }
          ],
          "parcoords": [
           {
            "line": {
             "colorbar": {
              "outlinewidth": 0,
              "ticks": ""
             }
            },
            "type": "parcoords"
           }
          ],
          "pie": [
           {
            "automargin": true,
            "type": "pie"
           }
          ],
          "scatter": [
           {
            "marker": {
             "colorbar": {
              "outlinewidth": 0,
              "ticks": ""
             }
            },
            "type": "scatter"
           }
          ],
          "scatter3d": [
           {
            "line": {
             "colorbar": {
              "outlinewidth": 0,
              "ticks": ""
             }
            },
            "marker": {
             "colorbar": {
              "outlinewidth": 0,
              "ticks": ""
             }
            },
            "type": "scatter3d"
           }
          ],
          "scattercarpet": [
           {
            "marker": {
             "colorbar": {
              "outlinewidth": 0,
              "ticks": ""
             }
            },
            "type": "scattercarpet"
           }
          ],
          "scattergeo": [
           {
            "marker": {
             "colorbar": {
              "outlinewidth": 0,
              "ticks": ""
             }
            },
            "type": "scattergeo"
           }
          ],
          "scattergl": [
           {
            "marker": {
             "colorbar": {
              "outlinewidth": 0,
              "ticks": ""
             }
            },
            "type": "scattergl"
           }
          ],
          "scattermapbox": [
           {
            "marker": {
             "colorbar": {
              "outlinewidth": 0,
              "ticks": ""
             }
            },
            "type": "scattermapbox"
           }
          ],
          "scatterpolar": [
           {
            "marker": {
             "colorbar": {
              "outlinewidth": 0,
              "ticks": ""
             }
            },
            "type": "scatterpolar"
           }
          ],
          "scatterpolargl": [
           {
            "marker": {
             "colorbar": {
              "outlinewidth": 0,
              "ticks": ""
             }
            },
            "type": "scatterpolargl"
           }
          ],
          "scatterternary": [
           {
            "marker": {
             "colorbar": {
              "outlinewidth": 0,
              "ticks": ""
             }
            },
            "type": "scatterternary"
           }
          ],
          "surface": [
           {
            "colorbar": {
             "outlinewidth": 0,
             "ticks": ""
            },
            "colorscale": [
             [
              0,
              "#0d0887"
             ],
             [
              0.1111111111111111,
              "#46039f"
             ],
             [
              0.2222222222222222,
              "#7201a8"
             ],
             [
              0.3333333333333333,
              "#9c179e"
             ],
             [
              0.4444444444444444,
              "#bd3786"
             ],
             [
              0.5555555555555556,
              "#d8576b"
             ],
             [
              0.6666666666666666,
              "#ed7953"
             ],
             [
              0.7777777777777778,
              "#fb9f3a"
             ],
             [
              0.8888888888888888,
              "#fdca26"
             ],
             [
              1,
              "#f0f921"
             ]
            ],
            "type": "surface"
           }
          ],
          "table": [
           {
            "cells": {
             "fill": {
              "color": "#EBF0F8"
             },
             "line": {
              "color": "white"
             }
            },
            "header": {
             "fill": {
              "color": "#C8D4E3"
             },
             "line": {
              "color": "white"
             }
            },
            "type": "table"
           }
          ]
         },
         "layout": {
          "annotationdefaults": {
           "arrowcolor": "#2a3f5f",
           "arrowhead": 0,
           "arrowwidth": 1
          },
          "coloraxis": {
           "colorbar": {
            "outlinewidth": 0,
            "ticks": ""
           }
          },
          "colorscale": {
           "diverging": [
            [
             0,
             "#8e0152"
            ],
            [
             0.1,
             "#c51b7d"
            ],
            [
             0.2,
             "#de77ae"
            ],
            [
             0.3,
             "#f1b6da"
            ],
            [
             0.4,
             "#fde0ef"
            ],
            [
             0.5,
             "#f7f7f7"
            ],
            [
             0.6,
             "#e6f5d0"
            ],
            [
             0.7,
             "#b8e186"
            ],
            [
             0.8,
             "#7fbc41"
            ],
            [
             0.9,
             "#4d9221"
            ],
            [
             1,
             "#276419"
            ]
           ],
           "sequential": [
            [
             0,
             "#0d0887"
            ],
            [
             0.1111111111111111,
             "#46039f"
            ],
            [
             0.2222222222222222,
             "#7201a8"
            ],
            [
             0.3333333333333333,
             "#9c179e"
            ],
            [
             0.4444444444444444,
             "#bd3786"
            ],
            [
             0.5555555555555556,
             "#d8576b"
            ],
            [
             0.6666666666666666,
             "#ed7953"
            ],
            [
             0.7777777777777778,
             "#fb9f3a"
            ],
            [
             0.8888888888888888,
             "#fdca26"
            ],
            [
             1,
             "#f0f921"
            ]
           ],
           "sequentialminus": [
            [
             0,
             "#0d0887"
            ],
            [
             0.1111111111111111,
             "#46039f"
            ],
            [
             0.2222222222222222,
             "#7201a8"
            ],
            [
             0.3333333333333333,
             "#9c179e"
            ],
            [
             0.4444444444444444,
             "#bd3786"
            ],
            [
             0.5555555555555556,
             "#d8576b"
            ],
            [
             0.6666666666666666,
             "#ed7953"
            ],
            [
             0.7777777777777778,
             "#fb9f3a"
            ],
            [
             0.8888888888888888,
             "#fdca26"
            ],
            [
             1,
             "#f0f921"
            ]
           ]
          },
          "colorway": [
           "#636efa",
           "#EF553B",
           "#00cc96",
           "#ab63fa",
           "#FFA15A",
           "#19d3f3",
           "#FF6692",
           "#B6E880",
           "#FF97FF",
           "#FECB52"
          ],
          "font": {
           "color": "#2a3f5f"
          },
          "geo": {
           "bgcolor": "white",
           "lakecolor": "white",
           "landcolor": "#E5ECF6",
           "showlakes": true,
           "showland": true,
           "subunitcolor": "white"
          },
          "hoverlabel": {
           "align": "left"
          },
          "hovermode": "closest",
          "mapbox": {
           "style": "light"
          },
          "paper_bgcolor": "white",
          "plot_bgcolor": "#E5ECF6",
          "polar": {
           "angularaxis": {
            "gridcolor": "white",
            "linecolor": "white",
            "ticks": ""
           },
           "bgcolor": "#E5ECF6",
           "radialaxis": {
            "gridcolor": "white",
            "linecolor": "white",
            "ticks": ""
           }
          },
          "scene": {
           "xaxis": {
            "backgroundcolor": "#E5ECF6",
            "gridcolor": "white",
            "gridwidth": 2,
            "linecolor": "white",
            "showbackground": true,
            "ticks": "",
            "zerolinecolor": "white"
           },
           "yaxis": {
            "backgroundcolor": "#E5ECF6",
            "gridcolor": "white",
            "gridwidth": 2,
            "linecolor": "white",
            "showbackground": true,
            "ticks": "",
            "zerolinecolor": "white"
           },
           "zaxis": {
            "backgroundcolor": "#E5ECF6",
            "gridcolor": "white",
            "gridwidth": 2,
            "linecolor": "white",
            "showbackground": true,
            "ticks": "",
            "zerolinecolor": "white"
           }
          },
          "shapedefaults": {
           "line": {
            "color": "#2a3f5f"
           }
          },
          "ternary": {
           "aaxis": {
            "gridcolor": "white",
            "linecolor": "white",
            "ticks": ""
           },
           "baxis": {
            "gridcolor": "white",
            "linecolor": "white",
            "ticks": ""
           },
           "bgcolor": "#E5ECF6",
           "caxis": {
            "gridcolor": "white",
            "linecolor": "white",
            "ticks": ""
           }
          },
          "title": {
           "x": 0.05
          },
          "xaxis": {
           "automargin": true,
           "gridcolor": "white",
           "linecolor": "white",
           "ticks": "",
           "title": {
            "standoff": 15
           },
           "zerolinecolor": "white",
           "zerolinewidth": 2
          },
          "yaxis": {
           "automargin": true,
           "gridcolor": "white",
           "linecolor": "white",
           "ticks": "",
           "title": {
            "standoff": 15
           },
           "zerolinecolor": "white",
           "zerolinewidth": 2
          }
         }
        }
       }
      },
      "text/html": [
       "<div>\n",
       "        \n",
       "        \n",
       "            <div id=\"ea278811-df2d-4d68-89c2-ed2975e7dfee\" class=\"plotly-graph-div\" style=\"height:525px; width:100%;\"></div>\n",
       "            <script type=\"text/javascript\">\n",
       "                require([\"plotly\"], function(Plotly) {\n",
       "                    window.PLOTLYENV=window.PLOTLYENV || {};\n",
       "                    \n",
       "                if (document.getElementById(\"ea278811-df2d-4d68-89c2-ed2975e7dfee\")) {\n",
       "                    Plotly.newPlot(\n",
       "                        'ea278811-df2d-4d68-89c2-ed2975e7dfee',\n",
       "                        [{\"geo\": \"geo\", \"hoverlabel\": {\"namelength\": 0}, \"hovertemplate\": \"<b>%{hovertext}</b><br><br>city=%{location}<br>population=%{marker.size}\", \"hovertext\": [\"Mumbai\"], \"legendgroup\": \"city=Mumbai\", \"locations\": [\"Mumbai\"], \"marker\": {\"color\": \"#636efa\", \"size\": [18978000.0], \"sizemode\": \"area\", \"sizeref\": 47445.0}, \"name\": \"city=Mumbai\", \"showlegend\": true, \"type\": \"scattergeo\"}, {\"geo\": \"geo\", \"hoverlabel\": {\"namelength\": 0}, \"hovertemplate\": \"<b>%{hovertext}</b><br><br>city=%{location}<br>population=%{marker.size}\", \"hovertext\": [\"Delhi\"], \"legendgroup\": \"city=Delhi\", \"locations\": [\"Delhi\"], \"marker\": {\"color\": \"#EF553B\", \"size\": [15926000.0], \"sizemode\": \"area\", \"sizeref\": 47445.0}, \"name\": \"city=Delhi\", \"showlegend\": true, \"type\": \"scattergeo\"}, {\"geo\": \"geo\", \"hoverlabel\": {\"namelength\": 0}, \"hovertemplate\": \"<b>%{hovertext}</b><br><br>city=%{location}<br>population=%{marker.size}\", \"hovertext\": [\"Kolkata\"], \"legendgroup\": \"city=Kolkata\", \"locations\": [\"Kolkata\"], \"marker\": {\"color\": \"#00cc96\", \"size\": [14787000.0], \"sizemode\": \"area\", \"sizeref\": 47445.0}, \"name\": \"city=Kolkata\", \"showlegend\": true, \"type\": \"scattergeo\"}, {\"geo\": \"geo\", \"hoverlabel\": {\"namelength\": 0}, \"hovertemplate\": \"<b>%{hovertext}</b><br><br>city=%{location}<br>population=%{marker.size}\", \"hovertext\": [\"Chennai\"], \"legendgroup\": \"city=Chennai\", \"locations\": [\"Chennai\"], \"marker\": {\"color\": \"#ab63fa\", \"size\": [7163000.0], \"sizemode\": \"area\", \"sizeref\": 47445.0}, \"name\": \"city=Chennai\", \"showlegend\": true, \"type\": \"scattergeo\"}, {\"geo\": \"geo\", \"hoverlabel\": {\"namelength\": 0}, \"hovertemplate\": \"<b>%{hovertext}</b><br><br>city=%{location}<br>population=%{marker.size}\", \"hovertext\": [\"Bengal\\u016bru\"], \"legendgroup\": \"city=Bengal\\u016bru\", \"locations\": [\"Bengal\\u016bru\"], \"marker\": {\"color\": \"#FFA15A\", \"size\": [6787000.0], \"sizemode\": \"area\", \"sizeref\": 47445.0}, \"name\": \"city=Bengal\\u016bru\", \"showlegend\": true, \"type\": \"scattergeo\"}, {\"geo\": \"geo\", \"hoverlabel\": {\"namelength\": 0}, \"hovertemplate\": \"<b>%{hovertext}</b><br><br>city=%{location}<br>population=%{marker.size}\", \"hovertext\": [\"Hyderabad\"], \"legendgroup\": \"city=Hyderabad\", \"locations\": [\"Hyderabad\"], \"marker\": {\"color\": \"#19d3f3\", \"size\": [6376000.0], \"sizemode\": \"area\", \"sizeref\": 47445.0}, \"name\": \"city=Hyderabad\", \"showlegend\": true, \"type\": \"scattergeo\"}, {\"geo\": \"geo\", \"hoverlabel\": {\"namelength\": 0}, \"hovertemplate\": \"<b>%{hovertext}</b><br><br>city=%{location}<br>population=%{marker.size}\", \"hovertext\": [\"Ahmad\\u0101b\\u0101d\"], \"legendgroup\": \"city=Ahmad\\u0101b\\u0101d\", \"locations\": [\"Ahmad\\u0101b\\u0101d\"], \"marker\": {\"color\": \"#FF6692\", \"size\": [5375000.0], \"sizemode\": \"area\", \"sizeref\": 47445.0}, \"name\": \"city=Ahmad\\u0101b\\u0101d\", \"showlegend\": true, \"type\": \"scattergeo\"}, {\"geo\": \"geo\", \"hoverlabel\": {\"namelength\": 0}, \"hovertemplate\": \"<b>%{hovertext}</b><br><br>city=%{location}<br>population=%{marker.size}\", \"hovertext\": [\"H\\u0101ora\"], \"legendgroup\": \"city=H\\u0101ora\", \"locations\": [\"H\\u0101ora\"], \"marker\": {\"color\": \"#B6E880\", \"size\": [4841638.0], \"sizemode\": \"area\", \"sizeref\": 47445.0}, \"name\": \"city=H\\u0101ora\", \"showlegend\": true, \"type\": \"scattergeo\"}, {\"geo\": \"geo\", \"hoverlabel\": {\"namelength\": 0}, \"hovertemplate\": \"<b>%{hovertext}</b><br><br>city=%{location}<br>population=%{marker.size}\", \"hovertext\": [\"Pune\"], \"legendgroup\": \"city=Pune\", \"locations\": [\"Pune\"], \"marker\": {\"color\": \"#FF97FF\", \"size\": [4672000.0], \"sizemode\": \"area\", \"sizeref\": 47445.0}, \"name\": \"city=Pune\", \"showlegend\": true, \"type\": \"scattergeo\"}, {\"geo\": \"geo\", \"hoverlabel\": {\"namelength\": 0}, \"hovertemplate\": \"<b>%{hovertext}</b><br><br>city=%{location}<br>population=%{marker.size}\", \"hovertext\": [\"S\\u016brat\"], \"legendgroup\": \"city=S\\u016brat\", \"locations\": [\"S\\u016brat\"], \"marker\": {\"color\": \"#FECB52\", \"size\": [3842000.0], \"sizemode\": \"area\", \"sizeref\": 47445.0}, \"name\": \"city=S\\u016brat\", \"showlegend\": true, \"type\": \"scattergeo\"}, {\"geo\": \"geo\", \"hoverlabel\": {\"namelength\": 0}, \"hovertemplate\": \"<b>%{hovertext}</b><br><br>city=%{location}<br>population=%{marker.size}\", \"hovertext\": [\"Cawnpore\"], \"legendgroup\": \"city=Cawnpore\", \"locations\": [\"Cawnpore\"], \"marker\": {\"color\": \"#636efa\", \"size\": [3162000.0], \"sizemode\": \"area\", \"sizeref\": 47445.0}, \"name\": \"city=Cawnpore\", \"showlegend\": true, \"type\": \"scattergeo\"}, {\"geo\": \"geo\", \"hoverlabel\": {\"namelength\": 0}, \"hovertemplate\": \"<b>%{hovertext}</b><br><br>city=%{location}<br>population=%{marker.size}\", \"hovertext\": [\"Jaipur\"], \"legendgroup\": \"city=Jaipur\", \"locations\": [\"Jaipur\"], \"marker\": {\"color\": \"#EF553B\", \"size\": [2917000.0], \"sizemode\": \"area\", \"sizeref\": 47445.0}, \"name\": \"city=Jaipur\", \"showlegend\": true, \"type\": \"scattergeo\"}, {\"geo\": \"geo\", \"hoverlabel\": {\"namelength\": 0}, \"hovertemplate\": \"<b>%{hovertext}</b><br><br>city=%{location}<br>population=%{marker.size}\", \"hovertext\": [\"Lucknow\"], \"legendgroup\": \"city=Lucknow\", \"locations\": [\"Lucknow\"], \"marker\": {\"color\": \"#00cc96\", \"size\": [2695000.0], \"sizemode\": \"area\", \"sizeref\": 47445.0}, \"name\": \"city=Lucknow\", \"showlegend\": true, \"type\": \"scattergeo\"}, {\"geo\": \"geo\", \"hoverlabel\": {\"namelength\": 0}, \"hovertemplate\": \"<b>%{hovertext}</b><br><br>city=%{location}<br>population=%{marker.size}\", \"hovertext\": [\"N\\u0101gpur\"], \"legendgroup\": \"city=N\\u0101gpur\", \"locations\": [\"N\\u0101gpur\"], \"marker\": {\"color\": \"#ab63fa\", \"size\": [2454000.0], \"sizemode\": \"area\", \"sizeref\": 47445.0}, \"name\": \"city=N\\u0101gpur\", \"showlegend\": true, \"type\": \"scattergeo\"}, {\"geo\": \"geo\", \"hoverlabel\": {\"namelength\": 0}, \"hovertemplate\": \"<b>%{hovertext}</b><br><br>city=%{location}<br>population=%{marker.size}\", \"hovertext\": [\"Patna\"], \"legendgroup\": \"city=Patna\", \"locations\": [\"Patna\"], \"marker\": {\"color\": \"#FFA15A\", \"size\": [2158000.0], \"sizemode\": \"area\", \"sizeref\": 47445.0}, \"name\": \"city=Patna\", \"showlegend\": true, \"type\": \"scattergeo\"}, {\"geo\": \"geo\", \"hoverlabel\": {\"namelength\": 0}, \"hovertemplate\": \"<b>%{hovertext}</b><br><br>city=%{location}<br>population=%{marker.size}\", \"hovertext\": [\"Indore\"], \"legendgroup\": \"city=Indore\", \"locations\": [\"Indore\"], \"marker\": {\"color\": \"#19d3f3\", \"size\": [2026000.0], \"sizemode\": \"area\", \"sizeref\": 47445.0}, \"name\": \"city=Indore\", \"showlegend\": true, \"type\": \"scattergeo\"}, {\"geo\": \"geo\", \"hoverlabel\": {\"namelength\": 0}, \"hovertemplate\": \"<b>%{hovertext}</b><br><br>city=%{location}<br>population=%{marker.size}\", \"hovertext\": [\"Vadodara\"], \"legendgroup\": \"city=Vadodara\", \"locations\": [\"Vadodara\"], \"marker\": {\"color\": \"#FF6692\", \"size\": [1756000.0], \"sizemode\": \"area\", \"sizeref\": 47445.0}, \"name\": \"city=Vadodara\", \"showlegend\": true, \"type\": \"scattergeo\"}, {\"geo\": \"geo\", \"hoverlabel\": {\"namelength\": 0}, \"hovertemplate\": \"<b>%{hovertext}</b><br><br>city=%{location}<br>population=%{marker.size}\", \"hovertext\": [\"Bhopal\"], \"legendgroup\": \"city=Bhopal\", \"locations\": [\"Bhopal\"], \"marker\": {\"color\": \"#B6E880\", \"size\": [1727000.0], \"sizemode\": \"area\", \"sizeref\": 47445.0}, \"name\": \"city=Bhopal\", \"showlegend\": true, \"type\": \"scattergeo\"}, {\"geo\": \"geo\", \"hoverlabel\": {\"namelength\": 0}, \"hovertemplate\": \"<b>%{hovertext}</b><br><br>city=%{location}<br>population=%{marker.size}\", \"hovertext\": [\"Coimbatore\"], \"legendgroup\": \"city=Coimbatore\", \"locations\": [\"Coimbatore\"], \"marker\": {\"color\": \"#FF97FF\", \"size\": [1696000.0], \"sizemode\": \"area\", \"sizeref\": 47445.0}, \"name\": \"city=Coimbatore\", \"showlegend\": true, \"type\": \"scattergeo\"}, {\"geo\": \"geo\", \"hoverlabel\": {\"namelength\": 0}, \"hovertemplate\": \"<b>%{hovertext}</b><br><br>city=%{location}<br>population=%{marker.size}\", \"hovertext\": [\"Ludhi\\u0101na\"], \"legendgroup\": \"city=Ludhi\\u0101na\", \"locations\": [\"Ludhi\\u0101na\"], \"marker\": {\"color\": \"#FECB52\", \"size\": [1649000.0], \"sizemode\": \"area\", \"sizeref\": 47445.0}, \"name\": \"city=Ludhi\\u0101na\", \"showlegend\": true, \"type\": \"scattergeo\"}, {\"geo\": \"geo\", \"hoverlabel\": {\"namelength\": 0}, \"hovertemplate\": \"<b>%{hovertext}</b><br><br>city=%{location}<br>population=%{marker.size}\", \"hovertext\": [\"\\u0100gra\"], \"legendgroup\": \"city=\\u0100gra\", \"locations\": [\"\\u0100gra\"], \"marker\": {\"color\": \"#636efa\", \"size\": [1592000.0], \"sizemode\": \"area\", \"sizeref\": 47445.0}, \"name\": \"city=\\u0100gra\", \"showlegend\": true, \"type\": \"scattergeo\"}, {\"geo\": \"geo\", \"hoverlabel\": {\"namelength\": 0}, \"hovertemplate\": \"<b>%{hovertext}</b><br><br>city=%{location}<br>population=%{marker.size}\", \"hovertext\": [\"Kaly\\u0101n\"], \"legendgroup\": \"city=Kaly\\u0101n\", \"locations\": [\"Kaly\\u0101n\"], \"marker\": {\"color\": \"#EF553B\", \"size\": [1576614.0], \"sizemode\": \"area\", \"sizeref\": 47445.0}, \"name\": \"city=Kaly\\u0101n\", \"showlegend\": true, \"type\": \"scattergeo\"}, {\"geo\": \"geo\", \"hoverlabel\": {\"namelength\": 0}, \"hovertemplate\": \"<b>%{hovertext}</b><br><br>city=%{location}<br>population=%{marker.size}\", \"hovertext\": [\"Vish\\u0101khapatnam\"], \"legendgroup\": \"city=Vish\\u0101khapatnam\", \"locations\": [\"Vish\\u0101khapatnam\"], \"marker\": {\"color\": \"#00cc96\", \"size\": [1529000.0], \"sizemode\": \"area\", \"sizeref\": 47445.0}, \"name\": \"city=Vish\\u0101khapatnam\", \"showlegend\": true, \"type\": \"scattergeo\"}, {\"geo\": \"geo\", \"hoverlabel\": {\"namelength\": 0}, \"hovertemplate\": \"<b>%{hovertext}</b><br><br>city=%{location}<br>population=%{marker.size}\", \"hovertext\": [\"Kochi\"], \"legendgroup\": \"city=Kochi\", \"locations\": [\"Kochi\"], \"marker\": {\"color\": \"#ab63fa\", \"size\": [1519000.0], \"sizemode\": \"area\", \"sizeref\": 47445.0}, \"name\": \"city=Kochi\", \"showlegend\": true, \"type\": \"scattergeo\"}, {\"geo\": \"geo\", \"hoverlabel\": {\"namelength\": 0}, \"hovertemplate\": \"<b>%{hovertext}</b><br><br>city=%{location}<br>population=%{marker.size}\", \"hovertext\": [\"N\\u0101sik\"], \"legendgroup\": \"city=N\\u0101sik\", \"locations\": [\"N\\u0101sik\"], \"marker\": {\"color\": \"#FFA15A\", \"size\": [1473000.0], \"sizemode\": \"area\", \"sizeref\": 47445.0}, \"name\": \"city=N\\u0101sik\", \"showlegend\": true, \"type\": \"scattergeo\"}, {\"geo\": \"geo\", \"hoverlabel\": {\"namelength\": 0}, \"hovertemplate\": \"<b>%{hovertext}</b><br><br>city=%{location}<br>population=%{marker.size}\", \"hovertext\": [\"Meerut\"], \"legendgroup\": \"city=Meerut\", \"locations\": [\"Meerut\"], \"marker\": {\"color\": \"#19d3f3\", \"size\": [1398000.0], \"sizemode\": \"area\", \"sizeref\": 47445.0}, \"name\": \"city=Meerut\", \"showlegend\": true, \"type\": \"scattergeo\"}, {\"geo\": \"geo\", \"hoverlabel\": {\"namelength\": 0}, \"hovertemplate\": \"<b>%{hovertext}</b><br><br>city=%{location}<br>population=%{marker.size}\", \"hovertext\": [\"Far\\u012bd\\u0101b\\u0101d\"], \"legendgroup\": \"city=Far\\u012bd\\u0101b\\u0101d\", \"locations\": [\"Far\\u012bd\\u0101b\\u0101d\"], \"marker\": {\"color\": \"#FF6692\", \"size\": [1394000.0], \"sizemode\": \"area\", \"sizeref\": 47445.0}, \"name\": \"city=Far\\u012bd\\u0101b\\u0101d\", \"showlegend\": true, \"type\": \"scattergeo\"}, {\"geo\": \"geo\", \"hoverlabel\": {\"namelength\": 0}, \"hovertemplate\": \"<b>%{hovertext}</b><br><br>city=%{location}<br>population=%{marker.size}\", \"hovertext\": [\"V\\u0101r\\u0101nasi\"], \"legendgroup\": \"city=V\\u0101r\\u0101nasi\", \"locations\": [\"V\\u0101r\\u0101nasi\"], \"marker\": {\"color\": \"#B6E880\", \"size\": [1352000.0], \"sizemode\": \"area\", \"sizeref\": 47445.0}, \"name\": \"city=V\\u0101r\\u0101nasi\", \"showlegend\": true, \"type\": \"scattergeo\"}, {\"geo\": \"geo\", \"hoverlabel\": {\"namelength\": 0}, \"hovertemplate\": \"<b>%{hovertext}</b><br><br>city=%{location}<br>population=%{marker.size}\", \"hovertext\": [\"Gh\\u0101zi\\u0101b\\u0101d\"], \"legendgroup\": \"city=Gh\\u0101zi\\u0101b\\u0101d\", \"locations\": [\"Gh\\u0101zi\\u0101b\\u0101d\"], \"marker\": {\"color\": \"#FF97FF\", \"size\": [1341000.0], \"sizemode\": \"area\", \"sizeref\": 47445.0}, \"name\": \"city=Gh\\u0101zi\\u0101b\\u0101d\", \"showlegend\": true, \"type\": \"scattergeo\"}, {\"geo\": \"geo\", \"hoverlabel\": {\"namelength\": 0}, \"hovertemplate\": \"<b>%{hovertext}</b><br><br>city=%{location}<br>population=%{marker.size}\", \"hovertext\": [\"\\u0100sansol\"], \"legendgroup\": \"city=\\u0100sansol\", \"locations\": [\"\\u0100sansol\"], \"marker\": {\"color\": \"#FECB52\", \"size\": [1328000.0], \"sizemode\": \"area\", \"sizeref\": 47445.0}, \"name\": \"city=\\u0100sansol\", \"showlegend\": true, \"type\": \"scattergeo\"}, {\"geo\": \"geo\", \"hoverlabel\": {\"namelength\": 0}, \"hovertemplate\": \"<b>%{hovertext}</b><br><br>city=%{location}<br>population=%{marker.size}\", \"hovertext\": [\"Jamshedpur\"], \"legendgroup\": \"city=Jamshedpur\", \"locations\": [\"Jamshedpur\"], \"marker\": {\"color\": \"#636efa\", \"size\": [1300000.0], \"sizemode\": \"area\", \"sizeref\": 47445.0}, \"name\": \"city=Jamshedpur\", \"showlegend\": true, \"type\": \"scattergeo\"}, {\"geo\": \"geo\", \"hoverlabel\": {\"namelength\": 0}, \"hovertemplate\": \"<b>%{hovertext}</b><br><br>city=%{location}<br>population=%{marker.size}\", \"hovertext\": [\"Madura\"], \"legendgroup\": \"city=Madura\", \"locations\": [\"Madura\"], \"marker\": {\"color\": \"#EF553B\", \"size\": [1294000.0], \"sizemode\": \"area\", \"sizeref\": 47445.0}, \"name\": \"city=Madura\", \"showlegend\": true, \"type\": \"scattergeo\"}, {\"geo\": \"geo\", \"hoverlabel\": {\"namelength\": 0}, \"hovertemplate\": \"<b>%{hovertext}</b><br><br>city=%{location}<br>population=%{marker.size}\", \"hovertext\": [\"Jabalpur\"], \"legendgroup\": \"city=Jabalpur\", \"locations\": [\"Jabalpur\"], \"marker\": {\"color\": \"#00cc96\", \"size\": [1285000.0], \"sizemode\": \"area\", \"sizeref\": 47445.0}, \"name\": \"city=Jabalpur\", \"showlegend\": true, \"type\": \"scattergeo\"}, {\"geo\": \"geo\", \"hoverlabel\": {\"namelength\": 0}, \"hovertemplate\": \"<b>%{hovertext}</b><br><br>city=%{location}<br>population=%{marker.size}\", \"hovertext\": [\"R\\u0101jkot\"], \"legendgroup\": \"city=R\\u0101jkot\", \"locations\": [\"R\\u0101jkot\"], \"marker\": {\"color\": \"#ab63fa\", \"size\": [1260000.0], \"sizemode\": \"area\", \"sizeref\": 47445.0}, \"name\": \"city=R\\u0101jkot\", \"showlegend\": true, \"type\": \"scattergeo\"}, {\"geo\": \"geo\", \"hoverlabel\": {\"namelength\": 0}, \"hovertemplate\": \"<b>%{hovertext}</b><br><br>city=%{location}<br>population=%{marker.size}\", \"hovertext\": [\"Dhanb\\u0101d\"], \"legendgroup\": \"city=Dhanb\\u0101d\", \"locations\": [\"Dhanb\\u0101d\"], \"marker\": {\"color\": \"#FFA15A\", \"size\": [1246000.0], \"sizemode\": \"area\", \"sizeref\": 47445.0}, \"name\": \"city=Dhanb\\u0101d\", \"showlegend\": true, \"type\": \"scattergeo\"}, {\"geo\": \"geo\", \"hoverlabel\": {\"namelength\": 0}, \"hovertemplate\": \"<b>%{hovertext}</b><br><br>city=%{location}<br>population=%{marker.size}\", \"hovertext\": [\"Amritsar\"], \"legendgroup\": \"city=Amritsar\", \"locations\": [\"Amritsar\"], \"marker\": {\"color\": \"#19d3f3\", \"size\": [1212000.0], \"sizemode\": \"area\", \"sizeref\": 47445.0}, \"name\": \"city=Amritsar\", \"showlegend\": true, \"type\": \"scattergeo\"}, {\"geo\": \"geo\", \"hoverlabel\": {\"namelength\": 0}, \"hovertemplate\": \"<b>%{hovertext}</b><br><br>city=%{location}<br>population=%{marker.size}\", \"hovertext\": [\"Warangal\"], \"legendgroup\": \"city=Warangal\", \"locations\": [\"Warangal\"], \"marker\": {\"color\": \"#FF6692\", \"size\": [1203853.0], \"sizemode\": \"area\", \"sizeref\": 47445.0}, \"name\": \"city=Warangal\", \"showlegend\": true, \"type\": \"scattergeo\"}, {\"geo\": \"geo\", \"hoverlabel\": {\"namelength\": 0}, \"hovertemplate\": \"<b>%{hovertext}</b><br><br>city=%{location}<br>population=%{marker.size}\", \"hovertext\": [\"Allah\\u0101b\\u0101d\"], \"legendgroup\": \"city=Allah\\u0101b\\u0101d\", \"locations\": [\"Allah\\u0101b\\u0101d\"], \"marker\": {\"color\": \"#B6E880\", \"size\": [1201000.0], \"sizemode\": \"area\", \"sizeref\": 47445.0}, \"name\": \"city=Allah\\u0101b\\u0101d\", \"showlegend\": true, \"type\": \"scattergeo\"}, {\"geo\": \"geo\", \"hoverlabel\": {\"namelength\": 0}, \"hovertemplate\": \"<b>%{hovertext}</b><br><br>city=%{location}<br>population=%{marker.size}\", \"hovertext\": [\"Sr\\u012bnagar\"], \"legendgroup\": \"city=Sr\\u012bnagar\", \"locations\": [\"Sr\\u012bnagar\"], \"marker\": {\"color\": \"#FF97FF\", \"size\": [1140000.0], \"sizemode\": \"area\", \"sizeref\": 47445.0}, \"name\": \"city=Sr\\u012bnagar\", \"showlegend\": true, \"type\": \"scattergeo\"}, {\"geo\": \"geo\", \"hoverlabel\": {\"namelength\": 0}, \"hovertemplate\": \"<b>%{hovertext}</b><br><br>city=%{location}<br>population=%{marker.size}\", \"hovertext\": [\"Bezw\\u0101da\"], \"legendgroup\": \"city=Bezw\\u0101da\", \"locations\": [\"Bezw\\u0101da\"], \"marker\": {\"color\": \"#FECB52\", \"size\": [1137000.0], \"sizemode\": \"area\", \"sizeref\": 47445.0}, \"name\": \"city=Bezw\\u0101da\", \"showlegend\": true, \"type\": \"scattergeo\"}, {\"geo\": \"geo\", \"hoverlabel\": {\"namelength\": 0}, \"hovertemplate\": \"<b>%{hovertext}</b><br><br>city=%{location}<br>population=%{marker.size}\", \"hovertext\": [\"Aurang\\u0101b\\u0101d\", \"Aurang\\u0101b\\u0101d\"], \"legendgroup\": \"city=Aurang\\u0101b\\u0101d\", \"locations\": [\"Aurang\\u0101b\\u0101d\", \"Aurang\\u0101b\\u0101d\"], \"marker\": {\"color\": \"#636efa\", \"size\": [1113000.0, 95929.0], \"sizemode\": \"area\", \"sizeref\": 47445.0}, \"name\": \"city=Aurang\\u0101b\\u0101d\", \"showlegend\": true, \"type\": \"scattergeo\"}, {\"geo\": \"geo\", \"hoverlabel\": {\"namelength\": 0}, \"hovertemplate\": \"<b>%{hovertext}</b><br><br>city=%{location}<br>population=%{marker.size}\", \"hovertext\": [\"Bhilai\"], \"legendgroup\": \"city=Bhilai\", \"locations\": [\"Bhilai\"], \"marker\": {\"color\": \"#EF553B\", \"size\": [1097000.0], \"sizemode\": \"area\", \"sizeref\": 47445.0}, \"name\": \"city=Bhilai\", \"showlegend\": true, \"type\": \"scattergeo\"}, {\"geo\": \"geo\", \"hoverlabel\": {\"namelength\": 0}, \"hovertemplate\": \"<b>%{hovertext}</b><br><br>city=%{location}<br>population=%{marker.size}\", \"hovertext\": [\"Sol\\u0101pur\"], \"legendgroup\": \"city=Sol\\u0101pur\", \"locations\": [\"Sol\\u0101pur\"], \"marker\": {\"color\": \"#00cc96\", \"size\": [1057000.0], \"sizemode\": \"area\", \"sizeref\": 47445.0}, \"name\": \"city=Sol\\u0101pur\", \"showlegend\": true, \"type\": \"scattergeo\"}, {\"geo\": \"geo\", \"hoverlabel\": {\"namelength\": 0}, \"hovertemplate\": \"<b>%{hovertext}</b><br><br>city=%{location}<br>population=%{marker.size}\", \"hovertext\": [\"Ranchi\"], \"legendgroup\": \"city=Ranchi\", \"locations\": [\"Ranchi\"], \"marker\": {\"color\": \"#ab63fa\", \"size\": [1044000.0], \"sizemode\": \"area\", \"sizeref\": 47445.0}, \"name\": \"city=Ranchi\", \"showlegend\": true, \"type\": \"scattergeo\"}, {\"geo\": \"geo\", \"hoverlabel\": {\"namelength\": 0}, \"hovertemplate\": \"<b>%{hovertext}</b><br><br>city=%{location}<br>population=%{marker.size}\", \"hovertext\": [\"New Delhi\"], \"legendgroup\": \"city=New Delhi\", \"locations\": [\"New Delhi\"], \"marker\": {\"color\": \"#FFA15A\", \"size\": [317797.0], \"sizemode\": \"area\", \"sizeref\": 47445.0}, \"name\": \"city=New Delhi\", \"showlegend\": true, \"type\": \"scattergeo\"}, {\"geo\": \"geo\", \"hoverlabel\": {\"namelength\": 0}, \"hovertemplate\": \"<b>%{hovertext}</b><br><br>city=%{location}<br>population=%{marker.size}\", \"hovertext\": [\"Jodhpur\"], \"legendgroup\": \"city=Jodhpur\", \"locations\": [\"Jodhpur\"], \"marker\": {\"color\": \"#19d3f3\", \"size\": [995000.0], \"sizemode\": \"area\", \"sizeref\": 47445.0}, \"name\": \"city=Jodhpur\", \"showlegend\": true, \"type\": \"scattergeo\"}, {\"geo\": \"geo\", \"hoverlabel\": {\"namelength\": 0}, \"hovertemplate\": \"<b>%{hovertext}</b><br><br>city=%{location}<br>population=%{marker.size}\", \"hovertext\": [\"Guw\\u0101h\\u0101ti\"], \"legendgroup\": \"city=Guw\\u0101h\\u0101ti\", \"locations\": [\"Guw\\u0101h\\u0101ti\"], \"marker\": {\"color\": \"#FF6692\", \"size\": [983000.0], \"sizemode\": \"area\", \"sizeref\": 47445.0}, \"name\": \"city=Guw\\u0101h\\u0101ti\", \"showlegend\": true, \"type\": \"scattergeo\"}, {\"geo\": \"geo\", \"hoverlabel\": {\"namelength\": 0}, \"hovertemplate\": \"<b>%{hovertext}</b><br><br>city=%{location}<br>population=%{marker.size}\", \"hovertext\": [\"Chandigarh\"], \"legendgroup\": \"city=Chandigarh\", \"locations\": [\"Chandigarh\"], \"marker\": {\"color\": \"#B6E880\", \"size\": [979000.0], \"sizemode\": \"area\", \"sizeref\": 47445.0}, \"name\": \"city=Chandigarh\", \"showlegend\": true, \"type\": \"scattergeo\"}, {\"geo\": \"geo\", \"hoverlabel\": {\"namelength\": 0}, \"hovertemplate\": \"<b>%{hovertext}</b><br><br>city=%{location}<br>population=%{marker.size}\", \"hovertext\": [\"Gwalior\"], \"legendgroup\": \"city=Gwalior\", \"locations\": [\"Gwalior\"], \"marker\": {\"color\": \"#FF97FF\", \"size\": [978000.0], \"sizemode\": \"area\", \"sizeref\": 47445.0}, \"name\": \"city=Gwalior\", \"showlegend\": true, \"type\": \"scattergeo\"}, {\"geo\": \"geo\", \"hoverlabel\": {\"namelength\": 0}, \"hovertemplate\": \"<b>%{hovertext}</b><br><br>city=%{location}<br>population=%{marker.size}\", \"hovertext\": [\"Thiruvananthapuram\"], \"legendgroup\": \"city=Thiruvananthapuram\", \"locations\": [\"Thiruvananthapuram\"], \"marker\": {\"color\": \"#FECB52\", \"size\": [954000.0], \"sizemode\": \"area\", \"sizeref\": 47445.0}, \"name\": \"city=Thiruvananthapuram\", \"showlegend\": true, \"type\": \"scattergeo\"}, {\"geo\": \"geo\", \"hoverlabel\": {\"namelength\": 0}, \"hovertemplate\": \"<b>%{hovertext}</b><br><br>city=%{location}<br>population=%{marker.size}\", \"hovertext\": [\"Calicut\"], \"legendgroup\": \"city=Calicut\", \"locations\": [\"Calicut\"], \"marker\": {\"color\": \"#636efa\", \"size\": [953000.0], \"sizemode\": \"area\", \"sizeref\": 47445.0}, \"name\": \"city=Calicut\", \"showlegend\": true, \"type\": \"scattergeo\"}, {\"geo\": \"geo\", \"hoverlabel\": {\"namelength\": 0}, \"hovertemplate\": \"<b>%{hovertext}</b><br><br>city=%{location}<br>population=%{marker.size}\", \"hovertext\": [\"Trichinopoly\"], \"legendgroup\": \"city=Trichinopoly\", \"locations\": [\"Trichinopoly\"], \"marker\": {\"color\": \"#EF553B\", \"size\": [951000.0], \"sizemode\": \"area\", \"sizeref\": 47445.0}, \"name\": \"city=Trichinopoly\", \"showlegend\": true, \"type\": \"scattergeo\"}, {\"geo\": \"geo\", \"hoverlabel\": {\"namelength\": 0}, \"hovertemplate\": \"<b>%{hovertext}</b><br><br>city=%{location}<br>population=%{marker.size}\", \"hovertext\": [\"Hubli\"], \"legendgroup\": \"city=Hubli\", \"locations\": [\"Hubli\"], \"marker\": {\"color\": \"#00cc96\", \"size\": [890000.0], \"sizemode\": \"area\", \"sizeref\": 47445.0}, \"name\": \"city=Hubli\", \"showlegend\": true, \"type\": \"scattergeo\"}, {\"geo\": \"geo\", \"hoverlabel\": {\"namelength\": 0}, \"hovertemplate\": \"<b>%{hovertext}</b><br><br>city=%{location}<br>population=%{marker.size}\", \"hovertext\": [\"Mysore\"], \"legendgroup\": \"city=Mysore\", \"locations\": [\"Mysore\"], \"marker\": {\"color\": \"#ab63fa\", \"size\": [887000.0], \"sizemode\": \"area\", \"sizeref\": 47445.0}, \"name\": \"city=Mysore\", \"showlegend\": true, \"type\": \"scattergeo\"}, {\"geo\": \"geo\", \"hoverlabel\": {\"namelength\": 0}, \"hovertemplate\": \"<b>%{hovertext}</b><br><br>city=%{location}<br>population=%{marker.size}\", \"hovertext\": [\"Raipur\"], \"legendgroup\": \"city=Raipur\", \"locations\": [\"Raipur\"], \"marker\": {\"color\": \"#FFA15A\", \"size\": [875000.0], \"sizemode\": \"area\", \"sizeref\": 47445.0}, \"name\": \"city=Raipur\", \"showlegend\": true, \"type\": \"scattergeo\"}, {\"geo\": \"geo\", \"hoverlabel\": {\"namelength\": 0}, \"hovertemplate\": \"<b>%{hovertext}</b><br><br>city=%{location}<br>population=%{marker.size}\", \"hovertext\": [\"Salem\"], \"legendgroup\": \"city=Salem\", \"locations\": [\"Salem\"], \"marker\": {\"color\": \"#19d3f3\", \"size\": [873000.0], \"sizemode\": \"area\", \"sizeref\": 47445.0}, \"name\": \"city=Salem\", \"showlegend\": true, \"type\": \"scattergeo\"}, {\"geo\": \"geo\", \"hoverlabel\": {\"namelength\": 0}, \"hovertemplate\": \"<b>%{hovertext}</b><br><br>city=%{location}<br>population=%{marker.size}\", \"hovertext\": [\"Jalandhar\"], \"legendgroup\": \"city=Jalandhar\", \"locations\": [\"Jalandhar\"], \"marker\": {\"color\": \"#FF6692\", \"size\": [855000.0], \"sizemode\": \"area\", \"sizeref\": 47445.0}, \"name\": \"city=Jalandhar\", \"showlegend\": true, \"type\": \"scattergeo\"}, {\"geo\": \"geo\", \"hoverlabel\": {\"namelength\": 0}, \"hovertemplate\": \"<b>%{hovertext}</b><br><br>city=%{location}<br>population=%{marker.size}\", \"hovertext\": [\"Bhubaneshwar\"], \"legendgroup\": \"city=Bhubaneshwar\", \"locations\": [\"Bhubaneshwar\"], \"marker\": {\"color\": \"#B6E880\", \"size\": [844000.0], \"sizemode\": \"area\", \"sizeref\": 47445.0}, \"name\": \"city=Bhubaneshwar\", \"showlegend\": true, \"type\": \"scattergeo\"}, {\"geo\": \"geo\", \"hoverlabel\": {\"namelength\": 0}, \"hovertemplate\": \"<b>%{hovertext}</b><br><br>city=%{location}<br>population=%{marker.size}\", \"hovertext\": [\"Kota\"], \"legendgroup\": \"city=Kota\", \"locations\": [\"Kota\"], \"marker\": {\"color\": \"#FF97FF\", \"size\": [827000.0], \"sizemode\": \"area\", \"sizeref\": 47445.0}, \"name\": \"city=Kota\", \"showlegend\": true, \"type\": \"scattergeo\"}, {\"geo\": \"geo\", \"hoverlabel\": {\"namelength\": 0}, \"hovertemplate\": \"<b>%{hovertext}</b><br><br>city=%{location}<br>population=%{marker.size}\", \"hovertext\": [\"Jh\\u0101nsi\"], \"legendgroup\": \"city=Jh\\u0101nsi\", \"locations\": [\"Jh\\u0101nsi\"], \"marker\": {\"color\": \"#FECB52\", \"size\": [826494.0], \"sizemode\": \"area\", \"sizeref\": 47445.0}, \"name\": \"city=Jh\\u0101nsi\", \"showlegend\": true, \"type\": \"scattergeo\"}, {\"geo\": \"geo\", \"hoverlabel\": {\"namelength\": 0}, \"hovertemplate\": \"<b>%{hovertext}</b><br><br>city=%{location}<br>population=%{marker.size}\", \"hovertext\": [\"Bareilly\"], \"legendgroup\": \"city=Bareilly\", \"locations\": [\"Bareilly\"], \"marker\": {\"color\": \"#636efa\", \"size\": [817000.0], \"sizemode\": \"area\", \"sizeref\": 47445.0}, \"name\": \"city=Bareilly\", \"showlegend\": true, \"type\": \"scattergeo\"}, {\"geo\": \"geo\", \"hoverlabel\": {\"namelength\": 0}, \"hovertemplate\": \"<b>%{hovertext}</b><br><br>city=%{location}<br>population=%{marker.size}\", \"hovertext\": [\"Al\\u012bgarh\"], \"legendgroup\": \"city=Al\\u012bgarh\", \"locations\": [\"Al\\u012bgarh\"], \"marker\": {\"color\": \"#EF553B\", \"size\": [805000.0], \"sizemode\": \"area\", \"sizeref\": 47445.0}, \"name\": \"city=Al\\u012bgarh\", \"showlegend\": true, \"type\": \"scattergeo\"}, {\"geo\": \"geo\", \"hoverlabel\": {\"namelength\": 0}, \"hovertemplate\": \"<b>%{hovertext}</b><br><br>city=%{location}<br>population=%{marker.size}\", \"hovertext\": [\"Bhiwandi\"], \"legendgroup\": \"city=Bhiwandi\", \"locations\": [\"Bhiwandi\"], \"marker\": {\"color\": \"#00cc96\", \"size\": [795000.0], \"sizemode\": \"area\", \"sizeref\": 47445.0}, \"name\": \"city=Bhiwandi\", \"showlegend\": true, \"type\": \"scattergeo\"}, {\"geo\": \"geo\", \"hoverlabel\": {\"namelength\": 0}, \"hovertemplate\": \"<b>%{hovertext}</b><br><br>city=%{location}<br>population=%{marker.size}\", \"hovertext\": [\"Jammu\"], \"legendgroup\": \"city=Jammu\", \"locations\": [\"Jammu\"], \"marker\": {\"color\": \"#ab63fa\", \"size\": [791000.0], \"sizemode\": \"area\", \"sizeref\": 47445.0}, \"name\": \"city=Jammu\", \"showlegend\": true, \"type\": \"scattergeo\"}, {\"geo\": \"geo\", \"hoverlabel\": {\"namelength\": 0}, \"hovertemplate\": \"<b>%{hovertext}</b><br><br>city=%{location}<br>population=%{marker.size}\", \"hovertext\": [\"Mor\\u0101d\\u0101b\\u0101d\"], \"legendgroup\": \"city=Mor\\u0101d\\u0101b\\u0101d\", \"locations\": [\"Mor\\u0101d\\u0101b\\u0101d\"], \"marker\": {\"color\": \"#FFA15A\", \"size\": [787000.0], \"sizemode\": \"area\", \"sizeref\": 47445.0}, \"name\": \"city=Mor\\u0101d\\u0101b\\u0101d\", \"showlegend\": true, \"type\": \"scattergeo\"}, {\"geo\": \"geo\", \"hoverlabel\": {\"namelength\": 0}, \"hovertemplate\": \"<b>%{hovertext}</b><br><br>city=%{location}<br>population=%{marker.size}\", \"hovertext\": [\"Mangalore\"], \"legendgroup\": \"city=Mangalore\", \"locations\": [\"Mangalore\"], \"marker\": {\"color\": \"#19d3f3\", \"size\": [776632.0], \"sizemode\": \"area\", \"sizeref\": 47445.0}, \"name\": \"city=Mangalore\", \"showlegend\": true, \"type\": \"scattergeo\"}, {\"geo\": \"geo\", \"hoverlabel\": {\"namelength\": 0}, \"hovertemplate\": \"<b>%{hovertext}</b><br><br>city=%{location}<br>population=%{marker.size}\", \"hovertext\": [\"Kolh\\u0101pur\"], \"legendgroup\": \"city=Kolh\\u0101pur\", \"locations\": [\"Kolh\\u0101pur\"], \"marker\": {\"color\": \"#FF6692\", \"size\": [750000.0], \"sizemode\": \"area\", \"sizeref\": 47445.0}, \"name\": \"city=Kolh\\u0101pur\", \"showlegend\": true, \"type\": \"scattergeo\"}, {\"geo\": \"geo\", \"hoverlabel\": {\"namelength\": 0}, \"hovertemplate\": \"<b>%{hovertext}</b><br><br>city=%{location}<br>population=%{marker.size}\", \"hovertext\": [\"Amr\\u0101vati\"], \"legendgroup\": \"city=Amr\\u0101vati\", \"locations\": [\"Amr\\u0101vati\"], \"marker\": {\"color\": \"#B6E880\", \"size\": [734451.0], \"sizemode\": \"area\", \"sizeref\": 47445.0}, \"name\": \"city=Amr\\u0101vati\", \"showlegend\": true, \"type\": \"scattergeo\"}, {\"geo\": \"geo\", \"hoverlabel\": {\"namelength\": 0}, \"hovertemplate\": \"<b>%{hovertext}</b><br><br>city=%{location}<br>population=%{marker.size}\", \"hovertext\": [\"Dehra D\\u016bn\"], \"legendgroup\": \"city=Dehra D\\u016bn\", \"locations\": [\"Dehra D\\u016bn\"], \"marker\": {\"color\": \"#FF97FF\", \"size\": [714223.0], \"sizemode\": \"area\", \"sizeref\": 47445.0}, \"name\": \"city=Dehra D\\u016bn\", \"showlegend\": true, \"type\": \"scattergeo\"}, {\"geo\": \"geo\", \"hoverlabel\": {\"namelength\": 0}, \"hovertemplate\": \"<b>%{hovertext}</b><br><br>city=%{location}<br>population=%{marker.size}\", \"hovertext\": [\"M\\u0101legaon\"], \"legendgroup\": \"city=M\\u0101legaon\", \"locations\": [\"M\\u0101legaon\"], \"marker\": {\"color\": \"#FECB52\", \"size\": [690844.0], \"sizemode\": \"area\", \"sizeref\": 47445.0}, \"name\": \"city=M\\u0101legaon\", \"showlegend\": true, \"type\": \"scattergeo\"}, {\"geo\": \"geo\", \"hoverlabel\": {\"namelength\": 0}, \"hovertemplate\": \"<b>%{hovertext}</b><br><br>city=%{location}<br>population=%{marker.size}\", \"hovertext\": [\"Nellore\"], \"legendgroup\": \"city=Nellore\", \"locations\": [\"Nellore\"], \"marker\": {\"color\": \"#636efa\", \"size\": [678004.0], \"sizemode\": \"area\", \"sizeref\": 47445.0}, \"name\": \"city=Nellore\", \"showlegend\": true, \"type\": \"scattergeo\"}, {\"geo\": \"geo\", \"hoverlabel\": {\"namelength\": 0}, \"hovertemplate\": \"<b>%{hovertext}</b><br><br>city=%{location}<br>population=%{marker.size}\", \"hovertext\": [\"Gorakhpur\"], \"legendgroup\": \"city=Gorakhpur\", \"locations\": [\"Gorakhpur\"], \"marker\": {\"color\": \"#EF553B\", \"size\": [674246.0], \"sizemode\": \"area\", \"sizeref\": 47445.0}, \"name\": \"city=Gorakhpur\", \"showlegend\": true, \"type\": \"scattergeo\"}, {\"geo\": \"geo\", \"hoverlabel\": {\"namelength\": 0}, \"hovertemplate\": \"<b>%{hovertext}</b><br><br>city=%{location}<br>population=%{marker.size}\", \"hovertext\": [\"Shimoga\"], \"legendgroup\": \"city=Shimoga\", \"locations\": [\"Shimoga\"], \"marker\": {\"color\": \"#00cc96\", \"size\": [654055.0], \"sizemode\": \"area\", \"sizeref\": 47445.0}, \"name\": \"city=Shimoga\", \"showlegend\": true, \"type\": \"scattergeo\"}, {\"geo\": \"geo\", \"hoverlabel\": {\"namelength\": 0}, \"hovertemplate\": \"<b>%{hovertext}</b><br><br>city=%{location}<br>population=%{marker.size}\", \"hovertext\": [\"Tirupp\\u016br\"], \"legendgroup\": \"city=Tirupp\\u016br\", \"locations\": [\"Tirupp\\u016br\"], \"marker\": {\"color\": \"#ab63fa\", \"size\": [650000.0], \"sizemode\": \"area\", \"sizeref\": 47445.0}, \"name\": \"city=Tirupp\\u016br\", \"showlegend\": true, \"type\": \"scattergeo\"}, {\"geo\": \"geo\", \"hoverlabel\": {\"namelength\": 0}, \"hovertemplate\": \"<b>%{hovertext}</b><br><br>city=%{location}<br>population=%{marker.size}\", \"hovertext\": [\"Raurkela\"], \"legendgroup\": \"city=Raurkela\", \"locations\": [\"Raurkela\"], \"marker\": {\"color\": \"#FFA15A\", \"size\": [625831.0], \"sizemode\": \"area\", \"sizeref\": 47445.0}, \"name\": \"city=Raurkela\", \"showlegend\": true, \"type\": \"scattergeo\"}, {\"geo\": \"geo\", \"hoverlabel\": {\"namelength\": 0}, \"hovertemplate\": \"<b>%{hovertext}</b><br><br>city=%{location}<br>population=%{marker.size}\", \"hovertext\": [\"N\\u0101nded\"], \"legendgroup\": \"city=N\\u0101nded\", \"locations\": [\"N\\u0101nded\"], \"marker\": {\"color\": \"#19d3f3\", \"size\": [623708.0], \"sizemode\": \"area\", \"sizeref\": 47445.0}, \"name\": \"city=N\\u0101nded\", \"showlegend\": true, \"type\": \"scattergeo\"}, {\"geo\": \"geo\", \"hoverlabel\": {\"namelength\": 0}, \"hovertemplate\": \"<b>%{hovertext}</b><br><br>city=%{location}<br>population=%{marker.size}\", \"hovertext\": [\"Belgaum\"], \"legendgroup\": \"city=Belgaum\", \"locations\": [\"Belgaum\"], \"marker\": {\"color\": \"#FF6692\", \"size\": [608756.0], \"sizemode\": \"area\", \"sizeref\": 47445.0}, \"name\": \"city=Belgaum\", \"showlegend\": true, \"type\": \"scattergeo\"}, {\"geo\": \"geo\", \"hoverlabel\": {\"namelength\": 0}, \"hovertemplate\": \"<b>%{hovertext}</b><br><br>city=%{location}<br>population=%{marker.size}\", \"hovertext\": [\"S\\u0101ngli\"], \"legendgroup\": \"city=S\\u0101ngli\", \"locations\": [\"S\\u0101ngli\"], \"marker\": {\"color\": \"#B6E880\", \"size\": [601214.0], \"sizemode\": \"area\", \"sizeref\": 47445.0}, \"name\": \"city=S\\u0101ngli\", \"showlegend\": true, \"type\": \"scattergeo\"}, {\"geo\": \"geo\", \"hoverlabel\": {\"namelength\": 0}, \"hovertemplate\": \"<b>%{hovertext}</b><br><br>city=%{location}<br>population=%{marker.size}\", \"hovertext\": [\"Ch\\u0101nda\"], \"legendgroup\": \"city=Ch\\u0101nda\", \"locations\": [\"Ch\\u0101nda\"], \"marker\": {\"color\": \"#FF97FF\", \"size\": [595118.0], \"sizemode\": \"area\", \"sizeref\": 47445.0}, \"name\": \"city=Ch\\u0101nda\", \"showlegend\": true, \"type\": \"scattergeo\"}, {\"geo\": \"geo\", \"hoverlabel\": {\"namelength\": 0}, \"hovertemplate\": \"<b>%{hovertext}</b><br><br>city=%{location}<br>population=%{marker.size}\", \"hovertext\": [\"Ajmer\"], \"legendgroup\": \"city=Ajmer\", \"locations\": [\"Ajmer\"], \"marker\": {\"color\": \"#FECB52\", \"size\": [589985.0], \"sizemode\": \"area\", \"sizeref\": 47445.0}, \"name\": \"city=Ajmer\", \"showlegend\": true, \"type\": \"scattergeo\"}, {\"geo\": \"geo\", \"hoverlabel\": {\"namelength\": 0}, \"hovertemplate\": \"<b>%{hovertext}</b><br><br>city=%{location}<br>population=%{marker.size}\", \"hovertext\": [\"Cuttack\"], \"legendgroup\": \"city=Cuttack\", \"locations\": [\"Cuttack\"], \"marker\": {\"color\": \"#636efa\", \"size\": [580000.0], \"sizemode\": \"area\", \"sizeref\": 47445.0}, \"name\": \"city=Cuttack\", \"showlegend\": true, \"type\": \"scattergeo\"}, {\"geo\": \"geo\", \"hoverlabel\": {\"namelength\": 0}, \"hovertemplate\": \"<b>%{hovertext}</b><br><br>city=%{location}<br>population=%{marker.size}\", \"hovertext\": [\"B\\u012bkaner\"], \"legendgroup\": \"city=B\\u012bkaner\", \"locations\": [\"B\\u012bkaner\"], \"marker\": {\"color\": \"#EF553B\", \"size\": [576015.0], \"sizemode\": \"area\", \"sizeref\": 47445.0}, \"name\": \"city=B\\u012bkaner\", \"showlegend\": true, \"type\": \"scattergeo\"}, {\"geo\": \"geo\", \"hoverlabel\": {\"namelength\": 0}, \"hovertemplate\": \"<b>%{hovertext}</b><br><br>city=%{location}<br>population=%{marker.size}\", \"hovertext\": [\"Bh\\u0101vnagar\"], \"legendgroup\": \"city=Bh\\u0101vnagar\", \"locations\": [\"Bh\\u0101vnagar\"], \"marker\": {\"color\": \"#00cc96\", \"size\": [554978.0], \"sizemode\": \"area\", \"sizeref\": 47445.0}, \"name\": \"city=Bh\\u0101vnagar\", \"showlegend\": true, \"type\": \"scattergeo\"}, {\"geo\": \"geo\", \"hoverlabel\": {\"namelength\": 0}, \"hovertemplate\": \"<b>%{hovertext}</b><br><br>city=%{location}<br>population=%{marker.size}\", \"hovertext\": [\"Hisar\"], \"legendgroup\": \"city=Hisar\", \"locations\": [\"Hisar\"], \"marker\": {\"color\": \"#ab63fa\", \"size\": [544829.0], \"sizemode\": \"area\", \"sizeref\": 47445.0}, \"name\": \"city=Hisar\", \"showlegend\": true, \"type\": \"scattergeo\"}, {\"geo\": \"geo\", \"hoverlabel\": {\"namelength\": 0}, \"hovertemplate\": \"<b>%{hovertext}</b><br><br>city=%{location}<br>population=%{marker.size}\", \"hovertext\": [\"Bil\\u0101spur\"], \"legendgroup\": \"city=Bil\\u0101spur\", \"locations\": [\"Bil\\u0101spur\"], \"marker\": {\"color\": \"#FFA15A\", \"size\": [543454.0], \"sizemode\": \"area\", \"sizeref\": 47445.0}, \"name\": \"city=Bil\\u0101spur\", \"showlegend\": true, \"type\": \"scattergeo\"}, {\"geo\": \"geo\", \"hoverlabel\": {\"namelength\": 0}, \"hovertemplate\": \"<b>%{hovertext}</b><br><br>city=%{location}<br>population=%{marker.size}\", \"hovertext\": [\"Tinnevelly\"], \"legendgroup\": \"city=Tinnevelly\", \"locations\": [\"Tinnevelly\"], \"marker\": {\"color\": \"#19d3f3\", \"size\": [542200.0], \"sizemode\": \"area\", \"sizeref\": 47445.0}, \"name\": \"city=Tinnevelly\", \"showlegend\": true, \"type\": \"scattergeo\"}, {\"geo\": \"geo\", \"hoverlabel\": {\"namelength\": 0}, \"hovertemplate\": \"<b>%{hovertext}</b><br><br>city=%{location}<br>population=%{marker.size}\", \"hovertext\": [\"Gunt\\u016br\"], \"legendgroup\": \"city=Gunt\\u016br\", \"locations\": [\"Gunt\\u016br\"], \"marker\": {\"color\": \"#FF6692\", \"size\": [530577.0], \"sizemode\": \"area\", \"sizeref\": 47445.0}, \"name\": \"city=Gunt\\u016br\", \"showlegend\": true, \"type\": \"scattergeo\"}, {\"geo\": \"geo\", \"hoverlabel\": {\"namelength\": 0}, \"hovertemplate\": \"<b>%{hovertext}</b><br><br>city=%{location}<br>population=%{marker.size}\", \"hovertext\": [\"Shiliguri\"], \"legendgroup\": \"city=Shiliguri\", \"locations\": [\"Shiliguri\"], \"marker\": {\"color\": \"#B6E880\", \"size\": [515574.0], \"sizemode\": \"area\", \"sizeref\": 47445.0}, \"name\": \"city=Shiliguri\", \"showlegend\": true, \"type\": \"scattergeo\"}, {\"geo\": \"geo\", \"hoverlabel\": {\"namelength\": 0}, \"hovertemplate\": \"<b>%{hovertext}</b><br><br>city=%{location}<br>population=%{marker.size}\", \"hovertext\": [\"Ujjain\"], \"legendgroup\": \"city=Ujjain\", \"locations\": [\"Ujjain\"], \"marker\": {\"color\": \"#FF97FF\", \"size\": [513350.0], \"sizemode\": \"area\", \"sizeref\": 47445.0}, \"name\": \"city=Ujjain\", \"showlegend\": true, \"type\": \"scattergeo\"}, {\"geo\": \"geo\", \"hoverlabel\": {\"namelength\": 0}, \"hovertemplate\": \"<b>%{hovertext}</b><br><br>city=%{location}<br>population=%{marker.size}\", \"hovertext\": [\"Davangere\"], \"legendgroup\": \"city=Davangere\", \"locations\": [\"Davangere\"], \"marker\": {\"color\": \"#FECB52\", \"size\": [503564.0], \"sizemode\": \"area\", \"sizeref\": 47445.0}, \"name\": \"city=Davangere\", \"showlegend\": true, \"type\": \"scattergeo\"}, {\"geo\": \"geo\", \"hoverlabel\": {\"namelength\": 0}, \"hovertemplate\": \"<b>%{hovertext}</b><br><br>city=%{location}<br>population=%{marker.size}\", \"hovertext\": [\"Akola\"], \"legendgroup\": \"city=Akola\", \"locations\": [\"Akola\"], \"marker\": {\"color\": \"#636efa\", \"size\": [503502.0], \"sizemode\": \"area\", \"sizeref\": 47445.0}, \"name\": \"city=Akola\", \"showlegend\": true, \"type\": \"scattergeo\"}, {\"geo\": \"geo\", \"hoverlabel\": {\"namelength\": 0}, \"hovertemplate\": \"<b>%{hovertext}</b><br><br>city=%{location}<br>population=%{marker.size}\", \"hovertext\": [\"Sah\\u0101ranpur\"], \"legendgroup\": \"city=Sah\\u0101ranpur\", \"locations\": [\"Sah\\u0101ranpur\"], \"marker\": {\"color\": \"#EF553B\", \"size\": [484873.0], \"sizemode\": \"area\", \"sizeref\": 47445.0}, \"name\": \"city=Sah\\u0101ranpur\", \"showlegend\": true, \"type\": \"scattergeo\"}, {\"geo\": \"geo\", \"hoverlabel\": {\"namelength\": 0}, \"hovertemplate\": \"<b>%{hovertext}</b><br><br>city=%{location}<br>population=%{marker.size}\", \"hovertext\": [\"Gulbarga\"], \"legendgroup\": \"city=Gulbarga\", \"locations\": [\"Gulbarga\"], \"marker\": {\"color\": \"#00cc96\", \"size\": [483615.0], \"sizemode\": \"area\", \"sizeref\": 47445.0}, \"name\": \"city=Gulbarga\", \"showlegend\": true, \"type\": \"scattergeo\"}, {\"geo\": \"geo\", \"hoverlabel\": {\"namelength\": 0}, \"hovertemplate\": \"<b>%{hovertext}</b><br><br>city=%{location}<br>population=%{marker.size}\", \"hovertext\": [\"Bh\\u0101tp\\u0101ra\"], \"legendgroup\": \"city=Bh\\u0101tp\\u0101ra\", \"locations\": [\"Bh\\u0101tp\\u0101ra\"], \"marker\": {\"color\": \"#ab63fa\", \"size\": [483129.0], \"sizemode\": \"area\", \"sizeref\": 47445.0}, \"name\": \"city=Bh\\u0101tp\\u0101ra\", \"showlegend\": true, \"type\": \"scattergeo\"}, {\"geo\": \"geo\", \"hoverlabel\": {\"namelength\": 0}, \"hovertemplate\": \"<b>%{hovertext}</b><br><br>city=%{location}<br>population=%{marker.size}\", \"hovertext\": [\"Dh\\u016blia\"], \"legendgroup\": \"city=Dh\\u016blia\", \"locations\": [\"Dh\\u016blia\"], \"marker\": {\"color\": \"#FFA15A\", \"size\": [479073.0], \"sizemode\": \"area\", \"sizeref\": 47445.0}, \"name\": \"city=Dh\\u016blia\", \"showlegend\": true, \"type\": \"scattergeo\"}, {\"geo\": \"geo\", \"hoverlabel\": {\"namelength\": 0}, \"hovertemplate\": \"<b>%{hovertext}</b><br><br>city=%{location}<br>population=%{marker.size}\", \"hovertext\": [\"Udaipur\"], \"legendgroup\": \"city=Udaipur\", \"locations\": [\"Udaipur\"], \"marker\": {\"color\": \"#19d3f3\", \"size\": [469737.0], \"sizemode\": \"area\", \"sizeref\": 47445.0}, \"name\": \"city=Udaipur\", \"showlegend\": true, \"type\": \"scattergeo\"}, {\"geo\": \"geo\", \"hoverlabel\": {\"namelength\": 0}, \"hovertemplate\": \"<b>%{hovertext}</b><br><br>city=%{location}<br>population=%{marker.size}\", \"hovertext\": [\"Bellary\"], \"legendgroup\": \"city=Bellary\", \"locations\": [\"Bellary\"], \"marker\": {\"color\": \"#FF6692\", \"size\": [445388.0], \"sizemode\": \"area\", \"sizeref\": 47445.0}, \"name\": \"city=Bellary\", \"showlegend\": true, \"type\": \"scattergeo\"}, {\"geo\": \"geo\", \"hoverlabel\": {\"namelength\": 0}, \"hovertemplate\": \"<b>%{hovertext}</b><br><br>city=%{location}<br>population=%{marker.size}\", \"hovertext\": [\"Tuticorin\"], \"legendgroup\": \"city=Tuticorin\", \"locations\": [\"Tuticorin\"], \"marker\": {\"color\": \"#B6E880\", \"size\": [436094.0], \"sizemode\": \"area\", \"sizeref\": 47445.0}, \"name\": \"city=Tuticorin\", \"showlegend\": true, \"type\": \"scattergeo\"}, {\"geo\": \"geo\", \"hoverlabel\": {\"namelength\": 0}, \"hovertemplate\": \"<b>%{hovertext}</b><br><br>city=%{location}<br>population=%{marker.size}\", \"hovertext\": [\"Kurnool\"], \"legendgroup\": \"city=Kurnool\", \"locations\": [\"Kurnool\"], \"marker\": {\"color\": \"#FF97FF\", \"size\": [424920.0], \"sizemode\": \"area\", \"sizeref\": 47445.0}, \"name\": \"city=Kurnool\", \"showlegend\": true, \"type\": \"scattergeo\"}, {\"geo\": \"geo\", \"hoverlabel\": {\"namelength\": 0}, \"hovertemplate\": \"<b>%{hovertext}</b><br><br>city=%{location}<br>population=%{marker.size}\", \"hovertext\": [\"Gaya\"], \"legendgroup\": \"city=Gaya\", \"locations\": [\"Gaya\"], \"marker\": {\"color\": \"#FECB52\", \"size\": [423692.0], \"sizemode\": \"area\", \"sizeref\": 47445.0}, \"name\": \"city=Gaya\", \"showlegend\": true, \"type\": \"scattergeo\"}, {\"geo\": \"geo\", \"hoverlabel\": {\"namelength\": 0}, \"hovertemplate\": \"<b>%{hovertext}</b><br><br>city=%{location}<br>population=%{marker.size}\", \"hovertext\": [\"S\\u012bkar\"], \"legendgroup\": \"city=S\\u012bkar\", \"locations\": [\"S\\u012bkar\"], \"marker\": {\"color\": \"#636efa\", \"size\": [400000.0], \"sizemode\": \"area\", \"sizeref\": 47445.0}, \"name\": \"city=S\\u012bkar\", \"showlegend\": true, \"type\": \"scattergeo\"}, {\"geo\": \"geo\", \"hoverlabel\": {\"namelength\": 0}, \"hovertemplate\": \"<b>%{hovertext}</b><br><br>city=%{location}<br>population=%{marker.size}\", \"hovertext\": [\"Tumk\\u016br\"], \"legendgroup\": \"city=Tumk\\u016br\", \"locations\": [\"Tumk\\u016br\"], \"marker\": {\"color\": \"#EF553B\", \"size\": [399606.0], \"sizemode\": \"area\", \"sizeref\": 47445.0}, \"name\": \"city=Tumk\\u016br\", \"showlegend\": true, \"type\": \"scattergeo\"}, {\"geo\": \"geo\", \"hoverlabel\": {\"namelength\": 0}, \"hovertemplate\": \"<b>%{hovertext}</b><br><br>city=%{location}<br>population=%{marker.size}\", \"hovertext\": [\"Quilon\"], \"legendgroup\": \"city=Quilon\", \"locations\": [\"Quilon\"], \"marker\": {\"color\": \"#00cc96\", \"size\": [394163.0], \"sizemode\": \"area\", \"sizeref\": 47445.0}, \"name\": \"city=Quilon\", \"showlegend\": true, \"type\": \"scattergeo\"}, {\"geo\": \"geo\", \"hoverlabel\": {\"namelength\": 0}, \"hovertemplate\": \"<b>%{hovertext}</b><br><br>city=%{location}<br>population=%{marker.size}\", \"hovertext\": [\"Ahmadnagar\"], \"legendgroup\": \"city=Ahmadnagar\", \"locations\": [\"Ahmadnagar\"], \"marker\": {\"color\": \"#ab63fa\", \"size\": [391760.0], \"sizemode\": \"area\", \"sizeref\": 47445.0}, \"name\": \"city=Ahmadnagar\", \"showlegend\": true, \"type\": \"scattergeo\"}, {\"geo\": \"geo\", \"hoverlabel\": {\"namelength\": 0}, \"hovertemplate\": \"<b>%{hovertext}</b><br><br>city=%{location}<br>population=%{marker.size}\", \"hovertext\": [\"Bh\\u012blw\\u0101ra\"], \"legendgroup\": \"city=Bh\\u012blw\\u0101ra\", \"locations\": [\"Bh\\u012blw\\u0101ra\"], \"marker\": {\"color\": \"#FFA15A\", \"size\": [389911.0], \"sizemode\": \"area\", \"sizeref\": 47445.0}, \"name\": \"city=Bh\\u012blw\\u0101ra\", \"showlegend\": true, \"type\": \"scattergeo\"}, {\"geo\": \"geo\", \"hoverlabel\": {\"namelength\": 0}, \"hovertemplate\": \"<b>%{hovertext}</b><br><br>city=%{location}<br>population=%{marker.size}\", \"hovertext\": [\"Niz\\u0101m\\u0101b\\u0101d\"], \"legendgroup\": \"city=Niz\\u0101m\\u0101b\\u0101d\", \"locations\": [\"Niz\\u0101m\\u0101b\\u0101d\"], \"marker\": {\"color\": \"#19d3f3\", \"size\": [388505.0], \"sizemode\": \"area\", \"sizeref\": 47445.0}, \"name\": \"city=Niz\\u0101m\\u0101b\\u0101d\", \"showlegend\": true, \"type\": \"scattergeo\"}, {\"geo\": \"geo\", \"hoverlabel\": {\"namelength\": 0}, \"hovertemplate\": \"<b>%{hovertext}</b><br><br>city=%{location}<br>population=%{marker.size}\", \"hovertext\": [\"Parbhani\"], \"legendgroup\": \"city=Parbhani\", \"locations\": [\"Parbhani\"], \"marker\": {\"color\": \"#FF6692\", \"size\": [378326.0], \"sizemode\": \"area\", \"sizeref\": 47445.0}, \"name\": \"city=Parbhani\", \"showlegend\": true, \"type\": \"scattergeo\"}, {\"geo\": \"geo\", \"hoverlabel\": {\"namelength\": 0}, \"hovertemplate\": \"<b>%{hovertext}</b><br><br>city=%{location}<br>population=%{marker.size}\", \"hovertext\": [\"Shillong\"], \"legendgroup\": \"city=Shillong\", \"locations\": [\"Shillong\"], \"marker\": {\"color\": \"#B6E880\", \"size\": [375527.0], \"sizemode\": \"area\", \"sizeref\": 47445.0}, \"name\": \"city=Shillong\", \"showlegend\": true, \"type\": \"scattergeo\"}, {\"geo\": \"geo\", \"hoverlabel\": {\"namelength\": 0}, \"hovertemplate\": \"<b>%{hovertext}</b><br><br>city=%{location}<br>population=%{marker.size}\", \"hovertext\": [\"L\\u0101t\\u016br\"], \"legendgroup\": \"city=L\\u0101t\\u016br\", \"locations\": [\"L\\u0101t\\u016br\"], \"marker\": {\"color\": \"#FF97FF\", \"size\": [374394.0], \"sizemode\": \"area\", \"sizeref\": 47445.0}, \"name\": \"city=L\\u0101t\\u016br\", \"showlegend\": true, \"type\": \"scattergeo\"}, {\"geo\": \"geo\", \"hoverlabel\": {\"namelength\": 0}, \"hovertemplate\": \"<b>%{hovertext}</b><br><br>city=%{location}<br>population=%{marker.size}\", \"hovertext\": [\"R\\u0101jap\\u0101laiyam\"], \"legendgroup\": \"city=R\\u0101jap\\u0101laiyam\", \"locations\": [\"R\\u0101jap\\u0101laiyam\"], \"marker\": {\"color\": \"#FECB52\", \"size\": [369991.0], \"sizemode\": \"area\", \"sizeref\": 47445.0}, \"name\": \"city=R\\u0101jap\\u0101laiyam\", \"showlegend\": true, \"type\": \"scattergeo\"}, {\"geo\": \"geo\", \"hoverlabel\": {\"namelength\": 0}, \"hovertemplate\": \"<b>%{hovertext}</b><br><br>city=%{location}<br>population=%{marker.size}\", \"hovertext\": [\"Bh\\u0101galpur\"], \"legendgroup\": \"city=Bh\\u0101galpur\", \"locations\": [\"Bh\\u0101galpur\"], \"marker\": {\"color\": \"#636efa\", \"size\": [361548.0], \"sizemode\": \"area\", \"sizeref\": 47445.0}, \"name\": \"city=Bh\\u0101galpur\", \"showlegend\": true, \"type\": \"scattergeo\"}, {\"geo\": \"geo\", \"hoverlabel\": {\"namelength\": 0}, \"hovertemplate\": \"<b>%{hovertext}</b><br><br>city=%{location}<br>population=%{marker.size}\", \"hovertext\": [\"Muzaffarnagar\"], \"legendgroup\": \"city=Muzaffarnagar\", \"locations\": [\"Muzaffarnagar\"], \"marker\": {\"color\": \"#EF553B\", \"size\": [349706.0], \"sizemode\": \"area\", \"sizeref\": 47445.0}, \"name\": \"city=Muzaffarnagar\", \"showlegend\": true, \"type\": \"scattergeo\"}, {\"geo\": \"geo\", \"hoverlabel\": {\"namelength\": 0}, \"hovertemplate\": \"<b>%{hovertext}</b><br><br>city=%{location}<br>population=%{marker.size}\", \"hovertext\": [\"Muzaffarpur\"], \"legendgroup\": \"city=Muzaffarpur\", \"locations\": [\"Muzaffarpur\"], \"marker\": {\"color\": \"#00cc96\", \"size\": [333200.0], \"sizemode\": \"area\", \"sizeref\": 47445.0}, \"name\": \"city=Muzaffarpur\", \"showlegend\": true, \"type\": \"scattergeo\"}, {\"geo\": \"geo\", \"hoverlabel\": {\"namelength\": 0}, \"hovertemplate\": \"<b>%{hovertext}</b><br><br>city=%{location}<br>population=%{marker.size}\", \"hovertext\": [\"Mathura\"], \"legendgroup\": \"city=Mathura\", \"locations\": [\"Mathura\"], \"marker\": {\"color\": \"#ab63fa\", \"size\": [330511.0], \"sizemode\": \"area\", \"sizeref\": 47445.0}, \"name\": \"city=Mathura\", \"showlegend\": true, \"type\": \"scattergeo\"}, {\"geo\": \"geo\", \"hoverlabel\": {\"namelength\": 0}, \"hovertemplate\": \"<b>%{hovertext}</b><br><br>city=%{location}<br>population=%{marker.size}\", \"hovertext\": [\"Pati\\u0101la\"], \"legendgroup\": \"city=Pati\\u0101la\", \"locations\": [\"Pati\\u0101la\"], \"marker\": {\"color\": \"#FFA15A\", \"size\": [329224.0], \"sizemode\": \"area\", \"sizeref\": 47445.0}, \"name\": \"city=Pati\\u0101la\", \"showlegend\": true, \"type\": \"scattergeo\"}, {\"geo\": \"geo\", \"hoverlabel\": {\"namelength\": 0}, \"hovertemplate\": \"<b>%{hovertext}</b><br><br>city=%{location}<br>population=%{marker.size}\", \"hovertext\": [\"Saugor\"], \"legendgroup\": \"city=Saugor\", \"locations\": [\"Saugor\"], \"marker\": {\"color\": \"#19d3f3\", \"size\": [328240.0], \"sizemode\": \"area\", \"sizeref\": 47445.0}, \"name\": \"city=Saugor\", \"showlegend\": true, \"type\": \"scattergeo\"}, {\"geo\": \"geo\", \"hoverlabel\": {\"namelength\": 0}, \"hovertemplate\": \"<b>%{hovertext}</b><br><br>city=%{location}<br>population=%{marker.size}\", \"hovertext\": [\"Brahmapur\"], \"legendgroup\": \"city=Brahmapur\", \"locations\": [\"Brahmapur\"], \"marker\": {\"color\": \"#FF6692\", \"size\": [324726.0], \"sizemode\": \"area\", \"sizeref\": 47445.0}, \"name\": \"city=Brahmapur\", \"showlegend\": true, \"type\": \"scattergeo\"}, {\"geo\": \"geo\", \"hoverlabel\": {\"namelength\": 0}, \"hovertemplate\": \"<b>%{hovertext}</b><br><br>city=%{location}<br>population=%{marker.size}\", \"hovertext\": [\"Sh\\u0101hj\\u0101npur\"], \"legendgroup\": \"city=Sh\\u0101hj\\u0101npur\", \"locations\": [\"Sh\\u0101hj\\u0101npur\"], \"marker\": {\"color\": \"#B6E880\", \"size\": [320434.0], \"sizemode\": \"area\", \"sizeref\": 47445.0}, \"name\": \"city=Sh\\u0101hj\\u0101npur\", \"showlegend\": true, \"type\": \"scattergeo\"}, {\"geo\": \"geo\", \"hoverlabel\": {\"namelength\": 0}, \"hovertemplate\": \"<b>%{hovertext}</b><br><br>city=%{location}<br>population=%{marker.size}\", \"hovertext\": [\"Rohtak\"], \"legendgroup\": \"city=Rohtak\", \"locations\": [\"Rohtak\"], \"marker\": {\"color\": \"#FF97FF\", \"size\": [317245.0], \"sizemode\": \"area\", \"sizeref\": 47445.0}, \"name\": \"city=Rohtak\", \"showlegend\": true, \"type\": \"scattergeo\"}, {\"geo\": \"geo\", \"hoverlabel\": {\"namelength\": 0}, \"hovertemplate\": \"<b>%{hovertext}</b><br><br>city=%{location}<br>population=%{marker.size}\", \"hovertext\": [\"Sambalpur\"], \"legendgroup\": \"city=Sambalpur\", \"locations\": [\"Sambalpur\"], \"marker\": {\"color\": \"#FECB52\", \"size\": [310852.0], \"sizemode\": \"area\", \"sizeref\": 47445.0}, \"name\": \"city=Sambalpur\", \"showlegend\": true, \"type\": \"scattergeo\"}, {\"geo\": \"geo\", \"hoverlabel\": {\"namelength\": 0}, \"hovertemplate\": \"<b>%{hovertext}</b><br><br>city=%{location}<br>population=%{marker.size}\", \"hovertext\": [\"Ratl\\u0101m\"], \"legendgroup\": \"city=Ratl\\u0101m\", \"locations\": [\"Ratl\\u0101m\"], \"marker\": {\"color\": \"#636efa\", \"size\": [307229.0], \"sizemode\": \"area\", \"sizeref\": 47445.0}, \"name\": \"city=Ratl\\u0101m\", \"showlegend\": true, \"type\": \"scattergeo\"}, {\"geo\": \"geo\", \"hoverlabel\": {\"namelength\": 0}, \"hovertemplate\": \"<b>%{hovertext}</b><br><br>city=%{location}<br>population=%{marker.size}\", \"hovertext\": [\"F\\u012broz\\u0101b\\u0101d\"], \"legendgroup\": \"city=F\\u012broz\\u0101b\\u0101d\", \"locations\": [\"F\\u012broz\\u0101b\\u0101d\"], \"marker\": {\"color\": \"#EF553B\", \"size\": [306409.0], \"sizemode\": \"area\", \"sizeref\": 47445.0}, \"name\": \"city=F\\u012broz\\u0101b\\u0101d\", \"showlegend\": true, \"type\": \"scattergeo\"}, {\"geo\": \"geo\", \"hoverlabel\": {\"namelength\": 0}, \"hovertemplate\": \"<b>%{hovertext}</b><br><br>city=%{location}<br>population=%{marker.size}\", \"hovertext\": [\"R\\u0101jahmundry\"], \"legendgroup\": \"city=R\\u0101jahmundry\", \"locations\": [\"R\\u0101jahmundry\"], \"marker\": {\"color\": \"#00cc96\", \"size\": [304804.0], \"sizemode\": \"area\", \"sizeref\": 47445.0}, \"name\": \"city=R\\u0101jahmundry\", \"showlegend\": true, \"type\": \"scattergeo\"}, {\"geo\": \"geo\", \"hoverlabel\": {\"namelength\": 0}, \"hovertemplate\": \"<b>%{hovertext}</b><br><br>city=%{location}<br>population=%{marker.size}\", \"hovertext\": [\"Barddham\\u0101n\"], \"legendgroup\": \"city=Barddham\\u0101n\", \"locations\": [\"Barddham\\u0101n\"], \"marker\": {\"color\": \"#ab63fa\", \"size\": [301725.0], \"sizemode\": \"area\", \"sizeref\": 47445.0}, \"name\": \"city=Barddham\\u0101n\", \"showlegend\": true, \"type\": \"scattergeo\"}, {\"geo\": \"geo\", \"hoverlabel\": {\"namelength\": 0}, \"hovertemplate\": \"<b>%{hovertext}</b><br><br>city=%{location}<br>population=%{marker.size}\", \"hovertext\": [\"B\\u012bdar\"], \"legendgroup\": \"city=B\\u012bdar\", \"locations\": [\"B\\u012bdar\"], \"marker\": {\"color\": \"#FFA15A\", \"size\": [300136.0], \"sizemode\": \"area\", \"sizeref\": 47445.0}, \"name\": \"city=B\\u012bdar\", \"showlegend\": true, \"type\": \"scattergeo\"}, {\"geo\": \"geo\", \"hoverlabel\": {\"namelength\": 0}, \"hovertemplate\": \"<b>%{hovertext}</b><br><br>city=%{location}<br>population=%{marker.size}\", \"hovertext\": [\"R\\u0101mpur\"], \"legendgroup\": \"city=R\\u0101mpur\", \"locations\": [\"R\\u0101mpur\"], \"marker\": {\"color\": \"#19d3f3\", \"size\": [296418.0], \"sizemode\": \"area\", \"sizeref\": 47445.0}, \"name\": \"city=R\\u0101mpur\", \"showlegend\": true, \"type\": \"scattergeo\"}, {\"geo\": \"geo\", \"hoverlabel\": {\"namelength\": 0}, \"hovertemplate\": \"<b>%{hovertext}</b><br><br>city=%{location}<br>population=%{marker.size}\", \"hovertext\": [\"K\\u0101kin\\u0101da\"], \"legendgroup\": \"city=K\\u0101kin\\u0101da\", \"locations\": [\"K\\u0101kin\\u0101da\"], \"marker\": {\"color\": \"#FF6692\", \"size\": [292923.0], \"sizemode\": \"area\", \"sizeref\": 47445.0}, \"name\": \"city=K\\u0101kin\\u0101da\", \"showlegend\": true, \"type\": \"scattergeo\"}, {\"geo\": \"geo\", \"hoverlabel\": {\"namelength\": 0}, \"hovertemplate\": \"<b>%{hovertext}</b><br><br>city=%{location}<br>population=%{marker.size}\", \"hovertext\": [\"P\\u0101n\\u012bpat\"], \"legendgroup\": \"city=P\\u0101n\\u012bpat\", \"locations\": [\"P\\u0101n\\u012bpat\"], \"marker\": {\"color\": \"#B6E880\", \"size\": [292808.0], \"sizemode\": \"area\", \"sizeref\": 47445.0}, \"name\": \"city=P\\u0101n\\u012bpat\", \"showlegend\": true, \"type\": \"scattergeo\"}, {\"geo\": \"geo\", \"hoverlabel\": {\"namelength\": 0}, \"hovertemplate\": \"<b>%{hovertext}</b><br><br>city=%{location}<br>population=%{marker.size}\", \"hovertext\": [\"Khammam\"], \"legendgroup\": \"city=Khammam\", \"locations\": [\"Khammam\"], \"marker\": {\"color\": \"#FF97FF\", \"size\": [290839.0], \"sizemode\": \"area\", \"sizeref\": 47445.0}, \"name\": \"city=Khammam\", \"showlegend\": true, \"type\": \"scattergeo\"}, {\"geo\": \"geo\", \"hoverlabel\": {\"namelength\": 0}, \"hovertemplate\": \"<b>%{hovertext}</b><br><br>city=%{location}<br>population=%{marker.size}\", \"hovertext\": [\"Bhuj\"], \"legendgroup\": \"city=Bhuj\", \"locations\": [\"Bhuj\"], \"marker\": {\"color\": \"#FECB52\", \"size\": [289429.0], \"sizemode\": \"area\", \"sizeref\": 47445.0}, \"name\": \"city=Bhuj\", \"showlegend\": true, \"type\": \"scattergeo\"}, {\"geo\": \"geo\", \"hoverlabel\": {\"namelength\": 0}, \"hovertemplate\": \"<b>%{hovertext}</b><br><br>city=%{location}<br>population=%{marker.size}\", \"hovertext\": [\"Kar\\u012bmnagar\"], \"legendgroup\": \"city=Kar\\u012bmnagar\", \"locations\": [\"Kar\\u012bmnagar\"], \"marker\": {\"color\": \"#636efa\", \"size\": [288251.0], \"sizemode\": \"area\", \"sizeref\": 47445.0}, \"name\": \"city=Kar\\u012bmnagar\", \"showlegend\": true, \"type\": \"scattergeo\"}, {\"geo\": \"geo\", \"hoverlabel\": {\"namelength\": 0}, \"hovertemplate\": \"<b>%{hovertext}</b><br><br>city=%{location}<br>population=%{marker.size}\", \"hovertext\": [\"Tirupati\"], \"legendgroup\": \"city=Tirupati\", \"locations\": [\"Tirupati\"], \"marker\": {\"color\": \"#EF553B\", \"size\": [287035.0], \"sizemode\": \"area\", \"sizeref\": 47445.0}, \"name\": \"city=Tirupati\", \"showlegend\": true, \"type\": \"scattergeo\"}, {\"geo\": \"geo\", \"hoverlabel\": {\"namelength\": 0}, \"hovertemplate\": \"<b>%{hovertext}</b><br><br>city=%{location}<br>population=%{marker.size}\", \"hovertext\": [\"Hospet\"], \"legendgroup\": \"city=Hospet\", \"locations\": [\"Hospet\"], \"marker\": {\"color\": \"#00cc96\", \"size\": [286007.0], \"sizemode\": \"area\", \"sizeref\": 47445.0}, \"name\": \"city=Hospet\", \"showlegend\": true, \"type\": \"scattergeo\"}, {\"geo\": \"geo\", \"hoverlabel\": {\"namelength\": 0}, \"hovertemplate\": \"<b>%{hovertext}</b><br><br>city=%{location}<br>population=%{marker.size}\", \"hovertext\": [\"Mandya\"], \"legendgroup\": \"city=Mandya\", \"locations\": [\"Mandya\"], \"marker\": {\"color\": \"#ab63fa\", \"size\": [285034.0], \"sizemode\": \"area\", \"sizeref\": 47445.0}, \"name\": \"city=Mandya\", \"showlegend\": true, \"type\": \"scattergeo\"}, {\"geo\": \"geo\", \"hoverlabel\": {\"namelength\": 0}, \"hovertemplate\": \"<b>%{hovertext}</b><br><br>city=%{location}<br>population=%{marker.size}\", \"hovertext\": [\"Alwar\"], \"legendgroup\": \"city=Alwar\", \"locations\": [\"Alwar\"], \"marker\": {\"color\": \"#FFA15A\", \"size\": [283228.0], \"sizemode\": \"area\", \"sizeref\": 47445.0}, \"name\": \"city=Alwar\", \"showlegend\": true, \"type\": \"scattergeo\"}, {\"geo\": \"geo\", \"hoverlabel\": {\"namelength\": 0}, \"hovertemplate\": \"<b>%{hovertext}</b><br><br>city=%{location}<br>population=%{marker.size}\", \"hovertext\": [\"Aizawl\"], \"legendgroup\": \"city=Aizawl\", \"locations\": [\"Aizawl\"], \"marker\": {\"color\": \"#19d3f3\", \"size\": [283021.0], \"sizemode\": \"area\", \"sizeref\": 47445.0}, \"name\": \"city=Aizawl\", \"showlegend\": true, \"type\": \"scattergeo\"}, {\"geo\": \"geo\", \"hoverlabel\": {\"namelength\": 0}, \"hovertemplate\": \"<b>%{hovertext}</b><br><br>city=%{location}<br>population=%{marker.size}\", \"hovertext\": [\"Bij\\u0101pur\"], \"legendgroup\": \"city=Bij\\u0101pur\", \"locations\": [\"Bij\\u0101pur\"], \"marker\": {\"color\": \"#FF6692\", \"size\": [271064.0], \"sizemode\": \"area\", \"sizeref\": 47445.0}, \"name\": \"city=Bij\\u0101pur\", \"showlegend\": true, \"type\": \"scattergeo\"}, {\"geo\": \"geo\", \"hoverlabel\": {\"namelength\": 0}, \"hovertemplate\": \"<b>%{hovertext}</b><br><br>city=%{location}<br>population=%{marker.size}\", \"hovertext\": [\"Imphal\"], \"legendgroup\": \"city=Imphal\", \"locations\": [\"Imphal\"], \"marker\": {\"color\": \"#B6E880\", \"size\": [264986.0], \"sizemode\": \"area\", \"sizeref\": 47445.0}, \"name\": \"city=Imphal\", \"showlegend\": true, \"type\": \"scattergeo\"}, {\"geo\": \"geo\", \"hoverlabel\": {\"namelength\": 0}, \"hovertemplate\": \"<b>%{hovertext}</b><br><br>city=%{location}<br>population=%{marker.size}\", \"hovertext\": [\"Et\\u0101wah\"], \"legendgroup\": \"city=Et\\u0101wah\", \"locations\": [\"Et\\u0101wah\"], \"marker\": {\"color\": \"#FF97FF\", \"size\": [257448.0], \"sizemode\": \"area\", \"sizeref\": 47445.0}, \"name\": \"city=Et\\u0101wah\", \"showlegend\": true, \"type\": \"scattergeo\"}, {\"geo\": \"geo\", \"hoverlabel\": {\"namelength\": 0}, \"hovertemplate\": \"<b>%{hovertext}</b><br><br>city=%{location}<br>population=%{marker.size}\", \"hovertext\": [\"R\\u0101ich\\u016br\"], \"legendgroup\": \"city=R\\u0101ich\\u016br\", \"locations\": [\"R\\u0101ich\\u016br\"], \"marker\": {\"color\": \"#FECB52\", \"size\": [255240.0], \"sizemode\": \"area\", \"sizeref\": 47445.0}, \"name\": \"city=R\\u0101ich\\u016br\", \"showlegend\": true, \"type\": \"scattergeo\"}, {\"geo\": \"geo\", \"hoverlabel\": {\"namelength\": 0}, \"hovertemplate\": \"<b>%{hovertext}</b><br><br>city=%{location}<br>population=%{marker.size}\", \"hovertext\": [\"Path\\u0101nkot\"], \"legendgroup\": \"city=Path\\u0101nkot\", \"locations\": [\"Path\\u0101nkot\"], \"marker\": {\"color\": \"#636efa\", \"size\": [253987.0], \"sizemode\": \"area\", \"sizeref\": 47445.0}, \"name\": \"city=Path\\u0101nkot\", \"showlegend\": true, \"type\": \"scattergeo\"}, {\"geo\": \"geo\", \"hoverlabel\": {\"namelength\": 0}, \"hovertemplate\": \"<b>%{hovertext}</b><br><br>city=%{location}<br>population=%{marker.size}\", \"hovertext\": [\"Ch\\u012br\\u0101la\"], \"legendgroup\": \"city=Ch\\u012br\\u0101la\", \"locations\": [\"Ch\\u012br\\u0101la\"], \"marker\": {\"color\": \"#EF553B\", \"size\": [253000.0], \"sizemode\": \"area\", \"sizeref\": 47445.0}, \"name\": \"city=Ch\\u012br\\u0101la\", \"showlegend\": true, \"type\": \"scattergeo\"}, {\"geo\": \"geo\", \"hoverlabel\": {\"namelength\": 0}, \"hovertemplate\": \"<b>%{hovertext}</b><br><br>city=%{location}<br>population=%{marker.size}\", \"hovertext\": [\"Son\\u012bpat\"], \"legendgroup\": \"city=Son\\u012bpat\", \"locations\": [\"Son\\u012bpat\"], \"marker\": {\"color\": \"#00cc96\", \"size\": [250521.0], \"sizemode\": \"area\", \"sizeref\": 47445.0}, \"name\": \"city=Son\\u012bpat\", \"showlegend\": true, \"type\": \"scattergeo\"}, {\"geo\": \"geo\", \"hoverlabel\": {\"namelength\": 0}, \"hovertemplate\": \"<b>%{hovertext}</b><br><br>city=%{location}<br>population=%{marker.size}\", \"hovertext\": [\"Mirz\\u0101pur\"], \"legendgroup\": \"city=Mirz\\u0101pur\", \"locations\": [\"Mirz\\u0101pur\"], \"marker\": {\"color\": \"#ab63fa\", \"size\": [245817.0], \"sizemode\": \"area\", \"sizeref\": 47445.0}, \"name\": \"city=Mirz\\u0101pur\", \"showlegend\": true, \"type\": \"scattergeo\"}, {\"geo\": \"geo\", \"hoverlabel\": {\"namelength\": 0}, \"hovertemplate\": \"<b>%{hovertext}</b><br><br>city=%{location}<br>population=%{marker.size}\", \"hovertext\": [\"H\\u0101pur\"], \"legendgroup\": \"city=H\\u0101pur\", \"locations\": [\"H\\u0101pur\"], \"marker\": {\"color\": \"#FFA15A\", \"size\": [242920.0], \"sizemode\": \"area\", \"sizeref\": 47445.0}, \"name\": \"city=H\\u0101pur\", \"showlegend\": true, \"type\": \"scattergeo\"}, {\"geo\": \"geo\", \"hoverlabel\": {\"namelength\": 0}, \"hovertemplate\": \"<b>%{hovertext}</b><br><br>city=%{location}<br>population=%{marker.size}\", \"hovertext\": [\"Porbandar\"], \"legendgroup\": \"city=Porbandar\", \"locations\": [\"Porbandar\"], \"marker\": {\"color\": \"#19d3f3\", \"size\": [234684.0], \"sizemode\": \"area\", \"sizeref\": 47445.0}, \"name\": \"city=Porbandar\", \"showlegend\": true, \"type\": \"scattergeo\"}, {\"geo\": \"geo\", \"hoverlabel\": {\"namelength\": 0}, \"hovertemplate\": \"<b>%{hovertext}</b><br><br>city=%{location}<br>population=%{marker.size}\", \"hovertext\": [\"Bharatpur\"], \"legendgroup\": \"city=Bharatpur\", \"locations\": [\"Bharatpur\"], \"marker\": {\"color\": \"#FF6692\", \"size\": [229384.0], \"sizemode\": \"area\", \"sizeref\": 47445.0}, \"name\": \"city=Bharatpur\", \"showlegend\": true, \"type\": \"scattergeo\"}, {\"geo\": \"geo\", \"hoverlabel\": {\"namelength\": 0}, \"hovertemplate\": \"<b>%{hovertext}</b><br><br>city=%{location}<br>population=%{marker.size}\", \"hovertext\": [\"Puducherry\"], \"legendgroup\": \"city=Puducherry\", \"locations\": [\"Puducherry\"], \"marker\": {\"color\": \"#B6E880\", \"size\": [227411.0], \"sizemode\": \"area\", \"sizeref\": 47445.0}, \"name\": \"city=Puducherry\", \"showlegend\": true, \"type\": \"scattergeo\"}, {\"geo\": \"geo\", \"hoverlabel\": {\"namelength\": 0}, \"hovertemplate\": \"<b>%{hovertext}</b><br><br>city=%{location}<br>population=%{marker.size}\", \"hovertext\": [\"Karn\\u0101l\"], \"legendgroup\": \"city=Karn\\u0101l\", \"locations\": [\"Karn\\u0101l\"], \"marker\": {\"color\": \"#FF97FF\", \"size\": [225049.0], \"sizemode\": \"area\", \"sizeref\": 47445.0}, \"name\": \"city=Karn\\u0101l\", \"showlegend\": true, \"type\": \"scattergeo\"}, {\"geo\": \"geo\", \"hoverlabel\": {\"namelength\": 0}, \"hovertemplate\": \"<b>%{hovertext}</b><br><br>city=%{location}<br>population=%{marker.size}\", \"hovertext\": [\"N\\u0101gercoil\"], \"legendgroup\": \"city=N\\u0101gercoil\", \"locations\": [\"N\\u0101gercoil\"], \"marker\": {\"color\": \"#FECB52\", \"size\": [224329.0], \"sizemode\": \"area\", \"sizeref\": 47445.0}, \"name\": \"city=N\\u0101gercoil\", \"showlegend\": true, \"type\": \"scattergeo\"}, {\"geo\": \"geo\", \"hoverlabel\": {\"namelength\": 0}, \"hovertemplate\": \"<b>%{hovertext}</b><br><br>city=%{location}<br>population=%{marker.size}\", \"hovertext\": [\"Tanjore\"], \"legendgroup\": \"city=Tanjore\", \"locations\": [\"Tanjore\"], \"marker\": {\"color\": \"#636efa\", \"size\": [219571.0], \"sizemode\": \"area\", \"sizeref\": 47445.0}, \"name\": \"city=Tanjore\", \"showlegend\": true, \"type\": \"scattergeo\"}, {\"geo\": \"geo\", \"hoverlabel\": {\"namelength\": 0}, \"hovertemplate\": \"<b>%{hovertext}</b><br><br>city=%{location}<br>population=%{marker.size}\", \"hovertext\": [\"P\\u0101li\"], \"legendgroup\": \"city=P\\u0101li\", \"locations\": [\"P\\u0101li\"], \"marker\": {\"color\": \"#EF553B\", \"size\": [210103.0], \"sizemode\": \"area\", \"sizeref\": 47445.0}, \"name\": \"city=P\\u0101li\", \"showlegend\": true, \"type\": \"scattergeo\"}, {\"geo\": \"geo\", \"hoverlabel\": {\"namelength\": 0}, \"hovertemplate\": \"<b>%{hovertext}</b><br><br>city=%{location}<br>population=%{marker.size}\", \"hovertext\": [\"Agartala\"], \"legendgroup\": \"city=Agartala\", \"locations\": [\"Agartala\"], \"marker\": {\"color\": \"#00cc96\", \"size\": [203264.0], \"sizemode\": \"area\", \"sizeref\": 47445.0}, \"name\": \"city=Agartala\", \"showlegend\": true, \"type\": \"scattergeo\"}, {\"geo\": \"geo\", \"hoverlabel\": {\"namelength\": 0}, \"hovertemplate\": \"<b>%{hovertext}</b><br><br>city=%{location}<br>population=%{marker.size}\", \"hovertext\": [\"Ongole\"], \"legendgroup\": \"city=Ongole\", \"locations\": [\"Ongole\"], \"marker\": {\"color\": \"#ab63fa\", \"size\": [202860.0], \"sizemode\": \"area\", \"sizeref\": 47445.0}, \"name\": \"city=Ongole\", \"showlegend\": true, \"type\": \"scattergeo\"}, {\"geo\": \"geo\", \"hoverlabel\": {\"namelength\": 0}, \"hovertemplate\": \"<b>%{hovertext}</b><br><br>city=%{location}<br>population=%{marker.size}\", \"hovertext\": [\"Puri\"], \"legendgroup\": \"city=Puri\", \"locations\": [\"Puri\"], \"marker\": {\"color\": \"#FFA15A\", \"size\": [201026.0], \"sizemode\": \"area\", \"sizeref\": 47445.0}, \"name\": \"city=Puri\", \"showlegend\": true, \"type\": \"scattergeo\"}, {\"geo\": \"geo\", \"hoverlabel\": {\"namelength\": 0}, \"hovertemplate\": \"<b>%{hovertext}</b><br><br>city=%{location}<br>population=%{marker.size}\", \"hovertext\": [\"Dindigul\"], \"legendgroup\": \"city=Dindigul\", \"locations\": [\"Dindigul\"], \"marker\": {\"color\": \"#19d3f3\", \"size\": [200797.0], \"sizemode\": \"area\", \"sizeref\": 47445.0}, \"name\": \"city=Dindigul\", \"showlegend\": true, \"type\": \"scattergeo\"}, {\"geo\": \"geo\", \"hoverlabel\": {\"namelength\": 0}, \"hovertemplate\": \"<b>%{hovertext}</b><br><br>city=%{location}<br>population=%{marker.size}\", \"hovertext\": [\"Haldia\"], \"legendgroup\": \"city=Haldia\", \"locations\": [\"Haldia\"], \"marker\": {\"color\": \"#FF6692\", \"size\": [200762.0], \"sizemode\": \"area\", \"sizeref\": 47445.0}, \"name\": \"city=Haldia\", \"showlegend\": true, \"type\": \"scattergeo\"}, {\"geo\": \"geo\", \"hoverlabel\": {\"namelength\": 0}, \"hovertemplate\": \"<b>%{hovertext}</b><br><br>city=%{location}<br>population=%{marker.size}\", \"hovertext\": [\"Bulandshahr\"], \"legendgroup\": \"city=Bulandshahr\", \"locations\": [\"Bulandshahr\"], \"marker\": {\"color\": \"#B6E880\", \"size\": [198612.0], \"sizemode\": \"area\", \"sizeref\": 47445.0}, \"name\": \"city=Bulandshahr\", \"showlegend\": true, \"type\": \"scattergeo\"}, {\"geo\": \"geo\", \"hoverlabel\": {\"namelength\": 0}, \"hovertemplate\": \"<b>%{hovertext}</b><br><br>city=%{location}<br>population=%{marker.size}\", \"hovertext\": [\"Purnea\"], \"legendgroup\": \"city=Purnea\", \"locations\": [\"Purnea\"], \"marker\": {\"color\": \"#FF97FF\", \"size\": [198453.0], \"sizemode\": \"area\", \"sizeref\": 47445.0}, \"name\": \"city=Purnea\", \"showlegend\": true, \"type\": \"scattergeo\"}, {\"geo\": \"geo\", \"hoverlabel\": {\"namelength\": 0}, \"hovertemplate\": \"<b>%{hovertext}</b><br><br>city=%{location}<br>population=%{marker.size}\", \"hovertext\": [\"Proddat\\u016br\"], \"legendgroup\": \"city=Proddat\\u016br\", \"locations\": [\"Proddat\\u016br\"], \"marker\": {\"color\": \"#FECB52\", \"size\": [197451.0], \"sizemode\": \"area\", \"sizeref\": 47445.0}, \"name\": \"city=Proddat\\u016br\", \"showlegend\": true, \"type\": \"scattergeo\"}, {\"geo\": \"geo\", \"hoverlabel\": {\"namelength\": 0}, \"hovertemplate\": \"<b>%{hovertext}</b><br><br>city=%{location}<br>population=%{marker.size}\", \"hovertext\": [\"Gurgaon\"], \"legendgroup\": \"city=Gurgaon\", \"locations\": [\"Gurgaon\"], \"marker\": {\"color\": \"#636efa\", \"size\": [197340.0], \"sizemode\": \"area\", \"sizeref\": 47445.0}, \"name\": \"city=Gurgaon\", \"showlegend\": true, \"type\": \"scattergeo\"}, {\"geo\": \"geo\", \"hoverlabel\": {\"namelength\": 0}, \"hovertemplate\": \"<b>%{hovertext}</b><br><br>city=%{location}<br>population=%{marker.size}\", \"hovertext\": [\"Burh\\u0101npur\"], \"legendgroup\": \"city=Burh\\u0101npur\", \"locations\": [\"Burh\\u0101npur\"], \"marker\": {\"color\": \"#EF553B\", \"size\": [197233.0], \"sizemode\": \"area\", \"sizeref\": 47445.0}, \"name\": \"city=Burh\\u0101npur\", \"showlegend\": true, \"type\": \"scattergeo\"}, {\"geo\": \"geo\", \"hoverlabel\": {\"namelength\": 0}, \"hovertemplate\": \"<b>%{hovertext}</b><br><br>city=%{location}<br>population=%{marker.size}\", \"hovertext\": [\"Ghandinagar\"], \"legendgroup\": \"city=Ghandinagar\", \"locations\": [\"Ghandinagar\"], \"marker\": {\"color\": \"#00cc96\", \"size\": [195891.0], \"sizemode\": \"area\", \"sizeref\": 47445.0}, \"name\": \"city=Ghandinagar\", \"showlegend\": true, \"type\": \"scattergeo\"}, {\"geo\": \"geo\", \"hoverlabel\": {\"namelength\": 0}, \"hovertemplate\": \"<b>%{hovertext}</b><br><br>city=%{location}<br>population=%{marker.size}\", \"hovertext\": [\"Machil\\u012bpatnam\"], \"legendgroup\": \"city=Machil\\u012bpatnam\", \"locations\": [\"Machil\\u012bpatnam\"], \"marker\": {\"color\": \"#ab63fa\", \"size\": [192827.0], \"sizemode\": \"area\", \"sizeref\": 47445.0}, \"name\": \"city=Machil\\u012bpatnam\", \"showlegend\": true, \"type\": \"scattergeo\"}, {\"geo\": \"geo\", \"hoverlabel\": {\"namelength\": 0}, \"hovertemplate\": \"<b>%{hovertext}</b><br><br>city=%{location}<br>population=%{marker.size}\", \"hovertext\": [\"Bhiw\\u0101ni\"], \"legendgroup\": \"city=Bhiw\\u0101ni\", \"locations\": [\"Bhiw\\u0101ni\"], \"marker\": {\"color\": \"#FFA15A\", \"size\": [190855.0], \"sizemode\": \"area\", \"sizeref\": 47445.0}, \"name\": \"city=Bhiw\\u0101ni\", \"showlegend\": true, \"type\": \"scattergeo\"}, {\"geo\": \"geo\", \"hoverlabel\": {\"namelength\": 0}, \"hovertemplate\": \"<b>%{hovertext}</b><br><br>city=%{location}<br>population=%{marker.size}\", \"hovertext\": [\"Nandy\\u0101l\"], \"legendgroup\": \"city=Nandy\\u0101l\", \"locations\": [\"Nandy\\u0101l\"], \"marker\": {\"color\": \"#19d3f3\", \"size\": [188654.0], \"sizemode\": \"area\", \"sizeref\": 47445.0}, \"name\": \"city=Nandy\\u0101l\", \"showlegend\": true, \"type\": \"scattergeo\"}, {\"geo\": \"geo\", \"hoverlabel\": {\"namelength\": 0}, \"hovertemplate\": \"<b>%{hovertext}</b><br><br>city=%{location}<br>population=%{marker.size}\", \"hovertext\": [\"Bhus\\u0101val\"], \"legendgroup\": \"city=Bhus\\u0101val\", \"locations\": [\"Bhus\\u0101val\"], \"marker\": {\"color\": \"#FF6692\", \"size\": [183001.0], \"sizemode\": \"area\", \"sizeref\": 47445.0}, \"name\": \"city=Bhus\\u0101val\", \"showlegend\": true, \"type\": \"scattergeo\"}, {\"geo\": \"geo\", \"hoverlabel\": {\"namelength\": 0}, \"hovertemplate\": \"<b>%{hovertext}</b><br><br>city=%{location}<br>population=%{marker.size}\", \"hovertext\": [\"Bahraigh\"], \"legendgroup\": \"city=Bahraigh\", \"locations\": [\"Bahraigh\"], \"marker\": {\"color\": \"#B6E880\", \"size\": [182218.0], \"sizemode\": \"area\", \"sizeref\": 47445.0}, \"name\": \"city=Bahraigh\", \"showlegend\": true, \"type\": \"scattergeo\"}, {\"geo\": \"geo\", \"hoverlabel\": {\"namelength\": 0}, \"hovertemplate\": \"<b>%{hovertext}</b><br><br>city=%{location}<br>population=%{marker.size}\", \"hovertext\": [\"Tonk\"], \"legendgroup\": \"city=Tonk\", \"locations\": [\"Tonk\"], \"marker\": {\"color\": \"#FF97FF\", \"size\": [181734.0], \"sizemode\": \"area\", \"sizeref\": 47445.0}, \"name\": \"city=Tonk\", \"showlegend\": true, \"type\": \"scattergeo\"}, {\"geo\": \"geo\", \"hoverlabel\": {\"namelength\": 0}, \"hovertemplate\": \"<b>%{hovertext}</b><br><br>city=%{location}<br>population=%{marker.size}\", \"hovertext\": [\"Sirsa\"], \"legendgroup\": \"city=Sirsa\", \"locations\": [\"Sirsa\"], \"marker\": {\"color\": \"#FECB52\", \"size\": [181639.0], \"sizemode\": \"area\", \"sizeref\": 47445.0}, \"name\": \"city=Sirsa\", \"showlegend\": true, \"type\": \"scattergeo\"}, {\"geo\": \"geo\", \"hoverlabel\": {\"namelength\": 0}, \"hovertemplate\": \"<b>%{hovertext}</b><br><br>city=%{location}<br>population=%{marker.size}\", \"hovertext\": [\"Vizianagaram\"], \"legendgroup\": \"city=Vizianagaram\", \"locations\": [\"Vizianagaram\"], \"marker\": {\"color\": \"#636efa\", \"size\": [179358.0], \"sizemode\": \"area\", \"sizeref\": 47445.0}, \"name\": \"city=Vizianagaram\", \"showlegend\": true, \"type\": \"scattergeo\"}, {\"geo\": \"geo\", \"hoverlabel\": {\"namelength\": 0}, \"hovertemplate\": \"<b>%{hovertext}</b><br><br>city=%{location}<br>population=%{marker.size}\", \"hovertext\": [\"Vellore\"], \"legendgroup\": \"city=Vellore\", \"locations\": [\"Vellore\"], \"marker\": {\"color\": \"#EF553B\", \"size\": [177081.0], \"sizemode\": \"area\", \"sizeref\": 47445.0}, \"name\": \"city=Vellore\", \"showlegend\": true, \"type\": \"scattergeo\"}, {\"geo\": \"geo\", \"hoverlabel\": {\"namelength\": 0}, \"hovertemplate\": \"<b>%{hovertext}</b><br><br>city=%{location}<br>population=%{marker.size}\", \"hovertext\": [\"Alleppey\"], \"legendgroup\": \"city=Alleppey\", \"locations\": [\"Alleppey\"], \"marker\": {\"color\": \"#00cc96\", \"size\": [176783.0], \"sizemode\": \"area\", \"sizeref\": 47445.0}, \"name\": \"city=Alleppey\", \"showlegend\": true, \"type\": \"scattergeo\"}, {\"geo\": \"geo\", \"hoverlabel\": {\"namelength\": 0}, \"hovertemplate\": \"<b>%{hovertext}</b><br><br>city=%{location}<br>population=%{marker.size}\", \"hovertext\": [\"Shimla\"], \"legendgroup\": \"city=Shimla\", \"locations\": [\"Shimla\"], \"marker\": {\"color\": \"#ab63fa\", \"size\": [173503.0], \"sizemode\": \"area\", \"sizeref\": 47445.0}, \"name\": \"city=Shimla\", \"showlegend\": true, \"type\": \"scattergeo\"}, {\"geo\": \"geo\", \"hoverlabel\": {\"namelength\": 0}, \"hovertemplate\": \"<b>%{hovertext}</b><br><br>city=%{location}<br>population=%{marker.size}\", \"hovertext\": [\"Medin\\u012bpur\"], \"legendgroup\": \"city=Medin\\u012bpur\", \"locations\": [\"Medin\\u012bpur\"], \"marker\": {\"color\": \"#FFA15A\", \"size\": [169127.0], \"sizemode\": \"area\", \"sizeref\": 47445.0}, \"name\": \"city=Medin\\u012bpur\", \"showlegend\": true, \"type\": \"scattergeo\"}, {\"geo\": \"geo\", \"hoverlabel\": {\"namelength\": 0}, \"hovertemplate\": \"<b>%{hovertext}</b><br><br>city=%{location}<br>population=%{marker.size}\", \"hovertext\": [\"Hindupur\"], \"legendgroup\": \"city=Hindupur\", \"locations\": [\"Hindupur\"], \"marker\": {\"color\": \"#19d3f3\", \"size\": [168312.0], \"sizemode\": \"area\", \"sizeref\": 47445.0}, \"name\": \"city=Hindupur\", \"showlegend\": true, \"type\": \"scattergeo\"}, {\"geo\": \"geo\", \"hoverlabel\": {\"namelength\": 0}, \"hovertemplate\": \"<b>%{hovertext}</b><br><br>city=%{location}<br>population=%{marker.size}\", \"hovertext\": [\"B\\u0101ram\\u016bla\"], \"legendgroup\": \"city=B\\u0101ram\\u016bla\", \"locations\": [\"B\\u0101ram\\u016bla\"], \"marker\": {\"color\": \"#FF6692\", \"size\": [167986.0], \"sizemode\": \"area\", \"sizeref\": 47445.0}, \"name\": \"city=B\\u0101ram\\u016bla\", \"showlegend\": true, \"type\": \"scattergeo\"}, {\"geo\": \"geo\", \"hoverlabel\": {\"namelength\": 0}, \"hovertemplate\": \"<b>%{hovertext}</b><br><br>city=%{location}<br>population=%{marker.size}\", \"hovertext\": [\"Fatehpur\"], \"legendgroup\": \"city=Fatehpur\", \"locations\": [\"Fatehpur\"], \"marker\": {\"color\": \"#B6E880\", \"size\": [166480.0], \"sizemode\": \"area\", \"sizeref\": 47445.0}, \"name\": \"city=Fatehpur\", \"showlegend\": true, \"type\": \"scattergeo\"}, {\"geo\": \"geo\", \"hoverlabel\": {\"namelength\": 0}, \"hovertemplate\": \"<b>%{hovertext}</b><br><br>city=%{location}<br>population=%{marker.size}\", \"hovertext\": [\"Dibrugarh\"], \"legendgroup\": \"city=Dibrugarh\", \"locations\": [\"Dibrugarh\"], \"marker\": {\"color\": \"#FF97FF\", \"size\": [166366.0], \"sizemode\": \"area\", \"sizeref\": 47445.0}, \"name\": \"city=Dibrugarh\", \"showlegend\": true, \"type\": \"scattergeo\"}, {\"geo\": \"geo\", \"hoverlabel\": {\"namelength\": 0}, \"hovertemplate\": \"<b>%{hovertext}</b><br><br>city=%{location}<br>population=%{marker.size}\", \"hovertext\": [\"Sitalpur\"], \"legendgroup\": \"city=Sitalpur\", \"locations\": [\"Sitalpur\"], \"marker\": {\"color\": \"#FECB52\", \"size\": [164435.0], \"sizemode\": \"area\", \"sizeref\": 47445.0}, \"name\": \"city=Sitalpur\", \"showlegend\": true, \"type\": \"scattergeo\"}, {\"geo\": \"geo\", \"hoverlabel\": {\"namelength\": 0}, \"hovertemplate\": \"<b>%{hovertext}</b><br><br>city=%{location}<br>population=%{marker.size}\", \"hovertext\": [\"Navs\\u0101ri\"], \"legendgroup\": \"city=Navs\\u0101ri\", \"locations\": [\"Navs\\u0101ri\"], \"marker\": {\"color\": \"#636efa\", \"size\": [163000.0], \"sizemode\": \"area\", \"sizeref\": 47445.0}, \"name\": \"city=Navs\\u0101ri\", \"showlegend\": true, \"type\": \"scattergeo\"}, {\"geo\": \"geo\", \"hoverlabel\": {\"namelength\": 0}, \"hovertemplate\": \"<b>%{hovertext}</b><br><br>city=%{location}<br>population=%{marker.size}\", \"hovertext\": [\"Budaun\"], \"legendgroup\": \"city=Budaun\", \"locations\": [\"Budaun\"], \"marker\": {\"color\": \"#EF553B\", \"size\": [161555.0], \"sizemode\": \"area\", \"sizeref\": 47445.0}, \"name\": \"city=Budaun\", \"showlegend\": true, \"type\": \"scattergeo\"}, {\"geo\": \"geo\", \"hoverlabel\": {\"namelength\": 0}, \"hovertemplate\": \"<b>%{hovertext}</b><br><br>city=%{location}<br>population=%{marker.size}\", \"hovertext\": [\"Cuddalore\"], \"legendgroup\": \"city=Cuddalore\", \"locations\": [\"Cuddalore\"], \"marker\": {\"color\": \"#00cc96\", \"size\": [158569.0], \"sizemode\": \"area\", \"sizeref\": 47445.0}, \"name\": \"city=Cuddalore\", \"showlegend\": true, \"type\": \"scattergeo\"}, {\"geo\": \"geo\", \"hoverlabel\": {\"namelength\": 0}, \"hovertemplate\": \"<b>%{hovertext}</b><br><br>city=%{location}<br>population=%{marker.size}\", \"hovertext\": [\"Har\\u012bpur\"], \"legendgroup\": \"city=Har\\u012bpur\", \"locations\": [\"Har\\u012bpur\"], \"marker\": {\"color\": \"#ab63fa\", \"size\": [158142.0], \"sizemode\": \"area\", \"sizeref\": 47445.0}, \"name\": \"city=Har\\u012bpur\", \"showlegend\": true, \"type\": \"scattergeo\"}, {\"geo\": \"geo\", \"hoverlabel\": {\"namelength\": 0}, \"hovertemplate\": \"<b>%{hovertext}</b><br><br>city=%{location}<br>population=%{marker.size}\", \"hovertext\": [\"Conjeeveram\"], \"legendgroup\": \"city=Conjeeveram\", \"locations\": [\"Conjeeveram\"], \"marker\": {\"color\": \"#FFA15A\", \"size\": [155029.0], \"sizemode\": \"area\", \"sizeref\": 47445.0}, \"name\": \"city=Conjeeveram\", \"showlegend\": true, \"type\": \"scattergeo\"}, {\"geo\": \"geo\", \"hoverlabel\": {\"namelength\": 0}, \"hovertemplate\": \"<b>%{hovertext}</b><br><br>city=%{location}<br>population=%{marker.size}\", \"hovertext\": [\"Fyz\\u0101b\\u0101d\"], \"legendgroup\": \"city=Fyz\\u0101b\\u0101d\", \"locations\": [\"Fyz\\u0101b\\u0101d\"], \"marker\": {\"color\": \"#19d3f3\", \"size\": [153047.0], \"sizemode\": \"area\", \"sizeref\": 47445.0}, \"name\": \"city=Fyz\\u0101b\\u0101d\", \"showlegend\": true, \"type\": \"scattergeo\"}, {\"geo\": \"geo\", \"hoverlabel\": {\"namelength\": 0}, \"hovertemplate\": \"<b>%{hovertext}</b><br><br>city=%{location}<br>population=%{marker.size}\", \"hovertext\": [\"Silchar\"], \"legendgroup\": \"city=Silchar\", \"locations\": [\"Silchar\"], \"marker\": {\"color\": \"#FF6692\", \"size\": [152393.0], \"sizemode\": \"area\", \"sizeref\": 47445.0}, \"name\": \"city=Silchar\", \"showlegend\": true, \"type\": \"scattergeo\"}, {\"geo\": \"geo\", \"hoverlabel\": {\"namelength\": 0}, \"hovertemplate\": \"<b>%{hovertext}</b><br><br>city=%{location}<br>population=%{marker.size}\", \"hovertext\": [\"Amb\\u0101la\"], \"legendgroup\": \"city=Amb\\u0101la\", \"locations\": [\"Amb\\u0101la\"], \"marker\": {\"color\": \"#B6E880\", \"size\": [146787.0], \"sizemode\": \"area\", \"sizeref\": 47445.0}, \"name\": \"city=Amb\\u0101la\", \"showlegend\": true, \"type\": \"scattergeo\"}, {\"geo\": \"geo\", \"hoverlabel\": {\"namelength\": 0}, \"hovertemplate\": \"<b>%{hovertext}</b><br><br>city=%{location}<br>population=%{marker.size}\", \"hovertext\": [\"Krishnanagar\"], \"legendgroup\": \"city=Krishnanagar\", \"locations\": [\"Krishnanagar\"], \"marker\": {\"color\": \"#FF97FF\", \"size\": [145926.0], \"sizemode\": \"area\", \"sizeref\": 47445.0}, \"name\": \"city=Krishnanagar\", \"showlegend\": true, \"type\": \"scattergeo\"}, {\"geo\": \"geo\", \"hoverlabel\": {\"namelength\": 0}, \"hovertemplate\": \"<b>%{hovertext}</b><br><br>city=%{location}<br>population=%{marker.size}\", \"hovertext\": [\"Kol\\u0101r\"], \"legendgroup\": \"city=Kol\\u0101r\", \"locations\": [\"Kol\\u0101r\"], \"marker\": {\"color\": \"#FECB52\", \"size\": [144625.0], \"sizemode\": \"area\", \"sizeref\": 47445.0}, \"name\": \"city=Kol\\u0101r\", \"showlegend\": true, \"type\": \"scattergeo\"}, {\"geo\": \"geo\", \"hoverlabel\": {\"namelength\": 0}, \"hovertemplate\": \"<b>%{hovertext}</b><br><br>city=%{location}<br>population=%{marker.size}\", \"hovertext\": [\"Kumbakonam\"], \"legendgroup\": \"city=Kumbakonam\", \"locations\": [\"Kumbakonam\"], \"marker\": {\"color\": \"#636efa\", \"size\": [139264.0], \"sizemode\": \"area\", \"sizeref\": 47445.0}, \"name\": \"city=Kumbakonam\", \"showlegend\": true, \"type\": \"scattergeo\"}, {\"geo\": \"geo\", \"hoverlabel\": {\"namelength\": 0}, \"hovertemplate\": \"<b>%{hovertext}</b><br><br>city=%{location}<br>population=%{marker.size}\", \"hovertext\": [\"Tiruvann\\u0101malai\"], \"legendgroup\": \"city=Tiruvann\\u0101malai\", \"locations\": [\"Tiruvann\\u0101malai\"], \"marker\": {\"color\": \"#EF553B\", \"size\": [138243.0], \"sizemode\": \"area\", \"sizeref\": 47445.0}, \"name\": \"city=Tiruvann\\u0101malai\", \"showlegend\": true, \"type\": \"scattergeo\"}, {\"geo\": \"geo\", \"hoverlabel\": {\"namelength\": 0}, \"hovertemplate\": \"<b>%{hovertext}</b><br><br>city=%{location}<br>population=%{marker.size}\", \"hovertext\": [\"P\\u012blibh\\u012bt\"], \"legendgroup\": \"city=P\\u012blibh\\u012bt\", \"locations\": [\"P\\u012blibh\\u012bt\"], \"marker\": {\"color\": \"#00cc96\", \"size\": [131008.0], \"sizemode\": \"area\", \"sizeref\": 47445.0}, \"name\": \"city=P\\u012blibh\\u012bt\", \"showlegend\": true, \"type\": \"scattergeo\"}, {\"geo\": \"geo\", \"hoverlabel\": {\"namelength\": 0}, \"hovertemplate\": \"<b>%{hovertext}</b><br><br>city=%{location}<br>population=%{marker.size}\", \"hovertext\": [\"Abohar\"], \"legendgroup\": \"city=Abohar\", \"locations\": [\"Abohar\"], \"marker\": {\"color\": \"#ab63fa\", \"size\": [130603.0], \"sizemode\": \"area\", \"sizeref\": 47445.0}, \"name\": \"city=Abohar\", \"showlegend\": true, \"type\": \"scattergeo\"}, {\"geo\": \"geo\", \"hoverlabel\": {\"namelength\": 0}, \"hovertemplate\": \"<b>%{hovertext}</b><br><br>city=%{location}<br>population=%{marker.size}\", \"hovertext\": [\"Port Blair\"], \"legendgroup\": \"city=Port Blair\", \"locations\": [\"Port Blair\"], \"marker\": {\"color\": \"#FFA15A\", \"size\": [127562.0], \"sizemode\": \"area\", \"sizeref\": 47445.0}, \"name\": \"city=Port Blair\", \"showlegend\": true, \"type\": \"scattergeo\"}, {\"geo\": \"geo\", \"hoverlabel\": {\"namelength\": 0}, \"hovertemplate\": \"<b>%{hovertext}</b><br><br>city=%{location}<br>population=%{marker.size}\", \"hovertext\": [\"Al\\u012bpur Du\\u0101r\"], \"legendgroup\": \"city=Al\\u012bpur Du\\u0101r\", \"locations\": [\"Al\\u012bpur Du\\u0101r\"], \"marker\": {\"color\": \"#19d3f3\", \"size\": [127342.0], \"sizemode\": \"area\", \"sizeref\": 47445.0}, \"name\": \"city=Al\\u012bpur Du\\u0101r\", \"showlegend\": true, \"type\": \"scattergeo\"}, {\"geo\": \"geo\", \"hoverlabel\": {\"namelength\": 0}, \"hovertemplate\": \"<b>%{hovertext}</b><br><br>city=%{location}<br>population=%{marker.size}\", \"hovertext\": [\"H\\u0101thras\"], \"legendgroup\": \"city=H\\u0101thras\", \"locations\": [\"H\\u0101thras\"], \"marker\": {\"color\": \"#FF6692\", \"size\": [126882.0], \"sizemode\": \"area\", \"sizeref\": 47445.0}, \"name\": \"city=H\\u0101thras\", \"showlegend\": true, \"type\": \"scattergeo\"}, {\"geo\": \"geo\", \"hoverlabel\": {\"namelength\": 0}, \"hovertemplate\": \"<b>%{hovertext}</b><br><br>city=%{location}<br>population=%{marker.size}\", \"hovertext\": [\"V\\u0101lp\\u0101rai\"], \"legendgroup\": \"city=V\\u0101lp\\u0101rai\", \"locations\": [\"V\\u0101lp\\u0101rai\"], \"marker\": {\"color\": \"#B6E880\", \"size\": [114308.0], \"sizemode\": \"area\", \"sizeref\": 47445.0}, \"name\": \"city=V\\u0101lp\\u0101rai\", \"showlegend\": true, \"type\": \"scattergeo\"}, {\"geo\": \"geo\", \"hoverlabel\": {\"namelength\": 0}, \"hovertemplate\": \"<b>%{hovertext}</b><br><br>city=%{location}<br>population=%{marker.size}\", \"hovertext\": [\"Kohima\"], \"legendgroup\": \"city=Kohima\", \"locations\": [\"Kohima\"], \"marker\": {\"color\": \"#FF97FF\", \"size\": [92113.0], \"sizemode\": \"area\", \"sizeref\": 47445.0}, \"name\": \"city=Kohima\", \"showlegend\": true, \"type\": \"scattergeo\"}, {\"geo\": \"geo\", \"hoverlabel\": {\"namelength\": 0}, \"hovertemplate\": \"<b>%{hovertext}</b><br><br>city=%{location}<br>population=%{marker.size}\", \"hovertext\": [\"Gangtok\"], \"legendgroup\": \"city=Gangtok\", \"locations\": [\"Gangtok\"], \"marker\": {\"color\": \"#FECB52\", \"size\": [77900.0], \"sizemode\": \"area\", \"sizeref\": 47445.0}, \"name\": \"city=Gangtok\", \"showlegend\": true, \"type\": \"scattergeo\"}, {\"geo\": \"geo\", \"hoverlabel\": {\"namelength\": 0}, \"hovertemplate\": \"<b>%{hovertext}</b><br><br>city=%{location}<br>population=%{marker.size}\", \"hovertext\": [\"Panaji\"], \"legendgroup\": \"city=Panaji\", \"locations\": [\"Panaji\"], \"marker\": {\"color\": \"#636efa\", \"size\": [65586.0], \"sizemode\": \"area\", \"sizeref\": 47445.0}, \"name\": \"city=Panaji\", \"showlegend\": true, \"type\": \"scattergeo\"}, {\"geo\": \"geo\", \"hoverlabel\": {\"namelength\": 0}, \"hovertemplate\": \"<b>%{hovertext}</b><br><br>city=%{location}<br>population=%{marker.size}\", \"hovertext\": [\"Itanagar\"], \"legendgroup\": \"city=Itanagar\", \"locations\": [\"Itanagar\"], \"marker\": {\"color\": \"#EF553B\", \"size\": [44971.0], \"sizemode\": \"area\", \"sizeref\": 47445.0}, \"name\": \"city=Itanagar\", \"showlegend\": true, \"type\": \"scattergeo\"}, {\"geo\": \"geo\", \"hoverlabel\": {\"namelength\": 0}, \"hovertemplate\": \"<b>%{hovertext}</b><br><br>city=%{location}<br>population=%{marker.size}\", \"hovertext\": [\"Daman\"], \"legendgroup\": \"city=Daman\", \"locations\": [\"Daman\"], \"marker\": {\"color\": \"#00cc96\", \"size\": [39737.0], \"sizemode\": \"area\", \"sizeref\": 47445.0}, \"name\": \"city=Daman\", \"showlegend\": true, \"type\": \"scattergeo\"}, {\"geo\": \"geo\", \"hoverlabel\": {\"namelength\": 0}, \"hovertemplate\": \"<b>%{hovertext}</b><br><br>city=%{location}<br>population=%{marker.size}\", \"hovertext\": [\"Silvassa\"], \"legendgroup\": \"city=Silvassa\", \"locations\": [\"Silvassa\"], \"marker\": {\"color\": \"#ab63fa\", \"size\": [27359.0], \"sizemode\": \"area\", \"sizeref\": 47445.0}, \"name\": \"city=Silvassa\", \"showlegend\": true, \"type\": \"scattergeo\"}, {\"geo\": \"geo\", \"hoverlabel\": {\"namelength\": 0}, \"hovertemplate\": \"<b>%{hovertext}</b><br><br>city=%{location}<br>population=%{marker.size}\", \"hovertext\": [\"Dispur\"], \"legendgroup\": \"city=Dispur\", \"locations\": [\"Dispur\"], \"marker\": {\"color\": \"#FFA15A\", \"size\": [16140.0], \"sizemode\": \"area\", \"sizeref\": 47445.0}, \"name\": \"city=Dispur\", \"showlegend\": true, \"type\": \"scattergeo\"}, {\"geo\": \"geo\", \"hoverlabel\": {\"namelength\": 0}, \"hovertemplate\": \"<b>%{hovertext}</b><br><br>city=%{location}<br>population=%{marker.size}\", \"hovertext\": [\"Kavaratti\"], \"legendgroup\": \"city=Kavaratti\", \"locations\": [\"Kavaratti\"], \"marker\": {\"color\": \"#19d3f3\", \"size\": [10688.0], \"sizemode\": \"area\", \"sizeref\": 47445.0}, \"name\": \"city=Kavaratti\", \"showlegend\": true, \"type\": \"scattergeo\"}, {\"geo\": \"geo\", \"hoverlabel\": {\"namelength\": 0}, \"hovertemplate\": \"<b>%{hovertext}</b><br><br>city=%{location}<br>population=%{marker.size}\", \"hovertext\": [\"Kar\\u016br\"], \"legendgroup\": \"city=Kar\\u016br\", \"locations\": [\"Kar\\u016br\"], \"marker\": {\"color\": \"#FF6692\", \"size\": [76915.0], \"sizemode\": \"area\", \"sizeref\": 47445.0}, \"name\": \"city=Kar\\u016br\", \"showlegend\": true, \"type\": \"scattergeo\"}, {\"geo\": \"geo\", \"hoverlabel\": {\"namelength\": 0}, \"hovertemplate\": \"<b>%{hovertext}</b><br><br>city=%{location}<br>population=%{marker.size}\", \"hovertext\": [\"Jorh\\u0101t\"], \"legendgroup\": \"city=Jorh\\u0101t\", \"locations\": [\"Jorh\\u0101t\"], \"marker\": {\"color\": \"#B6E880\", \"size\": [69033.0], \"sizemode\": \"area\", \"sizeref\": 47445.0}, \"name\": \"city=Jorh\\u0101t\", \"showlegend\": true, \"type\": \"scattergeo\"}, {\"geo\": \"geo\", \"hoverlabel\": {\"namelength\": 0}, \"hovertemplate\": \"<b>%{hovertext}</b><br><br>city=%{location}<br>population=%{marker.size}\", \"hovertext\": [\"Sopur\"], \"legendgroup\": \"city=Sopur\", \"locations\": [\"Sopur\"], \"marker\": {\"color\": \"#FF97FF\", \"size\": [63035.0], \"sizemode\": \"area\", \"sizeref\": 47445.0}, \"name\": \"city=Sopur\", \"showlegend\": true, \"type\": \"scattergeo\"}, {\"geo\": \"geo\", \"hoverlabel\": {\"namelength\": 0}, \"hovertemplate\": \"<b>%{hovertext}</b><br><br>city=%{location}<br>population=%{marker.size}\", \"hovertext\": [\"Tezpur\"], \"legendgroup\": \"city=Tezpur\", \"locations\": [\"Tezpur\"], \"marker\": {\"color\": \"#FECB52\", \"size\": [58851.0], \"sizemode\": \"area\", \"sizeref\": 47445.0}, \"name\": \"city=Tezpur\", \"showlegend\": true, \"type\": \"scattergeo\"}, {\"geo\": \"geo\", \"hoverlabel\": {\"namelength\": 0}, \"hovertemplate\": \"<b>%{hovertext}</b><br><br>city=%{location}<br>population=%{marker.size}\", \"hovertext\": [\"Diu\"], \"legendgroup\": \"city=Diu\", \"locations\": [\"Diu\"], \"marker\": {\"color\": \"#636efa\", \"size\": [23779.0], \"sizemode\": \"area\", \"sizeref\": 47445.0}, \"name\": \"city=Diu\", \"showlegend\": true, \"type\": \"scattergeo\"}],\n",
       "                        {\"geo\": {\"center\": {}, \"domain\": {\"x\": [0.0, 1.0], \"y\": [0.0, 1.0]}, \"projection\": {\"type\": \"natural earth\"}}, \"legend\": {\"itemsizing\": \"constant\", \"tracegroupgap\": 0}, \"margin\": {\"t\": 60}, \"template\": {\"data\": {\"bar\": [{\"error_x\": {\"color\": \"#2a3f5f\"}, \"error_y\": {\"color\": \"#2a3f5f\"}, \"marker\": {\"line\": {\"color\": \"#E5ECF6\", \"width\": 0.5}}, \"type\": \"bar\"}], \"barpolar\": [{\"marker\": {\"line\": {\"color\": \"#E5ECF6\", \"width\": 0.5}}, \"type\": \"barpolar\"}], \"carpet\": [{\"aaxis\": {\"endlinecolor\": \"#2a3f5f\", \"gridcolor\": \"white\", \"linecolor\": \"white\", \"minorgridcolor\": \"white\", \"startlinecolor\": \"#2a3f5f\"}, \"baxis\": {\"endlinecolor\": \"#2a3f5f\", \"gridcolor\": \"white\", \"linecolor\": \"white\", \"minorgridcolor\": \"white\", \"startlinecolor\": \"#2a3f5f\"}, \"type\": \"carpet\"}], \"choropleth\": [{\"colorbar\": {\"outlinewidth\": 0, \"ticks\": \"\"}, \"type\": \"choropleth\"}], \"contour\": [{\"colorbar\": {\"outlinewidth\": 0, \"ticks\": \"\"}, \"colorscale\": [[0.0, \"#0d0887\"], [0.1111111111111111, \"#46039f\"], [0.2222222222222222, \"#7201a8\"], [0.3333333333333333, \"#9c179e\"], [0.4444444444444444, \"#bd3786\"], [0.5555555555555556, \"#d8576b\"], [0.6666666666666666, \"#ed7953\"], [0.7777777777777778, \"#fb9f3a\"], [0.8888888888888888, \"#fdca26\"], [1.0, \"#f0f921\"]], \"type\": \"contour\"}], \"contourcarpet\": [{\"colorbar\": {\"outlinewidth\": 0, \"ticks\": \"\"}, \"type\": \"contourcarpet\"}], \"heatmap\": [{\"colorbar\": {\"outlinewidth\": 0, \"ticks\": \"\"}, \"colorscale\": [[0.0, \"#0d0887\"], [0.1111111111111111, \"#46039f\"], [0.2222222222222222, \"#7201a8\"], [0.3333333333333333, \"#9c179e\"], [0.4444444444444444, \"#bd3786\"], [0.5555555555555556, \"#d8576b\"], [0.6666666666666666, \"#ed7953\"], [0.7777777777777778, \"#fb9f3a\"], [0.8888888888888888, \"#fdca26\"], [1.0, \"#f0f921\"]], \"type\": \"heatmap\"}], \"heatmapgl\": [{\"colorbar\": {\"outlinewidth\": 0, \"ticks\": \"\"}, \"colorscale\": [[0.0, \"#0d0887\"], [0.1111111111111111, \"#46039f\"], [0.2222222222222222, \"#7201a8\"], [0.3333333333333333, \"#9c179e\"], [0.4444444444444444, \"#bd3786\"], [0.5555555555555556, \"#d8576b\"], [0.6666666666666666, \"#ed7953\"], [0.7777777777777778, \"#fb9f3a\"], [0.8888888888888888, \"#fdca26\"], [1.0, \"#f0f921\"]], \"type\": \"heatmapgl\"}], \"histogram\": [{\"marker\": {\"colorbar\": {\"outlinewidth\": 0, \"ticks\": \"\"}}, \"type\": \"histogram\"}], \"histogram2d\": [{\"colorbar\": {\"outlinewidth\": 0, \"ticks\": \"\"}, \"colorscale\": [[0.0, \"#0d0887\"], [0.1111111111111111, \"#46039f\"], [0.2222222222222222, \"#7201a8\"], [0.3333333333333333, \"#9c179e\"], [0.4444444444444444, \"#bd3786\"], [0.5555555555555556, \"#d8576b\"], [0.6666666666666666, \"#ed7953\"], [0.7777777777777778, \"#fb9f3a\"], [0.8888888888888888, \"#fdca26\"], [1.0, \"#f0f921\"]], \"type\": \"histogram2d\"}], \"histogram2dcontour\": [{\"colorbar\": {\"outlinewidth\": 0, \"ticks\": \"\"}, \"colorscale\": [[0.0, \"#0d0887\"], [0.1111111111111111, \"#46039f\"], [0.2222222222222222, \"#7201a8\"], [0.3333333333333333, \"#9c179e\"], [0.4444444444444444, \"#bd3786\"], [0.5555555555555556, \"#d8576b\"], [0.6666666666666666, \"#ed7953\"], [0.7777777777777778, \"#fb9f3a\"], [0.8888888888888888, \"#fdca26\"], [1.0, \"#f0f921\"]], \"type\": \"histogram2dcontour\"}], \"mesh3d\": [{\"colorbar\": {\"outlinewidth\": 0, \"ticks\": \"\"}, \"type\": \"mesh3d\"}], \"parcoords\": [{\"line\": {\"colorbar\": {\"outlinewidth\": 0, \"ticks\": \"\"}}, \"type\": \"parcoords\"}], \"pie\": [{\"automargin\": true, \"type\": \"pie\"}], \"scatter\": [{\"marker\": {\"colorbar\": {\"outlinewidth\": 0, \"ticks\": \"\"}}, \"type\": \"scatter\"}], \"scatter3d\": [{\"line\": {\"colorbar\": {\"outlinewidth\": 0, \"ticks\": \"\"}}, \"marker\": {\"colorbar\": {\"outlinewidth\": 0, \"ticks\": \"\"}}, \"type\": \"scatter3d\"}], \"scattercarpet\": [{\"marker\": {\"colorbar\": {\"outlinewidth\": 0, \"ticks\": \"\"}}, \"type\": \"scattercarpet\"}], \"scattergeo\": [{\"marker\": {\"colorbar\": {\"outlinewidth\": 0, \"ticks\": \"\"}}, \"type\": \"scattergeo\"}], \"scattergl\": [{\"marker\": {\"colorbar\": {\"outlinewidth\": 0, \"ticks\": \"\"}}, \"type\": \"scattergl\"}], \"scattermapbox\": [{\"marker\": {\"colorbar\": {\"outlinewidth\": 0, \"ticks\": \"\"}}, \"type\": \"scattermapbox\"}], \"scatterpolar\": [{\"marker\": {\"colorbar\": {\"outlinewidth\": 0, \"ticks\": \"\"}}, \"type\": \"scatterpolar\"}], \"scatterpolargl\": [{\"marker\": {\"colorbar\": {\"outlinewidth\": 0, \"ticks\": \"\"}}, \"type\": \"scatterpolargl\"}], \"scatterternary\": [{\"marker\": {\"colorbar\": {\"outlinewidth\": 0, \"ticks\": \"\"}}, \"type\": \"scatterternary\"}], \"surface\": [{\"colorbar\": {\"outlinewidth\": 0, \"ticks\": \"\"}, \"colorscale\": [[0.0, \"#0d0887\"], [0.1111111111111111, \"#46039f\"], [0.2222222222222222, \"#7201a8\"], [0.3333333333333333, \"#9c179e\"], [0.4444444444444444, \"#bd3786\"], [0.5555555555555556, \"#d8576b\"], [0.6666666666666666, \"#ed7953\"], [0.7777777777777778, \"#fb9f3a\"], [0.8888888888888888, \"#fdca26\"], [1.0, \"#f0f921\"]], \"type\": \"surface\"}], \"table\": [{\"cells\": {\"fill\": {\"color\": \"#EBF0F8\"}, \"line\": {\"color\": \"white\"}}, \"header\": {\"fill\": {\"color\": \"#C8D4E3\"}, \"line\": {\"color\": \"white\"}}, \"type\": \"table\"}]}, \"layout\": {\"annotationdefaults\": {\"arrowcolor\": \"#2a3f5f\", \"arrowhead\": 0, \"arrowwidth\": 1}, \"coloraxis\": {\"colorbar\": {\"outlinewidth\": 0, \"ticks\": \"\"}}, \"colorscale\": {\"diverging\": [[0, \"#8e0152\"], [0.1, \"#c51b7d\"], [0.2, \"#de77ae\"], [0.3, \"#f1b6da\"], [0.4, \"#fde0ef\"], [0.5, \"#f7f7f7\"], [0.6, \"#e6f5d0\"], [0.7, \"#b8e186\"], [0.8, \"#7fbc41\"], [0.9, \"#4d9221\"], [1, \"#276419\"]], \"sequential\": [[0.0, \"#0d0887\"], [0.1111111111111111, \"#46039f\"], [0.2222222222222222, \"#7201a8\"], [0.3333333333333333, \"#9c179e\"], [0.4444444444444444, \"#bd3786\"], [0.5555555555555556, \"#d8576b\"], [0.6666666666666666, \"#ed7953\"], [0.7777777777777778, \"#fb9f3a\"], [0.8888888888888888, \"#fdca26\"], [1.0, \"#f0f921\"]], \"sequentialminus\": [[0.0, \"#0d0887\"], [0.1111111111111111, \"#46039f\"], [0.2222222222222222, \"#7201a8\"], [0.3333333333333333, \"#9c179e\"], [0.4444444444444444, \"#bd3786\"], [0.5555555555555556, \"#d8576b\"], [0.6666666666666666, \"#ed7953\"], [0.7777777777777778, \"#fb9f3a\"], [0.8888888888888888, \"#fdca26\"], [1.0, \"#f0f921\"]]}, \"colorway\": [\"#636efa\", \"#EF553B\", \"#00cc96\", \"#ab63fa\", \"#FFA15A\", \"#19d3f3\", \"#FF6692\", \"#B6E880\", \"#FF97FF\", \"#FECB52\"], \"font\": {\"color\": \"#2a3f5f\"}, \"geo\": {\"bgcolor\": \"white\", \"lakecolor\": \"white\", \"landcolor\": \"#E5ECF6\", \"showlakes\": true, \"showland\": true, \"subunitcolor\": \"white\"}, \"hoverlabel\": {\"align\": \"left\"}, \"hovermode\": \"closest\", \"mapbox\": {\"style\": \"light\"}, \"paper_bgcolor\": \"white\", \"plot_bgcolor\": \"#E5ECF6\", \"polar\": {\"angularaxis\": {\"gridcolor\": \"white\", \"linecolor\": \"white\", \"ticks\": \"\"}, \"bgcolor\": \"#E5ECF6\", \"radialaxis\": {\"gridcolor\": \"white\", \"linecolor\": \"white\", \"ticks\": \"\"}}, \"scene\": {\"xaxis\": {\"backgroundcolor\": \"#E5ECF6\", \"gridcolor\": \"white\", \"gridwidth\": 2, \"linecolor\": \"white\", \"showbackground\": true, \"ticks\": \"\", \"zerolinecolor\": \"white\"}, \"yaxis\": {\"backgroundcolor\": \"#E5ECF6\", \"gridcolor\": \"white\", \"gridwidth\": 2, \"linecolor\": \"white\", \"showbackground\": true, \"ticks\": \"\", \"zerolinecolor\": \"white\"}, \"zaxis\": {\"backgroundcolor\": \"#E5ECF6\", \"gridcolor\": \"white\", \"gridwidth\": 2, \"linecolor\": \"white\", \"showbackground\": true, \"ticks\": \"\", \"zerolinecolor\": \"white\"}}, \"shapedefaults\": {\"line\": {\"color\": \"#2a3f5f\"}}, \"ternary\": {\"aaxis\": {\"gridcolor\": \"white\", \"linecolor\": \"white\", \"ticks\": \"\"}, \"baxis\": {\"gridcolor\": \"white\", \"linecolor\": \"white\", \"ticks\": \"\"}, \"bgcolor\": \"#E5ECF6\", \"caxis\": {\"gridcolor\": \"white\", \"linecolor\": \"white\", \"ticks\": \"\"}}, \"title\": {\"x\": 0.05}, \"xaxis\": {\"automargin\": true, \"gridcolor\": \"white\", \"linecolor\": \"white\", \"ticks\": \"\", \"title\": {\"standoff\": 15}, \"zerolinecolor\": \"white\", \"zerolinewidth\": 2}, \"yaxis\": {\"automargin\": true, \"gridcolor\": \"white\", \"linecolor\": \"white\", \"ticks\": \"\", \"title\": {\"standoff\": 15}, \"zerolinecolor\": \"white\", \"zerolinewidth\": 2}}}},\n",
       "                        {\"responsive\": true}\n",
       "                    ).then(function(){\n",
       "                            \n",
       "var gd = document.getElementById('ea278811-df2d-4d68-89c2-ed2975e7dfee');\n",
       "var x = new MutationObserver(function (mutations, observer) {{\n",
       "        var display = window.getComputedStyle(gd).display;\n",
       "        if (!display || display === 'none') {{\n",
       "            console.log([gd, 'removed!']);\n",
       "            Plotly.purge(gd);\n",
       "            observer.disconnect();\n",
       "        }}\n",
       "}});\n",
       "\n",
       "// Listen for the removal of the full notebook cells\n",
       "var notebookContainer = gd.closest('#notebook-container');\n",
       "if (notebookContainer) {{\n",
       "    x.observe(notebookContainer, {childList: true});\n",
       "}}\n",
       "\n",
       "// Listen for the clearing of the current output cell\n",
       "var outputEl = gd.closest('.output');\n",
       "if (outputEl) {{\n",
       "    x.observe(outputEl, {childList: true});\n",
       "}}\n",
       "\n",
       "                        })\n",
       "                };\n",
       "                });\n",
       "            </script>\n",
       "        </div>"
      ]
     },
     "metadata": {},
     "output_type": "display_data"
    }
   ],
   "source": [
    "import plotly.express as px\n",
    "# india_cities_df = px.data.gapminder().query(\"year==2007\")\n",
    "fig = px.scatter_geo(india_cities_df, locations=\"city\", color=\"city\",\n",
    "                     hover_name=\"city\", size=\"population\",\n",
    "                     projection=\"natural earth\")\n",
    "fig.show()"
   ]
  },
  {
   "cell_type": "code",
   "execution_count": 13,
   "metadata": {},
   "outputs": [
    {
     "data": {
      "text/html": [
       "<div>\n",
       "<style scoped>\n",
       "    .dataframe tbody tr th:only-of-type {\n",
       "        vertical-align: middle;\n",
       "    }\n",
       "\n",
       "    .dataframe tbody tr th {\n",
       "        vertical-align: top;\n",
       "    }\n",
       "\n",
       "    .dataframe thead th {\n",
       "        text-align: right;\n",
       "    }\n",
       "</style>\n",
       "<table border=\"1\" class=\"dataframe\">\n",
       "  <thead>\n",
       "    <tr style=\"text-align: right;\">\n",
       "      <th></th>\n",
       "      <th>city</th>\n",
       "      <th>lat</th>\n",
       "      <th>lng</th>\n",
       "      <th>population</th>\n",
       "    </tr>\n",
       "  </thead>\n",
       "  <tbody>\n",
       "    <tr>\n",
       "      <th>3</th>\n",
       "      <td>Mumbai</td>\n",
       "      <td>19.017</td>\n",
       "      <td>72.8570</td>\n",
       "      <td>18978000.0</td>\n",
       "    </tr>\n",
       "    <tr>\n",
       "      <th>5</th>\n",
       "      <td>Delhi</td>\n",
       "      <td>28.670</td>\n",
       "      <td>77.2300</td>\n",
       "      <td>15926000.0</td>\n",
       "    </tr>\n",
       "    <tr>\n",
       "      <th>7</th>\n",
       "      <td>Kolkata</td>\n",
       "      <td>22.495</td>\n",
       "      <td>88.3247</td>\n",
       "      <td>14787000.0</td>\n",
       "    </tr>\n",
       "    <tr>\n",
       "      <th>34</th>\n",
       "      <td>Chennai</td>\n",
       "      <td>13.090</td>\n",
       "      <td>80.2800</td>\n",
       "      <td>7163000.0</td>\n",
       "    </tr>\n",
       "    <tr>\n",
       "      <th>36</th>\n",
       "      <td>Bengalūru</td>\n",
       "      <td>12.970</td>\n",
       "      <td>77.5600</td>\n",
       "      <td>6787000.0</td>\n",
       "    </tr>\n",
       "  </tbody>\n",
       "</table>\n",
       "</div>"
      ],
      "text/plain": [
       "         city     lat      lng  population\n",
       "3      Mumbai  19.017  72.8570  18978000.0\n",
       "5       Delhi  28.670  77.2300  15926000.0\n",
       "7     Kolkata  22.495  88.3247  14787000.0\n",
       "34    Chennai  13.090  80.2800   7163000.0\n",
       "36  Bengalūru  12.970  77.5600   6787000.0"
      ]
     },
     "execution_count": 13,
     "metadata": {},
     "output_type": "execute_result"
    }
   ],
   "source": [
    "df = india_cities_df.loc[:, ['city', 'lat', 'lng', 'population']]\n",
    "df.head()"
   ]
  },
  {
   "cell_type": "raw",
   "metadata": {},
   "source": [
    "cities = df"
   ]
  },
  {
   "cell_type": "raw",
   "metadata": {},
   "source": [
    "import plotly.graph_objects as go\n",
    "\n",
    "fig = go.Figure(go.Choroplethmapbox(geojson=df['city'], locations=df.fips, z=df.unemp,\n",
    "                                    colorscale=\"Viridis\", zmin=0, zmax=12,\n",
    "                                    marker_opacity=0.5, marker_line_width=0))\n",
    "fig.update_layout(mapbox_style=\"carto-positron\",\n",
    "                  mapbox_zoom=3, mapbox_center = {\"lat\": 37.0902, \"lon\": -95.7129})\n",
    "fig.update_layout(margin={\"r\":0,\"t\":0,\"l\":0,\"b\":0})\n",
    "fig.show()"
   ]
  },
  {
   "cell_type": "code",
   "execution_count": 22,
   "metadata": {
    "scrolled": true
   },
   "outputs": [
    {
     "data": {
      "application/vnd.plotly.v1+json": {
       "config": {
        "plotlyServerURL": "https://plot.ly"
       },
       "data": [
        {
         "customdata": [
          [
           "Mumbai",
           18978000
          ],
          [
           "Delhi",
           15926000
          ],
          [
           "Kolkata",
           14787000
          ],
          [
           "Chennai",
           7163000
          ],
          [
           "Bengalūru",
           6787000
          ],
          [
           "Hyderabad",
           6376000
          ],
          [
           "Ahmadābād",
           5375000
          ],
          [
           "Hāora",
           4841638
          ],
          [
           "Pune",
           4672000
          ],
          [
           "Sūrat",
           3842000
          ],
          [
           "Cawnpore",
           3162000
          ],
          [
           "Jaipur",
           2917000
          ],
          [
           "Lucknow",
           2695000
          ],
          [
           "Nāgpur",
           2454000
          ],
          [
           "Patna",
           2158000
          ],
          [
           "Indore",
           2026000
          ],
          [
           "Vadodara",
           1756000
          ],
          [
           "Bhopal",
           1727000
          ],
          [
           "Coimbatore",
           1696000
          ],
          [
           "Ludhiāna",
           1649000
          ],
          [
           "Āgra",
           1592000
          ],
          [
           "Kalyān",
           1576614
          ],
          [
           "Vishākhapatnam",
           1529000
          ],
          [
           "Kochi",
           1519000
          ],
          [
           "Nāsik",
           1473000
          ],
          [
           "Meerut",
           1398000
          ],
          [
           "Farīdābād",
           1394000
          ],
          [
           "Vārānasi",
           1352000
          ],
          [
           "Ghāziābād",
           1341000
          ],
          [
           "Āsansol",
           1328000
          ],
          [
           "Jamshedpur",
           1300000
          ],
          [
           "Madura",
           1294000
          ],
          [
           "Jabalpur",
           1285000
          ],
          [
           "Rājkot",
           1260000
          ],
          [
           "Dhanbād",
           1246000
          ],
          [
           "Amritsar",
           1212000
          ],
          [
           "Warangal",
           1203853
          ],
          [
           "Allahābād",
           1201000
          ],
          [
           "Srīnagar",
           1140000
          ],
          [
           "Bezwāda",
           1137000
          ],
          [
           "Aurangābād",
           1113000
          ],
          [
           "Bhilai",
           1097000
          ],
          [
           "Solāpur",
           1057000
          ],
          [
           "Ranchi",
           1044000
          ],
          [
           "New Delhi",
           317797
          ],
          [
           "Jodhpur",
           995000
          ],
          [
           "Guwāhāti",
           983000
          ],
          [
           "Chandigarh",
           979000
          ],
          [
           "Gwalior",
           978000
          ],
          [
           "Thiruvananthapuram",
           954000
          ],
          [
           "Calicut",
           953000
          ],
          [
           "Trichinopoly",
           951000
          ],
          [
           "Hubli",
           890000
          ],
          [
           "Mysore",
           887000
          ],
          [
           "Raipur",
           875000
          ],
          [
           "Salem",
           873000
          ],
          [
           "Jalandhar",
           855000
          ],
          [
           "Bhubaneshwar",
           844000
          ],
          [
           "Kota",
           827000
          ],
          [
           "Jhānsi",
           826494
          ],
          [
           "Bareilly",
           817000
          ],
          [
           "Alīgarh",
           805000
          ],
          [
           "Bhiwandi",
           795000
          ],
          [
           "Jammu",
           791000
          ],
          [
           "Morādābād",
           787000
          ],
          [
           "Mangalore",
           776632
          ],
          [
           "Kolhāpur",
           750000
          ],
          [
           "Amrāvati",
           734451
          ],
          [
           "Dehra Dūn",
           714223
          ],
          [
           "Mālegaon",
           690844
          ],
          [
           "Nellore",
           678004
          ],
          [
           "Gorakhpur",
           674246
          ],
          [
           "Shimoga",
           654055
          ],
          [
           "Tiruppūr",
           650000
          ],
          [
           "Raurkela",
           625831
          ],
          [
           "Nānded",
           623708
          ],
          [
           "Belgaum",
           608756
          ],
          [
           "Sāngli",
           601214
          ],
          [
           "Chānda",
           595118
          ],
          [
           "Ajmer",
           589985
          ],
          [
           "Cuttack",
           580000
          ],
          [
           "Bīkaner",
           576015
          ],
          [
           "Bhāvnagar",
           554978
          ],
          [
           "Hisar",
           544829
          ],
          [
           "Bilāspur",
           543454
          ],
          [
           "Tinnevelly",
           542200
          ],
          [
           "Guntūr",
           530577
          ],
          [
           "Shiliguri",
           515574
          ],
          [
           "Ujjain",
           513350
          ],
          [
           "Davangere",
           503564
          ],
          [
           "Akola",
           503502
          ],
          [
           "Sahāranpur",
           484873
          ],
          [
           "Gulbarga",
           483615
          ],
          [
           "Bhātpāra",
           483129
          ],
          [
           "Dhūlia",
           479073
          ],
          [
           "Udaipur",
           469737
          ],
          [
           "Bellary",
           445388
          ],
          [
           "Tuticorin",
           436094
          ],
          [
           "Kurnool",
           424920
          ],
          [
           "Gaya",
           423692
          ],
          [
           "Sīkar",
           400000
          ],
          [
           "Tumkūr",
           399606
          ],
          [
           "Quilon",
           394163
          ],
          [
           "Ahmadnagar",
           391760
          ],
          [
           "Bhīlwāra",
           389911
          ],
          [
           "Nizāmābād",
           388505
          ],
          [
           "Parbhani",
           378326
          ],
          [
           "Shillong",
           375527
          ],
          [
           "Lātūr",
           374394
          ],
          [
           "Rājapālaiyam",
           369991
          ],
          [
           "Bhāgalpur",
           361548
          ],
          [
           "Muzaffarnagar",
           349706
          ],
          [
           "Muzaffarpur",
           333200
          ],
          [
           "Mathura",
           330511
          ],
          [
           "Patiāla",
           329224
          ],
          [
           "Saugor",
           328240
          ],
          [
           "Brahmapur",
           324726
          ],
          [
           "Shāhjānpur",
           320434
          ],
          [
           "Rohtak",
           317245
          ],
          [
           "Sambalpur",
           310852
          ],
          [
           "Ratlām",
           307229
          ],
          [
           "Fīrozābād",
           306409
          ],
          [
           "Rājahmundry",
           304804
          ],
          [
           "Barddhamān",
           301725
          ],
          [
           "Bīdar",
           300136
          ],
          [
           "Rāmpur",
           296418
          ],
          [
           "Kākināda",
           292923
          ],
          [
           "Pānīpat",
           292808
          ],
          [
           "Khammam",
           290839
          ],
          [
           "Bhuj",
           289429
          ],
          [
           "Karīmnagar",
           288251
          ],
          [
           "Tirupati",
           287035
          ],
          [
           "Hospet",
           286007
          ],
          [
           "Mandya",
           285034
          ],
          [
           "Alwar",
           283228
          ],
          [
           "Aizawl",
           283021
          ],
          [
           "Bijāpur",
           271064
          ],
          [
           "Imphal",
           264986
          ],
          [
           "Etāwah",
           257448
          ],
          [
           "Rāichūr",
           255240
          ],
          [
           "Pathānkot",
           253987
          ],
          [
           "Chīrāla",
           253000
          ],
          [
           "Sonīpat",
           250521
          ],
          [
           "Mirzāpur",
           245817
          ],
          [
           "Hāpur",
           242920
          ],
          [
           "Porbandar",
           234684
          ],
          [
           "Bharatpur",
           229384
          ],
          [
           "Puducherry",
           227411
          ],
          [
           "Karnāl",
           225049
          ],
          [
           "Nāgercoil",
           224329
          ],
          [
           "Tanjore",
           219571
          ],
          [
           "Pāli",
           210103
          ],
          [
           "Agartala",
           203264
          ],
          [
           "Ongole",
           202860
          ],
          [
           "Puri",
           201026
          ],
          [
           "Dindigul",
           200797
          ],
          [
           "Haldia",
           200762
          ],
          [
           "Bulandshahr",
           198612
          ],
          [
           "Purnea",
           198453
          ],
          [
           "Proddatūr",
           197451
          ],
          [
           "Gurgaon",
           197340
          ],
          [
           "Burhānpur",
           197233
          ],
          [
           "Ghandinagar",
           195891
          ],
          [
           "Machilīpatnam",
           192827
          ],
          [
           "Bhiwāni",
           190855
          ],
          [
           "Nandyāl",
           188654
          ],
          [
           "Bhusāval",
           183001
          ],
          [
           "Bahraigh",
           182218
          ],
          [
           "Tonk",
           181734
          ],
          [
           "Sirsa",
           181639
          ],
          [
           "Vizianagaram",
           179358
          ],
          [
           "Vellore",
           177081
          ],
          [
           "Alleppey",
           176783
          ],
          [
           "Shimla",
           173503
          ],
          [
           "Medinīpur",
           169127
          ],
          [
           "Hindupur",
           168312
          ],
          [
           "Bāramūla",
           167986
          ],
          [
           "Fatehpur",
           166480
          ],
          [
           "Dibrugarh",
           166366
          ],
          [
           "Sitalpur",
           164435
          ],
          [
           "Navsāri",
           163000
          ],
          [
           "Budaun",
           161555
          ],
          [
           "Cuddalore",
           158569
          ],
          [
           "Harīpur",
           158142
          ],
          [
           "Conjeeveram",
           155029
          ],
          [
           "Fyzābād",
           153047
          ],
          [
           "Silchar",
           152393
          ],
          [
           "Ambāla",
           146787
          ],
          [
           "Krishnanagar",
           145926
          ],
          [
           "Kolār",
           144625
          ],
          [
           "Kumbakonam",
           139264
          ],
          [
           "Tiruvannāmalai",
           138243
          ],
          [
           "Pīlibhīt",
           131008
          ],
          [
           "Abohar",
           130603
          ],
          [
           "Port Blair",
           127562
          ],
          [
           "Alīpur Duār",
           127342
          ],
          [
           "Hāthras",
           126882
          ],
          [
           "Vālpārai",
           114308
          ],
          [
           "Kohima",
           92113
          ],
          [
           "Gangtok",
           77900
          ],
          [
           "Panaji",
           65586
          ],
          [
           "Itanagar",
           44971
          ],
          [
           "Daman",
           39737
          ],
          [
           "Silvassa",
           27359
          ],
          [
           "Dispur",
           16140
          ],
          [
           "Kavaratti",
           10688
          ],
          [
           "Aurangābād",
           95929
          ],
          [
           "Karūr",
           76915
          ],
          [
           "Jorhāt",
           69033
          ],
          [
           "Sopur",
           63035
          ],
          [
           "Tezpur",
           58851
          ],
          [
           "Diu",
           23779
          ]
         ],
         "hoverlabel": {
          "namelength": 0
         },
         "hovertemplate": "<b>%{hovertext}</b><br><br>city=%{customdata[0]}<br>population=%{customdata[1]}<br>lat=%{lat}<br>lng=%{lon}",
         "hovertext": [
          "Mumbai",
          "Delhi",
          "Kolkata",
          "Chennai",
          "Bengalūru",
          "Hyderabad",
          "Ahmadābād",
          "Hāora",
          "Pune",
          "Sūrat",
          "Cawnpore",
          "Jaipur",
          "Lucknow",
          "Nāgpur",
          "Patna",
          "Indore",
          "Vadodara",
          "Bhopal",
          "Coimbatore",
          "Ludhiāna",
          "Āgra",
          "Kalyān",
          "Vishākhapatnam",
          "Kochi",
          "Nāsik",
          "Meerut",
          "Farīdābād",
          "Vārānasi",
          "Ghāziābād",
          "Āsansol",
          "Jamshedpur",
          "Madura",
          "Jabalpur",
          "Rājkot",
          "Dhanbād",
          "Amritsar",
          "Warangal",
          "Allahābād",
          "Srīnagar",
          "Bezwāda",
          "Aurangābād",
          "Bhilai",
          "Solāpur",
          "Ranchi",
          "New Delhi",
          "Jodhpur",
          "Guwāhāti",
          "Chandigarh",
          "Gwalior",
          "Thiruvananthapuram",
          "Calicut",
          "Trichinopoly",
          "Hubli",
          "Mysore",
          "Raipur",
          "Salem",
          "Jalandhar",
          "Bhubaneshwar",
          "Kota",
          "Jhānsi",
          "Bareilly",
          "Alīgarh",
          "Bhiwandi",
          "Jammu",
          "Morādābād",
          "Mangalore",
          "Kolhāpur",
          "Amrāvati",
          "Dehra Dūn",
          "Mālegaon",
          "Nellore",
          "Gorakhpur",
          "Shimoga",
          "Tiruppūr",
          "Raurkela",
          "Nānded",
          "Belgaum",
          "Sāngli",
          "Chānda",
          "Ajmer",
          "Cuttack",
          "Bīkaner",
          "Bhāvnagar",
          "Hisar",
          "Bilāspur",
          "Tinnevelly",
          "Guntūr",
          "Shiliguri",
          "Ujjain",
          "Davangere",
          "Akola",
          "Sahāranpur",
          "Gulbarga",
          "Bhātpāra",
          "Dhūlia",
          "Udaipur",
          "Bellary",
          "Tuticorin",
          "Kurnool",
          "Gaya",
          "Sīkar",
          "Tumkūr",
          "Quilon",
          "Ahmadnagar",
          "Bhīlwāra",
          "Nizāmābād",
          "Parbhani",
          "Shillong",
          "Lātūr",
          "Rājapālaiyam",
          "Bhāgalpur",
          "Muzaffarnagar",
          "Muzaffarpur",
          "Mathura",
          "Patiāla",
          "Saugor",
          "Brahmapur",
          "Shāhjānpur",
          "Rohtak",
          "Sambalpur",
          "Ratlām",
          "Fīrozābād",
          "Rājahmundry",
          "Barddhamān",
          "Bīdar",
          "Rāmpur",
          "Kākināda",
          "Pānīpat",
          "Khammam",
          "Bhuj",
          "Karīmnagar",
          "Tirupati",
          "Hospet",
          "Mandya",
          "Alwar",
          "Aizawl",
          "Bijāpur",
          "Imphal",
          "Etāwah",
          "Rāichūr",
          "Pathānkot",
          "Chīrāla",
          "Sonīpat",
          "Mirzāpur",
          "Hāpur",
          "Porbandar",
          "Bharatpur",
          "Puducherry",
          "Karnāl",
          "Nāgercoil",
          "Tanjore",
          "Pāli",
          "Agartala",
          "Ongole",
          "Puri",
          "Dindigul",
          "Haldia",
          "Bulandshahr",
          "Purnea",
          "Proddatūr",
          "Gurgaon",
          "Burhānpur",
          "Ghandinagar",
          "Machilīpatnam",
          "Bhiwāni",
          "Nandyāl",
          "Bhusāval",
          "Bahraigh",
          "Tonk",
          "Sirsa",
          "Vizianagaram",
          "Vellore",
          "Alleppey",
          "Shimla",
          "Medinīpur",
          "Hindupur",
          "Bāramūla",
          "Fatehpur",
          "Dibrugarh",
          "Sitalpur",
          "Navsāri",
          "Budaun",
          "Cuddalore",
          "Harīpur",
          "Conjeeveram",
          "Fyzābād",
          "Silchar",
          "Ambāla",
          "Krishnanagar",
          "Kolār",
          "Kumbakonam",
          "Tiruvannāmalai",
          "Pīlibhīt",
          "Abohar",
          "Port Blair",
          "Alīpur Duār",
          "Hāthras",
          "Vālpārai",
          "Kohima",
          "Gangtok",
          "Panaji",
          "Itanagar",
          "Daman",
          "Silvassa",
          "Dispur",
          "Kavaratti",
          "Aurangābād",
          "Karūr",
          "Jorhāt",
          "Sopur",
          "Tezpur",
          "Diu"
         ],
         "lat": [
          19.017,
          28.67,
          22.495,
          13.09,
          12.97,
          17.4,
          23.0301,
          22.5804,
          18.53,
          21.2,
          26.46,
          26.9211,
          26.855,
          21.17,
          25.625,
          22.7151,
          22.31,
          23.25,
          11,
          30.9278,
          27.1704,
          19.2502,
          17.73,
          10.015,
          20.0004,
          29.0004,
          28.4333,
          25.33,
          28.6604,
          23.6833,
          22.7875,
          9.92,
          23.1751,
          22.31,
          23.8004,
          31.64,
          18.01,
          25.455,
          34.1,
          16.52,
          19.8957,
          21.2167,
          17.6704,
          23.37,
          28.6,
          26.2918,
          26.16,
          30.72,
          26.23,
          8.5,
          11.2504,
          10.81,
          15.36,
          12.31,
          21.235,
          11.67,
          31.3349,
          20.2704,
          25.18,
          25.453,
          28.3454,
          27.8922,
          19.35,
          32.7118,
          28.8418,
          12.9,
          16.7,
          20.95,
          30.3204,
          20.5604,
          14.44,
          26.7504,
          13.9304,
          11.0804,
          22.2304,
          19.17,
          15.865,
          16.8604,
          19.97,
          26.45,
          20.47,
          28.0304,
          21.7784,
          29.17,
          22.0904,
          8.7304,
          16.33,
          26.7204,
          23.1904,
          14.47,
          20.71,
          29.97,
          17.35,
          22.8504,
          20.9,
          24.6,
          15.15,
          8.82,
          15.83,
          24.8,
          27.6104,
          13.33,
          8.9004,
          19.1104,
          25.3504,
          18.6704,
          19.2704,
          25.5705,
          18.4004,
          9.4204,
          25.23,
          29.485,
          26.1204,
          27.5,
          30.3204,
          23.8504,
          19.32,
          27.8804,
          28.9,
          21.4704,
          23.3504,
          27.15,
          17.0303,
          23.2504,
          17.9229,
          28.8154,
          16.9675,
          29.4004,
          17.2804,
          23.2504,
          18.4604,
          13.6504,
          15.2804,
          12.5704,
          27.5454,
          23.7104,
          16.8354,
          24.8,
          26.7855,
          16.2104,
          32.2703,
          15.8604,
          29,
          25.1454,
          28.7437,
          21.67,
          27.2504,
          11.935,
          29.6804,
          8.1804,
          10.7704,
          25.7904,
          23.8354,
          15.5604,
          19.8204,
          10.38,
          22.0257,
          28.4104,
          25.7854,
          14.7504,
          28.45,
          21.3004,
          23.3004,
          16.2004,
          28.81,
          15.5204,
          21.02,
          27.6204,
          26.1505,
          29.4904,
          18.1204,
          12.9204,
          9.5004,
          31.1,
          22.3304,
          13.7804,
          34.2004,
          25.8804,
          27.4833,
          27.63,
          20.8504,
          28.03,
          11.7204,
          31.52,
          12.8337,
          26.7504,
          24.7904,
          30.32,
          23.3803,
          13.1337,
          10.9805,
          12.2604,
          28.64,
          30.1204,
          11.667,
          26.4837,
          27.6,
          10.3204,
          25.667,
          27.3333,
          15.492,
          27.1004,
          20.417,
          20.2666,
          26.144,
          10.5626,
          24.7704,
          10.9504,
          26.75,
          34.3,
          26.6338,
          20.7197
         ],
         "legendgroup": "",
         "lon": [
          72.857,
          77.23,
          88.3247,
          80.28,
          77.56,
          78.48,
          72.58,
          88.3299,
          73.85,
          72.84,
          80.32,
          75.81,
          80.915,
          79.09,
          85.13,
          75.865,
          73.18,
          77.41,
          76.95,
          75.8723,
          78.015,
          73.1602,
          83.305,
          76.2239,
          73.78,
          77.7,
          77.3167,
          83,
          77.4084,
          86.9833,
          86.1975,
          78.12,
          79.9551,
          70.8,
          86.42,
          74.87,
          79.58,
          81.84,
          74.815,
          80.63,
          75.3203,
          81.4333,
          75.9,
          85.33,
          77.2,
          73.0168,
          91.77,
          76.78,
          78.1801,
          76.95,
          75.77,
          78.69,
          75.125,
          76.66,
          81.635,
          78.1801,
          75.569,
          85.8274,
          75.835,
          78.5575,
          79.42,
          78.0618,
          73.13,
          74.8467,
          78.7568,
          74.85,
          74.22,
          77.77,
          78.05,
          74.525,
          79.9899,
          83.38,
          75.56,
          77.33,
          84.83,
          77.3,
          74.505,
          74.575,
          79.3,
          74.64,
          85.8899,
          73.3299,
          72.13,
          75.725,
          82.16,
          77.69,
          80.45,
          88.455,
          75.79,
          75.92,
          77.01,
          77.55,
          76.82,
          88.52,
          74.77,
          73.73,
          76.915,
          78.13,
          78.03,
          85,
          75.14,
          77.1,
          76.57,
          74.75,
          74.635,
          78.1,
          76.76,
          91.88,
          76.57,
          77.58,
          86.98,
          77.695,
          85.3799,
          77.67,
          76.385,
          78.75,
          84.8,
          79.905,
          76.58,
          83.9701,
          75.03,
          78.3949,
          81.79,
          87.865,
          77.5175,
          79.025,
          82.2375,
          76.97,
          80.1601,
          69.81,
          79.11,
          79.42,
          76.375,
          76.92,
          76.6049,
          92.72,
          75.71,
          93.95,
          79.015,
          77.355,
          75.72,
          80.34,
          77.02,
          82.57,
          77.7628,
          69.67,
          77.5,
          79.83,
          76.97,
          77.43,
          79.15,
          73.3299,
          91.28,
          80.05,
          85.9,
          78,
          88.0583,
          77.8484,
          87.48,
          78.57,
          77.02,
          76.13,
          72.6399,
          81.18,
          76.125,
          78.48,
          75.83,
          81.6699,
          75.79,
          75.03,
          83.5,
          79.15,
          76.37,
          77.1666,
          87.15,
          77.49,
          74.35,
          80.8,
          94.9,
          80.75,
          72.92,
          79.09,
          79.77,
          75.98,
          79.7167,
          82.17,
          92.79,
          76.82,
          88.53,
          78.1334,
          79.4,
          79.1,
          79.81,
          74.29,
          92.736,
          89.5667,
          78.05,
          76.97,
          94.1166,
          88.6166,
          73.818,
          93.6166,
          72.85,
          73.0166,
          91.7666,
          72.6369,
          84.38,
          78.0833,
          94.2167,
          74.4667,
          92.8,
          70.9904
         ],
         "marker": {
          "color": "fuchsia"
         },
         "mode": "markers",
         "name": "",
         "showlegend": false,
         "subplot": "mapbox",
         "type": "scattermapbox"
        }
       ],
       "layout": {
        "height": 300,
        "legend": {
         "tracegroupgap": 0
        },
        "mapbox": {
         "center": {
          "lat": 21.680076886792463,
          "lon": 79.27441981132075
         },
         "domain": {
          "x": [
           0,
           1
          ],
          "y": [
           0,
           1
          ]
         },
         "style": "open-street-map",
         "zoom": 3
        },
        "margin": {
         "b": 0,
         "l": 0,
         "r": 0,
         "t": 0
        },
        "template": {
         "data": {
          "bar": [
           {
            "error_x": {
             "color": "#2a3f5f"
            },
            "error_y": {
             "color": "#2a3f5f"
            },
            "marker": {
             "line": {
              "color": "#E5ECF6",
              "width": 0.5
             }
            },
            "type": "bar"
           }
          ],
          "barpolar": [
           {
            "marker": {
             "line": {
              "color": "#E5ECF6",
              "width": 0.5
             }
            },
            "type": "barpolar"
           }
          ],
          "carpet": [
           {
            "aaxis": {
             "endlinecolor": "#2a3f5f",
             "gridcolor": "white",
             "linecolor": "white",
             "minorgridcolor": "white",
             "startlinecolor": "#2a3f5f"
            },
            "baxis": {
             "endlinecolor": "#2a3f5f",
             "gridcolor": "white",
             "linecolor": "white",
             "minorgridcolor": "white",
             "startlinecolor": "#2a3f5f"
            },
            "type": "carpet"
           }
          ],
          "choropleth": [
           {
            "colorbar": {
             "outlinewidth": 0,
             "ticks": ""
            },
            "type": "choropleth"
           }
          ],
          "contour": [
           {
            "colorbar": {
             "outlinewidth": 0,
             "ticks": ""
            },
            "colorscale": [
             [
              0,
              "#0d0887"
             ],
             [
              0.1111111111111111,
              "#46039f"
             ],
             [
              0.2222222222222222,
              "#7201a8"
             ],
             [
              0.3333333333333333,
              "#9c179e"
             ],
             [
              0.4444444444444444,
              "#bd3786"
             ],
             [
              0.5555555555555556,
              "#d8576b"
             ],
             [
              0.6666666666666666,
              "#ed7953"
             ],
             [
              0.7777777777777778,
              "#fb9f3a"
             ],
             [
              0.8888888888888888,
              "#fdca26"
             ],
             [
              1,
              "#f0f921"
             ]
            ],
            "type": "contour"
           }
          ],
          "contourcarpet": [
           {
            "colorbar": {
             "outlinewidth": 0,
             "ticks": ""
            },
            "type": "contourcarpet"
           }
          ],
          "heatmap": [
           {
            "colorbar": {
             "outlinewidth": 0,
             "ticks": ""
            },
            "colorscale": [
             [
              0,
              "#0d0887"
             ],
             [
              0.1111111111111111,
              "#46039f"
             ],
             [
              0.2222222222222222,
              "#7201a8"
             ],
             [
              0.3333333333333333,
              "#9c179e"
             ],
             [
              0.4444444444444444,
              "#bd3786"
             ],
             [
              0.5555555555555556,
              "#d8576b"
             ],
             [
              0.6666666666666666,
              "#ed7953"
             ],
             [
              0.7777777777777778,
              "#fb9f3a"
             ],
             [
              0.8888888888888888,
              "#fdca26"
             ],
             [
              1,
              "#f0f921"
             ]
            ],
            "type": "heatmap"
           }
          ],
          "heatmapgl": [
           {
            "colorbar": {
             "outlinewidth": 0,
             "ticks": ""
            },
            "colorscale": [
             [
              0,
              "#0d0887"
             ],
             [
              0.1111111111111111,
              "#46039f"
             ],
             [
              0.2222222222222222,
              "#7201a8"
             ],
             [
              0.3333333333333333,
              "#9c179e"
             ],
             [
              0.4444444444444444,
              "#bd3786"
             ],
             [
              0.5555555555555556,
              "#d8576b"
             ],
             [
              0.6666666666666666,
              "#ed7953"
             ],
             [
              0.7777777777777778,
              "#fb9f3a"
             ],
             [
              0.8888888888888888,
              "#fdca26"
             ],
             [
              1,
              "#f0f921"
             ]
            ],
            "type": "heatmapgl"
           }
          ],
          "histogram": [
           {
            "marker": {
             "colorbar": {
              "outlinewidth": 0,
              "ticks": ""
             }
            },
            "type": "histogram"
           }
          ],
          "histogram2d": [
           {
            "colorbar": {
             "outlinewidth": 0,
             "ticks": ""
            },
            "colorscale": [
             [
              0,
              "#0d0887"
             ],
             [
              0.1111111111111111,
              "#46039f"
             ],
             [
              0.2222222222222222,
              "#7201a8"
             ],
             [
              0.3333333333333333,
              "#9c179e"
             ],
             [
              0.4444444444444444,
              "#bd3786"
             ],
             [
              0.5555555555555556,
              "#d8576b"
             ],
             [
              0.6666666666666666,
              "#ed7953"
             ],
             [
              0.7777777777777778,
              "#fb9f3a"
             ],
             [
              0.8888888888888888,
              "#fdca26"
             ],
             [
              1,
              "#f0f921"
             ]
            ],
            "type": "histogram2d"
           }
          ],
          "histogram2dcontour": [
           {
            "colorbar": {
             "outlinewidth": 0,
             "ticks": ""
            },
            "colorscale": [
             [
              0,
              "#0d0887"
             ],
             [
              0.1111111111111111,
              "#46039f"
             ],
             [
              0.2222222222222222,
              "#7201a8"
             ],
             [
              0.3333333333333333,
              "#9c179e"
             ],
             [
              0.4444444444444444,
              "#bd3786"
             ],
             [
              0.5555555555555556,
              "#d8576b"
             ],
             [
              0.6666666666666666,
              "#ed7953"
             ],
             [
              0.7777777777777778,
              "#fb9f3a"
             ],
             [
              0.8888888888888888,
              "#fdca26"
             ],
             [
              1,
              "#f0f921"
             ]
            ],
            "type": "histogram2dcontour"
           }
          ],
          "mesh3d": [
           {
            "colorbar": {
             "outlinewidth": 0,
             "ticks": ""
            },
            "type": "mesh3d"
           }
          ],
          "parcoords": [
           {
            "line": {
             "colorbar": {
              "outlinewidth": 0,
              "ticks": ""
             }
            },
            "type": "parcoords"
           }
          ],
          "pie": [
           {
            "automargin": true,
            "type": "pie"
           }
          ],
          "scatter": [
           {
            "marker": {
             "colorbar": {
              "outlinewidth": 0,
              "ticks": ""
             }
            },
            "type": "scatter"
           }
          ],
          "scatter3d": [
           {
            "line": {
             "colorbar": {
              "outlinewidth": 0,
              "ticks": ""
             }
            },
            "marker": {
             "colorbar": {
              "outlinewidth": 0,
              "ticks": ""
             }
            },
            "type": "scatter3d"
           }
          ],
          "scattercarpet": [
           {
            "marker": {
             "colorbar": {
              "outlinewidth": 0,
              "ticks": ""
             }
            },
            "type": "scattercarpet"
           }
          ],
          "scattergeo": [
           {
            "marker": {
             "colorbar": {
              "outlinewidth": 0,
              "ticks": ""
             }
            },
            "type": "scattergeo"
           }
          ],
          "scattergl": [
           {
            "marker": {
             "colorbar": {
              "outlinewidth": 0,
              "ticks": ""
             }
            },
            "type": "scattergl"
           }
          ],
          "scattermapbox": [
           {
            "marker": {
             "colorbar": {
              "outlinewidth": 0,
              "ticks": ""
             }
            },
            "type": "scattermapbox"
           }
          ],
          "scatterpolar": [
           {
            "marker": {
             "colorbar": {
              "outlinewidth": 0,
              "ticks": ""
             }
            },
            "type": "scatterpolar"
           }
          ],
          "scatterpolargl": [
           {
            "marker": {
             "colorbar": {
              "outlinewidth": 0,
              "ticks": ""
             }
            },
            "type": "scatterpolargl"
           }
          ],
          "scatterternary": [
           {
            "marker": {
             "colorbar": {
              "outlinewidth": 0,
              "ticks": ""
             }
            },
            "type": "scatterternary"
           }
          ],
          "surface": [
           {
            "colorbar": {
             "outlinewidth": 0,
             "ticks": ""
            },
            "colorscale": [
             [
              0,
              "#0d0887"
             ],
             [
              0.1111111111111111,
              "#46039f"
             ],
             [
              0.2222222222222222,
              "#7201a8"
             ],
             [
              0.3333333333333333,
              "#9c179e"
             ],
             [
              0.4444444444444444,
              "#bd3786"
             ],
             [
              0.5555555555555556,
              "#d8576b"
             ],
             [
              0.6666666666666666,
              "#ed7953"
             ],
             [
              0.7777777777777778,
              "#fb9f3a"
             ],
             [
              0.8888888888888888,
              "#fdca26"
             ],
             [
              1,
              "#f0f921"
             ]
            ],
            "type": "surface"
           }
          ],
          "table": [
           {
            "cells": {
             "fill": {
              "color": "#EBF0F8"
             },
             "line": {
              "color": "white"
             }
            },
            "header": {
             "fill": {
              "color": "#C8D4E3"
             },
             "line": {
              "color": "white"
             }
            },
            "type": "table"
           }
          ]
         },
         "layout": {
          "annotationdefaults": {
           "arrowcolor": "#2a3f5f",
           "arrowhead": 0,
           "arrowwidth": 1
          },
          "coloraxis": {
           "colorbar": {
            "outlinewidth": 0,
            "ticks": ""
           }
          },
          "colorscale": {
           "diverging": [
            [
             0,
             "#8e0152"
            ],
            [
             0.1,
             "#c51b7d"
            ],
            [
             0.2,
             "#de77ae"
            ],
            [
             0.3,
             "#f1b6da"
            ],
            [
             0.4,
             "#fde0ef"
            ],
            [
             0.5,
             "#f7f7f7"
            ],
            [
             0.6,
             "#e6f5d0"
            ],
            [
             0.7,
             "#b8e186"
            ],
            [
             0.8,
             "#7fbc41"
            ],
            [
             0.9,
             "#4d9221"
            ],
            [
             1,
             "#276419"
            ]
           ],
           "sequential": [
            [
             0,
             "#0d0887"
            ],
            [
             0.1111111111111111,
             "#46039f"
            ],
            [
             0.2222222222222222,
             "#7201a8"
            ],
            [
             0.3333333333333333,
             "#9c179e"
            ],
            [
             0.4444444444444444,
             "#bd3786"
            ],
            [
             0.5555555555555556,
             "#d8576b"
            ],
            [
             0.6666666666666666,
             "#ed7953"
            ],
            [
             0.7777777777777778,
             "#fb9f3a"
            ],
            [
             0.8888888888888888,
             "#fdca26"
            ],
            [
             1,
             "#f0f921"
            ]
           ],
           "sequentialminus": [
            [
             0,
             "#0d0887"
            ],
            [
             0.1111111111111111,
             "#46039f"
            ],
            [
             0.2222222222222222,
             "#7201a8"
            ],
            [
             0.3333333333333333,
             "#9c179e"
            ],
            [
             0.4444444444444444,
             "#bd3786"
            ],
            [
             0.5555555555555556,
             "#d8576b"
            ],
            [
             0.6666666666666666,
             "#ed7953"
            ],
            [
             0.7777777777777778,
             "#fb9f3a"
            ],
            [
             0.8888888888888888,
             "#fdca26"
            ],
            [
             1,
             "#f0f921"
            ]
           ]
          },
          "colorway": [
           "#636efa",
           "#EF553B",
           "#00cc96",
           "#ab63fa",
           "#FFA15A",
           "#19d3f3",
           "#FF6692",
           "#B6E880",
           "#FF97FF",
           "#FECB52"
          ],
          "font": {
           "color": "#2a3f5f"
          },
          "geo": {
           "bgcolor": "white",
           "lakecolor": "white",
           "landcolor": "#E5ECF6",
           "showlakes": true,
           "showland": true,
           "subunitcolor": "white"
          },
          "hoverlabel": {
           "align": "left"
          },
          "hovermode": "closest",
          "mapbox": {
           "style": "light"
          },
          "paper_bgcolor": "white",
          "plot_bgcolor": "#E5ECF6",
          "polar": {
           "angularaxis": {
            "gridcolor": "white",
            "linecolor": "white",
            "ticks": ""
           },
           "bgcolor": "#E5ECF6",
           "radialaxis": {
            "gridcolor": "white",
            "linecolor": "white",
            "ticks": ""
           }
          },
          "scene": {
           "xaxis": {
            "backgroundcolor": "#E5ECF6",
            "gridcolor": "white",
            "gridwidth": 2,
            "linecolor": "white",
            "showbackground": true,
            "ticks": "",
            "zerolinecolor": "white"
           },
           "yaxis": {
            "backgroundcolor": "#E5ECF6",
            "gridcolor": "white",
            "gridwidth": 2,
            "linecolor": "white",
            "showbackground": true,
            "ticks": "",
            "zerolinecolor": "white"
           },
           "zaxis": {
            "backgroundcolor": "#E5ECF6",
            "gridcolor": "white",
            "gridwidth": 2,
            "linecolor": "white",
            "showbackground": true,
            "ticks": "",
            "zerolinecolor": "white"
           }
          },
          "shapedefaults": {
           "line": {
            "color": "#2a3f5f"
           }
          },
          "ternary": {
           "aaxis": {
            "gridcolor": "white",
            "linecolor": "white",
            "ticks": ""
           },
           "baxis": {
            "gridcolor": "white",
            "linecolor": "white",
            "ticks": ""
           },
           "bgcolor": "#E5ECF6",
           "caxis": {
            "gridcolor": "white",
            "linecolor": "white",
            "ticks": ""
           }
          },
          "title": {
           "x": 0.05
          },
          "xaxis": {
           "automargin": true,
           "gridcolor": "white",
           "linecolor": "white",
           "ticks": "",
           "title": {
            "standoff": 15
           },
           "zerolinecolor": "white",
           "zerolinewidth": 2
          },
          "yaxis": {
           "automargin": true,
           "gridcolor": "white",
           "linecolor": "white",
           "ticks": "",
           "title": {
            "standoff": 15
           },
           "zerolinecolor": "white",
           "zerolinewidth": 2
          }
         }
        }
       }
      },
      "text/html": [
       "<div>\n",
       "        \n",
       "        \n",
       "            <div id=\"5d04deb1-a31b-41dd-b11c-33087d2bd98d\" class=\"plotly-graph-div\" style=\"height:300px; width:100%;\"></div>\n",
       "            <script type=\"text/javascript\">\n",
       "                require([\"plotly\"], function(Plotly) {\n",
       "                    window.PLOTLYENV=window.PLOTLYENV || {};\n",
       "                    \n",
       "                if (document.getElementById(\"5d04deb1-a31b-41dd-b11c-33087d2bd98d\")) {\n",
       "                    Plotly.newPlot(\n",
       "                        '5d04deb1-a31b-41dd-b11c-33087d2bd98d',\n",
       "                        [{\"customdata\": [[\"Mumbai\", 18978000.0], [\"Delhi\", 15926000.0], [\"Kolkata\", 14787000.0], [\"Chennai\", 7163000.0], [\"Bengal\\u016bru\", 6787000.0], [\"Hyderabad\", 6376000.0], [\"Ahmad\\u0101b\\u0101d\", 5375000.0], [\"H\\u0101ora\", 4841638.0], [\"Pune\", 4672000.0], [\"S\\u016brat\", 3842000.0], [\"Cawnpore\", 3162000.0], [\"Jaipur\", 2917000.0], [\"Lucknow\", 2695000.0], [\"N\\u0101gpur\", 2454000.0], [\"Patna\", 2158000.0], [\"Indore\", 2026000.0], [\"Vadodara\", 1756000.0], [\"Bhopal\", 1727000.0], [\"Coimbatore\", 1696000.0], [\"Ludhi\\u0101na\", 1649000.0], [\"\\u0100gra\", 1592000.0], [\"Kaly\\u0101n\", 1576614.0], [\"Vish\\u0101khapatnam\", 1529000.0], [\"Kochi\", 1519000.0], [\"N\\u0101sik\", 1473000.0], [\"Meerut\", 1398000.0], [\"Far\\u012bd\\u0101b\\u0101d\", 1394000.0], [\"V\\u0101r\\u0101nasi\", 1352000.0], [\"Gh\\u0101zi\\u0101b\\u0101d\", 1341000.0], [\"\\u0100sansol\", 1328000.0], [\"Jamshedpur\", 1300000.0], [\"Madura\", 1294000.0], [\"Jabalpur\", 1285000.0], [\"R\\u0101jkot\", 1260000.0], [\"Dhanb\\u0101d\", 1246000.0], [\"Amritsar\", 1212000.0], [\"Warangal\", 1203853.0], [\"Allah\\u0101b\\u0101d\", 1201000.0], [\"Sr\\u012bnagar\", 1140000.0], [\"Bezw\\u0101da\", 1137000.0], [\"Aurang\\u0101b\\u0101d\", 1113000.0], [\"Bhilai\", 1097000.0], [\"Sol\\u0101pur\", 1057000.0], [\"Ranchi\", 1044000.0], [\"New Delhi\", 317797.0], [\"Jodhpur\", 995000.0], [\"Guw\\u0101h\\u0101ti\", 983000.0], [\"Chandigarh\", 979000.0], [\"Gwalior\", 978000.0], [\"Thiruvananthapuram\", 954000.0], [\"Calicut\", 953000.0], [\"Trichinopoly\", 951000.0], [\"Hubli\", 890000.0], [\"Mysore\", 887000.0], [\"Raipur\", 875000.0], [\"Salem\", 873000.0], [\"Jalandhar\", 855000.0], [\"Bhubaneshwar\", 844000.0], [\"Kota\", 827000.0], [\"Jh\\u0101nsi\", 826494.0], [\"Bareilly\", 817000.0], [\"Al\\u012bgarh\", 805000.0], [\"Bhiwandi\", 795000.0], [\"Jammu\", 791000.0], [\"Mor\\u0101d\\u0101b\\u0101d\", 787000.0], [\"Mangalore\", 776632.0], [\"Kolh\\u0101pur\", 750000.0], [\"Amr\\u0101vati\", 734451.0], [\"Dehra D\\u016bn\", 714223.0], [\"M\\u0101legaon\", 690844.0], [\"Nellore\", 678004.0], [\"Gorakhpur\", 674246.0], [\"Shimoga\", 654055.0], [\"Tirupp\\u016br\", 650000.0], [\"Raurkela\", 625831.0], [\"N\\u0101nded\", 623708.0], [\"Belgaum\", 608756.0], [\"S\\u0101ngli\", 601214.0], [\"Ch\\u0101nda\", 595118.0], [\"Ajmer\", 589985.0], [\"Cuttack\", 580000.0], [\"B\\u012bkaner\", 576015.0], [\"Bh\\u0101vnagar\", 554978.0], [\"Hisar\", 544829.0], [\"Bil\\u0101spur\", 543454.0], [\"Tinnevelly\", 542200.0], [\"Gunt\\u016br\", 530577.0], [\"Shiliguri\", 515574.0], [\"Ujjain\", 513350.0], [\"Davangere\", 503564.0], [\"Akola\", 503502.0], [\"Sah\\u0101ranpur\", 484873.0], [\"Gulbarga\", 483615.0], [\"Bh\\u0101tp\\u0101ra\", 483129.0], [\"Dh\\u016blia\", 479073.0], [\"Udaipur\", 469737.0], [\"Bellary\", 445388.0], [\"Tuticorin\", 436094.0], [\"Kurnool\", 424920.0], [\"Gaya\", 423692.0], [\"S\\u012bkar\", 400000.0], [\"Tumk\\u016br\", 399606.0], [\"Quilon\", 394163.0], [\"Ahmadnagar\", 391760.0], [\"Bh\\u012blw\\u0101ra\", 389911.0], [\"Niz\\u0101m\\u0101b\\u0101d\", 388505.0], [\"Parbhani\", 378326.0], [\"Shillong\", 375527.0], [\"L\\u0101t\\u016br\", 374394.0], [\"R\\u0101jap\\u0101laiyam\", 369991.0], [\"Bh\\u0101galpur\", 361548.0], [\"Muzaffarnagar\", 349706.0], [\"Muzaffarpur\", 333200.0], [\"Mathura\", 330511.0], [\"Pati\\u0101la\", 329224.0], [\"Saugor\", 328240.0], [\"Brahmapur\", 324726.0], [\"Sh\\u0101hj\\u0101npur\", 320434.0], [\"Rohtak\", 317245.0], [\"Sambalpur\", 310852.0], [\"Ratl\\u0101m\", 307229.0], [\"F\\u012broz\\u0101b\\u0101d\", 306409.0], [\"R\\u0101jahmundry\", 304804.0], [\"Barddham\\u0101n\", 301725.0], [\"B\\u012bdar\", 300136.0], [\"R\\u0101mpur\", 296418.0], [\"K\\u0101kin\\u0101da\", 292923.0], [\"P\\u0101n\\u012bpat\", 292808.0], [\"Khammam\", 290839.0], [\"Bhuj\", 289429.0], [\"Kar\\u012bmnagar\", 288251.0], [\"Tirupati\", 287035.0], [\"Hospet\", 286007.0], [\"Mandya\", 285034.0], [\"Alwar\", 283228.0], [\"Aizawl\", 283021.0], [\"Bij\\u0101pur\", 271064.0], [\"Imphal\", 264986.0], [\"Et\\u0101wah\", 257448.0], [\"R\\u0101ich\\u016br\", 255240.0], [\"Path\\u0101nkot\", 253987.0], [\"Ch\\u012br\\u0101la\", 253000.0], [\"Son\\u012bpat\", 250521.0], [\"Mirz\\u0101pur\", 245817.0], [\"H\\u0101pur\", 242920.0], [\"Porbandar\", 234684.0], [\"Bharatpur\", 229384.0], [\"Puducherry\", 227411.0], [\"Karn\\u0101l\", 225049.0], [\"N\\u0101gercoil\", 224329.0], [\"Tanjore\", 219571.0], [\"P\\u0101li\", 210103.0], [\"Agartala\", 203264.0], [\"Ongole\", 202860.0], [\"Puri\", 201026.0], [\"Dindigul\", 200797.0], [\"Haldia\", 200762.0], [\"Bulandshahr\", 198612.0], [\"Purnea\", 198453.0], [\"Proddat\\u016br\", 197451.0], [\"Gurgaon\", 197340.0], [\"Burh\\u0101npur\", 197233.0], [\"Ghandinagar\", 195891.0], [\"Machil\\u012bpatnam\", 192827.0], [\"Bhiw\\u0101ni\", 190855.0], [\"Nandy\\u0101l\", 188654.0], [\"Bhus\\u0101val\", 183001.0], [\"Bahraigh\", 182218.0], [\"Tonk\", 181734.0], [\"Sirsa\", 181639.0], [\"Vizianagaram\", 179358.0], [\"Vellore\", 177081.0], [\"Alleppey\", 176783.0], [\"Shimla\", 173503.0], [\"Medin\\u012bpur\", 169127.0], [\"Hindupur\", 168312.0], [\"B\\u0101ram\\u016bla\", 167986.0], [\"Fatehpur\", 166480.0], [\"Dibrugarh\", 166366.0], [\"Sitalpur\", 164435.0], [\"Navs\\u0101ri\", 163000.0], [\"Budaun\", 161555.0], [\"Cuddalore\", 158569.0], [\"Har\\u012bpur\", 158142.0], [\"Conjeeveram\", 155029.0], [\"Fyz\\u0101b\\u0101d\", 153047.0], [\"Silchar\", 152393.0], [\"Amb\\u0101la\", 146787.0], [\"Krishnanagar\", 145926.0], [\"Kol\\u0101r\", 144625.0], [\"Kumbakonam\", 139264.0], [\"Tiruvann\\u0101malai\", 138243.0], [\"P\\u012blibh\\u012bt\", 131008.0], [\"Abohar\", 130603.0], [\"Port Blair\", 127562.0], [\"Al\\u012bpur Du\\u0101r\", 127342.0], [\"H\\u0101thras\", 126882.0], [\"V\\u0101lp\\u0101rai\", 114308.0], [\"Kohima\", 92113.0], [\"Gangtok\", 77900.0], [\"Panaji\", 65586.0], [\"Itanagar\", 44971.0], [\"Daman\", 39737.0], [\"Silvassa\", 27359.0], [\"Dispur\", 16140.0], [\"Kavaratti\", 10688.0], [\"Aurang\\u0101b\\u0101d\", 95929.0], [\"Kar\\u016br\", 76915.0], [\"Jorh\\u0101t\", 69033.0], [\"Sopur\", 63035.0], [\"Tezpur\", 58851.0], [\"Diu\", 23779.0]], \"hoverlabel\": {\"namelength\": 0}, \"hovertemplate\": \"<b>%{hovertext}</b><br><br>city=%{customdata[0]}<br>population=%{customdata[1]}<br>lat=%{lat}<br>lng=%{lon}\", \"hovertext\": [\"Mumbai\", \"Delhi\", \"Kolkata\", \"Chennai\", \"Bengal\\u016bru\", \"Hyderabad\", \"Ahmad\\u0101b\\u0101d\", \"H\\u0101ora\", \"Pune\", \"S\\u016brat\", \"Cawnpore\", \"Jaipur\", \"Lucknow\", \"N\\u0101gpur\", \"Patna\", \"Indore\", \"Vadodara\", \"Bhopal\", \"Coimbatore\", \"Ludhi\\u0101na\", \"\\u0100gra\", \"Kaly\\u0101n\", \"Vish\\u0101khapatnam\", \"Kochi\", \"N\\u0101sik\", \"Meerut\", \"Far\\u012bd\\u0101b\\u0101d\", \"V\\u0101r\\u0101nasi\", \"Gh\\u0101zi\\u0101b\\u0101d\", \"\\u0100sansol\", \"Jamshedpur\", \"Madura\", \"Jabalpur\", \"R\\u0101jkot\", \"Dhanb\\u0101d\", \"Amritsar\", \"Warangal\", \"Allah\\u0101b\\u0101d\", \"Sr\\u012bnagar\", \"Bezw\\u0101da\", \"Aurang\\u0101b\\u0101d\", \"Bhilai\", \"Sol\\u0101pur\", \"Ranchi\", \"New Delhi\", \"Jodhpur\", \"Guw\\u0101h\\u0101ti\", \"Chandigarh\", \"Gwalior\", \"Thiruvananthapuram\", \"Calicut\", \"Trichinopoly\", \"Hubli\", \"Mysore\", \"Raipur\", \"Salem\", \"Jalandhar\", \"Bhubaneshwar\", \"Kota\", \"Jh\\u0101nsi\", \"Bareilly\", \"Al\\u012bgarh\", \"Bhiwandi\", \"Jammu\", \"Mor\\u0101d\\u0101b\\u0101d\", \"Mangalore\", \"Kolh\\u0101pur\", \"Amr\\u0101vati\", \"Dehra D\\u016bn\", \"M\\u0101legaon\", \"Nellore\", \"Gorakhpur\", \"Shimoga\", \"Tirupp\\u016br\", \"Raurkela\", \"N\\u0101nded\", \"Belgaum\", \"S\\u0101ngli\", \"Ch\\u0101nda\", \"Ajmer\", \"Cuttack\", \"B\\u012bkaner\", \"Bh\\u0101vnagar\", \"Hisar\", \"Bil\\u0101spur\", \"Tinnevelly\", \"Gunt\\u016br\", \"Shiliguri\", \"Ujjain\", \"Davangere\", \"Akola\", \"Sah\\u0101ranpur\", \"Gulbarga\", \"Bh\\u0101tp\\u0101ra\", \"Dh\\u016blia\", \"Udaipur\", \"Bellary\", \"Tuticorin\", \"Kurnool\", \"Gaya\", \"S\\u012bkar\", \"Tumk\\u016br\", \"Quilon\", \"Ahmadnagar\", \"Bh\\u012blw\\u0101ra\", \"Niz\\u0101m\\u0101b\\u0101d\", \"Parbhani\", \"Shillong\", \"L\\u0101t\\u016br\", \"R\\u0101jap\\u0101laiyam\", \"Bh\\u0101galpur\", \"Muzaffarnagar\", \"Muzaffarpur\", \"Mathura\", \"Pati\\u0101la\", \"Saugor\", \"Brahmapur\", \"Sh\\u0101hj\\u0101npur\", \"Rohtak\", \"Sambalpur\", \"Ratl\\u0101m\", \"F\\u012broz\\u0101b\\u0101d\", \"R\\u0101jahmundry\", \"Barddham\\u0101n\", \"B\\u012bdar\", \"R\\u0101mpur\", \"K\\u0101kin\\u0101da\", \"P\\u0101n\\u012bpat\", \"Khammam\", \"Bhuj\", \"Kar\\u012bmnagar\", \"Tirupati\", \"Hospet\", \"Mandya\", \"Alwar\", \"Aizawl\", \"Bij\\u0101pur\", \"Imphal\", \"Et\\u0101wah\", \"R\\u0101ich\\u016br\", \"Path\\u0101nkot\", \"Ch\\u012br\\u0101la\", \"Son\\u012bpat\", \"Mirz\\u0101pur\", \"H\\u0101pur\", \"Porbandar\", \"Bharatpur\", \"Puducherry\", \"Karn\\u0101l\", \"N\\u0101gercoil\", \"Tanjore\", \"P\\u0101li\", \"Agartala\", \"Ongole\", \"Puri\", \"Dindigul\", \"Haldia\", \"Bulandshahr\", \"Purnea\", \"Proddat\\u016br\", \"Gurgaon\", \"Burh\\u0101npur\", \"Ghandinagar\", \"Machil\\u012bpatnam\", \"Bhiw\\u0101ni\", \"Nandy\\u0101l\", \"Bhus\\u0101val\", \"Bahraigh\", \"Tonk\", \"Sirsa\", \"Vizianagaram\", \"Vellore\", \"Alleppey\", \"Shimla\", \"Medin\\u012bpur\", \"Hindupur\", \"B\\u0101ram\\u016bla\", \"Fatehpur\", \"Dibrugarh\", \"Sitalpur\", \"Navs\\u0101ri\", \"Budaun\", \"Cuddalore\", \"Har\\u012bpur\", \"Conjeeveram\", \"Fyz\\u0101b\\u0101d\", \"Silchar\", \"Amb\\u0101la\", \"Krishnanagar\", \"Kol\\u0101r\", \"Kumbakonam\", \"Tiruvann\\u0101malai\", \"P\\u012blibh\\u012bt\", \"Abohar\", \"Port Blair\", \"Al\\u012bpur Du\\u0101r\", \"H\\u0101thras\", \"V\\u0101lp\\u0101rai\", \"Kohima\", \"Gangtok\", \"Panaji\", \"Itanagar\", \"Daman\", \"Silvassa\", \"Dispur\", \"Kavaratti\", \"Aurang\\u0101b\\u0101d\", \"Kar\\u016br\", \"Jorh\\u0101t\", \"Sopur\", \"Tezpur\", \"Diu\"], \"lat\": [19.017, 28.67, 22.495, 13.09, 12.97, 17.4, 23.0301, 22.5804, 18.53, 21.2, 26.46, 26.9211, 26.855, 21.17, 25.625, 22.7151, 22.31, 23.25, 11.0, 30.9278, 27.1704, 19.2502, 17.73, 10.015, 20.0004, 29.0004, 28.4333, 25.33, 28.6604, 23.6833, 22.7875, 9.92, 23.1751, 22.31, 23.8004, 31.64, 18.01, 25.455, 34.1, 16.52, 19.8957, 21.2167, 17.6704, 23.37, 28.6, 26.2918, 26.16, 30.72, 26.23, 8.5, 11.2504, 10.81, 15.36, 12.31, 21.235, 11.67, 31.3349, 20.2704, 25.18, 25.453, 28.3454, 27.8922, 19.35, 32.7118, 28.8418, 12.9, 16.7, 20.95, 30.3204, 20.5604, 14.44, 26.7504, 13.9304, 11.0804, 22.2304, 19.17, 15.865, 16.8604, 19.97, 26.45, 20.47, 28.0304, 21.7784, 29.17, 22.0904, 8.7304, 16.33, 26.7204, 23.1904, 14.47, 20.71, 29.97, 17.35, 22.8504, 20.9, 24.6, 15.15, 8.82, 15.83, 24.8, 27.6104, 13.33, 8.9004, 19.1104, 25.3504, 18.6704, 19.2704, 25.5705, 18.4004, 9.4204, 25.23, 29.485, 26.1204, 27.5, 30.3204, 23.8504, 19.32, 27.8804, 28.9, 21.4704, 23.3504, 27.15, 17.0303, 23.2504, 17.9229, 28.8154, 16.9675, 29.4004, 17.2804, 23.2504, 18.4604, 13.6504, 15.2804, 12.5704, 27.5454, 23.7104, 16.8354, 24.8, 26.7855, 16.2104, 32.2703, 15.8604, 29.0, 25.1454, 28.7437, 21.67, 27.2504, 11.935, 29.6804, 8.1804, 10.7704, 25.7904, 23.8354, 15.5604, 19.8204, 10.38, 22.0257, 28.4104, 25.7854, 14.7504, 28.45, 21.3004, 23.3004, 16.2004, 28.81, 15.5204, 21.02, 27.6204, 26.1505, 29.4904, 18.1204, 12.9204, 9.5004, 31.1, 22.3304, 13.7804, 34.2004, 25.8804, 27.4833, 27.63, 20.8504, 28.03, 11.7204, 31.52, 12.8337, 26.7504, 24.7904, 30.32, 23.3803, 13.1337, 10.9805, 12.2604, 28.64, 30.1204, 11.667, 26.4837, 27.6, 10.3204, 25.667, 27.3333, 15.492, 27.1004, 20.417, 20.2666, 26.144, 10.5626, 24.7704, 10.9504, 26.75, 34.3, 26.6338, 20.7197], \"legendgroup\": \"\", \"lon\": [72.857, 77.23, 88.3247, 80.28, 77.56, 78.48, 72.58, 88.3299, 73.85, 72.84, 80.32, 75.81, 80.915, 79.09, 85.13, 75.865, 73.18, 77.41, 76.95, 75.8723, 78.015, 73.1602, 83.305, 76.2239, 73.78, 77.7, 77.3167, 83.0, 77.4084, 86.9833, 86.1975, 78.12, 79.9551, 70.8, 86.42, 74.87, 79.58, 81.84, 74.815, 80.63, 75.3203, 81.4333, 75.9, 85.33, 77.2, 73.0168, 91.77, 76.78, 78.1801, 76.95, 75.77, 78.69, 75.125, 76.66, 81.635, 78.1801, 75.569, 85.8274, 75.835, 78.5575, 79.42, 78.0618, 73.13, 74.8467, 78.7568, 74.85, 74.22, 77.77, 78.05, 74.525, 79.9899, 83.38, 75.56, 77.33, 84.83, 77.3, 74.505, 74.575, 79.3, 74.64, 85.8899, 73.3299, 72.13, 75.725, 82.16, 77.69, 80.45, 88.455, 75.79, 75.92, 77.01, 77.55, 76.82, 88.52, 74.77, 73.73, 76.915, 78.13, 78.03, 85.0, 75.14, 77.1, 76.57, 74.75, 74.635, 78.1, 76.76, 91.88, 76.57, 77.58, 86.98, 77.695, 85.3799, 77.67, 76.385, 78.75, 84.8, 79.905, 76.58, 83.9701, 75.03, 78.3949, 81.79, 87.865, 77.5175, 79.025, 82.2375, 76.97, 80.1601, 69.81, 79.11, 79.42, 76.375, 76.92, 76.6049, 92.72, 75.71, 93.95, 79.015, 77.355, 75.72, 80.34, 77.02, 82.57, 77.7628, 69.67, 77.5, 79.83, 76.97, 77.43, 79.15, 73.3299, 91.28, 80.05, 85.9, 78.0, 88.0583, 77.8484, 87.48, 78.57, 77.02, 76.13, 72.6399, 81.18, 76.125, 78.48, 75.83, 81.6699, 75.79, 75.03, 83.5, 79.15, 76.37, 77.1666, 87.15, 77.49, 74.35, 80.8, 94.9, 80.75, 72.92, 79.09, 79.77, 75.98, 79.7167, 82.17, 92.79, 76.82, 88.53, 78.1334, 79.4, 79.1, 79.81, 74.29, 92.736, 89.5667, 78.05, 76.97, 94.1166, 88.6166, 73.818, 93.6166, 72.85, 73.0166, 91.7666, 72.6369, 84.38, 78.0833, 94.2167, 74.4667, 92.8, 70.9904], \"marker\": {\"color\": \"fuchsia\"}, \"mode\": \"markers\", \"name\": \"\", \"showlegend\": false, \"subplot\": \"mapbox\", \"type\": \"scattermapbox\"}],\n",
       "                        {\"height\": 300, \"legend\": {\"tracegroupgap\": 0}, \"mapbox\": {\"center\": {\"lat\": 21.680076886792463, \"lon\": 79.27441981132075}, \"domain\": {\"x\": [0.0, 1.0], \"y\": [0.0, 1.0]}, \"style\": \"open-street-map\", \"zoom\": 3}, \"margin\": {\"b\": 0, \"l\": 0, \"r\": 0, \"t\": 0}, \"template\": {\"data\": {\"bar\": [{\"error_x\": {\"color\": \"#2a3f5f\"}, \"error_y\": {\"color\": \"#2a3f5f\"}, \"marker\": {\"line\": {\"color\": \"#E5ECF6\", \"width\": 0.5}}, \"type\": \"bar\"}], \"barpolar\": [{\"marker\": {\"line\": {\"color\": \"#E5ECF6\", \"width\": 0.5}}, \"type\": \"barpolar\"}], \"carpet\": [{\"aaxis\": {\"endlinecolor\": \"#2a3f5f\", \"gridcolor\": \"white\", \"linecolor\": \"white\", \"minorgridcolor\": \"white\", \"startlinecolor\": \"#2a3f5f\"}, \"baxis\": {\"endlinecolor\": \"#2a3f5f\", \"gridcolor\": \"white\", \"linecolor\": \"white\", \"minorgridcolor\": \"white\", \"startlinecolor\": \"#2a3f5f\"}, \"type\": \"carpet\"}], \"choropleth\": [{\"colorbar\": {\"outlinewidth\": 0, \"ticks\": \"\"}, \"type\": \"choropleth\"}], \"contour\": [{\"colorbar\": {\"outlinewidth\": 0, \"ticks\": \"\"}, \"colorscale\": [[0.0, \"#0d0887\"], [0.1111111111111111, \"#46039f\"], [0.2222222222222222, \"#7201a8\"], [0.3333333333333333, \"#9c179e\"], [0.4444444444444444, \"#bd3786\"], [0.5555555555555556, \"#d8576b\"], [0.6666666666666666, \"#ed7953\"], [0.7777777777777778, \"#fb9f3a\"], [0.8888888888888888, \"#fdca26\"], [1.0, \"#f0f921\"]], \"type\": \"contour\"}], \"contourcarpet\": [{\"colorbar\": {\"outlinewidth\": 0, \"ticks\": \"\"}, \"type\": \"contourcarpet\"}], \"heatmap\": [{\"colorbar\": {\"outlinewidth\": 0, \"ticks\": \"\"}, \"colorscale\": [[0.0, \"#0d0887\"], [0.1111111111111111, \"#46039f\"], [0.2222222222222222, \"#7201a8\"], [0.3333333333333333, \"#9c179e\"], [0.4444444444444444, \"#bd3786\"], [0.5555555555555556, \"#d8576b\"], [0.6666666666666666, \"#ed7953\"], [0.7777777777777778, \"#fb9f3a\"], [0.8888888888888888, \"#fdca26\"], [1.0, \"#f0f921\"]], \"type\": \"heatmap\"}], \"heatmapgl\": [{\"colorbar\": {\"outlinewidth\": 0, \"ticks\": \"\"}, \"colorscale\": [[0.0, \"#0d0887\"], [0.1111111111111111, \"#46039f\"], [0.2222222222222222, \"#7201a8\"], [0.3333333333333333, \"#9c179e\"], [0.4444444444444444, \"#bd3786\"], [0.5555555555555556, \"#d8576b\"], [0.6666666666666666, \"#ed7953\"], [0.7777777777777778, \"#fb9f3a\"], [0.8888888888888888, \"#fdca26\"], [1.0, \"#f0f921\"]], \"type\": \"heatmapgl\"}], \"histogram\": [{\"marker\": {\"colorbar\": {\"outlinewidth\": 0, \"ticks\": \"\"}}, \"type\": \"histogram\"}], \"histogram2d\": [{\"colorbar\": {\"outlinewidth\": 0, \"ticks\": \"\"}, \"colorscale\": [[0.0, \"#0d0887\"], [0.1111111111111111, \"#46039f\"], [0.2222222222222222, \"#7201a8\"], [0.3333333333333333, \"#9c179e\"], [0.4444444444444444, \"#bd3786\"], [0.5555555555555556, \"#d8576b\"], [0.6666666666666666, \"#ed7953\"], [0.7777777777777778, \"#fb9f3a\"], [0.8888888888888888, \"#fdca26\"], [1.0, \"#f0f921\"]], \"type\": \"histogram2d\"}], \"histogram2dcontour\": [{\"colorbar\": {\"outlinewidth\": 0, \"ticks\": \"\"}, \"colorscale\": [[0.0, \"#0d0887\"], [0.1111111111111111, \"#46039f\"], [0.2222222222222222, \"#7201a8\"], [0.3333333333333333, \"#9c179e\"], [0.4444444444444444, \"#bd3786\"], [0.5555555555555556, \"#d8576b\"], [0.6666666666666666, \"#ed7953\"], [0.7777777777777778, \"#fb9f3a\"], [0.8888888888888888, \"#fdca26\"], [1.0, \"#f0f921\"]], \"type\": \"histogram2dcontour\"}], \"mesh3d\": [{\"colorbar\": {\"outlinewidth\": 0, \"ticks\": \"\"}, \"type\": \"mesh3d\"}], \"parcoords\": [{\"line\": {\"colorbar\": {\"outlinewidth\": 0, \"ticks\": \"\"}}, \"type\": \"parcoords\"}], \"pie\": [{\"automargin\": true, \"type\": \"pie\"}], \"scatter\": [{\"marker\": {\"colorbar\": {\"outlinewidth\": 0, \"ticks\": \"\"}}, \"type\": \"scatter\"}], \"scatter3d\": [{\"line\": {\"colorbar\": {\"outlinewidth\": 0, \"ticks\": \"\"}}, \"marker\": {\"colorbar\": {\"outlinewidth\": 0, \"ticks\": \"\"}}, \"type\": \"scatter3d\"}], \"scattercarpet\": [{\"marker\": {\"colorbar\": {\"outlinewidth\": 0, \"ticks\": \"\"}}, \"type\": \"scattercarpet\"}], \"scattergeo\": [{\"marker\": {\"colorbar\": {\"outlinewidth\": 0, \"ticks\": \"\"}}, \"type\": \"scattergeo\"}], \"scattergl\": [{\"marker\": {\"colorbar\": {\"outlinewidth\": 0, \"ticks\": \"\"}}, \"type\": \"scattergl\"}], \"scattermapbox\": [{\"marker\": {\"colorbar\": {\"outlinewidth\": 0, \"ticks\": \"\"}}, \"type\": \"scattermapbox\"}], \"scatterpolar\": [{\"marker\": {\"colorbar\": {\"outlinewidth\": 0, \"ticks\": \"\"}}, \"type\": \"scatterpolar\"}], \"scatterpolargl\": [{\"marker\": {\"colorbar\": {\"outlinewidth\": 0, \"ticks\": \"\"}}, \"type\": \"scatterpolargl\"}], \"scatterternary\": [{\"marker\": {\"colorbar\": {\"outlinewidth\": 0, \"ticks\": \"\"}}, \"type\": \"scatterternary\"}], \"surface\": [{\"colorbar\": {\"outlinewidth\": 0, \"ticks\": \"\"}, \"colorscale\": [[0.0, \"#0d0887\"], [0.1111111111111111, \"#46039f\"], [0.2222222222222222, \"#7201a8\"], [0.3333333333333333, \"#9c179e\"], [0.4444444444444444, \"#bd3786\"], [0.5555555555555556, \"#d8576b\"], [0.6666666666666666, \"#ed7953\"], [0.7777777777777778, \"#fb9f3a\"], [0.8888888888888888, \"#fdca26\"], [1.0, \"#f0f921\"]], \"type\": \"surface\"}], \"table\": [{\"cells\": {\"fill\": {\"color\": \"#EBF0F8\"}, \"line\": {\"color\": \"white\"}}, \"header\": {\"fill\": {\"color\": \"#C8D4E3\"}, \"line\": {\"color\": \"white\"}}, \"type\": \"table\"}]}, \"layout\": {\"annotationdefaults\": {\"arrowcolor\": \"#2a3f5f\", \"arrowhead\": 0, \"arrowwidth\": 1}, \"coloraxis\": {\"colorbar\": {\"outlinewidth\": 0, \"ticks\": \"\"}}, \"colorscale\": {\"diverging\": [[0, \"#8e0152\"], [0.1, \"#c51b7d\"], [0.2, \"#de77ae\"], [0.3, \"#f1b6da\"], [0.4, \"#fde0ef\"], [0.5, \"#f7f7f7\"], [0.6, \"#e6f5d0\"], [0.7, \"#b8e186\"], [0.8, \"#7fbc41\"], [0.9, \"#4d9221\"], [1, \"#276419\"]], \"sequential\": [[0.0, \"#0d0887\"], [0.1111111111111111, \"#46039f\"], [0.2222222222222222, \"#7201a8\"], [0.3333333333333333, \"#9c179e\"], [0.4444444444444444, \"#bd3786\"], [0.5555555555555556, \"#d8576b\"], [0.6666666666666666, \"#ed7953\"], [0.7777777777777778, \"#fb9f3a\"], [0.8888888888888888, \"#fdca26\"], [1.0, \"#f0f921\"]], \"sequentialminus\": [[0.0, \"#0d0887\"], [0.1111111111111111, \"#46039f\"], [0.2222222222222222, \"#7201a8\"], [0.3333333333333333, \"#9c179e\"], [0.4444444444444444, \"#bd3786\"], [0.5555555555555556, \"#d8576b\"], [0.6666666666666666, \"#ed7953\"], [0.7777777777777778, \"#fb9f3a\"], [0.8888888888888888, \"#fdca26\"], [1.0, \"#f0f921\"]]}, \"colorway\": [\"#636efa\", \"#EF553B\", \"#00cc96\", \"#ab63fa\", \"#FFA15A\", \"#19d3f3\", \"#FF6692\", \"#B6E880\", \"#FF97FF\", \"#FECB52\"], \"font\": {\"color\": \"#2a3f5f\"}, \"geo\": {\"bgcolor\": \"white\", \"lakecolor\": \"white\", \"landcolor\": \"#E5ECF6\", \"showlakes\": true, \"showland\": true, \"subunitcolor\": \"white\"}, \"hoverlabel\": {\"align\": \"left\"}, \"hovermode\": \"closest\", \"mapbox\": {\"style\": \"light\"}, \"paper_bgcolor\": \"white\", \"plot_bgcolor\": \"#E5ECF6\", \"polar\": {\"angularaxis\": {\"gridcolor\": \"white\", \"linecolor\": \"white\", \"ticks\": \"\"}, \"bgcolor\": \"#E5ECF6\", \"radialaxis\": {\"gridcolor\": \"white\", \"linecolor\": \"white\", \"ticks\": \"\"}}, \"scene\": {\"xaxis\": {\"backgroundcolor\": \"#E5ECF6\", \"gridcolor\": \"white\", \"gridwidth\": 2, \"linecolor\": \"white\", \"showbackground\": true, \"ticks\": \"\", \"zerolinecolor\": \"white\"}, \"yaxis\": {\"backgroundcolor\": \"#E5ECF6\", \"gridcolor\": \"white\", \"gridwidth\": 2, \"linecolor\": \"white\", \"showbackground\": true, \"ticks\": \"\", \"zerolinecolor\": \"white\"}, \"zaxis\": {\"backgroundcolor\": \"#E5ECF6\", \"gridcolor\": \"white\", \"gridwidth\": 2, \"linecolor\": \"white\", \"showbackground\": true, \"ticks\": \"\", \"zerolinecolor\": \"white\"}}, \"shapedefaults\": {\"line\": {\"color\": \"#2a3f5f\"}}, \"ternary\": {\"aaxis\": {\"gridcolor\": \"white\", \"linecolor\": \"white\", \"ticks\": \"\"}, \"baxis\": {\"gridcolor\": \"white\", \"linecolor\": \"white\", \"ticks\": \"\"}, \"bgcolor\": \"#E5ECF6\", \"caxis\": {\"gridcolor\": \"white\", \"linecolor\": \"white\", \"ticks\": \"\"}}, \"title\": {\"x\": 0.05}, \"xaxis\": {\"automargin\": true, \"gridcolor\": \"white\", \"linecolor\": \"white\", \"ticks\": \"\", \"title\": {\"standoff\": 15}, \"zerolinecolor\": \"white\", \"zerolinewidth\": 2}, \"yaxis\": {\"automargin\": true, \"gridcolor\": \"white\", \"linecolor\": \"white\", \"ticks\": \"\", \"title\": {\"standoff\": 15}, \"zerolinecolor\": \"white\", \"zerolinewidth\": 2}}}},\n",
       "                        {\"responsive\": true}\n",
       "                    ).then(function(){\n",
       "                            \n",
       "var gd = document.getElementById('5d04deb1-a31b-41dd-b11c-33087d2bd98d');\n",
       "var x = new MutationObserver(function (mutations, observer) {{\n",
       "        var display = window.getComputedStyle(gd).display;\n",
       "        if (!display || display === 'none') {{\n",
       "            console.log([gd, 'removed!']);\n",
       "            Plotly.purge(gd);\n",
       "            observer.disconnect();\n",
       "        }}\n",
       "}});\n",
       "\n",
       "// Listen for the removal of the full notebook cells\n",
       "var notebookContainer = gd.closest('#notebook-container');\n",
       "if (notebookContainer) {{\n",
       "    x.observe(notebookContainer, {childList: true});\n",
       "}}\n",
       "\n",
       "// Listen for the clearing of the current output cell\n",
       "var outputEl = gd.closest('.output');\n",
       "if (outputEl) {{\n",
       "    x.observe(outputEl, {childList: true});\n",
       "}}\n",
       "\n",
       "                        })\n",
       "                };\n",
       "                });\n",
       "            </script>\n",
       "        </div>"
      ]
     },
     "metadata": {},
     "output_type": "display_data"
    }
   ],
   "source": [
    "import pandas as pd\n",
    "\n",
    "import plotly.express as px\n",
    "\n",
    "fig = px.scatter_mapbox(india_cities_df, lat=\"lat\", lon=\"lng\", hover_name=\"city\", hover_data=[\"city\", \"population\"],\n",
    "                        color_discrete_sequence=[\"fuchsia\"], zoom=3, height=300)\n",
    "fig.update_layout(mapbox_style=\"open-street-map\")\n",
    "fig.update_layout(margin={\"r\":0,\"t\":0,\"l\":0,\"b\":0})\n",
    "fig.show()"
   ]
  },
  {
   "cell_type": "code",
   "execution_count": 23,
   "metadata": {
    "scrolled": true
   },
   "outputs": [
    {
     "data": {
      "text/html": [
       "<div>\n",
       "<style scoped>\n",
       "    .dataframe tbody tr th:only-of-type {\n",
       "        vertical-align: middle;\n",
       "    }\n",
       "\n",
       "    .dataframe tbody tr th {\n",
       "        vertical-align: top;\n",
       "    }\n",
       "\n",
       "    .dataframe thead th {\n",
       "        text-align: right;\n",
       "    }\n",
       "</style>\n",
       "<table border=\"1\" class=\"dataframe\">\n",
       "  <thead>\n",
       "    <tr style=\"text-align: right;\">\n",
       "      <th></th>\n",
       "      <th>State</th>\n",
       "      <th>lat</th>\n",
       "      <th>lon</th>\n",
       "    </tr>\n",
       "  </thead>\n",
       "  <tbody>\n",
       "    <tr>\n",
       "      <th>0</th>\n",
       "      <td>Rajasthan</td>\n",
       "      <td>27.0238</td>\n",
       "      <td>74.2179</td>\n",
       "    </tr>\n",
       "    <tr>\n",
       "      <th>1</th>\n",
       "      <td>Kerala</td>\n",
       "      <td>10.8505</td>\n",
       "      <td>76.2711</td>\n",
       "    </tr>\n",
       "    <tr>\n",
       "      <th>2</th>\n",
       "      <td>Maharashtra</td>\n",
       "      <td>19.7515</td>\n",
       "      <td>75.7139</td>\n",
       "    </tr>\n",
       "    <tr>\n",
       "      <th>3</th>\n",
       "      <td>Goa</td>\n",
       "      <td>15.2993</td>\n",
       "      <td>74.1240</td>\n",
       "    </tr>\n",
       "    <tr>\n",
       "      <th>4</th>\n",
       "      <td>Jammu and Kashmir</td>\n",
       "      <td>33.7782</td>\n",
       "      <td>76.5762</td>\n",
       "    </tr>\n",
       "    <tr>\n",
       "      <th>5</th>\n",
       "      <td>Karnataka</td>\n",
       "      <td>15.3173</td>\n",
       "      <td>75.7139</td>\n",
       "    </tr>\n",
       "    <tr>\n",
       "      <th>6</th>\n",
       "      <td>Gujarat</td>\n",
       "      <td>22.2587</td>\n",
       "      <td>71.1924</td>\n",
       "    </tr>\n",
       "    <tr>\n",
       "      <th>7</th>\n",
       "      <td>Haryana</td>\n",
       "      <td>29.0588</td>\n",
       "      <td>76.0856</td>\n",
       "    </tr>\n",
       "    <tr>\n",
       "      <th>8</th>\n",
       "      <td>Uttar Pradesh</td>\n",
       "      <td>26.8467</td>\n",
       "      <td>80.9462</td>\n",
       "    </tr>\n",
       "    <tr>\n",
       "      <th>9</th>\n",
       "      <td>Bihar</td>\n",
       "      <td>25.0961</td>\n",
       "      <td>85.3131</td>\n",
       "    </tr>\n",
       "    <tr>\n",
       "      <th>10</th>\n",
       "      <td>Jharkhand</td>\n",
       "      <td>23.6102</td>\n",
       "      <td>85.2799</td>\n",
       "    </tr>\n",
       "    <tr>\n",
       "      <th>11</th>\n",
       "      <td>Madhya Pradesh</td>\n",
       "      <td>22.9734</td>\n",
       "      <td>78.6569</td>\n",
       "    </tr>\n",
       "    <tr>\n",
       "      <th>12</th>\n",
       "      <td>Telangana</td>\n",
       "      <td>18.1124</td>\n",
       "      <td>79.0193</td>\n",
       "    </tr>\n",
       "    <tr>\n",
       "      <th>13</th>\n",
       "      <td>Tamil Nadu</td>\n",
       "      <td>11.1271</td>\n",
       "      <td>78.6569</td>\n",
       "    </tr>\n",
       "    <tr>\n",
       "      <th>14</th>\n",
       "      <td>Andhra Pradesh</td>\n",
       "      <td>15.9129</td>\n",
       "      <td>79.7400</td>\n",
       "    </tr>\n",
       "    <tr>\n",
       "      <th>15</th>\n",
       "      <td>Chhattisgarh</td>\n",
       "      <td>21.2787</td>\n",
       "      <td>81.8661</td>\n",
       "    </tr>\n",
       "    <tr>\n",
       "      <th>16</th>\n",
       "      <td>Assam</td>\n",
       "      <td>26.2006</td>\n",
       "      <td>92.9376</td>\n",
       "    </tr>\n",
       "    <tr>\n",
       "      <th>17</th>\n",
       "      <td>Punjab</td>\n",
       "      <td>31.1471</td>\n",
       "      <td>75.3412</td>\n",
       "    </tr>\n",
       "    <tr>\n",
       "      <th>18</th>\n",
       "      <td>Odisha</td>\n",
       "      <td>20.9517</td>\n",
       "      <td>85.0985</td>\n",
       "    </tr>\n",
       "    <tr>\n",
       "      <th>19</th>\n",
       "      <td>Uttarakhand</td>\n",
       "      <td>30.0668</td>\n",
       "      <td>79.0193</td>\n",
       "    </tr>\n",
       "    <tr>\n",
       "      <th>20</th>\n",
       "      <td>West Bengal</td>\n",
       "      <td>22.9868</td>\n",
       "      <td>87.8550</td>\n",
       "    </tr>\n",
       "    <tr>\n",
       "      <th>21</th>\n",
       "      <td>Nagaland</td>\n",
       "      <td>26.1584</td>\n",
       "      <td>94.5624</td>\n",
       "    </tr>\n",
       "    <tr>\n",
       "      <th>22</th>\n",
       "      <td>Himachal Pradesh</td>\n",
       "      <td>31.1048</td>\n",
       "      <td>77.1734</td>\n",
       "    </tr>\n",
       "    <tr>\n",
       "      <th>23</th>\n",
       "      <td>Sikkim</td>\n",
       "      <td>27.5330</td>\n",
       "      <td>88.5122</td>\n",
       "    </tr>\n",
       "    <tr>\n",
       "      <th>24</th>\n",
       "      <td>Manipur</td>\n",
       "      <td>24.6637</td>\n",
       "      <td>93.9063</td>\n",
       "    </tr>\n",
       "    <tr>\n",
       "      <th>25</th>\n",
       "      <td>Tripura</td>\n",
       "      <td>23.9408</td>\n",
       "      <td>91.9882</td>\n",
       "    </tr>\n",
       "    <tr>\n",
       "      <th>26</th>\n",
       "      <td>Arunachal Pradesh</td>\n",
       "      <td>28.2180</td>\n",
       "      <td>94.7278</td>\n",
       "    </tr>\n",
       "    <tr>\n",
       "      <th>27</th>\n",
       "      <td>Meghalaya</td>\n",
       "      <td>25.4670</td>\n",
       "      <td>91.3662</td>\n",
       "    </tr>\n",
       "    <tr>\n",
       "      <th>28</th>\n",
       "      <td>Mizoram</td>\n",
       "      <td>23.1645</td>\n",
       "      <td>92.9376</td>\n",
       "    </tr>\n",
       "  </tbody>\n",
       "</table>\n",
       "</div>"
      ],
      "text/plain": [
       "                State      lat      lon\n",
       "0           Rajasthan  27.0238  74.2179\n",
       "1              Kerala  10.8505  76.2711\n",
       "2         Maharashtra  19.7515  75.7139\n",
       "3                 Goa  15.2993  74.1240\n",
       "4   Jammu and Kashmir  33.7782  76.5762\n",
       "5           Karnataka  15.3173  75.7139\n",
       "6             Gujarat  22.2587  71.1924\n",
       "7             Haryana  29.0588  76.0856\n",
       "8       Uttar Pradesh  26.8467  80.9462\n",
       "9               Bihar  25.0961  85.3131\n",
       "10          Jharkhand  23.6102  85.2799\n",
       "11     Madhya Pradesh  22.9734  78.6569\n",
       "12          Telangana  18.1124  79.0193\n",
       "13         Tamil Nadu  11.1271  78.6569\n",
       "14     Andhra Pradesh  15.9129  79.7400\n",
       "15       Chhattisgarh  21.2787  81.8661\n",
       "16              Assam  26.2006  92.9376\n",
       "17             Punjab  31.1471  75.3412\n",
       "18             Odisha  20.9517  85.0985\n",
       "19        Uttarakhand  30.0668  79.0193\n",
       "20        West Bengal  22.9868  87.8550\n",
       "21           Nagaland  26.1584  94.5624\n",
       "22   Himachal Pradesh  31.1048  77.1734\n",
       "23             Sikkim  27.5330  88.5122\n",
       "24            Manipur  24.6637  93.9063\n",
       "25            Tripura  23.9408  91.9882\n",
       "26  Arunachal Pradesh  28.2180  94.7278\n",
       "27          Meghalaya  25.4670  91.3662\n",
       "28            Mizoram  23.1645  92.9376"
      ]
     },
     "execution_count": 23,
     "metadata": {},
     "output_type": "execute_result"
    }
   ],
   "source": [
    "indian_states_df = pd.read_csv('../data/Indian_States.csv')\n",
    "indian_states_df"
   ]
  },
  {
   "cell_type": "code",
   "execution_count": 43,
   "metadata": {
    "scrolled": true
   },
   "outputs": [
    {
     "data": {
      "text/html": [
       "<div>\n",
       "<style scoped>\n",
       "    .dataframe tbody tr th:only-of-type {\n",
       "        vertical-align: middle;\n",
       "    }\n",
       "\n",
       "    .dataframe tbody tr th {\n",
       "        vertical-align: top;\n",
       "    }\n",
       "\n",
       "    .dataframe thead th {\n",
       "        text-align: right;\n",
       "    }\n",
       "</style>\n",
       "<table border=\"1\" class=\"dataframe\">\n",
       "  <thead>\n",
       "    <tr style=\"text-align: right;\">\n",
       "      <th></th>\n",
       "      <th>State</th>\n",
       "      <th>lat</th>\n",
       "      <th>lon</th>\n",
       "      <th>totalConfirmed</th>\n",
       "      <th>TotalConfirmedCasesInIndia</th>\n",
       "    </tr>\n",
       "  </thead>\n",
       "  <tbody>\n",
       "    <tr>\n",
       "      <th>0</th>\n",
       "      <td>Rajasthan</td>\n",
       "      <td>27.0238</td>\n",
       "      <td>74.2179</td>\n",
       "      <td>2603</td>\n",
       "      <td>4735</td>\n",
       "    </tr>\n",
       "    <tr>\n",
       "      <th>1</th>\n",
       "      <td>Kerala</td>\n",
       "      <td>10.8505</td>\n",
       "      <td>76.2711</td>\n",
       "      <td>2036</td>\n",
       "      <td>1710</td>\n",
       "    </tr>\n",
       "    <tr>\n",
       "      <th>2</th>\n",
       "      <td>Maharashtra</td>\n",
       "      <td>19.7515</td>\n",
       "      <td>75.7139</td>\n",
       "      <td>3440</td>\n",
       "      <td>982</td>\n",
       "    </tr>\n",
       "    <tr>\n",
       "      <th>3</th>\n",
       "      <td>Goa</td>\n",
       "      <td>15.2993</td>\n",
       "      <td>74.1240</td>\n",
       "      <td>1093</td>\n",
       "      <td>2176</td>\n",
       "    </tr>\n",
       "    <tr>\n",
       "      <th>4</th>\n",
       "      <td>Jammu and Kashmir</td>\n",
       "      <td>33.7782</td>\n",
       "      <td>76.5762</td>\n",
       "      <td>3956</td>\n",
       "      <td>211</td>\n",
       "    </tr>\n",
       "    <tr>\n",
       "      <th>5</th>\n",
       "      <td>Karnataka</td>\n",
       "      <td>15.3173</td>\n",
       "      <td>75.7139</td>\n",
       "      <td>70</td>\n",
       "      <td>2465</td>\n",
       "    </tr>\n",
       "    <tr>\n",
       "      <th>6</th>\n",
       "      <td>Gujarat</td>\n",
       "      <td>22.2587</td>\n",
       "      <td>71.1924</td>\n",
       "      <td>4975</td>\n",
       "      <td>4010</td>\n",
       "    </tr>\n",
       "    <tr>\n",
       "      <th>7</th>\n",
       "      <td>Haryana</td>\n",
       "      <td>29.0588</td>\n",
       "      <td>76.0856</td>\n",
       "      <td>2146</td>\n",
       "      <td>1525</td>\n",
       "    </tr>\n",
       "    <tr>\n",
       "      <th>8</th>\n",
       "      <td>Uttar Pradesh</td>\n",
       "      <td>26.8467</td>\n",
       "      <td>80.9462</td>\n",
       "      <td>4585</td>\n",
       "      <td>1316</td>\n",
       "    </tr>\n",
       "    <tr>\n",
       "      <th>9</th>\n",
       "      <td>Bihar</td>\n",
       "      <td>25.0961</td>\n",
       "      <td>85.3131</td>\n",
       "      <td>2376</td>\n",
       "      <td>3465</td>\n",
       "    </tr>\n",
       "    <tr>\n",
       "      <th>10</th>\n",
       "      <td>Jharkhand</td>\n",
       "      <td>23.6102</td>\n",
       "      <td>85.2799</td>\n",
       "      <td>503</td>\n",
       "      <td>4792</td>\n",
       "    </tr>\n",
       "    <tr>\n",
       "      <th>11</th>\n",
       "      <td>Madhya Pradesh</td>\n",
       "      <td>22.9734</td>\n",
       "      <td>78.6569</td>\n",
       "      <td>3684</td>\n",
       "      <td>205</td>\n",
       "    </tr>\n",
       "    <tr>\n",
       "      <th>12</th>\n",
       "      <td>Telangana</td>\n",
       "      <td>18.1124</td>\n",
       "      <td>79.0193</td>\n",
       "      <td>4034</td>\n",
       "      <td>2883</td>\n",
       "    </tr>\n",
       "    <tr>\n",
       "      <th>13</th>\n",
       "      <td>Tamil Nadu</td>\n",
       "      <td>11.1271</td>\n",
       "      <td>78.6569</td>\n",
       "      <td>1943</td>\n",
       "      <td>27</td>\n",
       "    </tr>\n",
       "    <tr>\n",
       "      <th>14</th>\n",
       "      <td>Andhra Pradesh</td>\n",
       "      <td>15.9129</td>\n",
       "      <td>79.7400</td>\n",
       "      <td>1823</td>\n",
       "      <td>227</td>\n",
       "    </tr>\n",
       "    <tr>\n",
       "      <th>15</th>\n",
       "      <td>Chhattisgarh</td>\n",
       "      <td>21.2787</td>\n",
       "      <td>81.8661</td>\n",
       "      <td>1461</td>\n",
       "      <td>4290</td>\n",
       "    </tr>\n",
       "    <tr>\n",
       "      <th>16</th>\n",
       "      <td>Assam</td>\n",
       "      <td>26.2006</td>\n",
       "      <td>92.9376</td>\n",
       "      <td>3803</td>\n",
       "      <td>2297</td>\n",
       "    </tr>\n",
       "    <tr>\n",
       "      <th>17</th>\n",
       "      <td>Punjab</td>\n",
       "      <td>31.1471</td>\n",
       "      <td>75.3412</td>\n",
       "      <td>2461</td>\n",
       "      <td>4681</td>\n",
       "    </tr>\n",
       "    <tr>\n",
       "      <th>18</th>\n",
       "      <td>Odisha</td>\n",
       "      <td>20.9517</td>\n",
       "      <td>85.0985</td>\n",
       "      <td>52</td>\n",
       "      <td>4373</td>\n",
       "    </tr>\n",
       "    <tr>\n",
       "      <th>19</th>\n",
       "      <td>Uttarakhand</td>\n",
       "      <td>30.0668</td>\n",
       "      <td>79.0193</td>\n",
       "      <td>140</td>\n",
       "      <td>4127</td>\n",
       "    </tr>\n",
       "    <tr>\n",
       "      <th>20</th>\n",
       "      <td>West Bengal</td>\n",
       "      <td>22.9868</td>\n",
       "      <td>87.8550</td>\n",
       "      <td>3809</td>\n",
       "      <td>4183</td>\n",
       "    </tr>\n",
       "    <tr>\n",
       "      <th>21</th>\n",
       "      <td>Nagaland</td>\n",
       "      <td>26.1584</td>\n",
       "      <td>94.5624</td>\n",
       "      <td>2101</td>\n",
       "      <td>915</td>\n",
       "    </tr>\n",
       "    <tr>\n",
       "      <th>22</th>\n",
       "      <td>Himachal Pradesh</td>\n",
       "      <td>31.1048</td>\n",
       "      <td>77.1734</td>\n",
       "      <td>4868</td>\n",
       "      <td>1367</td>\n",
       "    </tr>\n",
       "    <tr>\n",
       "      <th>23</th>\n",
       "      <td>Sikkim</td>\n",
       "      <td>27.5330</td>\n",
       "      <td>88.5122</td>\n",
       "      <td>4699</td>\n",
       "      <td>3776</td>\n",
       "    </tr>\n",
       "    <tr>\n",
       "      <th>24</th>\n",
       "      <td>Manipur</td>\n",
       "      <td>24.6637</td>\n",
       "      <td>93.9063</td>\n",
       "      <td>3188</td>\n",
       "      <td>3168</td>\n",
       "    </tr>\n",
       "    <tr>\n",
       "      <th>25</th>\n",
       "      <td>Tripura</td>\n",
       "      <td>23.9408</td>\n",
       "      <td>91.9882</td>\n",
       "      <td>4904</td>\n",
       "      <td>4689</td>\n",
       "    </tr>\n",
       "    <tr>\n",
       "      <th>26</th>\n",
       "      <td>Arunachal Pradesh</td>\n",
       "      <td>28.2180</td>\n",
       "      <td>94.7278</td>\n",
       "      <td>834</td>\n",
       "      <td>3553</td>\n",
       "    </tr>\n",
       "    <tr>\n",
       "      <th>27</th>\n",
       "      <td>Meghalaya</td>\n",
       "      <td>25.4670</td>\n",
       "      <td>91.3662</td>\n",
       "      <td>3128</td>\n",
       "      <td>207</td>\n",
       "    </tr>\n",
       "    <tr>\n",
       "      <th>28</th>\n",
       "      <td>Mizoram</td>\n",
       "      <td>23.1645</td>\n",
       "      <td>92.9376</td>\n",
       "      <td>4180</td>\n",
       "      <td>3514</td>\n",
       "    </tr>\n",
       "  </tbody>\n",
       "</table>\n",
       "</div>"
      ],
      "text/plain": [
       "                State      lat      lon  totalConfirmed  \\\n",
       "0           Rajasthan  27.0238  74.2179            2603   \n",
       "1              Kerala  10.8505  76.2711            2036   \n",
       "2         Maharashtra  19.7515  75.7139            3440   \n",
       "3                 Goa  15.2993  74.1240            1093   \n",
       "4   Jammu and Kashmir  33.7782  76.5762            3956   \n",
       "5           Karnataka  15.3173  75.7139              70   \n",
       "6             Gujarat  22.2587  71.1924            4975   \n",
       "7             Haryana  29.0588  76.0856            2146   \n",
       "8       Uttar Pradesh  26.8467  80.9462            4585   \n",
       "9               Bihar  25.0961  85.3131            2376   \n",
       "10          Jharkhand  23.6102  85.2799             503   \n",
       "11     Madhya Pradesh  22.9734  78.6569            3684   \n",
       "12          Telangana  18.1124  79.0193            4034   \n",
       "13         Tamil Nadu  11.1271  78.6569            1943   \n",
       "14     Andhra Pradesh  15.9129  79.7400            1823   \n",
       "15       Chhattisgarh  21.2787  81.8661            1461   \n",
       "16              Assam  26.2006  92.9376            3803   \n",
       "17             Punjab  31.1471  75.3412            2461   \n",
       "18             Odisha  20.9517  85.0985              52   \n",
       "19        Uttarakhand  30.0668  79.0193             140   \n",
       "20        West Bengal  22.9868  87.8550            3809   \n",
       "21           Nagaland  26.1584  94.5624            2101   \n",
       "22   Himachal Pradesh  31.1048  77.1734            4868   \n",
       "23             Sikkim  27.5330  88.5122            4699   \n",
       "24            Manipur  24.6637  93.9063            3188   \n",
       "25            Tripura  23.9408  91.9882            4904   \n",
       "26  Arunachal Pradesh  28.2180  94.7278             834   \n",
       "27          Meghalaya  25.4670  91.3662            3128   \n",
       "28            Mizoram  23.1645  92.9376            4180   \n",
       "\n",
       "    TotalConfirmedCasesInIndia  \n",
       "0                         4735  \n",
       "1                         1710  \n",
       "2                          982  \n",
       "3                         2176  \n",
       "4                          211  \n",
       "5                         2465  \n",
       "6                         4010  \n",
       "7                         1525  \n",
       "8                         1316  \n",
       "9                         3465  \n",
       "10                        4792  \n",
       "11                         205  \n",
       "12                        2883  \n",
       "13                          27  \n",
       "14                         227  \n",
       "15                        4290  \n",
       "16                        2297  \n",
       "17                        4681  \n",
       "18                        4373  \n",
       "19                        4127  \n",
       "20                        4183  \n",
       "21                         915  \n",
       "22                        1367  \n",
       "23                        3776  \n",
       "24                        3168  \n",
       "25                        4689  \n",
       "26                        3553  \n",
       "27                         207  \n",
       "28                        3514  "
      ]
     },
     "execution_count": 43,
     "metadata": {},
     "output_type": "execute_result"
    }
   ],
   "source": [
    "# ['Sno', 'StateOrUt', 'TotalConfirmedCasesInIndia', 'TotalConfirmedCasesForeignNational', 'Cured',\n",
    "#                  'Death']\n",
    "import numpy as np\n",
    "\n",
    "indian_states_df['TotalConfirmedCasesInIndia'] = np.random.randint(low=10, high=5000, size=len(indian_states_df))\n",
    "indian_states_df"
   ]
  },
  {
   "cell_type": "code",
   "execution_count": 46,
   "metadata": {
    "scrolled": true
   },
   "outputs": [
    {
     "data": {
      "application/vnd.plotly.v1+json": {
       "config": {
        "plotlyServerURL": "https://plot.ly"
       },
       "data": [
        {
         "customdata": [
          [
           "Rajasthan",
           2603,
           4735
          ],
          [
           "Kerala",
           2036,
           1710
          ],
          [
           "Maharashtra",
           3440,
           982
          ],
          [
           "Goa",
           1093,
           2176
          ],
          [
           "Jammu and Kashmir",
           3956,
           211
          ],
          [
           "Karnataka",
           70,
           2465
          ],
          [
           "Gujarat",
           4975,
           4010
          ],
          [
           "Haryana",
           2146,
           1525
          ],
          [
           "Uttar Pradesh",
           4585,
           1316
          ],
          [
           "Bihar",
           2376,
           3465
          ],
          [
           "Jharkhand",
           503,
           4792
          ],
          [
           "Madhya Pradesh",
           3684,
           205
          ],
          [
           "Telangana",
           4034,
           2883
          ],
          [
           "Tamil Nadu",
           1943,
           27
          ],
          [
           "Andhra Pradesh",
           1823,
           227
          ],
          [
           "Chhattisgarh",
           1461,
           4290
          ],
          [
           "Assam",
           3803,
           2297
          ],
          [
           "Punjab",
           2461,
           4681
          ],
          [
           "Odisha",
           52,
           4373
          ],
          [
           "Uttarakhand",
           140,
           4127
          ],
          [
           "West Bengal",
           3809,
           4183
          ],
          [
           "Nagaland",
           2101,
           915
          ],
          [
           "Himachal Pradesh",
           4868,
           1367
          ],
          [
           "Sikkim",
           4699,
           3776
          ],
          [
           "Manipur",
           3188,
           3168
          ],
          [
           "Tripura",
           4904,
           4689
          ],
          [
           "Arunachal Pradesh",
           834,
           3553
          ],
          [
           "Meghalaya",
           3128,
           207
          ],
          [
           "Mizoram",
           4180,
           3514
          ]
         ],
         "hoverlabel": {
          "namelength": 0
         },
         "hovertemplate": "<b>%{hovertext}</b><br><br>State=%{customdata[0]}<br>totalConfirmed=%{customdata[1]}<br>TotalConfirmedCasesInIndia=%{customdata[2]}<br>lat=%{lat}<br>lon=%{lon}",
         "hovertext": [
          "Rajasthan",
          "Kerala",
          "Maharashtra",
          "Goa",
          "Jammu and Kashmir",
          "Karnataka",
          "Gujarat",
          "Haryana",
          "Uttar Pradesh",
          "Bihar",
          "Jharkhand",
          "Madhya Pradesh",
          "Telangana",
          "Tamil Nadu",
          "Andhra Pradesh",
          "Chhattisgarh",
          "Assam",
          "Punjab",
          "Odisha",
          "Uttarakhand",
          "West Bengal",
          "Nagaland",
          "Himachal Pradesh",
          "Sikkim",
          "Manipur",
          "Tripura",
          "Arunachal Pradesh",
          "Meghalaya",
          "Mizoram"
         ],
         "lat": [
          27.0238,
          10.8505,
          19.7515,
          15.2993,
          33.7782,
          15.3173,
          22.2587,
          29.0588,
          26.8467,
          25.0961,
          23.6102,
          22.9734,
          18.1124,
          11.1271,
          15.9129,
          21.2787,
          26.2006,
          31.1471,
          20.9517,
          30.0668,
          22.9868,
          26.1584,
          31.1048,
          27.533,
          24.6637,
          23.9408,
          28.218000000000004,
          25.467,
          23.1645
         ],
         "legendgroup": "",
         "lon": [
          74.2179,
          76.2711,
          75.7139,
          74.124,
          76.5762,
          75.7139,
          71.1924,
          76.0856,
          80.9462,
          85.3131,
          85.2799,
          78.6569,
          79.0193,
          78.6569,
          79.74,
          81.8661,
          92.9376,
          75.3412,
          85.0985,
          79.0193,
          87.855,
          94.5624,
          77.1734,
          88.5122,
          93.9063,
          91.9882,
          94.7278,
          91.3662,
          92.9376
         ],
         "marker": {
          "color": "fuchsia"
         },
         "mode": "markers",
         "name": "",
         "showlegend": false,
         "subplot": "mapbox",
         "type": "scattermapbox"
        }
       ],
       "layout": {
        "height": 300,
        "legend": {
         "tracegroupgap": 0
        },
        "mapbox": {
         "center": {
          "lat": 23.444786206896545,
          "lon": 82.57927931034483
         },
         "domain": {
          "x": [
           0,
           1
          ],
          "y": [
           0,
           1
          ]
         },
         "style": "open-street-map",
         "zoom": 3
        },
        "margin": {
         "b": 0,
         "l": 0,
         "r": 0,
         "t": 0
        },
        "template": {
         "data": {
          "bar": [
           {
            "error_x": {
             "color": "#2a3f5f"
            },
            "error_y": {
             "color": "#2a3f5f"
            },
            "marker": {
             "line": {
              "color": "#E5ECF6",
              "width": 0.5
             }
            },
            "type": "bar"
           }
          ],
          "barpolar": [
           {
            "marker": {
             "line": {
              "color": "#E5ECF6",
              "width": 0.5
             }
            },
            "type": "barpolar"
           }
          ],
          "carpet": [
           {
            "aaxis": {
             "endlinecolor": "#2a3f5f",
             "gridcolor": "white",
             "linecolor": "white",
             "minorgridcolor": "white",
             "startlinecolor": "#2a3f5f"
            },
            "baxis": {
             "endlinecolor": "#2a3f5f",
             "gridcolor": "white",
             "linecolor": "white",
             "minorgridcolor": "white",
             "startlinecolor": "#2a3f5f"
            },
            "type": "carpet"
           }
          ],
          "choropleth": [
           {
            "colorbar": {
             "outlinewidth": 0,
             "ticks": ""
            },
            "type": "choropleth"
           }
          ],
          "contour": [
           {
            "colorbar": {
             "outlinewidth": 0,
             "ticks": ""
            },
            "colorscale": [
             [
              0,
              "#0d0887"
             ],
             [
              0.1111111111111111,
              "#46039f"
             ],
             [
              0.2222222222222222,
              "#7201a8"
             ],
             [
              0.3333333333333333,
              "#9c179e"
             ],
             [
              0.4444444444444444,
              "#bd3786"
             ],
             [
              0.5555555555555556,
              "#d8576b"
             ],
             [
              0.6666666666666666,
              "#ed7953"
             ],
             [
              0.7777777777777778,
              "#fb9f3a"
             ],
             [
              0.8888888888888888,
              "#fdca26"
             ],
             [
              1,
              "#f0f921"
             ]
            ],
            "type": "contour"
           }
          ],
          "contourcarpet": [
           {
            "colorbar": {
             "outlinewidth": 0,
             "ticks": ""
            },
            "type": "contourcarpet"
           }
          ],
          "heatmap": [
           {
            "colorbar": {
             "outlinewidth": 0,
             "ticks": ""
            },
            "colorscale": [
             [
              0,
              "#0d0887"
             ],
             [
              0.1111111111111111,
              "#46039f"
             ],
             [
              0.2222222222222222,
              "#7201a8"
             ],
             [
              0.3333333333333333,
              "#9c179e"
             ],
             [
              0.4444444444444444,
              "#bd3786"
             ],
             [
              0.5555555555555556,
              "#d8576b"
             ],
             [
              0.6666666666666666,
              "#ed7953"
             ],
             [
              0.7777777777777778,
              "#fb9f3a"
             ],
             [
              0.8888888888888888,
              "#fdca26"
             ],
             [
              1,
              "#f0f921"
             ]
            ],
            "type": "heatmap"
           }
          ],
          "heatmapgl": [
           {
            "colorbar": {
             "outlinewidth": 0,
             "ticks": ""
            },
            "colorscale": [
             [
              0,
              "#0d0887"
             ],
             [
              0.1111111111111111,
              "#46039f"
             ],
             [
              0.2222222222222222,
              "#7201a8"
             ],
             [
              0.3333333333333333,
              "#9c179e"
             ],
             [
              0.4444444444444444,
              "#bd3786"
             ],
             [
              0.5555555555555556,
              "#d8576b"
             ],
             [
              0.6666666666666666,
              "#ed7953"
             ],
             [
              0.7777777777777778,
              "#fb9f3a"
             ],
             [
              0.8888888888888888,
              "#fdca26"
             ],
             [
              1,
              "#f0f921"
             ]
            ],
            "type": "heatmapgl"
           }
          ],
          "histogram": [
           {
            "marker": {
             "colorbar": {
              "outlinewidth": 0,
              "ticks": ""
             }
            },
            "type": "histogram"
           }
          ],
          "histogram2d": [
           {
            "colorbar": {
             "outlinewidth": 0,
             "ticks": ""
            },
            "colorscale": [
             [
              0,
              "#0d0887"
             ],
             [
              0.1111111111111111,
              "#46039f"
             ],
             [
              0.2222222222222222,
              "#7201a8"
             ],
             [
              0.3333333333333333,
              "#9c179e"
             ],
             [
              0.4444444444444444,
              "#bd3786"
             ],
             [
              0.5555555555555556,
              "#d8576b"
             ],
             [
              0.6666666666666666,
              "#ed7953"
             ],
             [
              0.7777777777777778,
              "#fb9f3a"
             ],
             [
              0.8888888888888888,
              "#fdca26"
             ],
             [
              1,
              "#f0f921"
             ]
            ],
            "type": "histogram2d"
           }
          ],
          "histogram2dcontour": [
           {
            "colorbar": {
             "outlinewidth": 0,
             "ticks": ""
            },
            "colorscale": [
             [
              0,
              "#0d0887"
             ],
             [
              0.1111111111111111,
              "#46039f"
             ],
             [
              0.2222222222222222,
              "#7201a8"
             ],
             [
              0.3333333333333333,
              "#9c179e"
             ],
             [
              0.4444444444444444,
              "#bd3786"
             ],
             [
              0.5555555555555556,
              "#d8576b"
             ],
             [
              0.6666666666666666,
              "#ed7953"
             ],
             [
              0.7777777777777778,
              "#fb9f3a"
             ],
             [
              0.8888888888888888,
              "#fdca26"
             ],
             [
              1,
              "#f0f921"
             ]
            ],
            "type": "histogram2dcontour"
           }
          ],
          "mesh3d": [
           {
            "colorbar": {
             "outlinewidth": 0,
             "ticks": ""
            },
            "type": "mesh3d"
           }
          ],
          "parcoords": [
           {
            "line": {
             "colorbar": {
              "outlinewidth": 0,
              "ticks": ""
             }
            },
            "type": "parcoords"
           }
          ],
          "pie": [
           {
            "automargin": true,
            "type": "pie"
           }
          ],
          "scatter": [
           {
            "marker": {
             "colorbar": {
              "outlinewidth": 0,
              "ticks": ""
             }
            },
            "type": "scatter"
           }
          ],
          "scatter3d": [
           {
            "line": {
             "colorbar": {
              "outlinewidth": 0,
              "ticks": ""
             }
            },
            "marker": {
             "colorbar": {
              "outlinewidth": 0,
              "ticks": ""
             }
            },
            "type": "scatter3d"
           }
          ],
          "scattercarpet": [
           {
            "marker": {
             "colorbar": {
              "outlinewidth": 0,
              "ticks": ""
             }
            },
            "type": "scattercarpet"
           }
          ],
          "scattergeo": [
           {
            "marker": {
             "colorbar": {
              "outlinewidth": 0,
              "ticks": ""
             }
            },
            "type": "scattergeo"
           }
          ],
          "scattergl": [
           {
            "marker": {
             "colorbar": {
              "outlinewidth": 0,
              "ticks": ""
             }
            },
            "type": "scattergl"
           }
          ],
          "scattermapbox": [
           {
            "marker": {
             "colorbar": {
              "outlinewidth": 0,
              "ticks": ""
             }
            },
            "type": "scattermapbox"
           }
          ],
          "scatterpolar": [
           {
            "marker": {
             "colorbar": {
              "outlinewidth": 0,
              "ticks": ""
             }
            },
            "type": "scatterpolar"
           }
          ],
          "scatterpolargl": [
           {
            "marker": {
             "colorbar": {
              "outlinewidth": 0,
              "ticks": ""
             }
            },
            "type": "scatterpolargl"
           }
          ],
          "scatterternary": [
           {
            "marker": {
             "colorbar": {
              "outlinewidth": 0,
              "ticks": ""
             }
            },
            "type": "scatterternary"
           }
          ],
          "surface": [
           {
            "colorbar": {
             "outlinewidth": 0,
             "ticks": ""
            },
            "colorscale": [
             [
              0,
              "#0d0887"
             ],
             [
              0.1111111111111111,
              "#46039f"
             ],
             [
              0.2222222222222222,
              "#7201a8"
             ],
             [
              0.3333333333333333,
              "#9c179e"
             ],
             [
              0.4444444444444444,
              "#bd3786"
             ],
             [
              0.5555555555555556,
              "#d8576b"
             ],
             [
              0.6666666666666666,
              "#ed7953"
             ],
             [
              0.7777777777777778,
              "#fb9f3a"
             ],
             [
              0.8888888888888888,
              "#fdca26"
             ],
             [
              1,
              "#f0f921"
             ]
            ],
            "type": "surface"
           }
          ],
          "table": [
           {
            "cells": {
             "fill": {
              "color": "#EBF0F8"
             },
             "line": {
              "color": "white"
             }
            },
            "header": {
             "fill": {
              "color": "#C8D4E3"
             },
             "line": {
              "color": "white"
             }
            },
            "type": "table"
           }
          ]
         },
         "layout": {
          "annotationdefaults": {
           "arrowcolor": "#2a3f5f",
           "arrowhead": 0,
           "arrowwidth": 1
          },
          "coloraxis": {
           "colorbar": {
            "outlinewidth": 0,
            "ticks": ""
           }
          },
          "colorscale": {
           "diverging": [
            [
             0,
             "#8e0152"
            ],
            [
             0.1,
             "#c51b7d"
            ],
            [
             0.2,
             "#de77ae"
            ],
            [
             0.3,
             "#f1b6da"
            ],
            [
             0.4,
             "#fde0ef"
            ],
            [
             0.5,
             "#f7f7f7"
            ],
            [
             0.6,
             "#e6f5d0"
            ],
            [
             0.7,
             "#b8e186"
            ],
            [
             0.8,
             "#7fbc41"
            ],
            [
             0.9,
             "#4d9221"
            ],
            [
             1,
             "#276419"
            ]
           ],
           "sequential": [
            [
             0,
             "#0d0887"
            ],
            [
             0.1111111111111111,
             "#46039f"
            ],
            [
             0.2222222222222222,
             "#7201a8"
            ],
            [
             0.3333333333333333,
             "#9c179e"
            ],
            [
             0.4444444444444444,
             "#bd3786"
            ],
            [
             0.5555555555555556,
             "#d8576b"
            ],
            [
             0.6666666666666666,
             "#ed7953"
            ],
            [
             0.7777777777777778,
             "#fb9f3a"
            ],
            [
             0.8888888888888888,
             "#fdca26"
            ],
            [
             1,
             "#f0f921"
            ]
           ],
           "sequentialminus": [
            [
             0,
             "#0d0887"
            ],
            [
             0.1111111111111111,
             "#46039f"
            ],
            [
             0.2222222222222222,
             "#7201a8"
            ],
            [
             0.3333333333333333,
             "#9c179e"
            ],
            [
             0.4444444444444444,
             "#bd3786"
            ],
            [
             0.5555555555555556,
             "#d8576b"
            ],
            [
             0.6666666666666666,
             "#ed7953"
            ],
            [
             0.7777777777777778,
             "#fb9f3a"
            ],
            [
             0.8888888888888888,
             "#fdca26"
            ],
            [
             1,
             "#f0f921"
            ]
           ]
          },
          "colorway": [
           "#636efa",
           "#EF553B",
           "#00cc96",
           "#ab63fa",
           "#FFA15A",
           "#19d3f3",
           "#FF6692",
           "#B6E880",
           "#FF97FF",
           "#FECB52"
          ],
          "font": {
           "color": "#2a3f5f"
          },
          "geo": {
           "bgcolor": "white",
           "lakecolor": "white",
           "landcolor": "#E5ECF6",
           "showlakes": true,
           "showland": true,
           "subunitcolor": "white"
          },
          "hoverlabel": {
           "align": "left"
          },
          "hovermode": "closest",
          "mapbox": {
           "style": "light"
          },
          "paper_bgcolor": "white",
          "plot_bgcolor": "#E5ECF6",
          "polar": {
           "angularaxis": {
            "gridcolor": "white",
            "linecolor": "white",
            "ticks": ""
           },
           "bgcolor": "#E5ECF6",
           "radialaxis": {
            "gridcolor": "white",
            "linecolor": "white",
            "ticks": ""
           }
          },
          "scene": {
           "xaxis": {
            "backgroundcolor": "#E5ECF6",
            "gridcolor": "white",
            "gridwidth": 2,
            "linecolor": "white",
            "showbackground": true,
            "ticks": "",
            "zerolinecolor": "white"
           },
           "yaxis": {
            "backgroundcolor": "#E5ECF6",
            "gridcolor": "white",
            "gridwidth": 2,
            "linecolor": "white",
            "showbackground": true,
            "ticks": "",
            "zerolinecolor": "white"
           },
           "zaxis": {
            "backgroundcolor": "#E5ECF6",
            "gridcolor": "white",
            "gridwidth": 2,
            "linecolor": "white",
            "showbackground": true,
            "ticks": "",
            "zerolinecolor": "white"
           }
          },
          "shapedefaults": {
           "line": {
            "color": "#2a3f5f"
           }
          },
          "ternary": {
           "aaxis": {
            "gridcolor": "white",
            "linecolor": "white",
            "ticks": ""
           },
           "baxis": {
            "gridcolor": "white",
            "linecolor": "white",
            "ticks": ""
           },
           "bgcolor": "#E5ECF6",
           "caxis": {
            "gridcolor": "white",
            "linecolor": "white",
            "ticks": ""
           }
          },
          "title": {
           "x": 0.05
          },
          "xaxis": {
           "automargin": true,
           "gridcolor": "white",
           "linecolor": "white",
           "ticks": "",
           "title": {
            "standoff": 15
           },
           "zerolinecolor": "white",
           "zerolinewidth": 2
          },
          "yaxis": {
           "automargin": true,
           "gridcolor": "white",
           "linecolor": "white",
           "ticks": "",
           "title": {
            "standoff": 15
           },
           "zerolinecolor": "white",
           "zerolinewidth": 2
          }
         }
        }
       }
      },
      "text/html": [
       "<div>\n",
       "        \n",
       "        \n",
       "            <div id=\"31b27642-7424-4887-846c-a76444a17642\" class=\"plotly-graph-div\" style=\"height:300px; width:100%;\"></div>\n",
       "            <script type=\"text/javascript\">\n",
       "                require([\"plotly\"], function(Plotly) {\n",
       "                    window.PLOTLYENV=window.PLOTLYENV || {};\n",
       "                    \n",
       "                if (document.getElementById(\"31b27642-7424-4887-846c-a76444a17642\")) {\n",
       "                    Plotly.newPlot(\n",
       "                        '31b27642-7424-4887-846c-a76444a17642',\n",
       "                        [{\"customdata\": [[\"Rajasthan\", 2603, 4735], [\"Kerala\", 2036, 1710], [\"Maharashtra\", 3440, 982], [\"Goa\", 1093, 2176], [\"Jammu and Kashmir\", 3956, 211], [\"Karnataka\", 70, 2465], [\"Gujarat\", 4975, 4010], [\"Haryana\", 2146, 1525], [\"Uttar Pradesh\", 4585, 1316], [\"Bihar\", 2376, 3465], [\"Jharkhand\", 503, 4792], [\"Madhya Pradesh\", 3684, 205], [\"Telangana\", 4034, 2883], [\"Tamil Nadu\", 1943, 27], [\"Andhra Pradesh\", 1823, 227], [\"Chhattisgarh\", 1461, 4290], [\"Assam\", 3803, 2297], [\"Punjab\", 2461, 4681], [\"Odisha\", 52, 4373], [\"Uttarakhand\", 140, 4127], [\"West Bengal\", 3809, 4183], [\"Nagaland\", 2101, 915], [\"Himachal Pradesh\", 4868, 1367], [\"Sikkim\", 4699, 3776], [\"Manipur\", 3188, 3168], [\"Tripura\", 4904, 4689], [\"Arunachal Pradesh\", 834, 3553], [\"Meghalaya\", 3128, 207], [\"Mizoram\", 4180, 3514]], \"hoverlabel\": {\"namelength\": 0}, \"hovertemplate\": \"<b>%{hovertext}</b><br><br>State=%{customdata[0]}<br>totalConfirmed=%{customdata[1]}<br>TotalConfirmedCasesInIndia=%{customdata[2]}<br>lat=%{lat}<br>lon=%{lon}\", \"hovertext\": [\"Rajasthan\", \"Kerala\", \"Maharashtra\", \"Goa\", \"Jammu and Kashmir\", \"Karnataka\", \"Gujarat\", \"Haryana\", \"Uttar Pradesh\", \"Bihar\", \"Jharkhand\", \"Madhya Pradesh\", \"Telangana\", \"Tamil Nadu\", \"Andhra Pradesh\", \"Chhattisgarh\", \"Assam\", \"Punjab\", \"Odisha\", \"Uttarakhand\", \"West Bengal\", \"Nagaland\", \"Himachal Pradesh\", \"Sikkim\", \"Manipur\", \"Tripura\", \"Arunachal Pradesh\", \"Meghalaya\", \"Mizoram\"], \"lat\": [27.0238, 10.8505, 19.7515, 15.2993, 33.7782, 15.3173, 22.2587, 29.0588, 26.8467, 25.0961, 23.6102, 22.9734, 18.1124, 11.1271, 15.9129, 21.2787, 26.2006, 31.1471, 20.9517, 30.0668, 22.9868, 26.1584, 31.1048, 27.533, 24.6637, 23.9408, 28.218000000000004, 25.467, 23.1645], \"legendgroup\": \"\", \"lon\": [74.2179, 76.2711, 75.7139, 74.124, 76.5762, 75.7139, 71.1924, 76.0856, 80.9462, 85.3131, 85.2799, 78.6569, 79.0193, 78.6569, 79.74, 81.8661, 92.9376, 75.3412, 85.0985, 79.0193, 87.855, 94.5624, 77.1734, 88.5122, 93.9063, 91.9882, 94.7278, 91.3662, 92.9376], \"marker\": {\"color\": \"fuchsia\"}, \"mode\": \"markers\", \"name\": \"\", \"showlegend\": false, \"subplot\": \"mapbox\", \"type\": \"scattermapbox\"}],\n",
       "                        {\"height\": 300, \"legend\": {\"tracegroupgap\": 0}, \"mapbox\": {\"center\": {\"lat\": 23.444786206896545, \"lon\": 82.57927931034483}, \"domain\": {\"x\": [0.0, 1.0], \"y\": [0.0, 1.0]}, \"style\": \"open-street-map\", \"zoom\": 3}, \"margin\": {\"b\": 0, \"l\": 0, \"r\": 0, \"t\": 0}, \"template\": {\"data\": {\"bar\": [{\"error_x\": {\"color\": \"#2a3f5f\"}, \"error_y\": {\"color\": \"#2a3f5f\"}, \"marker\": {\"line\": {\"color\": \"#E5ECF6\", \"width\": 0.5}}, \"type\": \"bar\"}], \"barpolar\": [{\"marker\": {\"line\": {\"color\": \"#E5ECF6\", \"width\": 0.5}}, \"type\": \"barpolar\"}], \"carpet\": [{\"aaxis\": {\"endlinecolor\": \"#2a3f5f\", \"gridcolor\": \"white\", \"linecolor\": \"white\", \"minorgridcolor\": \"white\", \"startlinecolor\": \"#2a3f5f\"}, \"baxis\": {\"endlinecolor\": \"#2a3f5f\", \"gridcolor\": \"white\", \"linecolor\": \"white\", \"minorgridcolor\": \"white\", \"startlinecolor\": \"#2a3f5f\"}, \"type\": \"carpet\"}], \"choropleth\": [{\"colorbar\": {\"outlinewidth\": 0, \"ticks\": \"\"}, \"type\": \"choropleth\"}], \"contour\": [{\"colorbar\": {\"outlinewidth\": 0, \"ticks\": \"\"}, \"colorscale\": [[0.0, \"#0d0887\"], [0.1111111111111111, \"#46039f\"], [0.2222222222222222, \"#7201a8\"], [0.3333333333333333, \"#9c179e\"], [0.4444444444444444, \"#bd3786\"], [0.5555555555555556, \"#d8576b\"], [0.6666666666666666, \"#ed7953\"], [0.7777777777777778, \"#fb9f3a\"], [0.8888888888888888, \"#fdca26\"], [1.0, \"#f0f921\"]], \"type\": \"contour\"}], \"contourcarpet\": [{\"colorbar\": {\"outlinewidth\": 0, \"ticks\": \"\"}, \"type\": \"contourcarpet\"}], \"heatmap\": [{\"colorbar\": {\"outlinewidth\": 0, \"ticks\": \"\"}, \"colorscale\": [[0.0, \"#0d0887\"], [0.1111111111111111, \"#46039f\"], [0.2222222222222222, \"#7201a8\"], [0.3333333333333333, \"#9c179e\"], [0.4444444444444444, \"#bd3786\"], [0.5555555555555556, \"#d8576b\"], [0.6666666666666666, \"#ed7953\"], [0.7777777777777778, \"#fb9f3a\"], [0.8888888888888888, \"#fdca26\"], [1.0, \"#f0f921\"]], \"type\": \"heatmap\"}], \"heatmapgl\": [{\"colorbar\": {\"outlinewidth\": 0, \"ticks\": \"\"}, \"colorscale\": [[0.0, \"#0d0887\"], [0.1111111111111111, \"#46039f\"], [0.2222222222222222, \"#7201a8\"], [0.3333333333333333, \"#9c179e\"], [0.4444444444444444, \"#bd3786\"], [0.5555555555555556, \"#d8576b\"], [0.6666666666666666, \"#ed7953\"], [0.7777777777777778, \"#fb9f3a\"], [0.8888888888888888, \"#fdca26\"], [1.0, \"#f0f921\"]], \"type\": \"heatmapgl\"}], \"histogram\": [{\"marker\": {\"colorbar\": {\"outlinewidth\": 0, \"ticks\": \"\"}}, \"type\": \"histogram\"}], \"histogram2d\": [{\"colorbar\": {\"outlinewidth\": 0, \"ticks\": \"\"}, \"colorscale\": [[0.0, \"#0d0887\"], [0.1111111111111111, \"#46039f\"], [0.2222222222222222, \"#7201a8\"], [0.3333333333333333, \"#9c179e\"], [0.4444444444444444, \"#bd3786\"], [0.5555555555555556, \"#d8576b\"], [0.6666666666666666, \"#ed7953\"], [0.7777777777777778, \"#fb9f3a\"], [0.8888888888888888, \"#fdca26\"], [1.0, \"#f0f921\"]], \"type\": \"histogram2d\"}], \"histogram2dcontour\": [{\"colorbar\": {\"outlinewidth\": 0, \"ticks\": \"\"}, \"colorscale\": [[0.0, \"#0d0887\"], [0.1111111111111111, \"#46039f\"], [0.2222222222222222, \"#7201a8\"], [0.3333333333333333, \"#9c179e\"], [0.4444444444444444, \"#bd3786\"], [0.5555555555555556, \"#d8576b\"], [0.6666666666666666, \"#ed7953\"], [0.7777777777777778, \"#fb9f3a\"], [0.8888888888888888, \"#fdca26\"], [1.0, \"#f0f921\"]], \"type\": \"histogram2dcontour\"}], \"mesh3d\": [{\"colorbar\": {\"outlinewidth\": 0, \"ticks\": \"\"}, \"type\": \"mesh3d\"}], \"parcoords\": [{\"line\": {\"colorbar\": {\"outlinewidth\": 0, \"ticks\": \"\"}}, \"type\": \"parcoords\"}], \"pie\": [{\"automargin\": true, \"type\": \"pie\"}], \"scatter\": [{\"marker\": {\"colorbar\": {\"outlinewidth\": 0, \"ticks\": \"\"}}, \"type\": \"scatter\"}], \"scatter3d\": [{\"line\": {\"colorbar\": {\"outlinewidth\": 0, \"ticks\": \"\"}}, \"marker\": {\"colorbar\": {\"outlinewidth\": 0, \"ticks\": \"\"}}, \"type\": \"scatter3d\"}], \"scattercarpet\": [{\"marker\": {\"colorbar\": {\"outlinewidth\": 0, \"ticks\": \"\"}}, \"type\": \"scattercarpet\"}], \"scattergeo\": [{\"marker\": {\"colorbar\": {\"outlinewidth\": 0, \"ticks\": \"\"}}, \"type\": \"scattergeo\"}], \"scattergl\": [{\"marker\": {\"colorbar\": {\"outlinewidth\": 0, \"ticks\": \"\"}}, \"type\": \"scattergl\"}], \"scattermapbox\": [{\"marker\": {\"colorbar\": {\"outlinewidth\": 0, \"ticks\": \"\"}}, \"type\": \"scattermapbox\"}], \"scatterpolar\": [{\"marker\": {\"colorbar\": {\"outlinewidth\": 0, \"ticks\": \"\"}}, \"type\": \"scatterpolar\"}], \"scatterpolargl\": [{\"marker\": {\"colorbar\": {\"outlinewidth\": 0, \"ticks\": \"\"}}, \"type\": \"scatterpolargl\"}], \"scatterternary\": [{\"marker\": {\"colorbar\": {\"outlinewidth\": 0, \"ticks\": \"\"}}, \"type\": \"scatterternary\"}], \"surface\": [{\"colorbar\": {\"outlinewidth\": 0, \"ticks\": \"\"}, \"colorscale\": [[0.0, \"#0d0887\"], [0.1111111111111111, \"#46039f\"], [0.2222222222222222, \"#7201a8\"], [0.3333333333333333, \"#9c179e\"], [0.4444444444444444, \"#bd3786\"], [0.5555555555555556, \"#d8576b\"], [0.6666666666666666, \"#ed7953\"], [0.7777777777777778, \"#fb9f3a\"], [0.8888888888888888, \"#fdca26\"], [1.0, \"#f0f921\"]], \"type\": \"surface\"}], \"table\": [{\"cells\": {\"fill\": {\"color\": \"#EBF0F8\"}, \"line\": {\"color\": \"white\"}}, \"header\": {\"fill\": {\"color\": \"#C8D4E3\"}, \"line\": {\"color\": \"white\"}}, \"type\": \"table\"}]}, \"layout\": {\"annotationdefaults\": {\"arrowcolor\": \"#2a3f5f\", \"arrowhead\": 0, \"arrowwidth\": 1}, \"coloraxis\": {\"colorbar\": {\"outlinewidth\": 0, \"ticks\": \"\"}}, \"colorscale\": {\"diverging\": [[0, \"#8e0152\"], [0.1, \"#c51b7d\"], [0.2, \"#de77ae\"], [0.3, \"#f1b6da\"], [0.4, \"#fde0ef\"], [0.5, \"#f7f7f7\"], [0.6, \"#e6f5d0\"], [0.7, \"#b8e186\"], [0.8, \"#7fbc41\"], [0.9, \"#4d9221\"], [1, \"#276419\"]], \"sequential\": [[0.0, \"#0d0887\"], [0.1111111111111111, \"#46039f\"], [0.2222222222222222, \"#7201a8\"], [0.3333333333333333, \"#9c179e\"], [0.4444444444444444, \"#bd3786\"], [0.5555555555555556, \"#d8576b\"], [0.6666666666666666, \"#ed7953\"], [0.7777777777777778, \"#fb9f3a\"], [0.8888888888888888, \"#fdca26\"], [1.0, \"#f0f921\"]], \"sequentialminus\": [[0.0, \"#0d0887\"], [0.1111111111111111, \"#46039f\"], [0.2222222222222222, \"#7201a8\"], [0.3333333333333333, \"#9c179e\"], [0.4444444444444444, \"#bd3786\"], [0.5555555555555556, \"#d8576b\"], [0.6666666666666666, \"#ed7953\"], [0.7777777777777778, \"#fb9f3a\"], [0.8888888888888888, \"#fdca26\"], [1.0, \"#f0f921\"]]}, \"colorway\": [\"#636efa\", \"#EF553B\", \"#00cc96\", \"#ab63fa\", \"#FFA15A\", \"#19d3f3\", \"#FF6692\", \"#B6E880\", \"#FF97FF\", \"#FECB52\"], \"font\": {\"color\": \"#2a3f5f\"}, \"geo\": {\"bgcolor\": \"white\", \"lakecolor\": \"white\", \"landcolor\": \"#E5ECF6\", \"showlakes\": true, \"showland\": true, \"subunitcolor\": \"white\"}, \"hoverlabel\": {\"align\": \"left\"}, \"hovermode\": \"closest\", \"mapbox\": {\"style\": \"light\"}, \"paper_bgcolor\": \"white\", \"plot_bgcolor\": \"#E5ECF6\", \"polar\": {\"angularaxis\": {\"gridcolor\": \"white\", \"linecolor\": \"white\", \"ticks\": \"\"}, \"bgcolor\": \"#E5ECF6\", \"radialaxis\": {\"gridcolor\": \"white\", \"linecolor\": \"white\", \"ticks\": \"\"}}, \"scene\": {\"xaxis\": {\"backgroundcolor\": \"#E5ECF6\", \"gridcolor\": \"white\", \"gridwidth\": 2, \"linecolor\": \"white\", \"showbackground\": true, \"ticks\": \"\", \"zerolinecolor\": \"white\"}, \"yaxis\": {\"backgroundcolor\": \"#E5ECF6\", \"gridcolor\": \"white\", \"gridwidth\": 2, \"linecolor\": \"white\", \"showbackground\": true, \"ticks\": \"\", \"zerolinecolor\": \"white\"}, \"zaxis\": {\"backgroundcolor\": \"#E5ECF6\", \"gridcolor\": \"white\", \"gridwidth\": 2, \"linecolor\": \"white\", \"showbackground\": true, \"ticks\": \"\", \"zerolinecolor\": \"white\"}}, \"shapedefaults\": {\"line\": {\"color\": \"#2a3f5f\"}}, \"ternary\": {\"aaxis\": {\"gridcolor\": \"white\", \"linecolor\": \"white\", \"ticks\": \"\"}, \"baxis\": {\"gridcolor\": \"white\", \"linecolor\": \"white\", \"ticks\": \"\"}, \"bgcolor\": \"#E5ECF6\", \"caxis\": {\"gridcolor\": \"white\", \"linecolor\": \"white\", \"ticks\": \"\"}}, \"title\": {\"x\": 0.05}, \"xaxis\": {\"automargin\": true, \"gridcolor\": \"white\", \"linecolor\": \"white\", \"ticks\": \"\", \"title\": {\"standoff\": 15}, \"zerolinecolor\": \"white\", \"zerolinewidth\": 2}, \"yaxis\": {\"automargin\": true, \"gridcolor\": \"white\", \"linecolor\": \"white\", \"ticks\": \"\", \"title\": {\"standoff\": 15}, \"zerolinecolor\": \"white\", \"zerolinewidth\": 2}}}},\n",
       "                        {\"responsive\": true}\n",
       "                    ).then(function(){\n",
       "                            \n",
       "var gd = document.getElementById('31b27642-7424-4887-846c-a76444a17642');\n",
       "var x = new MutationObserver(function (mutations, observer) {{\n",
       "        var display = window.getComputedStyle(gd).display;\n",
       "        if (!display || display === 'none') {{\n",
       "            console.log([gd, 'removed!']);\n",
       "            Plotly.purge(gd);\n",
       "            observer.disconnect();\n",
       "        }}\n",
       "}});\n",
       "\n",
       "// Listen for the removal of the full notebook cells\n",
       "var notebookContainer = gd.closest('#notebook-container');\n",
       "if (notebookContainer) {{\n",
       "    x.observe(notebookContainer, {childList: true});\n",
       "}}\n",
       "\n",
       "// Listen for the clearing of the current output cell\n",
       "var outputEl = gd.closest('.output');\n",
       "if (outputEl) {{\n",
       "    x.observe(outputEl, {childList: true});\n",
       "}}\n",
       "\n",
       "                        })\n",
       "                };\n",
       "                });\n",
       "            </script>\n",
       "        </div>"
      ]
     },
     "metadata": {},
     "output_type": "display_data"
    }
   ],
   "source": [
    "import pandas as pd\n",
    "\n",
    "import plotly.express as px\n",
    "\n",
    "fig = px.scatter_mapbox(indian_states_df, lat=\"lat\", lon=\"lon\", hover_name=\"State\", hover_data=[\"State\", \"totalConfirmed\", \"TotalConfirmedCasesInIndia\"],\n",
    "                        color_discrete_sequence=[\"fuchsia\"], zoom=3, height=300)\n",
    "fig.update_layout(mapbox_style=\"open-street-map\")\n",
    "fig.update_layout(margin={\"r\":0,\"t\":0,\"l\":0,\"b\":0})\n",
    "fig.show()"
   ]
  },
  {
   "cell_type": "code",
   "execution_count": 62,
   "metadata": {
    "scrolled": false
   },
   "outputs": [
    {
     "data": {
      "application/vnd.plotly.v1+json": {
       "config": {
        "plotlyServerURL": "https://plot.ly"
       },
       "data": [
        {
         "geo": "geo",
         "hoverlabel": {
          "namelength": 0
         },
         "hovertemplate": "<b>%{hovertext}</b><br><br>State=Rajasthan<br>totalConfirmed=%{marker.size}<br>lat=%{lat}<br>lon=%{lon}",
         "hovertext": [
          "Rajasthan"
         ],
         "lat": [
          27.0238
         ],
         "legendgroup": "State=Rajasthan",
         "locationmode": "ISO-3",
         "lon": [
          74.2179
         ],
         "marker": {
          "color": "#636efa",
          "size": [
           2603
          ],
          "sizemode": "area",
          "sizeref": 12.4375
         },
         "name": "State=Rajasthan",
         "showlegend": true,
         "type": "scattergeo"
        },
        {
         "geo": "geo",
         "hoverlabel": {
          "namelength": 0
         },
         "hovertemplate": "<b>%{hovertext}</b><br><br>State=Kerala<br>totalConfirmed=%{marker.size}<br>lat=%{lat}<br>lon=%{lon}",
         "hovertext": [
          "Kerala"
         ],
         "lat": [
          10.8505
         ],
         "legendgroup": "State=Kerala",
         "locationmode": "ISO-3",
         "lon": [
          76.2711
         ],
         "marker": {
          "color": "#EF553B",
          "size": [
           2036
          ],
          "sizemode": "area",
          "sizeref": 12.4375
         },
         "name": "State=Kerala",
         "showlegend": true,
         "type": "scattergeo"
        },
        {
         "geo": "geo",
         "hoverlabel": {
          "namelength": 0
         },
         "hovertemplate": "<b>%{hovertext}</b><br><br>State=Maharashtra<br>totalConfirmed=%{marker.size}<br>lat=%{lat}<br>lon=%{lon}",
         "hovertext": [
          "Maharashtra"
         ],
         "lat": [
          19.7515
         ],
         "legendgroup": "State=Maharashtra",
         "locationmode": "ISO-3",
         "lon": [
          75.7139
         ],
         "marker": {
          "color": "#00cc96",
          "size": [
           3440
          ],
          "sizemode": "area",
          "sizeref": 12.4375
         },
         "name": "State=Maharashtra",
         "showlegend": true,
         "type": "scattergeo"
        },
        {
         "geo": "geo",
         "hoverlabel": {
          "namelength": 0
         },
         "hovertemplate": "<b>%{hovertext}</b><br><br>State=Goa<br>totalConfirmed=%{marker.size}<br>lat=%{lat}<br>lon=%{lon}",
         "hovertext": [
          "Goa"
         ],
         "lat": [
          15.2993
         ],
         "legendgroup": "State=Goa",
         "locationmode": "ISO-3",
         "lon": [
          74.124
         ],
         "marker": {
          "color": "#ab63fa",
          "size": [
           1093
          ],
          "sizemode": "area",
          "sizeref": 12.4375
         },
         "name": "State=Goa",
         "showlegend": true,
         "type": "scattergeo"
        },
        {
         "geo": "geo",
         "hoverlabel": {
          "namelength": 0
         },
         "hovertemplate": "<b>%{hovertext}</b><br><br>State=Jammu and Kashmir<br>totalConfirmed=%{marker.size}<br>lat=%{lat}<br>lon=%{lon}",
         "hovertext": [
          "Jammu and Kashmir"
         ],
         "lat": [
          33.7782
         ],
         "legendgroup": "State=Jammu and Kashmir",
         "locationmode": "ISO-3",
         "lon": [
          76.5762
         ],
         "marker": {
          "color": "#FFA15A",
          "size": [
           3956
          ],
          "sizemode": "area",
          "sizeref": 12.4375
         },
         "name": "State=Jammu and Kashmir",
         "showlegend": true,
         "type": "scattergeo"
        },
        {
         "geo": "geo",
         "hoverlabel": {
          "namelength": 0
         },
         "hovertemplate": "<b>%{hovertext}</b><br><br>State=Karnataka<br>totalConfirmed=%{marker.size}<br>lat=%{lat}<br>lon=%{lon}",
         "hovertext": [
          "Karnataka"
         ],
         "lat": [
          15.3173
         ],
         "legendgroup": "State=Karnataka",
         "locationmode": "ISO-3",
         "lon": [
          75.7139
         ],
         "marker": {
          "color": "#19d3f3",
          "size": [
           70
          ],
          "sizemode": "area",
          "sizeref": 12.4375
         },
         "name": "State=Karnataka",
         "showlegend": true,
         "type": "scattergeo"
        },
        {
         "geo": "geo",
         "hoverlabel": {
          "namelength": 0
         },
         "hovertemplate": "<b>%{hovertext}</b><br><br>State=Gujarat<br>totalConfirmed=%{marker.size}<br>lat=%{lat}<br>lon=%{lon}",
         "hovertext": [
          "Gujarat"
         ],
         "lat": [
          22.2587
         ],
         "legendgroup": "State=Gujarat",
         "locationmode": "ISO-3",
         "lon": [
          71.1924
         ],
         "marker": {
          "color": "#FF6692",
          "size": [
           4975
          ],
          "sizemode": "area",
          "sizeref": 12.4375
         },
         "name": "State=Gujarat",
         "showlegend": true,
         "type": "scattergeo"
        },
        {
         "geo": "geo",
         "hoverlabel": {
          "namelength": 0
         },
         "hovertemplate": "<b>%{hovertext}</b><br><br>State=Haryana<br>totalConfirmed=%{marker.size}<br>lat=%{lat}<br>lon=%{lon}",
         "hovertext": [
          "Haryana"
         ],
         "lat": [
          29.0588
         ],
         "legendgroup": "State=Haryana",
         "locationmode": "ISO-3",
         "lon": [
          76.0856
         ],
         "marker": {
          "color": "#B6E880",
          "size": [
           2146
          ],
          "sizemode": "area",
          "sizeref": 12.4375
         },
         "name": "State=Haryana",
         "showlegend": true,
         "type": "scattergeo"
        },
        {
         "geo": "geo",
         "hoverlabel": {
          "namelength": 0
         },
         "hovertemplate": "<b>%{hovertext}</b><br><br>State=Uttar Pradesh<br>totalConfirmed=%{marker.size}<br>lat=%{lat}<br>lon=%{lon}",
         "hovertext": [
          "Uttar Pradesh"
         ],
         "lat": [
          26.8467
         ],
         "legendgroup": "State=Uttar Pradesh",
         "locationmode": "ISO-3",
         "lon": [
          80.9462
         ],
         "marker": {
          "color": "#FF97FF",
          "size": [
           4585
          ],
          "sizemode": "area",
          "sizeref": 12.4375
         },
         "name": "State=Uttar Pradesh",
         "showlegend": true,
         "type": "scattergeo"
        },
        {
         "geo": "geo",
         "hoverlabel": {
          "namelength": 0
         },
         "hovertemplate": "<b>%{hovertext}</b><br><br>State=Bihar<br>totalConfirmed=%{marker.size}<br>lat=%{lat}<br>lon=%{lon}",
         "hovertext": [
          "Bihar"
         ],
         "lat": [
          25.0961
         ],
         "legendgroup": "State=Bihar",
         "locationmode": "ISO-3",
         "lon": [
          85.3131
         ],
         "marker": {
          "color": "#FECB52",
          "size": [
           2376
          ],
          "sizemode": "area",
          "sizeref": 12.4375
         },
         "name": "State=Bihar",
         "showlegend": true,
         "type": "scattergeo"
        },
        {
         "geo": "geo",
         "hoverlabel": {
          "namelength": 0
         },
         "hovertemplate": "<b>%{hovertext}</b><br><br>State=Jharkhand<br>totalConfirmed=%{marker.size}<br>lat=%{lat}<br>lon=%{lon}",
         "hovertext": [
          "Jharkhand"
         ],
         "lat": [
          23.6102
         ],
         "legendgroup": "State=Jharkhand",
         "locationmode": "ISO-3",
         "lon": [
          85.2799
         ],
         "marker": {
          "color": "#636efa",
          "size": [
           503
          ],
          "sizemode": "area",
          "sizeref": 12.4375
         },
         "name": "State=Jharkhand",
         "showlegend": true,
         "type": "scattergeo"
        },
        {
         "geo": "geo",
         "hoverlabel": {
          "namelength": 0
         },
         "hovertemplate": "<b>%{hovertext}</b><br><br>State=Madhya Pradesh<br>totalConfirmed=%{marker.size}<br>lat=%{lat}<br>lon=%{lon}",
         "hovertext": [
          "Madhya Pradesh"
         ],
         "lat": [
          22.9734
         ],
         "legendgroup": "State=Madhya Pradesh",
         "locationmode": "ISO-3",
         "lon": [
          78.6569
         ],
         "marker": {
          "color": "#EF553B",
          "size": [
           3684
          ],
          "sizemode": "area",
          "sizeref": 12.4375
         },
         "name": "State=Madhya Pradesh",
         "showlegend": true,
         "type": "scattergeo"
        },
        {
         "geo": "geo",
         "hoverlabel": {
          "namelength": 0
         },
         "hovertemplate": "<b>%{hovertext}</b><br><br>State=Telangana<br>totalConfirmed=%{marker.size}<br>lat=%{lat}<br>lon=%{lon}",
         "hovertext": [
          "Telangana"
         ],
         "lat": [
          18.1124
         ],
         "legendgroup": "State=Telangana",
         "locationmode": "ISO-3",
         "lon": [
          79.0193
         ],
         "marker": {
          "color": "#00cc96",
          "size": [
           4034
          ],
          "sizemode": "area",
          "sizeref": 12.4375
         },
         "name": "State=Telangana",
         "showlegend": true,
         "type": "scattergeo"
        },
        {
         "geo": "geo",
         "hoverlabel": {
          "namelength": 0
         },
         "hovertemplate": "<b>%{hovertext}</b><br><br>State=Tamil Nadu<br>totalConfirmed=%{marker.size}<br>lat=%{lat}<br>lon=%{lon}",
         "hovertext": [
          "Tamil Nadu"
         ],
         "lat": [
          11.1271
         ],
         "legendgroup": "State=Tamil Nadu",
         "locationmode": "ISO-3",
         "lon": [
          78.6569
         ],
         "marker": {
          "color": "#ab63fa",
          "size": [
           1943
          ],
          "sizemode": "area",
          "sizeref": 12.4375
         },
         "name": "State=Tamil Nadu",
         "showlegend": true,
         "type": "scattergeo"
        },
        {
         "geo": "geo",
         "hoverlabel": {
          "namelength": 0
         },
         "hovertemplate": "<b>%{hovertext}</b><br><br>State=Andhra Pradesh<br>totalConfirmed=%{marker.size}<br>lat=%{lat}<br>lon=%{lon}",
         "hovertext": [
          "Andhra Pradesh"
         ],
         "lat": [
          15.9129
         ],
         "legendgroup": "State=Andhra Pradesh",
         "locationmode": "ISO-3",
         "lon": [
          79.74
         ],
         "marker": {
          "color": "#FFA15A",
          "size": [
           1823
          ],
          "sizemode": "area",
          "sizeref": 12.4375
         },
         "name": "State=Andhra Pradesh",
         "showlegend": true,
         "type": "scattergeo"
        },
        {
         "geo": "geo",
         "hoverlabel": {
          "namelength": 0
         },
         "hovertemplate": "<b>%{hovertext}</b><br><br>State=Chhattisgarh<br>totalConfirmed=%{marker.size}<br>lat=%{lat}<br>lon=%{lon}",
         "hovertext": [
          "Chhattisgarh"
         ],
         "lat": [
          21.2787
         ],
         "legendgroup": "State=Chhattisgarh",
         "locationmode": "ISO-3",
         "lon": [
          81.8661
         ],
         "marker": {
          "color": "#19d3f3",
          "size": [
           1461
          ],
          "sizemode": "area",
          "sizeref": 12.4375
         },
         "name": "State=Chhattisgarh",
         "showlegend": true,
         "type": "scattergeo"
        },
        {
         "geo": "geo",
         "hoverlabel": {
          "namelength": 0
         },
         "hovertemplate": "<b>%{hovertext}</b><br><br>State=Assam<br>totalConfirmed=%{marker.size}<br>lat=%{lat}<br>lon=%{lon}",
         "hovertext": [
          "Assam"
         ],
         "lat": [
          26.2006
         ],
         "legendgroup": "State=Assam",
         "locationmode": "ISO-3",
         "lon": [
          92.9376
         ],
         "marker": {
          "color": "#FF6692",
          "size": [
           3803
          ],
          "sizemode": "area",
          "sizeref": 12.4375
         },
         "name": "State=Assam",
         "showlegend": true,
         "type": "scattergeo"
        },
        {
         "geo": "geo",
         "hoverlabel": {
          "namelength": 0
         },
         "hovertemplate": "<b>%{hovertext}</b><br><br>State=Punjab<br>totalConfirmed=%{marker.size}<br>lat=%{lat}<br>lon=%{lon}",
         "hovertext": [
          "Punjab"
         ],
         "lat": [
          31.1471
         ],
         "legendgroup": "State=Punjab",
         "locationmode": "ISO-3",
         "lon": [
          75.3412
         ],
         "marker": {
          "color": "#B6E880",
          "size": [
           2461
          ],
          "sizemode": "area",
          "sizeref": 12.4375
         },
         "name": "State=Punjab",
         "showlegend": true,
         "type": "scattergeo"
        },
        {
         "geo": "geo",
         "hoverlabel": {
          "namelength": 0
         },
         "hovertemplate": "<b>%{hovertext}</b><br><br>State=Odisha<br>totalConfirmed=%{marker.size}<br>lat=%{lat}<br>lon=%{lon}",
         "hovertext": [
          "Odisha"
         ],
         "lat": [
          20.9517
         ],
         "legendgroup": "State=Odisha",
         "locationmode": "ISO-3",
         "lon": [
          85.0985
         ],
         "marker": {
          "color": "#FF97FF",
          "size": [
           52
          ],
          "sizemode": "area",
          "sizeref": 12.4375
         },
         "name": "State=Odisha",
         "showlegend": true,
         "type": "scattergeo"
        },
        {
         "geo": "geo",
         "hoverlabel": {
          "namelength": 0
         },
         "hovertemplate": "<b>%{hovertext}</b><br><br>State=Uttarakhand<br>totalConfirmed=%{marker.size}<br>lat=%{lat}<br>lon=%{lon}",
         "hovertext": [
          "Uttarakhand"
         ],
         "lat": [
          30.0668
         ],
         "legendgroup": "State=Uttarakhand",
         "locationmode": "ISO-3",
         "lon": [
          79.0193
         ],
         "marker": {
          "color": "#FECB52",
          "size": [
           140
          ],
          "sizemode": "area",
          "sizeref": 12.4375
         },
         "name": "State=Uttarakhand",
         "showlegend": true,
         "type": "scattergeo"
        },
        {
         "geo": "geo",
         "hoverlabel": {
          "namelength": 0
         },
         "hovertemplate": "<b>%{hovertext}</b><br><br>State=West Bengal<br>totalConfirmed=%{marker.size}<br>lat=%{lat}<br>lon=%{lon}",
         "hovertext": [
          "West Bengal"
         ],
         "lat": [
          22.9868
         ],
         "legendgroup": "State=West Bengal",
         "locationmode": "ISO-3",
         "lon": [
          87.855
         ],
         "marker": {
          "color": "#636efa",
          "size": [
           3809
          ],
          "sizemode": "area",
          "sizeref": 12.4375
         },
         "name": "State=West Bengal",
         "showlegend": true,
         "type": "scattergeo"
        },
        {
         "geo": "geo",
         "hoverlabel": {
          "namelength": 0
         },
         "hovertemplate": "<b>%{hovertext}</b><br><br>State=Nagaland<br>totalConfirmed=%{marker.size}<br>lat=%{lat}<br>lon=%{lon}",
         "hovertext": [
          "Nagaland"
         ],
         "lat": [
          26.1584
         ],
         "legendgroup": "State=Nagaland",
         "locationmode": "ISO-3",
         "lon": [
          94.5624
         ],
         "marker": {
          "color": "#EF553B",
          "size": [
           2101
          ],
          "sizemode": "area",
          "sizeref": 12.4375
         },
         "name": "State=Nagaland",
         "showlegend": true,
         "type": "scattergeo"
        },
        {
         "geo": "geo",
         "hoverlabel": {
          "namelength": 0
         },
         "hovertemplate": "<b>%{hovertext}</b><br><br>State=Himachal Pradesh<br>totalConfirmed=%{marker.size}<br>lat=%{lat}<br>lon=%{lon}",
         "hovertext": [
          "Himachal Pradesh"
         ],
         "lat": [
          31.1048
         ],
         "legendgroup": "State=Himachal Pradesh",
         "locationmode": "ISO-3",
         "lon": [
          77.1734
         ],
         "marker": {
          "color": "#00cc96",
          "size": [
           4868
          ],
          "sizemode": "area",
          "sizeref": 12.4375
         },
         "name": "State=Himachal Pradesh",
         "showlegend": true,
         "type": "scattergeo"
        },
        {
         "geo": "geo",
         "hoverlabel": {
          "namelength": 0
         },
         "hovertemplate": "<b>%{hovertext}</b><br><br>State=Sikkim<br>totalConfirmed=%{marker.size}<br>lat=%{lat}<br>lon=%{lon}",
         "hovertext": [
          "Sikkim"
         ],
         "lat": [
          27.533
         ],
         "legendgroup": "State=Sikkim",
         "locationmode": "ISO-3",
         "lon": [
          88.5122
         ],
         "marker": {
          "color": "#ab63fa",
          "size": [
           4699
          ],
          "sizemode": "area",
          "sizeref": 12.4375
         },
         "name": "State=Sikkim",
         "showlegend": true,
         "type": "scattergeo"
        },
        {
         "geo": "geo",
         "hoverlabel": {
          "namelength": 0
         },
         "hovertemplate": "<b>%{hovertext}</b><br><br>State=Manipur<br>totalConfirmed=%{marker.size}<br>lat=%{lat}<br>lon=%{lon}",
         "hovertext": [
          "Manipur"
         ],
         "lat": [
          24.6637
         ],
         "legendgroup": "State=Manipur",
         "locationmode": "ISO-3",
         "lon": [
          93.9063
         ],
         "marker": {
          "color": "#FFA15A",
          "size": [
           3188
          ],
          "sizemode": "area",
          "sizeref": 12.4375
         },
         "name": "State=Manipur",
         "showlegend": true,
         "type": "scattergeo"
        },
        {
         "geo": "geo",
         "hoverlabel": {
          "namelength": 0
         },
         "hovertemplate": "<b>%{hovertext}</b><br><br>State=Tripura<br>totalConfirmed=%{marker.size}<br>lat=%{lat}<br>lon=%{lon}",
         "hovertext": [
          "Tripura"
         ],
         "lat": [
          23.9408
         ],
         "legendgroup": "State=Tripura",
         "locationmode": "ISO-3",
         "lon": [
          91.9882
         ],
         "marker": {
          "color": "#19d3f3",
          "size": [
           4904
          ],
          "sizemode": "area",
          "sizeref": 12.4375
         },
         "name": "State=Tripura",
         "showlegend": true,
         "type": "scattergeo"
        },
        {
         "geo": "geo",
         "hoverlabel": {
          "namelength": 0
         },
         "hovertemplate": "<b>%{hovertext}</b><br><br>State=Arunachal Pradesh<br>totalConfirmed=%{marker.size}<br>lat=%{lat}<br>lon=%{lon}",
         "hovertext": [
          "Arunachal Pradesh"
         ],
         "lat": [
          28.218000000000004
         ],
         "legendgroup": "State=Arunachal Pradesh",
         "locationmode": "ISO-3",
         "lon": [
          94.7278
         ],
         "marker": {
          "color": "#FF6692",
          "size": [
           834
          ],
          "sizemode": "area",
          "sizeref": 12.4375
         },
         "name": "State=Arunachal Pradesh",
         "showlegend": true,
         "type": "scattergeo"
        },
        {
         "geo": "geo",
         "hoverlabel": {
          "namelength": 0
         },
         "hovertemplate": "<b>%{hovertext}</b><br><br>State=Meghalaya<br>totalConfirmed=%{marker.size}<br>lat=%{lat}<br>lon=%{lon}",
         "hovertext": [
          "Meghalaya"
         ],
         "lat": [
          25.467
         ],
         "legendgroup": "State=Meghalaya",
         "locationmode": "ISO-3",
         "lon": [
          91.3662
         ],
         "marker": {
          "color": "#B6E880",
          "size": [
           3128
          ],
          "sizemode": "area",
          "sizeref": 12.4375
         },
         "name": "State=Meghalaya",
         "showlegend": true,
         "type": "scattergeo"
        },
        {
         "geo": "geo",
         "hoverlabel": {
          "namelength": 0
         },
         "hovertemplate": "<b>%{hovertext}</b><br><br>State=Mizoram<br>totalConfirmed=%{marker.size}<br>lat=%{lat}<br>lon=%{lon}",
         "hovertext": [
          "Mizoram"
         ],
         "lat": [
          23.1645
         ],
         "legendgroup": "State=Mizoram",
         "locationmode": "ISO-3",
         "lon": [
          92.9376
         ],
         "marker": {
          "color": "#FF97FF",
          "size": [
           4180
          ],
          "sizemode": "area",
          "sizeref": 12.4375
         },
         "name": "State=Mizoram",
         "showlegend": true,
         "type": "scattergeo"
        }
       ],
       "layout": {
        "geo": {
         "center": {},
         "domain": {
          "x": [
           0,
           1
          ],
          "y": [
           0,
           1
          ]
         },
         "projection": {
          "type": "natural earth"
         }
        },
        "legend": {
         "itemsizing": "constant",
         "tracegroupgap": 0
        },
        "margin": {
         "t": 60
        },
        "template": {
         "data": {
          "bar": [
           {
            "error_x": {
             "color": "#2a3f5f"
            },
            "error_y": {
             "color": "#2a3f5f"
            },
            "marker": {
             "line": {
              "color": "#E5ECF6",
              "width": 0.5
             }
            },
            "type": "bar"
           }
          ],
          "barpolar": [
           {
            "marker": {
             "line": {
              "color": "#E5ECF6",
              "width": 0.5
             }
            },
            "type": "barpolar"
           }
          ],
          "carpet": [
           {
            "aaxis": {
             "endlinecolor": "#2a3f5f",
             "gridcolor": "white",
             "linecolor": "white",
             "minorgridcolor": "white",
             "startlinecolor": "#2a3f5f"
            },
            "baxis": {
             "endlinecolor": "#2a3f5f",
             "gridcolor": "white",
             "linecolor": "white",
             "minorgridcolor": "white",
             "startlinecolor": "#2a3f5f"
            },
            "type": "carpet"
           }
          ],
          "choropleth": [
           {
            "colorbar": {
             "outlinewidth": 0,
             "ticks": ""
            },
            "type": "choropleth"
           }
          ],
          "contour": [
           {
            "colorbar": {
             "outlinewidth": 0,
             "ticks": ""
            },
            "colorscale": [
             [
              0,
              "#0d0887"
             ],
             [
              0.1111111111111111,
              "#46039f"
             ],
             [
              0.2222222222222222,
              "#7201a8"
             ],
             [
              0.3333333333333333,
              "#9c179e"
             ],
             [
              0.4444444444444444,
              "#bd3786"
             ],
             [
              0.5555555555555556,
              "#d8576b"
             ],
             [
              0.6666666666666666,
              "#ed7953"
             ],
             [
              0.7777777777777778,
              "#fb9f3a"
             ],
             [
              0.8888888888888888,
              "#fdca26"
             ],
             [
              1,
              "#f0f921"
             ]
            ],
            "type": "contour"
           }
          ],
          "contourcarpet": [
           {
            "colorbar": {
             "outlinewidth": 0,
             "ticks": ""
            },
            "type": "contourcarpet"
           }
          ],
          "heatmap": [
           {
            "colorbar": {
             "outlinewidth": 0,
             "ticks": ""
            },
            "colorscale": [
             [
              0,
              "#0d0887"
             ],
             [
              0.1111111111111111,
              "#46039f"
             ],
             [
              0.2222222222222222,
              "#7201a8"
             ],
             [
              0.3333333333333333,
              "#9c179e"
             ],
             [
              0.4444444444444444,
              "#bd3786"
             ],
             [
              0.5555555555555556,
              "#d8576b"
             ],
             [
              0.6666666666666666,
              "#ed7953"
             ],
             [
              0.7777777777777778,
              "#fb9f3a"
             ],
             [
              0.8888888888888888,
              "#fdca26"
             ],
             [
              1,
              "#f0f921"
             ]
            ],
            "type": "heatmap"
           }
          ],
          "heatmapgl": [
           {
            "colorbar": {
             "outlinewidth": 0,
             "ticks": ""
            },
            "colorscale": [
             [
              0,
              "#0d0887"
             ],
             [
              0.1111111111111111,
              "#46039f"
             ],
             [
              0.2222222222222222,
              "#7201a8"
             ],
             [
              0.3333333333333333,
              "#9c179e"
             ],
             [
              0.4444444444444444,
              "#bd3786"
             ],
             [
              0.5555555555555556,
              "#d8576b"
             ],
             [
              0.6666666666666666,
              "#ed7953"
             ],
             [
              0.7777777777777778,
              "#fb9f3a"
             ],
             [
              0.8888888888888888,
              "#fdca26"
             ],
             [
              1,
              "#f0f921"
             ]
            ],
            "type": "heatmapgl"
           }
          ],
          "histogram": [
           {
            "marker": {
             "colorbar": {
              "outlinewidth": 0,
              "ticks": ""
             }
            },
            "type": "histogram"
           }
          ],
          "histogram2d": [
           {
            "colorbar": {
             "outlinewidth": 0,
             "ticks": ""
            },
            "colorscale": [
             [
              0,
              "#0d0887"
             ],
             [
              0.1111111111111111,
              "#46039f"
             ],
             [
              0.2222222222222222,
              "#7201a8"
             ],
             [
              0.3333333333333333,
              "#9c179e"
             ],
             [
              0.4444444444444444,
              "#bd3786"
             ],
             [
              0.5555555555555556,
              "#d8576b"
             ],
             [
              0.6666666666666666,
              "#ed7953"
             ],
             [
              0.7777777777777778,
              "#fb9f3a"
             ],
             [
              0.8888888888888888,
              "#fdca26"
             ],
             [
              1,
              "#f0f921"
             ]
            ],
            "type": "histogram2d"
           }
          ],
          "histogram2dcontour": [
           {
            "colorbar": {
             "outlinewidth": 0,
             "ticks": ""
            },
            "colorscale": [
             [
              0,
              "#0d0887"
             ],
             [
              0.1111111111111111,
              "#46039f"
             ],
             [
              0.2222222222222222,
              "#7201a8"
             ],
             [
              0.3333333333333333,
              "#9c179e"
             ],
             [
              0.4444444444444444,
              "#bd3786"
             ],
             [
              0.5555555555555556,
              "#d8576b"
             ],
             [
              0.6666666666666666,
              "#ed7953"
             ],
             [
              0.7777777777777778,
              "#fb9f3a"
             ],
             [
              0.8888888888888888,
              "#fdca26"
             ],
             [
              1,
              "#f0f921"
             ]
            ],
            "type": "histogram2dcontour"
           }
          ],
          "mesh3d": [
           {
            "colorbar": {
             "outlinewidth": 0,
             "ticks": ""
            },
            "type": "mesh3d"
           }
          ],
          "parcoords": [
           {
            "line": {
             "colorbar": {
              "outlinewidth": 0,
              "ticks": ""
             }
            },
            "type": "parcoords"
           }
          ],
          "pie": [
           {
            "automargin": true,
            "type": "pie"
           }
          ],
          "scatter": [
           {
            "marker": {
             "colorbar": {
              "outlinewidth": 0,
              "ticks": ""
             }
            },
            "type": "scatter"
           }
          ],
          "scatter3d": [
           {
            "line": {
             "colorbar": {
              "outlinewidth": 0,
              "ticks": ""
             }
            },
            "marker": {
             "colorbar": {
              "outlinewidth": 0,
              "ticks": ""
             }
            },
            "type": "scatter3d"
           }
          ],
          "scattercarpet": [
           {
            "marker": {
             "colorbar": {
              "outlinewidth": 0,
              "ticks": ""
             }
            },
            "type": "scattercarpet"
           }
          ],
          "scattergeo": [
           {
            "marker": {
             "colorbar": {
              "outlinewidth": 0,
              "ticks": ""
             }
            },
            "type": "scattergeo"
           }
          ],
          "scattergl": [
           {
            "marker": {
             "colorbar": {
              "outlinewidth": 0,
              "ticks": ""
             }
            },
            "type": "scattergl"
           }
          ],
          "scattermapbox": [
           {
            "marker": {
             "colorbar": {
              "outlinewidth": 0,
              "ticks": ""
             }
            },
            "type": "scattermapbox"
           }
          ],
          "scatterpolar": [
           {
            "marker": {
             "colorbar": {
              "outlinewidth": 0,
              "ticks": ""
             }
            },
            "type": "scatterpolar"
           }
          ],
          "scatterpolargl": [
           {
            "marker": {
             "colorbar": {
              "outlinewidth": 0,
              "ticks": ""
             }
            },
            "type": "scatterpolargl"
           }
          ],
          "scatterternary": [
           {
            "marker": {
             "colorbar": {
              "outlinewidth": 0,
              "ticks": ""
             }
            },
            "type": "scatterternary"
           }
          ],
          "surface": [
           {
            "colorbar": {
             "outlinewidth": 0,
             "ticks": ""
            },
            "colorscale": [
             [
              0,
              "#0d0887"
             ],
             [
              0.1111111111111111,
              "#46039f"
             ],
             [
              0.2222222222222222,
              "#7201a8"
             ],
             [
              0.3333333333333333,
              "#9c179e"
             ],
             [
              0.4444444444444444,
              "#bd3786"
             ],
             [
              0.5555555555555556,
              "#d8576b"
             ],
             [
              0.6666666666666666,
              "#ed7953"
             ],
             [
              0.7777777777777778,
              "#fb9f3a"
             ],
             [
              0.8888888888888888,
              "#fdca26"
             ],
             [
              1,
              "#f0f921"
             ]
            ],
            "type": "surface"
           }
          ],
          "table": [
           {
            "cells": {
             "fill": {
              "color": "#EBF0F8"
             },
             "line": {
              "color": "white"
             }
            },
            "header": {
             "fill": {
              "color": "#C8D4E3"
             },
             "line": {
              "color": "white"
             }
            },
            "type": "table"
           }
          ]
         },
         "layout": {
          "annotationdefaults": {
           "arrowcolor": "#2a3f5f",
           "arrowhead": 0,
           "arrowwidth": 1
          },
          "coloraxis": {
           "colorbar": {
            "outlinewidth": 0,
            "ticks": ""
           }
          },
          "colorscale": {
           "diverging": [
            [
             0,
             "#8e0152"
            ],
            [
             0.1,
             "#c51b7d"
            ],
            [
             0.2,
             "#de77ae"
            ],
            [
             0.3,
             "#f1b6da"
            ],
            [
             0.4,
             "#fde0ef"
            ],
            [
             0.5,
             "#f7f7f7"
            ],
            [
             0.6,
             "#e6f5d0"
            ],
            [
             0.7,
             "#b8e186"
            ],
            [
             0.8,
             "#7fbc41"
            ],
            [
             0.9,
             "#4d9221"
            ],
            [
             1,
             "#276419"
            ]
           ],
           "sequential": [
            [
             0,
             "#0d0887"
            ],
            [
             0.1111111111111111,
             "#46039f"
            ],
            [
             0.2222222222222222,
             "#7201a8"
            ],
            [
             0.3333333333333333,
             "#9c179e"
            ],
            [
             0.4444444444444444,
             "#bd3786"
            ],
            [
             0.5555555555555556,
             "#d8576b"
            ],
            [
             0.6666666666666666,
             "#ed7953"
            ],
            [
             0.7777777777777778,
             "#fb9f3a"
            ],
            [
             0.8888888888888888,
             "#fdca26"
            ],
            [
             1,
             "#f0f921"
            ]
           ],
           "sequentialminus": [
            [
             0,
             "#0d0887"
            ],
            [
             0.1111111111111111,
             "#46039f"
            ],
            [
             0.2222222222222222,
             "#7201a8"
            ],
            [
             0.3333333333333333,
             "#9c179e"
            ],
            [
             0.4444444444444444,
             "#bd3786"
            ],
            [
             0.5555555555555556,
             "#d8576b"
            ],
            [
             0.6666666666666666,
             "#ed7953"
            ],
            [
             0.7777777777777778,
             "#fb9f3a"
            ],
            [
             0.8888888888888888,
             "#fdca26"
            ],
            [
             1,
             "#f0f921"
            ]
           ]
          },
          "colorway": [
           "#636efa",
           "#EF553B",
           "#00cc96",
           "#ab63fa",
           "#FFA15A",
           "#19d3f3",
           "#FF6692",
           "#B6E880",
           "#FF97FF",
           "#FECB52"
          ],
          "font": {
           "color": "#2a3f5f"
          },
          "geo": {
           "bgcolor": "white",
           "lakecolor": "white",
           "landcolor": "#E5ECF6",
           "showlakes": true,
           "showland": true,
           "subunitcolor": "white"
          },
          "hoverlabel": {
           "align": "left"
          },
          "hovermode": "closest",
          "mapbox": {
           "style": "light"
          },
          "paper_bgcolor": "white",
          "plot_bgcolor": "#E5ECF6",
          "polar": {
           "angularaxis": {
            "gridcolor": "white",
            "linecolor": "white",
            "ticks": ""
           },
           "bgcolor": "#E5ECF6",
           "radialaxis": {
            "gridcolor": "white",
            "linecolor": "white",
            "ticks": ""
           }
          },
          "scene": {
           "xaxis": {
            "backgroundcolor": "#E5ECF6",
            "gridcolor": "white",
            "gridwidth": 2,
            "linecolor": "white",
            "showbackground": true,
            "ticks": "",
            "zerolinecolor": "white"
           },
           "yaxis": {
            "backgroundcolor": "#E5ECF6",
            "gridcolor": "white",
            "gridwidth": 2,
            "linecolor": "white",
            "showbackground": true,
            "ticks": "",
            "zerolinecolor": "white"
           },
           "zaxis": {
            "backgroundcolor": "#E5ECF6",
            "gridcolor": "white",
            "gridwidth": 2,
            "linecolor": "white",
            "showbackground": true,
            "ticks": "",
            "zerolinecolor": "white"
           }
          },
          "shapedefaults": {
           "line": {
            "color": "#2a3f5f"
           }
          },
          "ternary": {
           "aaxis": {
            "gridcolor": "white",
            "linecolor": "white",
            "ticks": ""
           },
           "baxis": {
            "gridcolor": "white",
            "linecolor": "white",
            "ticks": ""
           },
           "bgcolor": "#E5ECF6",
           "caxis": {
            "gridcolor": "white",
            "linecolor": "white",
            "ticks": ""
           }
          },
          "title": {
           "x": 0.05
          },
          "xaxis": {
           "automargin": true,
           "gridcolor": "white",
           "linecolor": "white",
           "ticks": "",
           "title": {
            "standoff": 15
           },
           "zerolinecolor": "white",
           "zerolinewidth": 2
          },
          "yaxis": {
           "automargin": true,
           "gridcolor": "white",
           "linecolor": "white",
           "ticks": "",
           "title": {
            "standoff": 15
           },
           "zerolinecolor": "white",
           "zerolinewidth": 2
          }
         }
        }
       }
      },
      "text/html": [
       "<div>\n",
       "        \n",
       "        \n",
       "            <div id=\"6f159e21-6c7b-46e7-b8bc-7b606875b4ff\" class=\"plotly-graph-div\" style=\"height:525px; width:100%;\"></div>\n",
       "            <script type=\"text/javascript\">\n",
       "                require([\"plotly\"], function(Plotly) {\n",
       "                    window.PLOTLYENV=window.PLOTLYENV || {};\n",
       "                    \n",
       "                if (document.getElementById(\"6f159e21-6c7b-46e7-b8bc-7b606875b4ff\")) {\n",
       "                    Plotly.newPlot(\n",
       "                        '6f159e21-6c7b-46e7-b8bc-7b606875b4ff',\n",
       "                        [{\"geo\": \"geo\", \"hoverlabel\": {\"namelength\": 0}, \"hovertemplate\": \"<b>%{hovertext}</b><br><br>State=Rajasthan<br>totalConfirmed=%{marker.size}<br>lat=%{lat}<br>lon=%{lon}\", \"hovertext\": [\"Rajasthan\"], \"lat\": [27.0238], \"legendgroup\": \"State=Rajasthan\", \"locationmode\": \"ISO-3\", \"lon\": [74.2179], \"marker\": {\"color\": \"#636efa\", \"size\": [2603], \"sizemode\": \"area\", \"sizeref\": 12.4375}, \"name\": \"State=Rajasthan\", \"showlegend\": true, \"type\": \"scattergeo\"}, {\"geo\": \"geo\", \"hoverlabel\": {\"namelength\": 0}, \"hovertemplate\": \"<b>%{hovertext}</b><br><br>State=Kerala<br>totalConfirmed=%{marker.size}<br>lat=%{lat}<br>lon=%{lon}\", \"hovertext\": [\"Kerala\"], \"lat\": [10.8505], \"legendgroup\": \"State=Kerala\", \"locationmode\": \"ISO-3\", \"lon\": [76.2711], \"marker\": {\"color\": \"#EF553B\", \"size\": [2036], \"sizemode\": \"area\", \"sizeref\": 12.4375}, \"name\": \"State=Kerala\", \"showlegend\": true, \"type\": \"scattergeo\"}, {\"geo\": \"geo\", \"hoverlabel\": {\"namelength\": 0}, \"hovertemplate\": \"<b>%{hovertext}</b><br><br>State=Maharashtra<br>totalConfirmed=%{marker.size}<br>lat=%{lat}<br>lon=%{lon}\", \"hovertext\": [\"Maharashtra\"], \"lat\": [19.7515], \"legendgroup\": \"State=Maharashtra\", \"locationmode\": \"ISO-3\", \"lon\": [75.7139], \"marker\": {\"color\": \"#00cc96\", \"size\": [3440], \"sizemode\": \"area\", \"sizeref\": 12.4375}, \"name\": \"State=Maharashtra\", \"showlegend\": true, \"type\": \"scattergeo\"}, {\"geo\": \"geo\", \"hoverlabel\": {\"namelength\": 0}, \"hovertemplate\": \"<b>%{hovertext}</b><br><br>State=Goa<br>totalConfirmed=%{marker.size}<br>lat=%{lat}<br>lon=%{lon}\", \"hovertext\": [\"Goa\"], \"lat\": [15.2993], \"legendgroup\": \"State=Goa\", \"locationmode\": \"ISO-3\", \"lon\": [74.124], \"marker\": {\"color\": \"#ab63fa\", \"size\": [1093], \"sizemode\": \"area\", \"sizeref\": 12.4375}, \"name\": \"State=Goa\", \"showlegend\": true, \"type\": \"scattergeo\"}, {\"geo\": \"geo\", \"hoverlabel\": {\"namelength\": 0}, \"hovertemplate\": \"<b>%{hovertext}</b><br><br>State=Jammu and Kashmir<br>totalConfirmed=%{marker.size}<br>lat=%{lat}<br>lon=%{lon}\", \"hovertext\": [\"Jammu and Kashmir\"], \"lat\": [33.7782], \"legendgroup\": \"State=Jammu and Kashmir\", \"locationmode\": \"ISO-3\", \"lon\": [76.5762], \"marker\": {\"color\": \"#FFA15A\", \"size\": [3956], \"sizemode\": \"area\", \"sizeref\": 12.4375}, \"name\": \"State=Jammu and Kashmir\", \"showlegend\": true, \"type\": \"scattergeo\"}, {\"geo\": \"geo\", \"hoverlabel\": {\"namelength\": 0}, \"hovertemplate\": \"<b>%{hovertext}</b><br><br>State=Karnataka<br>totalConfirmed=%{marker.size}<br>lat=%{lat}<br>lon=%{lon}\", \"hovertext\": [\"Karnataka\"], \"lat\": [15.3173], \"legendgroup\": \"State=Karnataka\", \"locationmode\": \"ISO-3\", \"lon\": [75.7139], \"marker\": {\"color\": \"#19d3f3\", \"size\": [70], \"sizemode\": \"area\", \"sizeref\": 12.4375}, \"name\": \"State=Karnataka\", \"showlegend\": true, \"type\": \"scattergeo\"}, {\"geo\": \"geo\", \"hoverlabel\": {\"namelength\": 0}, \"hovertemplate\": \"<b>%{hovertext}</b><br><br>State=Gujarat<br>totalConfirmed=%{marker.size}<br>lat=%{lat}<br>lon=%{lon}\", \"hovertext\": [\"Gujarat\"], \"lat\": [22.2587], \"legendgroup\": \"State=Gujarat\", \"locationmode\": \"ISO-3\", \"lon\": [71.1924], \"marker\": {\"color\": \"#FF6692\", \"size\": [4975], \"sizemode\": \"area\", \"sizeref\": 12.4375}, \"name\": \"State=Gujarat\", \"showlegend\": true, \"type\": \"scattergeo\"}, {\"geo\": \"geo\", \"hoverlabel\": {\"namelength\": 0}, \"hovertemplate\": \"<b>%{hovertext}</b><br><br>State=Haryana<br>totalConfirmed=%{marker.size}<br>lat=%{lat}<br>lon=%{lon}\", \"hovertext\": [\"Haryana\"], \"lat\": [29.0588], \"legendgroup\": \"State=Haryana\", \"locationmode\": \"ISO-3\", \"lon\": [76.0856], \"marker\": {\"color\": \"#B6E880\", \"size\": [2146], \"sizemode\": \"area\", \"sizeref\": 12.4375}, \"name\": \"State=Haryana\", \"showlegend\": true, \"type\": \"scattergeo\"}, {\"geo\": \"geo\", \"hoverlabel\": {\"namelength\": 0}, \"hovertemplate\": \"<b>%{hovertext}</b><br><br>State=Uttar Pradesh<br>totalConfirmed=%{marker.size}<br>lat=%{lat}<br>lon=%{lon}\", \"hovertext\": [\"Uttar Pradesh\"], \"lat\": [26.8467], \"legendgroup\": \"State=Uttar Pradesh\", \"locationmode\": \"ISO-3\", \"lon\": [80.9462], \"marker\": {\"color\": \"#FF97FF\", \"size\": [4585], \"sizemode\": \"area\", \"sizeref\": 12.4375}, \"name\": \"State=Uttar Pradesh\", \"showlegend\": true, \"type\": \"scattergeo\"}, {\"geo\": \"geo\", \"hoverlabel\": {\"namelength\": 0}, \"hovertemplate\": \"<b>%{hovertext}</b><br><br>State=Bihar<br>totalConfirmed=%{marker.size}<br>lat=%{lat}<br>lon=%{lon}\", \"hovertext\": [\"Bihar\"], \"lat\": [25.0961], \"legendgroup\": \"State=Bihar\", \"locationmode\": \"ISO-3\", \"lon\": [85.3131], \"marker\": {\"color\": \"#FECB52\", \"size\": [2376], \"sizemode\": \"area\", \"sizeref\": 12.4375}, \"name\": \"State=Bihar\", \"showlegend\": true, \"type\": \"scattergeo\"}, {\"geo\": \"geo\", \"hoverlabel\": {\"namelength\": 0}, \"hovertemplate\": \"<b>%{hovertext}</b><br><br>State=Jharkhand<br>totalConfirmed=%{marker.size}<br>lat=%{lat}<br>lon=%{lon}\", \"hovertext\": [\"Jharkhand\"], \"lat\": [23.6102], \"legendgroup\": \"State=Jharkhand\", \"locationmode\": \"ISO-3\", \"lon\": [85.2799], \"marker\": {\"color\": \"#636efa\", \"size\": [503], \"sizemode\": \"area\", \"sizeref\": 12.4375}, \"name\": \"State=Jharkhand\", \"showlegend\": true, \"type\": \"scattergeo\"}, {\"geo\": \"geo\", \"hoverlabel\": {\"namelength\": 0}, \"hovertemplate\": \"<b>%{hovertext}</b><br><br>State=Madhya Pradesh<br>totalConfirmed=%{marker.size}<br>lat=%{lat}<br>lon=%{lon}\", \"hovertext\": [\"Madhya Pradesh\"], \"lat\": [22.9734], \"legendgroup\": \"State=Madhya Pradesh\", \"locationmode\": \"ISO-3\", \"lon\": [78.6569], \"marker\": {\"color\": \"#EF553B\", \"size\": [3684], \"sizemode\": \"area\", \"sizeref\": 12.4375}, \"name\": \"State=Madhya Pradesh\", \"showlegend\": true, \"type\": \"scattergeo\"}, {\"geo\": \"geo\", \"hoverlabel\": {\"namelength\": 0}, \"hovertemplate\": \"<b>%{hovertext}</b><br><br>State=Telangana<br>totalConfirmed=%{marker.size}<br>lat=%{lat}<br>lon=%{lon}\", \"hovertext\": [\"Telangana\"], \"lat\": [18.1124], \"legendgroup\": \"State=Telangana\", \"locationmode\": \"ISO-3\", \"lon\": [79.0193], \"marker\": {\"color\": \"#00cc96\", \"size\": [4034], \"sizemode\": \"area\", \"sizeref\": 12.4375}, \"name\": \"State=Telangana\", \"showlegend\": true, \"type\": \"scattergeo\"}, {\"geo\": \"geo\", \"hoverlabel\": {\"namelength\": 0}, \"hovertemplate\": \"<b>%{hovertext}</b><br><br>State=Tamil Nadu<br>totalConfirmed=%{marker.size}<br>lat=%{lat}<br>lon=%{lon}\", \"hovertext\": [\"Tamil Nadu\"], \"lat\": [11.1271], \"legendgroup\": \"State=Tamil Nadu\", \"locationmode\": \"ISO-3\", \"lon\": [78.6569], \"marker\": {\"color\": \"#ab63fa\", \"size\": [1943], \"sizemode\": \"area\", \"sizeref\": 12.4375}, \"name\": \"State=Tamil Nadu\", \"showlegend\": true, \"type\": \"scattergeo\"}, {\"geo\": \"geo\", \"hoverlabel\": {\"namelength\": 0}, \"hovertemplate\": \"<b>%{hovertext}</b><br><br>State=Andhra Pradesh<br>totalConfirmed=%{marker.size}<br>lat=%{lat}<br>lon=%{lon}\", \"hovertext\": [\"Andhra Pradesh\"], \"lat\": [15.9129], \"legendgroup\": \"State=Andhra Pradesh\", \"locationmode\": \"ISO-3\", \"lon\": [79.74], \"marker\": {\"color\": \"#FFA15A\", \"size\": [1823], \"sizemode\": \"area\", \"sizeref\": 12.4375}, \"name\": \"State=Andhra Pradesh\", \"showlegend\": true, \"type\": \"scattergeo\"}, {\"geo\": \"geo\", \"hoverlabel\": {\"namelength\": 0}, \"hovertemplate\": \"<b>%{hovertext}</b><br><br>State=Chhattisgarh<br>totalConfirmed=%{marker.size}<br>lat=%{lat}<br>lon=%{lon}\", \"hovertext\": [\"Chhattisgarh\"], \"lat\": [21.2787], \"legendgroup\": \"State=Chhattisgarh\", \"locationmode\": \"ISO-3\", \"lon\": [81.8661], \"marker\": {\"color\": \"#19d3f3\", \"size\": [1461], \"sizemode\": \"area\", \"sizeref\": 12.4375}, \"name\": \"State=Chhattisgarh\", \"showlegend\": true, \"type\": \"scattergeo\"}, {\"geo\": \"geo\", \"hoverlabel\": {\"namelength\": 0}, \"hovertemplate\": \"<b>%{hovertext}</b><br><br>State=Assam<br>totalConfirmed=%{marker.size}<br>lat=%{lat}<br>lon=%{lon}\", \"hovertext\": [\"Assam\"], \"lat\": [26.2006], \"legendgroup\": \"State=Assam\", \"locationmode\": \"ISO-3\", \"lon\": [92.9376], \"marker\": {\"color\": \"#FF6692\", \"size\": [3803], \"sizemode\": \"area\", \"sizeref\": 12.4375}, \"name\": \"State=Assam\", \"showlegend\": true, \"type\": \"scattergeo\"}, {\"geo\": \"geo\", \"hoverlabel\": {\"namelength\": 0}, \"hovertemplate\": \"<b>%{hovertext}</b><br><br>State=Punjab<br>totalConfirmed=%{marker.size}<br>lat=%{lat}<br>lon=%{lon}\", \"hovertext\": [\"Punjab\"], \"lat\": [31.1471], \"legendgroup\": \"State=Punjab\", \"locationmode\": \"ISO-3\", \"lon\": [75.3412], \"marker\": {\"color\": \"#B6E880\", \"size\": [2461], \"sizemode\": \"area\", \"sizeref\": 12.4375}, \"name\": \"State=Punjab\", \"showlegend\": true, \"type\": \"scattergeo\"}, {\"geo\": \"geo\", \"hoverlabel\": {\"namelength\": 0}, \"hovertemplate\": \"<b>%{hovertext}</b><br><br>State=Odisha<br>totalConfirmed=%{marker.size}<br>lat=%{lat}<br>lon=%{lon}\", \"hovertext\": [\"Odisha\"], \"lat\": [20.9517], \"legendgroup\": \"State=Odisha\", \"locationmode\": \"ISO-3\", \"lon\": [85.0985], \"marker\": {\"color\": \"#FF97FF\", \"size\": [52], \"sizemode\": \"area\", \"sizeref\": 12.4375}, \"name\": \"State=Odisha\", \"showlegend\": true, \"type\": \"scattergeo\"}, {\"geo\": \"geo\", \"hoverlabel\": {\"namelength\": 0}, \"hovertemplate\": \"<b>%{hovertext}</b><br><br>State=Uttarakhand<br>totalConfirmed=%{marker.size}<br>lat=%{lat}<br>lon=%{lon}\", \"hovertext\": [\"Uttarakhand\"], \"lat\": [30.0668], \"legendgroup\": \"State=Uttarakhand\", \"locationmode\": \"ISO-3\", \"lon\": [79.0193], \"marker\": {\"color\": \"#FECB52\", \"size\": [140], \"sizemode\": \"area\", \"sizeref\": 12.4375}, \"name\": \"State=Uttarakhand\", \"showlegend\": true, \"type\": \"scattergeo\"}, {\"geo\": \"geo\", \"hoverlabel\": {\"namelength\": 0}, \"hovertemplate\": \"<b>%{hovertext}</b><br><br>State=West Bengal<br>totalConfirmed=%{marker.size}<br>lat=%{lat}<br>lon=%{lon}\", \"hovertext\": [\"West Bengal\"], \"lat\": [22.9868], \"legendgroup\": \"State=West Bengal\", \"locationmode\": \"ISO-3\", \"lon\": [87.855], \"marker\": {\"color\": \"#636efa\", \"size\": [3809], \"sizemode\": \"area\", \"sizeref\": 12.4375}, \"name\": \"State=West Bengal\", \"showlegend\": true, \"type\": \"scattergeo\"}, {\"geo\": \"geo\", \"hoverlabel\": {\"namelength\": 0}, \"hovertemplate\": \"<b>%{hovertext}</b><br><br>State=Nagaland<br>totalConfirmed=%{marker.size}<br>lat=%{lat}<br>lon=%{lon}\", \"hovertext\": [\"Nagaland\"], \"lat\": [26.1584], \"legendgroup\": \"State=Nagaland\", \"locationmode\": \"ISO-3\", \"lon\": [94.5624], \"marker\": {\"color\": \"#EF553B\", \"size\": [2101], \"sizemode\": \"area\", \"sizeref\": 12.4375}, \"name\": \"State=Nagaland\", \"showlegend\": true, \"type\": \"scattergeo\"}, {\"geo\": \"geo\", \"hoverlabel\": {\"namelength\": 0}, \"hovertemplate\": \"<b>%{hovertext}</b><br><br>State=Himachal Pradesh<br>totalConfirmed=%{marker.size}<br>lat=%{lat}<br>lon=%{lon}\", \"hovertext\": [\"Himachal Pradesh\"], \"lat\": [31.1048], \"legendgroup\": \"State=Himachal Pradesh\", \"locationmode\": \"ISO-3\", \"lon\": [77.1734], \"marker\": {\"color\": \"#00cc96\", \"size\": [4868], \"sizemode\": \"area\", \"sizeref\": 12.4375}, \"name\": \"State=Himachal Pradesh\", \"showlegend\": true, \"type\": \"scattergeo\"}, {\"geo\": \"geo\", \"hoverlabel\": {\"namelength\": 0}, \"hovertemplate\": \"<b>%{hovertext}</b><br><br>State=Sikkim<br>totalConfirmed=%{marker.size}<br>lat=%{lat}<br>lon=%{lon}\", \"hovertext\": [\"Sikkim\"], \"lat\": [27.533], \"legendgroup\": \"State=Sikkim\", \"locationmode\": \"ISO-3\", \"lon\": [88.5122], \"marker\": {\"color\": \"#ab63fa\", \"size\": [4699], \"sizemode\": \"area\", \"sizeref\": 12.4375}, \"name\": \"State=Sikkim\", \"showlegend\": true, \"type\": \"scattergeo\"}, {\"geo\": \"geo\", \"hoverlabel\": {\"namelength\": 0}, \"hovertemplate\": \"<b>%{hovertext}</b><br><br>State=Manipur<br>totalConfirmed=%{marker.size}<br>lat=%{lat}<br>lon=%{lon}\", \"hovertext\": [\"Manipur\"], \"lat\": [24.6637], \"legendgroup\": \"State=Manipur\", \"locationmode\": \"ISO-3\", \"lon\": [93.9063], \"marker\": {\"color\": \"#FFA15A\", \"size\": [3188], \"sizemode\": \"area\", \"sizeref\": 12.4375}, \"name\": \"State=Manipur\", \"showlegend\": true, \"type\": \"scattergeo\"}, {\"geo\": \"geo\", \"hoverlabel\": {\"namelength\": 0}, \"hovertemplate\": \"<b>%{hovertext}</b><br><br>State=Tripura<br>totalConfirmed=%{marker.size}<br>lat=%{lat}<br>lon=%{lon}\", \"hovertext\": [\"Tripura\"], \"lat\": [23.9408], \"legendgroup\": \"State=Tripura\", \"locationmode\": \"ISO-3\", \"lon\": [91.9882], \"marker\": {\"color\": \"#19d3f3\", \"size\": [4904], \"sizemode\": \"area\", \"sizeref\": 12.4375}, \"name\": \"State=Tripura\", \"showlegend\": true, \"type\": \"scattergeo\"}, {\"geo\": \"geo\", \"hoverlabel\": {\"namelength\": 0}, \"hovertemplate\": \"<b>%{hovertext}</b><br><br>State=Arunachal Pradesh<br>totalConfirmed=%{marker.size}<br>lat=%{lat}<br>lon=%{lon}\", \"hovertext\": [\"Arunachal Pradesh\"], \"lat\": [28.218000000000004], \"legendgroup\": \"State=Arunachal Pradesh\", \"locationmode\": \"ISO-3\", \"lon\": [94.7278], \"marker\": {\"color\": \"#FF6692\", \"size\": [834], \"sizemode\": \"area\", \"sizeref\": 12.4375}, \"name\": \"State=Arunachal Pradesh\", \"showlegend\": true, \"type\": \"scattergeo\"}, {\"geo\": \"geo\", \"hoverlabel\": {\"namelength\": 0}, \"hovertemplate\": \"<b>%{hovertext}</b><br><br>State=Meghalaya<br>totalConfirmed=%{marker.size}<br>lat=%{lat}<br>lon=%{lon}\", \"hovertext\": [\"Meghalaya\"], \"lat\": [25.467], \"legendgroup\": \"State=Meghalaya\", \"locationmode\": \"ISO-3\", \"lon\": [91.3662], \"marker\": {\"color\": \"#B6E880\", \"size\": [3128], \"sizemode\": \"area\", \"sizeref\": 12.4375}, \"name\": \"State=Meghalaya\", \"showlegend\": true, \"type\": \"scattergeo\"}, {\"geo\": \"geo\", \"hoverlabel\": {\"namelength\": 0}, \"hovertemplate\": \"<b>%{hovertext}</b><br><br>State=Mizoram<br>totalConfirmed=%{marker.size}<br>lat=%{lat}<br>lon=%{lon}\", \"hovertext\": [\"Mizoram\"], \"lat\": [23.1645], \"legendgroup\": \"State=Mizoram\", \"locationmode\": \"ISO-3\", \"lon\": [92.9376], \"marker\": {\"color\": \"#FF97FF\", \"size\": [4180], \"sizemode\": \"area\", \"sizeref\": 12.4375}, \"name\": \"State=Mizoram\", \"showlegend\": true, \"type\": \"scattergeo\"}],\n",
       "                        {\"geo\": {\"center\": {}, \"domain\": {\"x\": [0.0, 1.0], \"y\": [0.0, 1.0]}, \"projection\": {\"type\": \"natural earth\"}}, \"legend\": {\"itemsizing\": \"constant\", \"tracegroupgap\": 0}, \"margin\": {\"t\": 60}, \"template\": {\"data\": {\"bar\": [{\"error_x\": {\"color\": \"#2a3f5f\"}, \"error_y\": {\"color\": \"#2a3f5f\"}, \"marker\": {\"line\": {\"color\": \"#E5ECF6\", \"width\": 0.5}}, \"type\": \"bar\"}], \"barpolar\": [{\"marker\": {\"line\": {\"color\": \"#E5ECF6\", \"width\": 0.5}}, \"type\": \"barpolar\"}], \"carpet\": [{\"aaxis\": {\"endlinecolor\": \"#2a3f5f\", \"gridcolor\": \"white\", \"linecolor\": \"white\", \"minorgridcolor\": \"white\", \"startlinecolor\": \"#2a3f5f\"}, \"baxis\": {\"endlinecolor\": \"#2a3f5f\", \"gridcolor\": \"white\", \"linecolor\": \"white\", \"minorgridcolor\": \"white\", \"startlinecolor\": \"#2a3f5f\"}, \"type\": \"carpet\"}], \"choropleth\": [{\"colorbar\": {\"outlinewidth\": 0, \"ticks\": \"\"}, \"type\": \"choropleth\"}], \"contour\": [{\"colorbar\": {\"outlinewidth\": 0, \"ticks\": \"\"}, \"colorscale\": [[0.0, \"#0d0887\"], [0.1111111111111111, \"#46039f\"], [0.2222222222222222, \"#7201a8\"], [0.3333333333333333, \"#9c179e\"], [0.4444444444444444, \"#bd3786\"], [0.5555555555555556, \"#d8576b\"], [0.6666666666666666, \"#ed7953\"], [0.7777777777777778, \"#fb9f3a\"], [0.8888888888888888, \"#fdca26\"], [1.0, \"#f0f921\"]], \"type\": \"contour\"}], \"contourcarpet\": [{\"colorbar\": {\"outlinewidth\": 0, \"ticks\": \"\"}, \"type\": \"contourcarpet\"}], \"heatmap\": [{\"colorbar\": {\"outlinewidth\": 0, \"ticks\": \"\"}, \"colorscale\": [[0.0, \"#0d0887\"], [0.1111111111111111, \"#46039f\"], [0.2222222222222222, \"#7201a8\"], [0.3333333333333333, \"#9c179e\"], [0.4444444444444444, \"#bd3786\"], [0.5555555555555556, \"#d8576b\"], [0.6666666666666666, \"#ed7953\"], [0.7777777777777778, \"#fb9f3a\"], [0.8888888888888888, \"#fdca26\"], [1.0, \"#f0f921\"]], \"type\": \"heatmap\"}], \"heatmapgl\": [{\"colorbar\": {\"outlinewidth\": 0, \"ticks\": \"\"}, \"colorscale\": [[0.0, \"#0d0887\"], [0.1111111111111111, \"#46039f\"], [0.2222222222222222, \"#7201a8\"], [0.3333333333333333, \"#9c179e\"], [0.4444444444444444, \"#bd3786\"], [0.5555555555555556, \"#d8576b\"], [0.6666666666666666, \"#ed7953\"], [0.7777777777777778, \"#fb9f3a\"], [0.8888888888888888, \"#fdca26\"], [1.0, \"#f0f921\"]], \"type\": \"heatmapgl\"}], \"histogram\": [{\"marker\": {\"colorbar\": {\"outlinewidth\": 0, \"ticks\": \"\"}}, \"type\": \"histogram\"}], \"histogram2d\": [{\"colorbar\": {\"outlinewidth\": 0, \"ticks\": \"\"}, \"colorscale\": [[0.0, \"#0d0887\"], [0.1111111111111111, \"#46039f\"], [0.2222222222222222, \"#7201a8\"], [0.3333333333333333, \"#9c179e\"], [0.4444444444444444, \"#bd3786\"], [0.5555555555555556, \"#d8576b\"], [0.6666666666666666, \"#ed7953\"], [0.7777777777777778, \"#fb9f3a\"], [0.8888888888888888, \"#fdca26\"], [1.0, \"#f0f921\"]], \"type\": \"histogram2d\"}], \"histogram2dcontour\": [{\"colorbar\": {\"outlinewidth\": 0, \"ticks\": \"\"}, \"colorscale\": [[0.0, \"#0d0887\"], [0.1111111111111111, \"#46039f\"], [0.2222222222222222, \"#7201a8\"], [0.3333333333333333, \"#9c179e\"], [0.4444444444444444, \"#bd3786\"], [0.5555555555555556, \"#d8576b\"], [0.6666666666666666, \"#ed7953\"], [0.7777777777777778, \"#fb9f3a\"], [0.8888888888888888, \"#fdca26\"], [1.0, \"#f0f921\"]], \"type\": \"histogram2dcontour\"}], \"mesh3d\": [{\"colorbar\": {\"outlinewidth\": 0, \"ticks\": \"\"}, \"type\": \"mesh3d\"}], \"parcoords\": [{\"line\": {\"colorbar\": {\"outlinewidth\": 0, \"ticks\": \"\"}}, \"type\": \"parcoords\"}], \"pie\": [{\"automargin\": true, \"type\": \"pie\"}], \"scatter\": [{\"marker\": {\"colorbar\": {\"outlinewidth\": 0, \"ticks\": \"\"}}, \"type\": \"scatter\"}], \"scatter3d\": [{\"line\": {\"colorbar\": {\"outlinewidth\": 0, \"ticks\": \"\"}}, \"marker\": {\"colorbar\": {\"outlinewidth\": 0, \"ticks\": \"\"}}, \"type\": \"scatter3d\"}], \"scattercarpet\": [{\"marker\": {\"colorbar\": {\"outlinewidth\": 0, \"ticks\": \"\"}}, \"type\": \"scattercarpet\"}], \"scattergeo\": [{\"marker\": {\"colorbar\": {\"outlinewidth\": 0, \"ticks\": \"\"}}, \"type\": \"scattergeo\"}], \"scattergl\": [{\"marker\": {\"colorbar\": {\"outlinewidth\": 0, \"ticks\": \"\"}}, \"type\": \"scattergl\"}], \"scattermapbox\": [{\"marker\": {\"colorbar\": {\"outlinewidth\": 0, \"ticks\": \"\"}}, \"type\": \"scattermapbox\"}], \"scatterpolar\": [{\"marker\": {\"colorbar\": {\"outlinewidth\": 0, \"ticks\": \"\"}}, \"type\": \"scatterpolar\"}], \"scatterpolargl\": [{\"marker\": {\"colorbar\": {\"outlinewidth\": 0, \"ticks\": \"\"}}, \"type\": \"scatterpolargl\"}], \"scatterternary\": [{\"marker\": {\"colorbar\": {\"outlinewidth\": 0, \"ticks\": \"\"}}, \"type\": \"scatterternary\"}], \"surface\": [{\"colorbar\": {\"outlinewidth\": 0, \"ticks\": \"\"}, \"colorscale\": [[0.0, \"#0d0887\"], [0.1111111111111111, \"#46039f\"], [0.2222222222222222, \"#7201a8\"], [0.3333333333333333, \"#9c179e\"], [0.4444444444444444, \"#bd3786\"], [0.5555555555555556, \"#d8576b\"], [0.6666666666666666, \"#ed7953\"], [0.7777777777777778, \"#fb9f3a\"], [0.8888888888888888, \"#fdca26\"], [1.0, \"#f0f921\"]], \"type\": \"surface\"}], \"table\": [{\"cells\": {\"fill\": {\"color\": \"#EBF0F8\"}, \"line\": {\"color\": \"white\"}}, \"header\": {\"fill\": {\"color\": \"#C8D4E3\"}, \"line\": {\"color\": \"white\"}}, \"type\": \"table\"}]}, \"layout\": {\"annotationdefaults\": {\"arrowcolor\": \"#2a3f5f\", \"arrowhead\": 0, \"arrowwidth\": 1}, \"coloraxis\": {\"colorbar\": {\"outlinewidth\": 0, \"ticks\": \"\"}}, \"colorscale\": {\"diverging\": [[0, \"#8e0152\"], [0.1, \"#c51b7d\"], [0.2, \"#de77ae\"], [0.3, \"#f1b6da\"], [0.4, \"#fde0ef\"], [0.5, \"#f7f7f7\"], [0.6, \"#e6f5d0\"], [0.7, \"#b8e186\"], [0.8, \"#7fbc41\"], [0.9, \"#4d9221\"], [1, \"#276419\"]], \"sequential\": [[0.0, \"#0d0887\"], [0.1111111111111111, \"#46039f\"], [0.2222222222222222, \"#7201a8\"], [0.3333333333333333, \"#9c179e\"], [0.4444444444444444, \"#bd3786\"], [0.5555555555555556, \"#d8576b\"], [0.6666666666666666, \"#ed7953\"], [0.7777777777777778, \"#fb9f3a\"], [0.8888888888888888, \"#fdca26\"], [1.0, \"#f0f921\"]], \"sequentialminus\": [[0.0, \"#0d0887\"], [0.1111111111111111, \"#46039f\"], [0.2222222222222222, \"#7201a8\"], [0.3333333333333333, \"#9c179e\"], [0.4444444444444444, \"#bd3786\"], [0.5555555555555556, \"#d8576b\"], [0.6666666666666666, \"#ed7953\"], [0.7777777777777778, \"#fb9f3a\"], [0.8888888888888888, \"#fdca26\"], [1.0, \"#f0f921\"]]}, \"colorway\": [\"#636efa\", \"#EF553B\", \"#00cc96\", \"#ab63fa\", \"#FFA15A\", \"#19d3f3\", \"#FF6692\", \"#B6E880\", \"#FF97FF\", \"#FECB52\"], \"font\": {\"color\": \"#2a3f5f\"}, \"geo\": {\"bgcolor\": \"white\", \"lakecolor\": \"white\", \"landcolor\": \"#E5ECF6\", \"showlakes\": true, \"showland\": true, \"subunitcolor\": \"white\"}, \"hoverlabel\": {\"align\": \"left\"}, \"hovermode\": \"closest\", \"mapbox\": {\"style\": \"light\"}, \"paper_bgcolor\": \"white\", \"plot_bgcolor\": \"#E5ECF6\", \"polar\": {\"angularaxis\": {\"gridcolor\": \"white\", \"linecolor\": \"white\", \"ticks\": \"\"}, \"bgcolor\": \"#E5ECF6\", \"radialaxis\": {\"gridcolor\": \"white\", \"linecolor\": \"white\", \"ticks\": \"\"}}, \"scene\": {\"xaxis\": {\"backgroundcolor\": \"#E5ECF6\", \"gridcolor\": \"white\", \"gridwidth\": 2, \"linecolor\": \"white\", \"showbackground\": true, \"ticks\": \"\", \"zerolinecolor\": \"white\"}, \"yaxis\": {\"backgroundcolor\": \"#E5ECF6\", \"gridcolor\": \"white\", \"gridwidth\": 2, \"linecolor\": \"white\", \"showbackground\": true, \"ticks\": \"\", \"zerolinecolor\": \"white\"}, \"zaxis\": {\"backgroundcolor\": \"#E5ECF6\", \"gridcolor\": \"white\", \"gridwidth\": 2, \"linecolor\": \"white\", \"showbackground\": true, \"ticks\": \"\", \"zerolinecolor\": \"white\"}}, \"shapedefaults\": {\"line\": {\"color\": \"#2a3f5f\"}}, \"ternary\": {\"aaxis\": {\"gridcolor\": \"white\", \"linecolor\": \"white\", \"ticks\": \"\"}, \"baxis\": {\"gridcolor\": \"white\", \"linecolor\": \"white\", \"ticks\": \"\"}, \"bgcolor\": \"#E5ECF6\", \"caxis\": {\"gridcolor\": \"white\", \"linecolor\": \"white\", \"ticks\": \"\"}}, \"title\": {\"x\": 0.05}, \"xaxis\": {\"automargin\": true, \"gridcolor\": \"white\", \"linecolor\": \"white\", \"ticks\": \"\", \"title\": {\"standoff\": 15}, \"zerolinecolor\": \"white\", \"zerolinewidth\": 2}, \"yaxis\": {\"automargin\": true, \"gridcolor\": \"white\", \"linecolor\": \"white\", \"ticks\": \"\", \"title\": {\"standoff\": 15}, \"zerolinecolor\": \"white\", \"zerolinewidth\": 2}}}},\n",
       "                        {\"responsive\": true}\n",
       "                    ).then(function(){\n",
       "                            \n",
       "var gd = document.getElementById('6f159e21-6c7b-46e7-b8bc-7b606875b4ff');\n",
       "var x = new MutationObserver(function (mutations, observer) {{\n",
       "        var display = window.getComputedStyle(gd).display;\n",
       "        if (!display || display === 'none') {{\n",
       "            console.log([gd, 'removed!']);\n",
       "            Plotly.purge(gd);\n",
       "            observer.disconnect();\n",
       "        }}\n",
       "}});\n",
       "\n",
       "// Listen for the removal of the full notebook cells\n",
       "var notebookContainer = gd.closest('#notebook-container');\n",
       "if (notebookContainer) {{\n",
       "    x.observe(notebookContainer, {childList: true});\n",
       "}}\n",
       "\n",
       "// Listen for the clearing of the current output cell\n",
       "var outputEl = gd.closest('.output');\n",
       "if (outputEl) {{\n",
       "    x.observe(outputEl, {childList: true});\n",
       "}}\n",
       "\n",
       "                        })\n",
       "                };\n",
       "                });\n",
       "            </script>\n",
       "        </div>"
      ]
     },
     "metadata": {},
     "output_type": "display_data"
    }
   ],
   "source": [
    "import plotly.express as px\n",
    "# indian_states_df = px.data.gapminder().query(\"year==2007\")\n",
    "fig = px.scatter_geo(indian_states_df, lat='lat', lon='lon', color=\"State\",\n",
    "                     hover_name=\"State\", size=\"totalConfirmed\", locationmode='ISO-3',\n",
    "                     projection=\"natural earth\")\n",
    "fig.show()"
   ]
  },
  {
   "cell_type": "code",
   "execution_count": 47,
   "metadata": {},
   "outputs": [
    {
     "data": {
      "text/html": [
       "<div>\n",
       "<style scoped>\n",
       "    .dataframe tbody tr th:only-of-type {\n",
       "        vertical-align: middle;\n",
       "    }\n",
       "\n",
       "    .dataframe tbody tr th {\n",
       "        vertical-align: top;\n",
       "    }\n",
       "\n",
       "    .dataframe thead th {\n",
       "        text-align: right;\n",
       "    }\n",
       "</style>\n",
       "<table border=\"1\" class=\"dataframe\">\n",
       "  <thead>\n",
       "    <tr style=\"text-align: right;\">\n",
       "      <th></th>\n",
       "      <th>country</th>\n",
       "      <th>continent</th>\n",
       "      <th>year</th>\n",
       "      <th>lifeExp</th>\n",
       "      <th>pop</th>\n",
       "      <th>gdpPercap</th>\n",
       "      <th>iso_alpha</th>\n",
       "      <th>iso_num</th>\n",
       "    </tr>\n",
       "  </thead>\n",
       "  <tbody>\n",
       "    <tr>\n",
       "      <th>11</th>\n",
       "      <td>Afghanistan</td>\n",
       "      <td>Asia</td>\n",
       "      <td>2007</td>\n",
       "      <td>43.828</td>\n",
       "      <td>31889923</td>\n",
       "      <td>974.580338</td>\n",
       "      <td>AFG</td>\n",
       "      <td>4</td>\n",
       "    </tr>\n",
       "    <tr>\n",
       "      <th>23</th>\n",
       "      <td>Albania</td>\n",
       "      <td>Europe</td>\n",
       "      <td>2007</td>\n",
       "      <td>76.423</td>\n",
       "      <td>3600523</td>\n",
       "      <td>5937.029526</td>\n",
       "      <td>ALB</td>\n",
       "      <td>8</td>\n",
       "    </tr>\n",
       "    <tr>\n",
       "      <th>35</th>\n",
       "      <td>Algeria</td>\n",
       "      <td>Africa</td>\n",
       "      <td>2007</td>\n",
       "      <td>72.301</td>\n",
       "      <td>33333216</td>\n",
       "      <td>6223.367465</td>\n",
       "      <td>DZA</td>\n",
       "      <td>12</td>\n",
       "    </tr>\n",
       "    <tr>\n",
       "      <th>47</th>\n",
       "      <td>Angola</td>\n",
       "      <td>Africa</td>\n",
       "      <td>2007</td>\n",
       "      <td>42.731</td>\n",
       "      <td>12420476</td>\n",
       "      <td>4797.231267</td>\n",
       "      <td>AGO</td>\n",
       "      <td>24</td>\n",
       "    </tr>\n",
       "    <tr>\n",
       "      <th>59</th>\n",
       "      <td>Argentina</td>\n",
       "      <td>Americas</td>\n",
       "      <td>2007</td>\n",
       "      <td>75.320</td>\n",
       "      <td>40301927</td>\n",
       "      <td>12779.379640</td>\n",
       "      <td>ARG</td>\n",
       "      <td>32</td>\n",
       "    </tr>\n",
       "    <tr>\n",
       "      <th>...</th>\n",
       "      <td>...</td>\n",
       "      <td>...</td>\n",
       "      <td>...</td>\n",
       "      <td>...</td>\n",
       "      <td>...</td>\n",
       "      <td>...</td>\n",
       "      <td>...</td>\n",
       "      <td>...</td>\n",
       "    </tr>\n",
       "    <tr>\n",
       "      <th>1655</th>\n",
       "      <td>Vietnam</td>\n",
       "      <td>Asia</td>\n",
       "      <td>2007</td>\n",
       "      <td>74.249</td>\n",
       "      <td>85262356</td>\n",
       "      <td>2441.576404</td>\n",
       "      <td>VNM</td>\n",
       "      <td>704</td>\n",
       "    </tr>\n",
       "    <tr>\n",
       "      <th>1667</th>\n",
       "      <td>West Bank and Gaza</td>\n",
       "      <td>Asia</td>\n",
       "      <td>2007</td>\n",
       "      <td>73.422</td>\n",
       "      <td>4018332</td>\n",
       "      <td>3025.349798</td>\n",
       "      <td>PSE</td>\n",
       "      <td>275</td>\n",
       "    </tr>\n",
       "    <tr>\n",
       "      <th>1679</th>\n",
       "      <td>Yemen, Rep.</td>\n",
       "      <td>Asia</td>\n",
       "      <td>2007</td>\n",
       "      <td>62.698</td>\n",
       "      <td>22211743</td>\n",
       "      <td>2280.769906</td>\n",
       "      <td>YEM</td>\n",
       "      <td>887</td>\n",
       "    </tr>\n",
       "    <tr>\n",
       "      <th>1691</th>\n",
       "      <td>Zambia</td>\n",
       "      <td>Africa</td>\n",
       "      <td>2007</td>\n",
       "      <td>42.384</td>\n",
       "      <td>11746035</td>\n",
       "      <td>1271.211593</td>\n",
       "      <td>ZMB</td>\n",
       "      <td>894</td>\n",
       "    </tr>\n",
       "    <tr>\n",
       "      <th>1703</th>\n",
       "      <td>Zimbabwe</td>\n",
       "      <td>Africa</td>\n",
       "      <td>2007</td>\n",
       "      <td>43.487</td>\n",
       "      <td>12311143</td>\n",
       "      <td>469.709298</td>\n",
       "      <td>ZWE</td>\n",
       "      <td>716</td>\n",
       "    </tr>\n",
       "  </tbody>\n",
       "</table>\n",
       "<p>142 rows × 8 columns</p>\n",
       "</div>"
      ],
      "text/plain": [
       "                 country continent  year  lifeExp       pop     gdpPercap  \\\n",
       "11           Afghanistan      Asia  2007   43.828  31889923    974.580338   \n",
       "23               Albania    Europe  2007   76.423   3600523   5937.029526   \n",
       "35               Algeria    Africa  2007   72.301  33333216   6223.367465   \n",
       "47                Angola    Africa  2007   42.731  12420476   4797.231267   \n",
       "59             Argentina  Americas  2007   75.320  40301927  12779.379640   \n",
       "...                  ...       ...   ...      ...       ...           ...   \n",
       "1655             Vietnam      Asia  2007   74.249  85262356   2441.576404   \n",
       "1667  West Bank and Gaza      Asia  2007   73.422   4018332   3025.349798   \n",
       "1679         Yemen, Rep.      Asia  2007   62.698  22211743   2280.769906   \n",
       "1691              Zambia    Africa  2007   42.384  11746035   1271.211593   \n",
       "1703            Zimbabwe    Africa  2007   43.487  12311143    469.709298   \n",
       "\n",
       "     iso_alpha  iso_num  \n",
       "11         AFG        4  \n",
       "23         ALB        8  \n",
       "35         DZA       12  \n",
       "47         AGO       24  \n",
       "59         ARG       32  \n",
       "...        ...      ...  \n",
       "1655       VNM      704  \n",
       "1667       PSE      275  \n",
       "1679       YEM      887  \n",
       "1691       ZMB      894  \n",
       "1703       ZWE      716  \n",
       "\n",
       "[142 rows x 8 columns]"
      ]
     },
     "execution_count": 47,
     "metadata": {},
     "output_type": "execute_result"
    }
   ],
   "source": [
    "df = px.data.gapminder().query(\"year==2007\")\n",
    "df"
   ]
  },
  {
   "cell_type": "code",
   "execution_count": 50,
   "metadata": {},
   "outputs": [
    {
     "data": {
      "text/html": [
       "<div>\n",
       "<style scoped>\n",
       "    .dataframe tbody tr th:only-of-type {\n",
       "        vertical-align: middle;\n",
       "    }\n",
       "\n",
       "    .dataframe tbody tr th {\n",
       "        vertical-align: top;\n",
       "    }\n",
       "\n",
       "    .dataframe thead th {\n",
       "        text-align: right;\n",
       "    }\n",
       "</style>\n",
       "<table border=\"1\" class=\"dataframe\">\n",
       "  <thead>\n",
       "    <tr style=\"text-align: right;\">\n",
       "      <th></th>\n",
       "      <th>country</th>\n",
       "      <th>continent</th>\n",
       "      <th>year</th>\n",
       "      <th>lifeExp</th>\n",
       "      <th>pop</th>\n",
       "      <th>gdpPercap</th>\n",
       "      <th>iso_alpha</th>\n",
       "      <th>iso_num</th>\n",
       "    </tr>\n",
       "  </thead>\n",
       "  <tbody>\n",
       "    <tr>\n",
       "      <th>707</th>\n",
       "      <td>India</td>\n",
       "      <td>Asia</td>\n",
       "      <td>2007</td>\n",
       "      <td>64.698</td>\n",
       "      <td>1110396331</td>\n",
       "      <td>2452.210407</td>\n",
       "      <td>IND</td>\n",
       "      <td>356</td>\n",
       "    </tr>\n",
       "  </tbody>\n",
       "</table>\n",
       "</div>"
      ],
      "text/plain": [
       "    country continent  year  lifeExp         pop    gdpPercap iso_alpha  \\\n",
       "707   India      Asia  2007   64.698  1110396331  2452.210407       IND   \n",
       "\n",
       "     iso_num  \n",
       "707      356  "
      ]
     },
     "execution_count": 50,
     "metadata": {},
     "output_type": "execute_result"
    }
   ],
   "source": [
    "df[df['country'] == 'India']"
   ]
  },
  {
   "cell_type": "code",
   "execution_count": null,
   "metadata": {},
   "outputs": [],
   "source": []
  }
 ],
 "metadata": {
  "kernelspec": {
   "display_name": "Python 3",
   "language": "python",
   "name": "python3"
  },
  "language_info": {
   "codemirror_mode": {
    "name": "ipython",
    "version": 3
   },
   "file_extension": ".py",
   "mimetype": "text/x-python",
   "name": "python",
   "nbconvert_exporter": "python",
   "pygments_lexer": "ipython3",
   "version": "3.7.3"
  }
 },
 "nbformat": 4,
 "nbformat_minor": 2
}
