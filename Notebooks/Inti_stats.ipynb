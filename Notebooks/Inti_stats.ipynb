{
 "cells": [
  {
   "cell_type": "code",
   "execution_count": 9,
   "metadata": {},
   "outputs": [],
   "source": [
    "from bs4 import BeautifulSoup\n",
    "import requests\n",
    "from fetch import get_record, format_records\n",
    "from datetime import datetime, timedelta\n",
    "import time\n",
    "import json\n",
    "import re\n",
    "import argparse\n",
    "import pandas as pd"
   ]
  },
  {
   "cell_type": "code",
   "execution_count": 2,
   "metadata": {},
   "outputs": [],
   "source": [
    "response = requests.get('https://www.mohfw.gov.in/')\n",
    "if response.status_code != 200:\n",
    "    print(f\"{datetime.now()} : Server unresponsive!\")\n",
    "text = response.text\n",
    "soup = BeautifulSoup(text, \"lxml\")\n",
    "table = soup.find(text=\"S. No.\").find_parent(\"table\")\n",
    "rows = table.find_all(\"tr\")"
   ]
  },
  {
   "cell_type": "code",
   "execution_count": 10,
   "metadata": {},
   "outputs": [
    {
     "name": "stdout",
     "output_type": "stream",
     "text": [
      "['1', 'Andhra Pradesh', '3', '0', '0', '0']\n",
      "['2', 'Chhattisgarh', '1', '0', '0', '0']\n",
      "['3', 'Delhi', '16', '1', '5', '1']\n",
      "['4', 'Gujarat', '5', '0', '0', '0']\n",
      "['5', 'Haryana', '3', '14', '0', '0']\n",
      "['6', 'Karnataka', '15', '0', '1', '1']\n",
      "['7', 'Kerala', '26', '2', '3', '0']\n",
      "['8', 'Maharashtra', '49', '3', '0', '1']\n",
      "['9', 'Odisha', '2', '0', '0', '0']\n",
      "['10', 'Puducherry', '1', '0', '0', '0']\n",
      "['11', 'Punjab', '2', '0', '0', '1']\n",
      "['12', 'Rajasthan', '15', '2', '3', '0']\n",
      "['13', 'Tamil Nadu', '3', '0', '1', '0']\n",
      "['14', 'Telengana', '8', '9', '1', '0']\n",
      "['15', 'Union Territory of Chandigarh', '1', '0', '0', '0']\n",
      "['16', 'Union Territory of Jammu and Kashmir', '4', '0', '0', '0']\n",
      "['17', 'Union Territory of Ladakh', '10', '0', '0', '0']\n",
      "['18', 'Uttar Pradesh', '22', '1', '9', '0']\n",
      "['19', 'Uttarakhand', '3', '0', '0', '0']\n",
      "['20', 'West Bengal', '2', '0', '0', '0']\n"
     ]
    }
   ],
   "source": [
    "list_state =[]\n",
    "for tr in rows:\n",
    "    td = tr.find_all('td')\n",
    "    row = [tr.text for tr in td]\n",
    "    if len(row) != 0 and row[0].isdigit():\n",
    "        print(row)\n",
    "        list_state.append(row)\n",
    "        \n",
    "new_df = pd.DataFrame(columns=['Sno', 'StateOrUt','TotalConfirmedCasesInIndia','TotalConfirmedCasesForeignNational','Cured','Death'], data=list_state)"
   ]
  },
  {
   "cell_type": "code",
   "execution_count": 51,
   "metadata": {},
   "outputs": [
    {
     "name": "stdout",
     "output_type": "stream",
     "text": [
      "['Total number of confirmed cases in India', '191 #', '\\n32 #\\n', '\\n23\\n', '\\n4\\n']\n"
     ]
    }
   ],
   "source": [
    "confirmed = -1\n",
    "recovered = -1\n",
    "death =-1\n",
    "for tr in rows:\n",
    "    td = tr.find_all('td')\n",
    "    row = [tr.text for tr in td]\n",
    "    if len(row) != 0 and not row[0].isdigit():\n",
    "        if row[0] in ['Total number of confirmed cases in India']:\n",
    "            print(row)\n",
    "            confirmed = re.sub('[^0-9,.]', '', row[1])\n",
    "            recovered = re.sub('[^0-9,.]', '', row[3])\n",
    "            death = re.sub('[^0-9,.]', '', row[4])\n",
    "#     if( row[0] in ['Total number of confirmed cases in India']):\n",
    "#         print(row)"
   ]
  },
  {
   "cell_type": "code",
   "execution_count": 52,
   "metadata": {},
   "outputs": [
    {
     "name": "stdout",
     "output_type": "stream",
     "text": [
      "['191', '23', '4']\n"
     ]
    }
   ],
   "source": [
    "print([confirmed,recovered,death])"
   ]
  }
 ],
 "metadata": {
  "kernelspec": {
   "display_name": "Python 3",
   "language": "python",
   "name": "python3"
  },
  "language_info": {
   "codemirror_mode": {
    "name": "ipython",
    "version": 3
   },
   "file_extension": ".py",
   "mimetype": "text/x-python",
   "name": "python",
   "nbconvert_exporter": "python",
   "pygments_lexer": "ipython3",
   "version": "3.7.4"
  }
 },
 "nbformat": 4,
 "nbformat_minor": 4
}
