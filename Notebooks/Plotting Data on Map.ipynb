{
 "cells": [
  {
   "cell_type": "code",
   "execution_count": 70,
   "metadata": {},
   "outputs": [],
   "source": [
    "import requests\n",
    "\n",
    "resp = requests.get('https://indiapicororno.herokuapp.com/statesstatus')\n",
    "if resp.status_code != 200:\n",
    "    # This means something went wrong.\n",
    "    raise ApiError('GET /tasks/ {}'.format(resp.status_code))"
   ]
  },
  {
   "cell_type": "code",
   "execution_count": 71,
   "metadata": {
    "scrolled": true
   },
   "outputs": [
    {
     "data": {
      "text/html": [
       "<div>\n",
       "<style scoped>\n",
       "    .dataframe tbody tr th:only-of-type {\n",
       "        vertical-align: middle;\n",
       "    }\n",
       "\n",
       "    .dataframe tbody tr th {\n",
       "        vertical-align: top;\n",
       "    }\n",
       "\n",
       "    .dataframe thead th {\n",
       "        text-align: right;\n",
       "    }\n",
       "</style>\n",
       "<table border=\"1\" class=\"dataframe\">\n",
       "  <thead>\n",
       "    <tr style=\"text-align: right;\">\n",
       "      <th></th>\n",
       "      <th>0</th>\n",
       "      <th>1</th>\n",
       "      <th>2</th>\n",
       "      <th>3</th>\n",
       "      <th>4</th>\n",
       "      <th>5</th>\n",
       "    </tr>\n",
       "  </thead>\n",
       "  <tbody>\n",
       "    <tr>\n",
       "      <th>0</th>\n",
       "      <td>1</td>\n",
       "      <td>Andhra Pradesh</td>\n",
       "      <td>3</td>\n",
       "      <td>0</td>\n",
       "      <td>0</td>\n",
       "      <td>0</td>\n",
       "    </tr>\n",
       "    <tr>\n",
       "      <th>1</th>\n",
       "      <td>2</td>\n",
       "      <td>Chhattisgarh</td>\n",
       "      <td>1</td>\n",
       "      <td>0</td>\n",
       "      <td>0</td>\n",
       "      <td>0</td>\n",
       "    </tr>\n",
       "    <tr>\n",
       "      <th>2</th>\n",
       "      <td>3</td>\n",
       "      <td>Delhi</td>\n",
       "      <td>16</td>\n",
       "      <td>1</td>\n",
       "      <td>5</td>\n",
       "      <td>1</td>\n",
       "    </tr>\n",
       "    <tr>\n",
       "      <th>3</th>\n",
       "      <td>4</td>\n",
       "      <td>Gujarat</td>\n",
       "      <td>5</td>\n",
       "      <td>0</td>\n",
       "      <td>0</td>\n",
       "      <td>0</td>\n",
       "    </tr>\n",
       "    <tr>\n",
       "      <th>4</th>\n",
       "      <td>5</td>\n",
       "      <td>Haryana</td>\n",
       "      <td>3</td>\n",
       "      <td>14</td>\n",
       "      <td>0</td>\n",
       "      <td>0</td>\n",
       "    </tr>\n",
       "  </tbody>\n",
       "</table>\n",
       "</div>"
      ],
      "text/plain": [
       "   0               1   2   3  4  5\n",
       "0  1  Andhra Pradesh   3   0  0  0\n",
       "1  2    Chhattisgarh   1   0  0  0\n",
       "2  3           Delhi  16   1  5  1\n",
       "3  4         Gujarat   5   0  0  0\n",
       "4  5         Haryana   3  14  0  0"
      ]
     },
     "execution_count": 71,
     "metadata": {},
     "output_type": "execute_result"
    }
   ],
   "source": [
    "response_dict = resp.json()\n",
    "response_df = pd.DataFrame.from_records(response_dict)\n",
    "response_df.head()"
   ]
  },
  {
   "cell_type": "code",
   "execution_count": 72,
   "metadata": {
    "scrolled": true
   },
   "outputs": [
    {
     "data": {
      "text/html": [
       "<div>\n",
       "<style scoped>\n",
       "    .dataframe tbody tr th:only-of-type {\n",
       "        vertical-align: middle;\n",
       "    }\n",
       "\n",
       "    .dataframe tbody tr th {\n",
       "        vertical-align: top;\n",
       "    }\n",
       "\n",
       "    .dataframe thead th {\n",
       "        text-align: right;\n",
       "    }\n",
       "</style>\n",
       "<table border=\"1\" class=\"dataframe\">\n",
       "  <thead>\n",
       "    <tr style=\"text-align: right;\">\n",
       "      <th></th>\n",
       "      <th>State</th>\n",
       "      <th>lat</th>\n",
       "      <th>lon</th>\n",
       "    </tr>\n",
       "  </thead>\n",
       "  <tbody>\n",
       "    <tr>\n",
       "      <th>0</th>\n",
       "      <td>Rajasthan</td>\n",
       "      <td>27.0238</td>\n",
       "      <td>74.2179</td>\n",
       "    </tr>\n",
       "    <tr>\n",
       "      <th>1</th>\n",
       "      <td>Kerala</td>\n",
       "      <td>10.8505</td>\n",
       "      <td>76.2711</td>\n",
       "    </tr>\n",
       "    <tr>\n",
       "      <th>2</th>\n",
       "      <td>Maharashtra</td>\n",
       "      <td>19.7515</td>\n",
       "      <td>75.7139</td>\n",
       "    </tr>\n",
       "    <tr>\n",
       "      <th>3</th>\n",
       "      <td>Goa</td>\n",
       "      <td>15.2993</td>\n",
       "      <td>74.1240</td>\n",
       "    </tr>\n",
       "    <tr>\n",
       "      <th>4</th>\n",
       "      <td>Union Territory of Jammu and Kashmir</td>\n",
       "      <td>33.7782</td>\n",
       "      <td>76.5762</td>\n",
       "    </tr>\n",
       "  </tbody>\n",
       "</table>\n",
       "</div>"
      ],
      "text/plain": [
       "                                  State      lat      lon\n",
       "0                             Rajasthan  27.0238  74.2179\n",
       "1                                Kerala  10.8505  76.2711\n",
       "2                           Maharashtra  19.7515  75.7139\n",
       "3                                   Goa  15.2993  74.1240\n",
       "4  Union Territory of Jammu and Kashmir  33.7782  76.5762"
      ]
     },
     "execution_count": 72,
     "metadata": {},
     "output_type": "execute_result"
    }
   ],
   "source": [
    "indian_states_df = pd.read_csv('../data/Indian_States.csv')\n",
    "indian_states_df.head()"
   ]
  },
  {
   "cell_type": "code",
   "execution_count": 73,
   "metadata": {
    "scrolled": true
   },
   "outputs": [
    {
     "data": {
      "text/html": [
       "<div>\n",
       "<style scoped>\n",
       "    .dataframe tbody tr th:only-of-type {\n",
       "        vertical-align: middle;\n",
       "    }\n",
       "\n",
       "    .dataframe tbody tr th {\n",
       "        vertical-align: top;\n",
       "    }\n",
       "\n",
       "    .dataframe thead th {\n",
       "        text-align: right;\n",
       "    }\n",
       "</style>\n",
       "<table border=\"1\" class=\"dataframe\">\n",
       "  <thead>\n",
       "    <tr style=\"text-align: right;\">\n",
       "      <th></th>\n",
       "      <th>State</th>\n",
       "      <th>lat</th>\n",
       "      <th>lon</th>\n",
       "      <th>TotalConfirmedCasesInIndia</th>\n",
       "      <th>TotalConfirmedCasesForeignNational</th>\n",
       "      <th>Cured</th>\n",
       "      <th>Death</th>\n",
       "    </tr>\n",
       "  </thead>\n",
       "  <tbody>\n",
       "    <tr>\n",
       "      <th>2</th>\n",
       "      <td>Maharashtra</td>\n",
       "      <td>19.7515</td>\n",
       "      <td>75.7139</td>\n",
       "      <td>49</td>\n",
       "      <td>3</td>\n",
       "      <td>0</td>\n",
       "      <td>1</td>\n",
       "    </tr>\n",
       "    <tr>\n",
       "      <th>1</th>\n",
       "      <td>Kerala</td>\n",
       "      <td>10.8505</td>\n",
       "      <td>76.2711</td>\n",
       "      <td>26</td>\n",
       "      <td>2</td>\n",
       "      <td>3</td>\n",
       "      <td>0</td>\n",
       "    </tr>\n",
       "    <tr>\n",
       "      <th>8</th>\n",
       "      <td>Uttar Pradesh</td>\n",
       "      <td>26.8467</td>\n",
       "      <td>80.9462</td>\n",
       "      <td>22</td>\n",
       "      <td>1</td>\n",
       "      <td>9</td>\n",
       "      <td>0</td>\n",
       "    </tr>\n",
       "    <tr>\n",
       "      <th>0</th>\n",
       "      <td>Rajasthan</td>\n",
       "      <td>27.0238</td>\n",
       "      <td>74.2179</td>\n",
       "      <td>15</td>\n",
       "      <td>2</td>\n",
       "      <td>3</td>\n",
       "      <td>0</td>\n",
       "    </tr>\n",
       "    <tr>\n",
       "      <th>5</th>\n",
       "      <td>Karnataka</td>\n",
       "      <td>15.3173</td>\n",
       "      <td>75.7139</td>\n",
       "      <td>15</td>\n",
       "      <td>0</td>\n",
       "      <td>1</td>\n",
       "      <td>1</td>\n",
       "    </tr>\n",
       "  </tbody>\n",
       "</table>\n",
       "</div>"
      ],
      "text/plain": [
       "           State      lat      lon  TotalConfirmedCasesInIndia  \\\n",
       "2    Maharashtra  19.7515  75.7139                          49   \n",
       "1         Kerala  10.8505  76.2711                          26   \n",
       "8  Uttar Pradesh  26.8467  80.9462                          22   \n",
       "0      Rajasthan  27.0238  74.2179                          15   \n",
       "5      Karnataka  15.3173  75.7139                          15   \n",
       "\n",
       "   TotalConfirmedCasesForeignNational  Cured  Death  \n",
       "2                                   3      0      1  \n",
       "1                                   2      3      0  \n",
       "8                                   1      9      0  \n",
       "0                                   2      3      0  \n",
       "5                                   0      1      1  "
      ]
     },
     "execution_count": 73,
     "metadata": {},
     "output_type": "execute_result"
    }
   ],
   "source": [
    "def read_state_info(row):\n",
    "    state = row['State']\n",
    "    target_row = response_df[response_df[1] == state]\n",
    "    if not target_row.empty:\n",
    "        row['TotalConfirmedCasesInIndia'] = int(target_row[2].values[0])\n",
    "        row['TotalConfirmedCasesForeignNational'] = int(target_row[3].values[0])\n",
    "        row['Cured'] = int(target_row[4].values[0])\n",
    "        row['Death'] = int(target_row[5].values[0])\n",
    "    else:\n",
    "        row['TotalConfirmedCasesInIndia'] = 0\n",
    "        row['TotalConfirmedCasesForeignNational'] = 0\n",
    "        row['Cured'] = 0\n",
    "        row['Death'] = 0\n",
    "    \n",
    "    return row\n",
    "\n",
    "indian_states_corona_df = indian_states_df.apply(lambda x: read_state_info(x), axis=1)\n",
    "indian_states_corona_df = indian_states_corona_df.sort_values('TotalConfirmedCasesInIndia', ascending=False)\n",
    "indian_states_corona_df.head()"
   ]
  },
  {
   "cell_type": "code",
   "execution_count": 74,
   "metadata": {
    "scrolled": true
   },
   "outputs": [
    {
     "data": {
      "application/vnd.plotly.v1+json": {
       "config": {
        "plotlyServerURL": "https://plot.ly"
       },
       "data": [
        {
         "customdata": [
          [
           49,
           3,
           0,
           1
          ],
          [
           26,
           2,
           3,
           0
          ],
          [
           22,
           1,
           9,
           0
          ],
          [
           15,
           2,
           3,
           0
          ],
          [
           15,
           0,
           1,
           1
          ],
          [
           10,
           0,
           0,
           0
          ],
          [
           5,
           0,
           0,
           0
          ],
          [
           4,
           0,
           0,
           0
          ],
          [
           3,
           0,
           1,
           0
          ],
          [
           3,
           0,
           0,
           0
          ],
          [
           3,
           14,
           0,
           0
          ],
          [
           3,
           0,
           0,
           0
          ],
          [
           2,
           0,
           0,
           0
          ],
          [
           2,
           0,
           0,
           0
          ],
          [
           1,
           0,
           0,
           0
          ],
          [
           1,
           0,
           0,
           0
          ],
          [
           1,
           0,
           0,
           0
          ],
          [
           0,
           0,
           0,
           0
          ],
          [
           0,
           0,
           0,
           0
          ],
          [
           0,
           0,
           0,
           0
          ],
          [
           0,
           0,
           0,
           0
          ],
          [
           0,
           0,
           0,
           0
          ],
          [
           0,
           0,
           0,
           0
          ],
          [
           0,
           0,
           0,
           0
          ],
          [
           0,
           0,
           0,
           0
          ],
          [
           0,
           0,
           0,
           0
          ],
          [
           0,
           0,
           0,
           0
          ],
          [
           0,
           0,
           0,
           0
          ],
          [
           0,
           0,
           0,
           0
          ],
          [
           0,
           0,
           0,
           0
          ],
          [
           0,
           0,
           0,
           0
          ]
         ],
         "hoverlabel": {
          "namelength": 0
         },
         "hovertemplate": "<b>%{hovertext}</b><br><br>TotalConfirmedCasesInIndia=%{customdata[0]}<br>TotalConfirmedCasesForeignNational=%{customdata[1]}<br>Cured=%{customdata[2]}<br>Death=%{customdata[3]}<br>lat=%{lat}<br>lon=%{lon}",
         "hovertext": [
          "Maharashtra",
          "Kerala",
          "Uttar Pradesh",
          "Rajasthan",
          "Karnataka",
          "Union Territory of Ladakh",
          "Gujarat",
          "Union Territory of Jammu and Kashmir",
          "Tamil Nadu",
          "Uttarakhand",
          "Haryana",
          "Andhra Pradesh",
          "West Bengal",
          "Odisha",
          "Chhattisgarh",
          "Puducherry",
          "Union Territory of Chandigarh",
          "Sikkim",
          "Mizoram",
          "Meghalaya",
          "Arunachal Pradesh",
          "Tripura",
          "Manipur",
          "Telangana",
          "Goa",
          "Nagaland",
          "Bihar",
          "Jharkhand",
          "Madhya Pradesh",
          "Assam",
          "Himachal Pradesh"
         ],
         "lat": [
          19.7515,
          10.8505,
          26.8467,
          27.0238,
          15.3173,
          34.209515,
          22.2587,
          33.7782,
          11.1271,
          30.0668,
          29.0588,
          15.9129,
          22.9868,
          20.9517,
          21.2787,
          11.9416,
          31.1471,
          27.533,
          23.1645,
          25.467,
          28.218000000000004,
          23.9408,
          24.6637,
          18.1124,
          15.2993,
          26.1584,
          25.0961,
          23.6102,
          22.9734,
          26.2006,
          31.1048
         ],
         "legendgroup": "",
         "lon": [
          75.7139,
          76.2711,
          80.9462,
          74.2179,
          75.7139,
          77.615112,
          71.1924,
          76.5762,
          78.6569,
          79.0193,
          76.0856,
          79.74,
          87.855,
          85.0985,
          81.8661,
          79.8083,
          75.3412,
          88.5122,
          92.9376,
          91.3662,
          94.7278,
          91.9882,
          93.9063,
          79.0193,
          74.124,
          94.5624,
          85.3131,
          85.2799,
          78.6569,
          92.9376,
          77.1734
         ],
         "marker": {
          "color": "fuchsia"
         },
         "mode": "markers",
         "name": "",
         "showlegend": false,
         "subplot": "mapbox",
         "type": "scattermapbox"
        }
       ],
       "layout": {
        "height": 300,
        "legend": {
         "tracegroupgap": 0
        },
        "mapbox": {
         "center": {
          "lat": 23.420965,
          "lon": 82.3297584516129
         },
         "domain": {
          "x": [
           0,
           1
          ],
          "y": [
           0,
           1
          ]
         },
         "style": "open-street-map",
         "zoom": 3
        },
        "margin": {
         "b": 0,
         "l": 0,
         "r": 0,
         "t": 0
        },
        "template": {
         "data": {
          "bar": [
           {
            "error_x": {
             "color": "#2a3f5f"
            },
            "error_y": {
             "color": "#2a3f5f"
            },
            "marker": {
             "line": {
              "color": "#E5ECF6",
              "width": 0.5
             }
            },
            "type": "bar"
           }
          ],
          "barpolar": [
           {
            "marker": {
             "line": {
              "color": "#E5ECF6",
              "width": 0.5
             }
            },
            "type": "barpolar"
           }
          ],
          "carpet": [
           {
            "aaxis": {
             "endlinecolor": "#2a3f5f",
             "gridcolor": "white",
             "linecolor": "white",
             "minorgridcolor": "white",
             "startlinecolor": "#2a3f5f"
            },
            "baxis": {
             "endlinecolor": "#2a3f5f",
             "gridcolor": "white",
             "linecolor": "white",
             "minorgridcolor": "white",
             "startlinecolor": "#2a3f5f"
            },
            "type": "carpet"
           }
          ],
          "choropleth": [
           {
            "colorbar": {
             "outlinewidth": 0,
             "ticks": ""
            },
            "type": "choropleth"
           }
          ],
          "contour": [
           {
            "colorbar": {
             "outlinewidth": 0,
             "ticks": ""
            },
            "colorscale": [
             [
              0,
              "#0d0887"
             ],
             [
              0.1111111111111111,
              "#46039f"
             ],
             [
              0.2222222222222222,
              "#7201a8"
             ],
             [
              0.3333333333333333,
              "#9c179e"
             ],
             [
              0.4444444444444444,
              "#bd3786"
             ],
             [
              0.5555555555555556,
              "#d8576b"
             ],
             [
              0.6666666666666666,
              "#ed7953"
             ],
             [
              0.7777777777777778,
              "#fb9f3a"
             ],
             [
              0.8888888888888888,
              "#fdca26"
             ],
             [
              1,
              "#f0f921"
             ]
            ],
            "type": "contour"
           }
          ],
          "contourcarpet": [
           {
            "colorbar": {
             "outlinewidth": 0,
             "ticks": ""
            },
            "type": "contourcarpet"
           }
          ],
          "heatmap": [
           {
            "colorbar": {
             "outlinewidth": 0,
             "ticks": ""
            },
            "colorscale": [
             [
              0,
              "#0d0887"
             ],
             [
              0.1111111111111111,
              "#46039f"
             ],
             [
              0.2222222222222222,
              "#7201a8"
             ],
             [
              0.3333333333333333,
              "#9c179e"
             ],
             [
              0.4444444444444444,
              "#bd3786"
             ],
             [
              0.5555555555555556,
              "#d8576b"
             ],
             [
              0.6666666666666666,
              "#ed7953"
             ],
             [
              0.7777777777777778,
              "#fb9f3a"
             ],
             [
              0.8888888888888888,
              "#fdca26"
             ],
             [
              1,
              "#f0f921"
             ]
            ],
            "type": "heatmap"
           }
          ],
          "heatmapgl": [
           {
            "colorbar": {
             "outlinewidth": 0,
             "ticks": ""
            },
            "colorscale": [
             [
              0,
              "#0d0887"
             ],
             [
              0.1111111111111111,
              "#46039f"
             ],
             [
              0.2222222222222222,
              "#7201a8"
             ],
             [
              0.3333333333333333,
              "#9c179e"
             ],
             [
              0.4444444444444444,
              "#bd3786"
             ],
             [
              0.5555555555555556,
              "#d8576b"
             ],
             [
              0.6666666666666666,
              "#ed7953"
             ],
             [
              0.7777777777777778,
              "#fb9f3a"
             ],
             [
              0.8888888888888888,
              "#fdca26"
             ],
             [
              1,
              "#f0f921"
             ]
            ],
            "type": "heatmapgl"
           }
          ],
          "histogram": [
           {
            "marker": {
             "colorbar": {
              "outlinewidth": 0,
              "ticks": ""
             }
            },
            "type": "histogram"
           }
          ],
          "histogram2d": [
           {
            "colorbar": {
             "outlinewidth": 0,
             "ticks": ""
            },
            "colorscale": [
             [
              0,
              "#0d0887"
             ],
             [
              0.1111111111111111,
              "#46039f"
             ],
             [
              0.2222222222222222,
              "#7201a8"
             ],
             [
              0.3333333333333333,
              "#9c179e"
             ],
             [
              0.4444444444444444,
              "#bd3786"
             ],
             [
              0.5555555555555556,
              "#d8576b"
             ],
             [
              0.6666666666666666,
              "#ed7953"
             ],
             [
              0.7777777777777778,
              "#fb9f3a"
             ],
             [
              0.8888888888888888,
              "#fdca26"
             ],
             [
              1,
              "#f0f921"
             ]
            ],
            "type": "histogram2d"
           }
          ],
          "histogram2dcontour": [
           {
            "colorbar": {
             "outlinewidth": 0,
             "ticks": ""
            },
            "colorscale": [
             [
              0,
              "#0d0887"
             ],
             [
              0.1111111111111111,
              "#46039f"
             ],
             [
              0.2222222222222222,
              "#7201a8"
             ],
             [
              0.3333333333333333,
              "#9c179e"
             ],
             [
              0.4444444444444444,
              "#bd3786"
             ],
             [
              0.5555555555555556,
              "#d8576b"
             ],
             [
              0.6666666666666666,
              "#ed7953"
             ],
             [
              0.7777777777777778,
              "#fb9f3a"
             ],
             [
              0.8888888888888888,
              "#fdca26"
             ],
             [
              1,
              "#f0f921"
             ]
            ],
            "type": "histogram2dcontour"
           }
          ],
          "mesh3d": [
           {
            "colorbar": {
             "outlinewidth": 0,
             "ticks": ""
            },
            "type": "mesh3d"
           }
          ],
          "parcoords": [
           {
            "line": {
             "colorbar": {
              "outlinewidth": 0,
              "ticks": ""
             }
            },
            "type": "parcoords"
           }
          ],
          "pie": [
           {
            "automargin": true,
            "type": "pie"
           }
          ],
          "scatter": [
           {
            "marker": {
             "colorbar": {
              "outlinewidth": 0,
              "ticks": ""
             }
            },
            "type": "scatter"
           }
          ],
          "scatter3d": [
           {
            "line": {
             "colorbar": {
              "outlinewidth": 0,
              "ticks": ""
             }
            },
            "marker": {
             "colorbar": {
              "outlinewidth": 0,
              "ticks": ""
             }
            },
            "type": "scatter3d"
           }
          ],
          "scattercarpet": [
           {
            "marker": {
             "colorbar": {
              "outlinewidth": 0,
              "ticks": ""
             }
            },
            "type": "scattercarpet"
           }
          ],
          "scattergeo": [
           {
            "marker": {
             "colorbar": {
              "outlinewidth": 0,
              "ticks": ""
             }
            },
            "type": "scattergeo"
           }
          ],
          "scattergl": [
           {
            "marker": {
             "colorbar": {
              "outlinewidth": 0,
              "ticks": ""
             }
            },
            "type": "scattergl"
           }
          ],
          "scattermapbox": [
           {
            "marker": {
             "colorbar": {
              "outlinewidth": 0,
              "ticks": ""
             }
            },
            "type": "scattermapbox"
           }
          ],
          "scatterpolar": [
           {
            "marker": {
             "colorbar": {
              "outlinewidth": 0,
              "ticks": ""
             }
            },
            "type": "scatterpolar"
           }
          ],
          "scatterpolargl": [
           {
            "marker": {
             "colorbar": {
              "outlinewidth": 0,
              "ticks": ""
             }
            },
            "type": "scatterpolargl"
           }
          ],
          "scatterternary": [
           {
            "marker": {
             "colorbar": {
              "outlinewidth": 0,
              "ticks": ""
             }
            },
            "type": "scatterternary"
           }
          ],
          "surface": [
           {
            "colorbar": {
             "outlinewidth": 0,
             "ticks": ""
            },
            "colorscale": [
             [
              0,
              "#0d0887"
             ],
             [
              0.1111111111111111,
              "#46039f"
             ],
             [
              0.2222222222222222,
              "#7201a8"
             ],
             [
              0.3333333333333333,
              "#9c179e"
             ],
             [
              0.4444444444444444,
              "#bd3786"
             ],
             [
              0.5555555555555556,
              "#d8576b"
             ],
             [
              0.6666666666666666,
              "#ed7953"
             ],
             [
              0.7777777777777778,
              "#fb9f3a"
             ],
             [
              0.8888888888888888,
              "#fdca26"
             ],
             [
              1,
              "#f0f921"
             ]
            ],
            "type": "surface"
           }
          ],
          "table": [
           {
            "cells": {
             "fill": {
              "color": "#EBF0F8"
             },
             "line": {
              "color": "white"
             }
            },
            "header": {
             "fill": {
              "color": "#C8D4E3"
             },
             "line": {
              "color": "white"
             }
            },
            "type": "table"
           }
          ]
         },
         "layout": {
          "annotationdefaults": {
           "arrowcolor": "#2a3f5f",
           "arrowhead": 0,
           "arrowwidth": 1
          },
          "coloraxis": {
           "colorbar": {
            "outlinewidth": 0,
            "ticks": ""
           }
          },
          "colorscale": {
           "diverging": [
            [
             0,
             "#8e0152"
            ],
            [
             0.1,
             "#c51b7d"
            ],
            [
             0.2,
             "#de77ae"
            ],
            [
             0.3,
             "#f1b6da"
            ],
            [
             0.4,
             "#fde0ef"
            ],
            [
             0.5,
             "#f7f7f7"
            ],
            [
             0.6,
             "#e6f5d0"
            ],
            [
             0.7,
             "#b8e186"
            ],
            [
             0.8,
             "#7fbc41"
            ],
            [
             0.9,
             "#4d9221"
            ],
            [
             1,
             "#276419"
            ]
           ],
           "sequential": [
            [
             0,
             "#0d0887"
            ],
            [
             0.1111111111111111,
             "#46039f"
            ],
            [
             0.2222222222222222,
             "#7201a8"
            ],
            [
             0.3333333333333333,
             "#9c179e"
            ],
            [
             0.4444444444444444,
             "#bd3786"
            ],
            [
             0.5555555555555556,
             "#d8576b"
            ],
            [
             0.6666666666666666,
             "#ed7953"
            ],
            [
             0.7777777777777778,
             "#fb9f3a"
            ],
            [
             0.8888888888888888,
             "#fdca26"
            ],
            [
             1,
             "#f0f921"
            ]
           ],
           "sequentialminus": [
            [
             0,
             "#0d0887"
            ],
            [
             0.1111111111111111,
             "#46039f"
            ],
            [
             0.2222222222222222,
             "#7201a8"
            ],
            [
             0.3333333333333333,
             "#9c179e"
            ],
            [
             0.4444444444444444,
             "#bd3786"
            ],
            [
             0.5555555555555556,
             "#d8576b"
            ],
            [
             0.6666666666666666,
             "#ed7953"
            ],
            [
             0.7777777777777778,
             "#fb9f3a"
            ],
            [
             0.8888888888888888,
             "#fdca26"
            ],
            [
             1,
             "#f0f921"
            ]
           ]
          },
          "colorway": [
           "#636efa",
           "#EF553B",
           "#00cc96",
           "#ab63fa",
           "#FFA15A",
           "#19d3f3",
           "#FF6692",
           "#B6E880",
           "#FF97FF",
           "#FECB52"
          ],
          "font": {
           "color": "#2a3f5f"
          },
          "geo": {
           "bgcolor": "white",
           "lakecolor": "white",
           "landcolor": "#E5ECF6",
           "showlakes": true,
           "showland": true,
           "subunitcolor": "white"
          },
          "hoverlabel": {
           "align": "left"
          },
          "hovermode": "closest",
          "mapbox": {
           "style": "light"
          },
          "paper_bgcolor": "white",
          "plot_bgcolor": "#E5ECF6",
          "polar": {
           "angularaxis": {
            "gridcolor": "white",
            "linecolor": "white",
            "ticks": ""
           },
           "bgcolor": "#E5ECF6",
           "radialaxis": {
            "gridcolor": "white",
            "linecolor": "white",
            "ticks": ""
           }
          },
          "scene": {
           "xaxis": {
            "backgroundcolor": "#E5ECF6",
            "gridcolor": "white",
            "gridwidth": 2,
            "linecolor": "white",
            "showbackground": true,
            "ticks": "",
            "zerolinecolor": "white"
           },
           "yaxis": {
            "backgroundcolor": "#E5ECF6",
            "gridcolor": "white",
            "gridwidth": 2,
            "linecolor": "white",
            "showbackground": true,
            "ticks": "",
            "zerolinecolor": "white"
           },
           "zaxis": {
            "backgroundcolor": "#E5ECF6",
            "gridcolor": "white",
            "gridwidth": 2,
            "linecolor": "white",
            "showbackground": true,
            "ticks": "",
            "zerolinecolor": "white"
           }
          },
          "shapedefaults": {
           "line": {
            "color": "#2a3f5f"
           }
          },
          "ternary": {
           "aaxis": {
            "gridcolor": "white",
            "linecolor": "white",
            "ticks": ""
           },
           "baxis": {
            "gridcolor": "white",
            "linecolor": "white",
            "ticks": ""
           },
           "bgcolor": "#E5ECF6",
           "caxis": {
            "gridcolor": "white",
            "linecolor": "white",
            "ticks": ""
           }
          },
          "title": {
           "x": 0.05
          },
          "xaxis": {
           "automargin": true,
           "gridcolor": "white",
           "linecolor": "white",
           "ticks": "",
           "title": {
            "standoff": 15
           },
           "zerolinecolor": "white",
           "zerolinewidth": 2
          },
          "yaxis": {
           "automargin": true,
           "gridcolor": "white",
           "linecolor": "white",
           "ticks": "",
           "title": {
            "standoff": 15
           },
           "zerolinecolor": "white",
           "zerolinewidth": 2
          }
         }
        }
       }
      },
      "text/html": [
       "<div>\n",
       "        \n",
       "        \n",
       "            <div id=\"abda2277-61bb-41a8-ae73-45e4f3bc6946\" class=\"plotly-graph-div\" style=\"height:300px; width:100%;\"></div>\n",
       "            <script type=\"text/javascript\">\n",
       "                require([\"plotly\"], function(Plotly) {\n",
       "                    window.PLOTLYENV=window.PLOTLYENV || {};\n",
       "                    \n",
       "                if (document.getElementById(\"abda2277-61bb-41a8-ae73-45e4f3bc6946\")) {\n",
       "                    Plotly.newPlot(\n",
       "                        'abda2277-61bb-41a8-ae73-45e4f3bc6946',\n",
       "                        [{\"customdata\": [[49, 3, 0, 1], [26, 2, 3, 0], [22, 1, 9, 0], [15, 2, 3, 0], [15, 0, 1, 1], [10, 0, 0, 0], [5, 0, 0, 0], [4, 0, 0, 0], [3, 0, 1, 0], [3, 0, 0, 0], [3, 14, 0, 0], [3, 0, 0, 0], [2, 0, 0, 0], [2, 0, 0, 0], [1, 0, 0, 0], [1, 0, 0, 0], [1, 0, 0, 0], [0, 0, 0, 0], [0, 0, 0, 0], [0, 0, 0, 0], [0, 0, 0, 0], [0, 0, 0, 0], [0, 0, 0, 0], [0, 0, 0, 0], [0, 0, 0, 0], [0, 0, 0, 0], [0, 0, 0, 0], [0, 0, 0, 0], [0, 0, 0, 0], [0, 0, 0, 0], [0, 0, 0, 0]], \"hoverlabel\": {\"namelength\": 0}, \"hovertemplate\": \"<b>%{hovertext}</b><br><br>TotalConfirmedCasesInIndia=%{customdata[0]}<br>TotalConfirmedCasesForeignNational=%{customdata[1]}<br>Cured=%{customdata[2]}<br>Death=%{customdata[3]}<br>lat=%{lat}<br>lon=%{lon}\", \"hovertext\": [\"Maharashtra\", \"Kerala\", \"Uttar Pradesh\", \"Rajasthan\", \"Karnataka\", \"Union Territory of Ladakh\", \"Gujarat\", \"Union Territory of Jammu and Kashmir\", \"Tamil Nadu\", \"Uttarakhand\", \"Haryana\", \"Andhra Pradesh\", \"West Bengal\", \"Odisha\", \"Chhattisgarh\", \"Puducherry\", \"Union Territory of Chandigarh\", \"Sikkim\", \"Mizoram\", \"Meghalaya\", \"Arunachal Pradesh\", \"Tripura\", \"Manipur\", \"Telangana\", \"Goa\", \"Nagaland\", \"Bihar\", \"Jharkhand\", \"Madhya Pradesh\", \"Assam\", \"Himachal Pradesh\"], \"lat\": [19.7515, 10.8505, 26.8467, 27.0238, 15.3173, 34.209515, 22.2587, 33.7782, 11.1271, 30.0668, 29.0588, 15.9129, 22.9868, 20.9517, 21.2787, 11.9416, 31.1471, 27.533, 23.1645, 25.467, 28.218000000000004, 23.9408, 24.6637, 18.1124, 15.2993, 26.1584, 25.0961, 23.6102, 22.9734, 26.2006, 31.1048], \"legendgroup\": \"\", \"lon\": [75.7139, 76.2711, 80.9462, 74.2179, 75.7139, 77.615112, 71.1924, 76.5762, 78.6569, 79.0193, 76.0856, 79.74, 87.855, 85.0985, 81.8661, 79.8083, 75.3412, 88.5122, 92.9376, 91.3662, 94.7278, 91.9882, 93.9063, 79.0193, 74.124, 94.5624, 85.3131, 85.2799, 78.6569, 92.9376, 77.1734], \"marker\": {\"color\": \"fuchsia\"}, \"mode\": \"markers\", \"name\": \"\", \"showlegend\": false, \"subplot\": \"mapbox\", \"type\": \"scattermapbox\"}],\n",
       "                        {\"height\": 300, \"legend\": {\"tracegroupgap\": 0}, \"mapbox\": {\"center\": {\"lat\": 23.420965, \"lon\": 82.3297584516129}, \"domain\": {\"x\": [0.0, 1.0], \"y\": [0.0, 1.0]}, \"style\": \"open-street-map\", \"zoom\": 3}, \"margin\": {\"b\": 0, \"l\": 0, \"r\": 0, \"t\": 0}, \"template\": {\"data\": {\"bar\": [{\"error_x\": {\"color\": \"#2a3f5f\"}, \"error_y\": {\"color\": \"#2a3f5f\"}, \"marker\": {\"line\": {\"color\": \"#E5ECF6\", \"width\": 0.5}}, \"type\": \"bar\"}], \"barpolar\": [{\"marker\": {\"line\": {\"color\": \"#E5ECF6\", \"width\": 0.5}}, \"type\": \"barpolar\"}], \"carpet\": [{\"aaxis\": {\"endlinecolor\": \"#2a3f5f\", \"gridcolor\": \"white\", \"linecolor\": \"white\", \"minorgridcolor\": \"white\", \"startlinecolor\": \"#2a3f5f\"}, \"baxis\": {\"endlinecolor\": \"#2a3f5f\", \"gridcolor\": \"white\", \"linecolor\": \"white\", \"minorgridcolor\": \"white\", \"startlinecolor\": \"#2a3f5f\"}, \"type\": \"carpet\"}], \"choropleth\": [{\"colorbar\": {\"outlinewidth\": 0, \"ticks\": \"\"}, \"type\": \"choropleth\"}], \"contour\": [{\"colorbar\": {\"outlinewidth\": 0, \"ticks\": \"\"}, \"colorscale\": [[0.0, \"#0d0887\"], [0.1111111111111111, \"#46039f\"], [0.2222222222222222, \"#7201a8\"], [0.3333333333333333, \"#9c179e\"], [0.4444444444444444, \"#bd3786\"], [0.5555555555555556, \"#d8576b\"], [0.6666666666666666, \"#ed7953\"], [0.7777777777777778, \"#fb9f3a\"], [0.8888888888888888, \"#fdca26\"], [1.0, \"#f0f921\"]], \"type\": \"contour\"}], \"contourcarpet\": [{\"colorbar\": {\"outlinewidth\": 0, \"ticks\": \"\"}, \"type\": \"contourcarpet\"}], \"heatmap\": [{\"colorbar\": {\"outlinewidth\": 0, \"ticks\": \"\"}, \"colorscale\": [[0.0, \"#0d0887\"], [0.1111111111111111, \"#46039f\"], [0.2222222222222222, \"#7201a8\"], [0.3333333333333333, \"#9c179e\"], [0.4444444444444444, \"#bd3786\"], [0.5555555555555556, \"#d8576b\"], [0.6666666666666666, \"#ed7953\"], [0.7777777777777778, \"#fb9f3a\"], [0.8888888888888888, \"#fdca26\"], [1.0, \"#f0f921\"]], \"type\": \"heatmap\"}], \"heatmapgl\": [{\"colorbar\": {\"outlinewidth\": 0, \"ticks\": \"\"}, \"colorscale\": [[0.0, \"#0d0887\"], [0.1111111111111111, \"#46039f\"], [0.2222222222222222, \"#7201a8\"], [0.3333333333333333, \"#9c179e\"], [0.4444444444444444, \"#bd3786\"], [0.5555555555555556, \"#d8576b\"], [0.6666666666666666, \"#ed7953\"], [0.7777777777777778, \"#fb9f3a\"], [0.8888888888888888, \"#fdca26\"], [1.0, \"#f0f921\"]], \"type\": \"heatmapgl\"}], \"histogram\": [{\"marker\": {\"colorbar\": {\"outlinewidth\": 0, \"ticks\": \"\"}}, \"type\": \"histogram\"}], \"histogram2d\": [{\"colorbar\": {\"outlinewidth\": 0, \"ticks\": \"\"}, \"colorscale\": [[0.0, \"#0d0887\"], [0.1111111111111111, \"#46039f\"], [0.2222222222222222, \"#7201a8\"], [0.3333333333333333, \"#9c179e\"], [0.4444444444444444, \"#bd3786\"], [0.5555555555555556, \"#d8576b\"], [0.6666666666666666, \"#ed7953\"], [0.7777777777777778, \"#fb9f3a\"], [0.8888888888888888, \"#fdca26\"], [1.0, \"#f0f921\"]], \"type\": \"histogram2d\"}], \"histogram2dcontour\": [{\"colorbar\": {\"outlinewidth\": 0, \"ticks\": \"\"}, \"colorscale\": [[0.0, \"#0d0887\"], [0.1111111111111111, \"#46039f\"], [0.2222222222222222, \"#7201a8\"], [0.3333333333333333, \"#9c179e\"], [0.4444444444444444, \"#bd3786\"], [0.5555555555555556, \"#d8576b\"], [0.6666666666666666, \"#ed7953\"], [0.7777777777777778, \"#fb9f3a\"], [0.8888888888888888, \"#fdca26\"], [1.0, \"#f0f921\"]], \"type\": \"histogram2dcontour\"}], \"mesh3d\": [{\"colorbar\": {\"outlinewidth\": 0, \"ticks\": \"\"}, \"type\": \"mesh3d\"}], \"parcoords\": [{\"line\": {\"colorbar\": {\"outlinewidth\": 0, \"ticks\": \"\"}}, \"type\": \"parcoords\"}], \"pie\": [{\"automargin\": true, \"type\": \"pie\"}], \"scatter\": [{\"marker\": {\"colorbar\": {\"outlinewidth\": 0, \"ticks\": \"\"}}, \"type\": \"scatter\"}], \"scatter3d\": [{\"line\": {\"colorbar\": {\"outlinewidth\": 0, \"ticks\": \"\"}}, \"marker\": {\"colorbar\": {\"outlinewidth\": 0, \"ticks\": \"\"}}, \"type\": \"scatter3d\"}], \"scattercarpet\": [{\"marker\": {\"colorbar\": {\"outlinewidth\": 0, \"ticks\": \"\"}}, \"type\": \"scattercarpet\"}], \"scattergeo\": [{\"marker\": {\"colorbar\": {\"outlinewidth\": 0, \"ticks\": \"\"}}, \"type\": \"scattergeo\"}], \"scattergl\": [{\"marker\": {\"colorbar\": {\"outlinewidth\": 0, \"ticks\": \"\"}}, \"type\": \"scattergl\"}], \"scattermapbox\": [{\"marker\": {\"colorbar\": {\"outlinewidth\": 0, \"ticks\": \"\"}}, \"type\": \"scattermapbox\"}], \"scatterpolar\": [{\"marker\": {\"colorbar\": {\"outlinewidth\": 0, \"ticks\": \"\"}}, \"type\": \"scatterpolar\"}], \"scatterpolargl\": [{\"marker\": {\"colorbar\": {\"outlinewidth\": 0, \"ticks\": \"\"}}, \"type\": \"scatterpolargl\"}], \"scatterternary\": [{\"marker\": {\"colorbar\": {\"outlinewidth\": 0, \"ticks\": \"\"}}, \"type\": \"scatterternary\"}], \"surface\": [{\"colorbar\": {\"outlinewidth\": 0, \"ticks\": \"\"}, \"colorscale\": [[0.0, \"#0d0887\"], [0.1111111111111111, \"#46039f\"], [0.2222222222222222, \"#7201a8\"], [0.3333333333333333, \"#9c179e\"], [0.4444444444444444, \"#bd3786\"], [0.5555555555555556, \"#d8576b\"], [0.6666666666666666, \"#ed7953\"], [0.7777777777777778, \"#fb9f3a\"], [0.8888888888888888, \"#fdca26\"], [1.0, \"#f0f921\"]], \"type\": \"surface\"}], \"table\": [{\"cells\": {\"fill\": {\"color\": \"#EBF0F8\"}, \"line\": {\"color\": \"white\"}}, \"header\": {\"fill\": {\"color\": \"#C8D4E3\"}, \"line\": {\"color\": \"white\"}}, \"type\": \"table\"}]}, \"layout\": {\"annotationdefaults\": {\"arrowcolor\": \"#2a3f5f\", \"arrowhead\": 0, \"arrowwidth\": 1}, \"coloraxis\": {\"colorbar\": {\"outlinewidth\": 0, \"ticks\": \"\"}}, \"colorscale\": {\"diverging\": [[0, \"#8e0152\"], [0.1, \"#c51b7d\"], [0.2, \"#de77ae\"], [0.3, \"#f1b6da\"], [0.4, \"#fde0ef\"], [0.5, \"#f7f7f7\"], [0.6, \"#e6f5d0\"], [0.7, \"#b8e186\"], [0.8, \"#7fbc41\"], [0.9, \"#4d9221\"], [1, \"#276419\"]], \"sequential\": [[0.0, \"#0d0887\"], [0.1111111111111111, \"#46039f\"], [0.2222222222222222, \"#7201a8\"], [0.3333333333333333, \"#9c179e\"], [0.4444444444444444, \"#bd3786\"], [0.5555555555555556, \"#d8576b\"], [0.6666666666666666, \"#ed7953\"], [0.7777777777777778, \"#fb9f3a\"], [0.8888888888888888, \"#fdca26\"], [1.0, \"#f0f921\"]], \"sequentialminus\": [[0.0, \"#0d0887\"], [0.1111111111111111, \"#46039f\"], [0.2222222222222222, \"#7201a8\"], [0.3333333333333333, \"#9c179e\"], [0.4444444444444444, \"#bd3786\"], [0.5555555555555556, \"#d8576b\"], [0.6666666666666666, \"#ed7953\"], [0.7777777777777778, \"#fb9f3a\"], [0.8888888888888888, \"#fdca26\"], [1.0, \"#f0f921\"]]}, \"colorway\": [\"#636efa\", \"#EF553B\", \"#00cc96\", \"#ab63fa\", \"#FFA15A\", \"#19d3f3\", \"#FF6692\", \"#B6E880\", \"#FF97FF\", \"#FECB52\"], \"font\": {\"color\": \"#2a3f5f\"}, \"geo\": {\"bgcolor\": \"white\", \"lakecolor\": \"white\", \"landcolor\": \"#E5ECF6\", \"showlakes\": true, \"showland\": true, \"subunitcolor\": \"white\"}, \"hoverlabel\": {\"align\": \"left\"}, \"hovermode\": \"closest\", \"mapbox\": {\"style\": \"light\"}, \"paper_bgcolor\": \"white\", \"plot_bgcolor\": \"#E5ECF6\", \"polar\": {\"angularaxis\": {\"gridcolor\": \"white\", \"linecolor\": \"white\", \"ticks\": \"\"}, \"bgcolor\": \"#E5ECF6\", \"radialaxis\": {\"gridcolor\": \"white\", \"linecolor\": \"white\", \"ticks\": \"\"}}, \"scene\": {\"xaxis\": {\"backgroundcolor\": \"#E5ECF6\", \"gridcolor\": \"white\", \"gridwidth\": 2, \"linecolor\": \"white\", \"showbackground\": true, \"ticks\": \"\", \"zerolinecolor\": \"white\"}, \"yaxis\": {\"backgroundcolor\": \"#E5ECF6\", \"gridcolor\": \"white\", \"gridwidth\": 2, \"linecolor\": \"white\", \"showbackground\": true, \"ticks\": \"\", \"zerolinecolor\": \"white\"}, \"zaxis\": {\"backgroundcolor\": \"#E5ECF6\", \"gridcolor\": \"white\", \"gridwidth\": 2, \"linecolor\": \"white\", \"showbackground\": true, \"ticks\": \"\", \"zerolinecolor\": \"white\"}}, \"shapedefaults\": {\"line\": {\"color\": \"#2a3f5f\"}}, \"ternary\": {\"aaxis\": {\"gridcolor\": \"white\", \"linecolor\": \"white\", \"ticks\": \"\"}, \"baxis\": {\"gridcolor\": \"white\", \"linecolor\": \"white\", \"ticks\": \"\"}, \"bgcolor\": \"#E5ECF6\", \"caxis\": {\"gridcolor\": \"white\", \"linecolor\": \"white\", \"ticks\": \"\"}}, \"title\": {\"x\": 0.05}, \"xaxis\": {\"automargin\": true, \"gridcolor\": \"white\", \"linecolor\": \"white\", \"ticks\": \"\", \"title\": {\"standoff\": 15}, \"zerolinecolor\": \"white\", \"zerolinewidth\": 2}, \"yaxis\": {\"automargin\": true, \"gridcolor\": \"white\", \"linecolor\": \"white\", \"ticks\": \"\", \"title\": {\"standoff\": 15}, \"zerolinecolor\": \"white\", \"zerolinewidth\": 2}}}},\n",
       "                        {\"responsive\": true}\n",
       "                    ).then(function(){\n",
       "                            \n",
       "var gd = document.getElementById('abda2277-61bb-41a8-ae73-45e4f3bc6946');\n",
       "var x = new MutationObserver(function (mutations, observer) {{\n",
       "        var display = window.getComputedStyle(gd).display;\n",
       "        if (!display || display === 'none') {{\n",
       "            console.log([gd, 'removed!']);\n",
       "            Plotly.purge(gd);\n",
       "            observer.disconnect();\n",
       "        }}\n",
       "}});\n",
       "\n",
       "// Listen for the removal of the full notebook cells\n",
       "var notebookContainer = gd.closest('#notebook-container');\n",
       "if (notebookContainer) {{\n",
       "    x.observe(notebookContainer, {childList: true});\n",
       "}}\n",
       "\n",
       "// Listen for the clearing of the current output cell\n",
       "var outputEl = gd.closest('.output');\n",
       "if (outputEl) {{\n",
       "    x.observe(outputEl, {childList: true});\n",
       "}}\n",
       "\n",
       "                        })\n",
       "                };\n",
       "                });\n",
       "            </script>\n",
       "        </div>"
      ]
     },
     "metadata": {},
     "output_type": "display_data"
    }
   ],
   "source": [
    "import pandas as pd\n",
    "\n",
    "import plotly.express as px\n",
    "\n",
    "fig = px.scatter_mapbox(indian_states_corona_df, lat=\"lat\", lon=\"lon\", hover_name=\"State\", hover_data=[\"TotalConfirmedCasesInIndia\", \"TotalConfirmedCasesForeignNational\", \"Cured\", \"Death\"],\n",
    "                        color_discrete_sequence=[\"fuchsia\"], zoom=3, height=300)\n",
    "fig.update_layout(mapbox_style=\"open-street-map\")\n",
    "fig.update_layout(margin={\"r\":0,\"t\":0,\"l\":0,\"b\":0})\n",
    "fig.show()"
   ]
  },
  {
   "cell_type": "code",
   "execution_count": 75,
   "metadata": {},
   "outputs": [
    {
     "data": {
      "application/vnd.plotly.v1+json": {
       "config": {
        "plotlyServerURL": "https://plot.ly"
       },
       "data": [
        {
         "geo": "geo",
         "hoverlabel": {
          "namelength": 0
         },
         "hovertemplate": "<b>%{hovertext}</b><br><br>State=Maharashtra<br>TotalConfirmedCasesInIndia=%{marker.size}<br>lat=%{lat}<br>lon=%{lon}",
         "hovertext": [
          "Maharashtra"
         ],
         "lat": [
          19.7515
         ],
         "legendgroup": "State=Maharashtra",
         "locationmode": "ISO-3",
         "lon": [
          75.7139
         ],
         "marker": {
          "color": "#636efa",
          "size": [
           49
          ],
          "sizemode": "area",
          "sizeref": 0.1225
         },
         "name": "State=Maharashtra",
         "showlegend": true,
         "type": "scattergeo"
        },
        {
         "geo": "geo",
         "hoverlabel": {
          "namelength": 0
         },
         "hovertemplate": "<b>%{hovertext}</b><br><br>State=Kerala<br>TotalConfirmedCasesInIndia=%{marker.size}<br>lat=%{lat}<br>lon=%{lon}",
         "hovertext": [
          "Kerala"
         ],
         "lat": [
          10.8505
         ],
         "legendgroup": "State=Kerala",
         "locationmode": "ISO-3",
         "lon": [
          76.2711
         ],
         "marker": {
          "color": "#EF553B",
          "size": [
           26
          ],
          "sizemode": "area",
          "sizeref": 0.1225
         },
         "name": "State=Kerala",
         "showlegend": true,
         "type": "scattergeo"
        },
        {
         "geo": "geo",
         "hoverlabel": {
          "namelength": 0
         },
         "hovertemplate": "<b>%{hovertext}</b><br><br>State=Uttar Pradesh<br>TotalConfirmedCasesInIndia=%{marker.size}<br>lat=%{lat}<br>lon=%{lon}",
         "hovertext": [
          "Uttar Pradesh"
         ],
         "lat": [
          26.8467
         ],
         "legendgroup": "State=Uttar Pradesh",
         "locationmode": "ISO-3",
         "lon": [
          80.9462
         ],
         "marker": {
          "color": "#00cc96",
          "size": [
           22
          ],
          "sizemode": "area",
          "sizeref": 0.1225
         },
         "name": "State=Uttar Pradesh",
         "showlegend": true,
         "type": "scattergeo"
        },
        {
         "geo": "geo",
         "hoverlabel": {
          "namelength": 0
         },
         "hovertemplate": "<b>%{hovertext}</b><br><br>State=Rajasthan<br>TotalConfirmedCasesInIndia=%{marker.size}<br>lat=%{lat}<br>lon=%{lon}",
         "hovertext": [
          "Rajasthan"
         ],
         "lat": [
          27.0238
         ],
         "legendgroup": "State=Rajasthan",
         "locationmode": "ISO-3",
         "lon": [
          74.2179
         ],
         "marker": {
          "color": "#ab63fa",
          "size": [
           15
          ],
          "sizemode": "area",
          "sizeref": 0.1225
         },
         "name": "State=Rajasthan",
         "showlegend": true,
         "type": "scattergeo"
        },
        {
         "geo": "geo",
         "hoverlabel": {
          "namelength": 0
         },
         "hovertemplate": "<b>%{hovertext}</b><br><br>State=Karnataka<br>TotalConfirmedCasesInIndia=%{marker.size}<br>lat=%{lat}<br>lon=%{lon}",
         "hovertext": [
          "Karnataka"
         ],
         "lat": [
          15.3173
         ],
         "legendgroup": "State=Karnataka",
         "locationmode": "ISO-3",
         "lon": [
          75.7139
         ],
         "marker": {
          "color": "#FFA15A",
          "size": [
           15
          ],
          "sizemode": "area",
          "sizeref": 0.1225
         },
         "name": "State=Karnataka",
         "showlegend": true,
         "type": "scattergeo"
        },
        {
         "geo": "geo",
         "hoverlabel": {
          "namelength": 0
         },
         "hovertemplate": "<b>%{hovertext}</b><br><br>State=Union Territory of Ladakh<br>TotalConfirmedCasesInIndia=%{marker.size}<br>lat=%{lat}<br>lon=%{lon}",
         "hovertext": [
          "Union Territory of Ladakh"
         ],
         "lat": [
          34.209515
         ],
         "legendgroup": "State=Union Territory of Ladakh",
         "locationmode": "ISO-3",
         "lon": [
          77.615112
         ],
         "marker": {
          "color": "#19d3f3",
          "size": [
           10
          ],
          "sizemode": "area",
          "sizeref": 0.1225
         },
         "name": "State=Union Territory of Ladakh",
         "showlegend": true,
         "type": "scattergeo"
        },
        {
         "geo": "geo",
         "hoverlabel": {
          "namelength": 0
         },
         "hovertemplate": "<b>%{hovertext}</b><br><br>State=Gujarat<br>TotalConfirmedCasesInIndia=%{marker.size}<br>lat=%{lat}<br>lon=%{lon}",
         "hovertext": [
          "Gujarat"
         ],
         "lat": [
          22.2587
         ],
         "legendgroup": "State=Gujarat",
         "locationmode": "ISO-3",
         "lon": [
          71.1924
         ],
         "marker": {
          "color": "#FF6692",
          "size": [
           5
          ],
          "sizemode": "area",
          "sizeref": 0.1225
         },
         "name": "State=Gujarat",
         "showlegend": true,
         "type": "scattergeo"
        },
        {
         "geo": "geo",
         "hoverlabel": {
          "namelength": 0
         },
         "hovertemplate": "<b>%{hovertext}</b><br><br>State=Union Territory of Jammu and Kashmir<br>TotalConfirmedCasesInIndia=%{marker.size}<br>lat=%{lat}<br>lon=%{lon}",
         "hovertext": [
          "Union Territory of Jammu and Kashmir"
         ],
         "lat": [
          33.7782
         ],
         "legendgroup": "State=Union Territory of Jammu and Kashmir",
         "locationmode": "ISO-3",
         "lon": [
          76.5762
         ],
         "marker": {
          "color": "#B6E880",
          "size": [
           4
          ],
          "sizemode": "area",
          "sizeref": 0.1225
         },
         "name": "State=Union Territory of Jammu and Kashmir",
         "showlegend": true,
         "type": "scattergeo"
        },
        {
         "geo": "geo",
         "hoverlabel": {
          "namelength": 0
         },
         "hovertemplate": "<b>%{hovertext}</b><br><br>State=Tamil Nadu<br>TotalConfirmedCasesInIndia=%{marker.size}<br>lat=%{lat}<br>lon=%{lon}",
         "hovertext": [
          "Tamil Nadu"
         ],
         "lat": [
          11.1271
         ],
         "legendgroup": "State=Tamil Nadu",
         "locationmode": "ISO-3",
         "lon": [
          78.6569
         ],
         "marker": {
          "color": "#FF97FF",
          "size": [
           3
          ],
          "sizemode": "area",
          "sizeref": 0.1225
         },
         "name": "State=Tamil Nadu",
         "showlegend": true,
         "type": "scattergeo"
        },
        {
         "geo": "geo",
         "hoverlabel": {
          "namelength": 0
         },
         "hovertemplate": "<b>%{hovertext}</b><br><br>State=Uttarakhand<br>TotalConfirmedCasesInIndia=%{marker.size}<br>lat=%{lat}<br>lon=%{lon}",
         "hovertext": [
          "Uttarakhand"
         ],
         "lat": [
          30.0668
         ],
         "legendgroup": "State=Uttarakhand",
         "locationmode": "ISO-3",
         "lon": [
          79.0193
         ],
         "marker": {
          "color": "#FECB52",
          "size": [
           3
          ],
          "sizemode": "area",
          "sizeref": 0.1225
         },
         "name": "State=Uttarakhand",
         "showlegend": true,
         "type": "scattergeo"
        },
        {
         "geo": "geo",
         "hoverlabel": {
          "namelength": 0
         },
         "hovertemplate": "<b>%{hovertext}</b><br><br>State=Haryana<br>TotalConfirmedCasesInIndia=%{marker.size}<br>lat=%{lat}<br>lon=%{lon}",
         "hovertext": [
          "Haryana"
         ],
         "lat": [
          29.0588
         ],
         "legendgroup": "State=Haryana",
         "locationmode": "ISO-3",
         "lon": [
          76.0856
         ],
         "marker": {
          "color": "#636efa",
          "size": [
           3
          ],
          "sizemode": "area",
          "sizeref": 0.1225
         },
         "name": "State=Haryana",
         "showlegend": true,
         "type": "scattergeo"
        },
        {
         "geo": "geo",
         "hoverlabel": {
          "namelength": 0
         },
         "hovertemplate": "<b>%{hovertext}</b><br><br>State=Andhra Pradesh<br>TotalConfirmedCasesInIndia=%{marker.size}<br>lat=%{lat}<br>lon=%{lon}",
         "hovertext": [
          "Andhra Pradesh"
         ],
         "lat": [
          15.9129
         ],
         "legendgroup": "State=Andhra Pradesh",
         "locationmode": "ISO-3",
         "lon": [
          79.74
         ],
         "marker": {
          "color": "#EF553B",
          "size": [
           3
          ],
          "sizemode": "area",
          "sizeref": 0.1225
         },
         "name": "State=Andhra Pradesh",
         "showlegend": true,
         "type": "scattergeo"
        },
        {
         "geo": "geo",
         "hoverlabel": {
          "namelength": 0
         },
         "hovertemplate": "<b>%{hovertext}</b><br><br>State=West Bengal<br>TotalConfirmedCasesInIndia=%{marker.size}<br>lat=%{lat}<br>lon=%{lon}",
         "hovertext": [
          "West Bengal"
         ],
         "lat": [
          22.9868
         ],
         "legendgroup": "State=West Bengal",
         "locationmode": "ISO-3",
         "lon": [
          87.855
         ],
         "marker": {
          "color": "#00cc96",
          "size": [
           2
          ],
          "sizemode": "area",
          "sizeref": 0.1225
         },
         "name": "State=West Bengal",
         "showlegend": true,
         "type": "scattergeo"
        },
        {
         "geo": "geo",
         "hoverlabel": {
          "namelength": 0
         },
         "hovertemplate": "<b>%{hovertext}</b><br><br>State=Odisha<br>TotalConfirmedCasesInIndia=%{marker.size}<br>lat=%{lat}<br>lon=%{lon}",
         "hovertext": [
          "Odisha"
         ],
         "lat": [
          20.9517
         ],
         "legendgroup": "State=Odisha",
         "locationmode": "ISO-3",
         "lon": [
          85.0985
         ],
         "marker": {
          "color": "#ab63fa",
          "size": [
           2
          ],
          "sizemode": "area",
          "sizeref": 0.1225
         },
         "name": "State=Odisha",
         "showlegend": true,
         "type": "scattergeo"
        },
        {
         "geo": "geo",
         "hoverlabel": {
          "namelength": 0
         },
         "hovertemplate": "<b>%{hovertext}</b><br><br>State=Chhattisgarh<br>TotalConfirmedCasesInIndia=%{marker.size}<br>lat=%{lat}<br>lon=%{lon}",
         "hovertext": [
          "Chhattisgarh"
         ],
         "lat": [
          21.2787
         ],
         "legendgroup": "State=Chhattisgarh",
         "locationmode": "ISO-3",
         "lon": [
          81.8661
         ],
         "marker": {
          "color": "#FFA15A",
          "size": [
           1
          ],
          "sizemode": "area",
          "sizeref": 0.1225
         },
         "name": "State=Chhattisgarh",
         "showlegend": true,
         "type": "scattergeo"
        },
        {
         "geo": "geo",
         "hoverlabel": {
          "namelength": 0
         },
         "hovertemplate": "<b>%{hovertext}</b><br><br>State=Puducherry<br>TotalConfirmedCasesInIndia=%{marker.size}<br>lat=%{lat}<br>lon=%{lon}",
         "hovertext": [
          "Puducherry"
         ],
         "lat": [
          11.9416
         ],
         "legendgroup": "State=Puducherry",
         "locationmode": "ISO-3",
         "lon": [
          79.8083
         ],
         "marker": {
          "color": "#19d3f3",
          "size": [
           1
          ],
          "sizemode": "area",
          "sizeref": 0.1225
         },
         "name": "State=Puducherry",
         "showlegend": true,
         "type": "scattergeo"
        },
        {
         "geo": "geo",
         "hoverlabel": {
          "namelength": 0
         },
         "hovertemplate": "<b>%{hovertext}</b><br><br>State=Union Territory of Chandigarh<br>TotalConfirmedCasesInIndia=%{marker.size}<br>lat=%{lat}<br>lon=%{lon}",
         "hovertext": [
          "Union Territory of Chandigarh"
         ],
         "lat": [
          31.1471
         ],
         "legendgroup": "State=Union Territory of Chandigarh",
         "locationmode": "ISO-3",
         "lon": [
          75.3412
         ],
         "marker": {
          "color": "#FF6692",
          "size": [
           1
          ],
          "sizemode": "area",
          "sizeref": 0.1225
         },
         "name": "State=Union Territory of Chandigarh",
         "showlegend": true,
         "type": "scattergeo"
        },
        {
         "geo": "geo",
         "hoverlabel": {
          "namelength": 0
         },
         "hovertemplate": "<b>%{hovertext}</b><br><br>State=Sikkim<br>TotalConfirmedCasesInIndia=%{marker.size}<br>lat=%{lat}<br>lon=%{lon}",
         "hovertext": [
          "Sikkim"
         ],
         "lat": [
          27.533
         ],
         "legendgroup": "State=Sikkim",
         "locationmode": "ISO-3",
         "lon": [
          88.5122
         ],
         "marker": {
          "color": "#B6E880",
          "size": [
           0
          ],
          "sizemode": "area",
          "sizeref": 0.1225
         },
         "name": "State=Sikkim",
         "showlegend": true,
         "type": "scattergeo"
        },
        {
         "geo": "geo",
         "hoverlabel": {
          "namelength": 0
         },
         "hovertemplate": "<b>%{hovertext}</b><br><br>State=Mizoram<br>TotalConfirmedCasesInIndia=%{marker.size}<br>lat=%{lat}<br>lon=%{lon}",
         "hovertext": [
          "Mizoram"
         ],
         "lat": [
          23.1645
         ],
         "legendgroup": "State=Mizoram",
         "locationmode": "ISO-3",
         "lon": [
          92.9376
         ],
         "marker": {
          "color": "#FF97FF",
          "size": [
           0
          ],
          "sizemode": "area",
          "sizeref": 0.1225
         },
         "name": "State=Mizoram",
         "showlegend": true,
         "type": "scattergeo"
        },
        {
         "geo": "geo",
         "hoverlabel": {
          "namelength": 0
         },
         "hovertemplate": "<b>%{hovertext}</b><br><br>State=Meghalaya<br>TotalConfirmedCasesInIndia=%{marker.size}<br>lat=%{lat}<br>lon=%{lon}",
         "hovertext": [
          "Meghalaya"
         ],
         "lat": [
          25.467
         ],
         "legendgroup": "State=Meghalaya",
         "locationmode": "ISO-3",
         "lon": [
          91.3662
         ],
         "marker": {
          "color": "#FECB52",
          "size": [
           0
          ],
          "sizemode": "area",
          "sizeref": 0.1225
         },
         "name": "State=Meghalaya",
         "showlegend": true,
         "type": "scattergeo"
        },
        {
         "geo": "geo",
         "hoverlabel": {
          "namelength": 0
         },
         "hovertemplate": "<b>%{hovertext}</b><br><br>State=Arunachal Pradesh<br>TotalConfirmedCasesInIndia=%{marker.size}<br>lat=%{lat}<br>lon=%{lon}",
         "hovertext": [
          "Arunachal Pradesh"
         ],
         "lat": [
          28.218000000000004
         ],
         "legendgroup": "State=Arunachal Pradesh",
         "locationmode": "ISO-3",
         "lon": [
          94.7278
         ],
         "marker": {
          "color": "#636efa",
          "size": [
           0
          ],
          "sizemode": "area",
          "sizeref": 0.1225
         },
         "name": "State=Arunachal Pradesh",
         "showlegend": true,
         "type": "scattergeo"
        },
        {
         "geo": "geo",
         "hoverlabel": {
          "namelength": 0
         },
         "hovertemplate": "<b>%{hovertext}</b><br><br>State=Tripura<br>TotalConfirmedCasesInIndia=%{marker.size}<br>lat=%{lat}<br>lon=%{lon}",
         "hovertext": [
          "Tripura"
         ],
         "lat": [
          23.9408
         ],
         "legendgroup": "State=Tripura",
         "locationmode": "ISO-3",
         "lon": [
          91.9882
         ],
         "marker": {
          "color": "#EF553B",
          "size": [
           0
          ],
          "sizemode": "area",
          "sizeref": 0.1225
         },
         "name": "State=Tripura",
         "showlegend": true,
         "type": "scattergeo"
        },
        {
         "geo": "geo",
         "hoverlabel": {
          "namelength": 0
         },
         "hovertemplate": "<b>%{hovertext}</b><br><br>State=Manipur<br>TotalConfirmedCasesInIndia=%{marker.size}<br>lat=%{lat}<br>lon=%{lon}",
         "hovertext": [
          "Manipur"
         ],
         "lat": [
          24.6637
         ],
         "legendgroup": "State=Manipur",
         "locationmode": "ISO-3",
         "lon": [
          93.9063
         ],
         "marker": {
          "color": "#00cc96",
          "size": [
           0
          ],
          "sizemode": "area",
          "sizeref": 0.1225
         },
         "name": "State=Manipur",
         "showlegend": true,
         "type": "scattergeo"
        },
        {
         "geo": "geo",
         "hoverlabel": {
          "namelength": 0
         },
         "hovertemplate": "<b>%{hovertext}</b><br><br>State=Telangana<br>TotalConfirmedCasesInIndia=%{marker.size}<br>lat=%{lat}<br>lon=%{lon}",
         "hovertext": [
          "Telangana"
         ],
         "lat": [
          18.1124
         ],
         "legendgroup": "State=Telangana",
         "locationmode": "ISO-3",
         "lon": [
          79.0193
         ],
         "marker": {
          "color": "#ab63fa",
          "size": [
           0
          ],
          "sizemode": "area",
          "sizeref": 0.1225
         },
         "name": "State=Telangana",
         "showlegend": true,
         "type": "scattergeo"
        },
        {
         "geo": "geo",
         "hoverlabel": {
          "namelength": 0
         },
         "hovertemplate": "<b>%{hovertext}</b><br><br>State=Goa<br>TotalConfirmedCasesInIndia=%{marker.size}<br>lat=%{lat}<br>lon=%{lon}",
         "hovertext": [
          "Goa"
         ],
         "lat": [
          15.2993
         ],
         "legendgroup": "State=Goa",
         "locationmode": "ISO-3",
         "lon": [
          74.124
         ],
         "marker": {
          "color": "#FFA15A",
          "size": [
           0
          ],
          "sizemode": "area",
          "sizeref": 0.1225
         },
         "name": "State=Goa",
         "showlegend": true,
         "type": "scattergeo"
        },
        {
         "geo": "geo",
         "hoverlabel": {
          "namelength": 0
         },
         "hovertemplate": "<b>%{hovertext}</b><br><br>State=Nagaland<br>TotalConfirmedCasesInIndia=%{marker.size}<br>lat=%{lat}<br>lon=%{lon}",
         "hovertext": [
          "Nagaland"
         ],
         "lat": [
          26.1584
         ],
         "legendgroup": "State=Nagaland",
         "locationmode": "ISO-3",
         "lon": [
          94.5624
         ],
         "marker": {
          "color": "#19d3f3",
          "size": [
           0
          ],
          "sizemode": "area",
          "sizeref": 0.1225
         },
         "name": "State=Nagaland",
         "showlegend": true,
         "type": "scattergeo"
        },
        {
         "geo": "geo",
         "hoverlabel": {
          "namelength": 0
         },
         "hovertemplate": "<b>%{hovertext}</b><br><br>State=Bihar<br>TotalConfirmedCasesInIndia=%{marker.size}<br>lat=%{lat}<br>lon=%{lon}",
         "hovertext": [
          "Bihar"
         ],
         "lat": [
          25.0961
         ],
         "legendgroup": "State=Bihar",
         "locationmode": "ISO-3",
         "lon": [
          85.3131
         ],
         "marker": {
          "color": "#FF6692",
          "size": [
           0
          ],
          "sizemode": "area",
          "sizeref": 0.1225
         },
         "name": "State=Bihar",
         "showlegend": true,
         "type": "scattergeo"
        },
        {
         "geo": "geo",
         "hoverlabel": {
          "namelength": 0
         },
         "hovertemplate": "<b>%{hovertext}</b><br><br>State=Jharkhand<br>TotalConfirmedCasesInIndia=%{marker.size}<br>lat=%{lat}<br>lon=%{lon}",
         "hovertext": [
          "Jharkhand"
         ],
         "lat": [
          23.6102
         ],
         "legendgroup": "State=Jharkhand",
         "locationmode": "ISO-3",
         "lon": [
          85.2799
         ],
         "marker": {
          "color": "#B6E880",
          "size": [
           0
          ],
          "sizemode": "area",
          "sizeref": 0.1225
         },
         "name": "State=Jharkhand",
         "showlegend": true,
         "type": "scattergeo"
        },
        {
         "geo": "geo",
         "hoverlabel": {
          "namelength": 0
         },
         "hovertemplate": "<b>%{hovertext}</b><br><br>State=Madhya Pradesh<br>TotalConfirmedCasesInIndia=%{marker.size}<br>lat=%{lat}<br>lon=%{lon}",
         "hovertext": [
          "Madhya Pradesh"
         ],
         "lat": [
          22.9734
         ],
         "legendgroup": "State=Madhya Pradesh",
         "locationmode": "ISO-3",
         "lon": [
          78.6569
         ],
         "marker": {
          "color": "#FF97FF",
          "size": [
           0
          ],
          "sizemode": "area",
          "sizeref": 0.1225
         },
         "name": "State=Madhya Pradesh",
         "showlegend": true,
         "type": "scattergeo"
        },
        {
         "geo": "geo",
         "hoverlabel": {
          "namelength": 0
         },
         "hovertemplate": "<b>%{hovertext}</b><br><br>State=Assam<br>TotalConfirmedCasesInIndia=%{marker.size}<br>lat=%{lat}<br>lon=%{lon}",
         "hovertext": [
          "Assam"
         ],
         "lat": [
          26.2006
         ],
         "legendgroup": "State=Assam",
         "locationmode": "ISO-3",
         "lon": [
          92.9376
         ],
         "marker": {
          "color": "#FECB52",
          "size": [
           0
          ],
          "sizemode": "area",
          "sizeref": 0.1225
         },
         "name": "State=Assam",
         "showlegend": true,
         "type": "scattergeo"
        },
        {
         "geo": "geo",
         "hoverlabel": {
          "namelength": 0
         },
         "hovertemplate": "<b>%{hovertext}</b><br><br>State=Himachal Pradesh<br>TotalConfirmedCasesInIndia=%{marker.size}<br>lat=%{lat}<br>lon=%{lon}",
         "hovertext": [
          "Himachal Pradesh"
         ],
         "lat": [
          31.1048
         ],
         "legendgroup": "State=Himachal Pradesh",
         "locationmode": "ISO-3",
         "lon": [
          77.1734
         ],
         "marker": {
          "color": "#636efa",
          "size": [
           0
          ],
          "sizemode": "area",
          "sizeref": 0.1225
         },
         "name": "State=Himachal Pradesh",
         "showlegend": true,
         "type": "scattergeo"
        }
       ],
       "layout": {
        "geo": {
         "center": {},
         "domain": {
          "x": [
           0,
           1
          ],
          "y": [
           0,
           1
          ]
         },
         "projection": {
          "type": "natural earth"
         }
        },
        "legend": {
         "itemsizing": "constant",
         "tracegroupgap": 0
        },
        "margin": {
         "t": 60
        },
        "template": {
         "data": {
          "bar": [
           {
            "error_x": {
             "color": "#2a3f5f"
            },
            "error_y": {
             "color": "#2a3f5f"
            },
            "marker": {
             "line": {
              "color": "#E5ECF6",
              "width": 0.5
             }
            },
            "type": "bar"
           }
          ],
          "barpolar": [
           {
            "marker": {
             "line": {
              "color": "#E5ECF6",
              "width": 0.5
             }
            },
            "type": "barpolar"
           }
          ],
          "carpet": [
           {
            "aaxis": {
             "endlinecolor": "#2a3f5f",
             "gridcolor": "white",
             "linecolor": "white",
             "minorgridcolor": "white",
             "startlinecolor": "#2a3f5f"
            },
            "baxis": {
             "endlinecolor": "#2a3f5f",
             "gridcolor": "white",
             "linecolor": "white",
             "minorgridcolor": "white",
             "startlinecolor": "#2a3f5f"
            },
            "type": "carpet"
           }
          ],
          "choropleth": [
           {
            "colorbar": {
             "outlinewidth": 0,
             "ticks": ""
            },
            "type": "choropleth"
           }
          ],
          "contour": [
           {
            "colorbar": {
             "outlinewidth": 0,
             "ticks": ""
            },
            "colorscale": [
             [
              0,
              "#0d0887"
             ],
             [
              0.1111111111111111,
              "#46039f"
             ],
             [
              0.2222222222222222,
              "#7201a8"
             ],
             [
              0.3333333333333333,
              "#9c179e"
             ],
             [
              0.4444444444444444,
              "#bd3786"
             ],
             [
              0.5555555555555556,
              "#d8576b"
             ],
             [
              0.6666666666666666,
              "#ed7953"
             ],
             [
              0.7777777777777778,
              "#fb9f3a"
             ],
             [
              0.8888888888888888,
              "#fdca26"
             ],
             [
              1,
              "#f0f921"
             ]
            ],
            "type": "contour"
           }
          ],
          "contourcarpet": [
           {
            "colorbar": {
             "outlinewidth": 0,
             "ticks": ""
            },
            "type": "contourcarpet"
           }
          ],
          "heatmap": [
           {
            "colorbar": {
             "outlinewidth": 0,
             "ticks": ""
            },
            "colorscale": [
             [
              0,
              "#0d0887"
             ],
             [
              0.1111111111111111,
              "#46039f"
             ],
             [
              0.2222222222222222,
              "#7201a8"
             ],
             [
              0.3333333333333333,
              "#9c179e"
             ],
             [
              0.4444444444444444,
              "#bd3786"
             ],
             [
              0.5555555555555556,
              "#d8576b"
             ],
             [
              0.6666666666666666,
              "#ed7953"
             ],
             [
              0.7777777777777778,
              "#fb9f3a"
             ],
             [
              0.8888888888888888,
              "#fdca26"
             ],
             [
              1,
              "#f0f921"
             ]
            ],
            "type": "heatmap"
           }
          ],
          "heatmapgl": [
           {
            "colorbar": {
             "outlinewidth": 0,
             "ticks": ""
            },
            "colorscale": [
             [
              0,
              "#0d0887"
             ],
             [
              0.1111111111111111,
              "#46039f"
             ],
             [
              0.2222222222222222,
              "#7201a8"
             ],
             [
              0.3333333333333333,
              "#9c179e"
             ],
             [
              0.4444444444444444,
              "#bd3786"
             ],
             [
              0.5555555555555556,
              "#d8576b"
             ],
             [
              0.6666666666666666,
              "#ed7953"
             ],
             [
              0.7777777777777778,
              "#fb9f3a"
             ],
             [
              0.8888888888888888,
              "#fdca26"
             ],
             [
              1,
              "#f0f921"
             ]
            ],
            "type": "heatmapgl"
           }
          ],
          "histogram": [
           {
            "marker": {
             "colorbar": {
              "outlinewidth": 0,
              "ticks": ""
             }
            },
            "type": "histogram"
           }
          ],
          "histogram2d": [
           {
            "colorbar": {
             "outlinewidth": 0,
             "ticks": ""
            },
            "colorscale": [
             [
              0,
              "#0d0887"
             ],
             [
              0.1111111111111111,
              "#46039f"
             ],
             [
              0.2222222222222222,
              "#7201a8"
             ],
             [
              0.3333333333333333,
              "#9c179e"
             ],
             [
              0.4444444444444444,
              "#bd3786"
             ],
             [
              0.5555555555555556,
              "#d8576b"
             ],
             [
              0.6666666666666666,
              "#ed7953"
             ],
             [
              0.7777777777777778,
              "#fb9f3a"
             ],
             [
              0.8888888888888888,
              "#fdca26"
             ],
             [
              1,
              "#f0f921"
             ]
            ],
            "type": "histogram2d"
           }
          ],
          "histogram2dcontour": [
           {
            "colorbar": {
             "outlinewidth": 0,
             "ticks": ""
            },
            "colorscale": [
             [
              0,
              "#0d0887"
             ],
             [
              0.1111111111111111,
              "#46039f"
             ],
             [
              0.2222222222222222,
              "#7201a8"
             ],
             [
              0.3333333333333333,
              "#9c179e"
             ],
             [
              0.4444444444444444,
              "#bd3786"
             ],
             [
              0.5555555555555556,
              "#d8576b"
             ],
             [
              0.6666666666666666,
              "#ed7953"
             ],
             [
              0.7777777777777778,
              "#fb9f3a"
             ],
             [
              0.8888888888888888,
              "#fdca26"
             ],
             [
              1,
              "#f0f921"
             ]
            ],
            "type": "histogram2dcontour"
           }
          ],
          "mesh3d": [
           {
            "colorbar": {
             "outlinewidth": 0,
             "ticks": ""
            },
            "type": "mesh3d"
           }
          ],
          "parcoords": [
           {
            "line": {
             "colorbar": {
              "outlinewidth": 0,
              "ticks": ""
             }
            },
            "type": "parcoords"
           }
          ],
          "pie": [
           {
            "automargin": true,
            "type": "pie"
           }
          ],
          "scatter": [
           {
            "marker": {
             "colorbar": {
              "outlinewidth": 0,
              "ticks": ""
             }
            },
            "type": "scatter"
           }
          ],
          "scatter3d": [
           {
            "line": {
             "colorbar": {
              "outlinewidth": 0,
              "ticks": ""
             }
            },
            "marker": {
             "colorbar": {
              "outlinewidth": 0,
              "ticks": ""
             }
            },
            "type": "scatter3d"
           }
          ],
          "scattercarpet": [
           {
            "marker": {
             "colorbar": {
              "outlinewidth": 0,
              "ticks": ""
             }
            },
            "type": "scattercarpet"
           }
          ],
          "scattergeo": [
           {
            "marker": {
             "colorbar": {
              "outlinewidth": 0,
              "ticks": ""
             }
            },
            "type": "scattergeo"
           }
          ],
          "scattergl": [
           {
            "marker": {
             "colorbar": {
              "outlinewidth": 0,
              "ticks": ""
             }
            },
            "type": "scattergl"
           }
          ],
          "scattermapbox": [
           {
            "marker": {
             "colorbar": {
              "outlinewidth": 0,
              "ticks": ""
             }
            },
            "type": "scattermapbox"
           }
          ],
          "scatterpolar": [
           {
            "marker": {
             "colorbar": {
              "outlinewidth": 0,
              "ticks": ""
             }
            },
            "type": "scatterpolar"
           }
          ],
          "scatterpolargl": [
           {
            "marker": {
             "colorbar": {
              "outlinewidth": 0,
              "ticks": ""
             }
            },
            "type": "scatterpolargl"
           }
          ],
          "scatterternary": [
           {
            "marker": {
             "colorbar": {
              "outlinewidth": 0,
              "ticks": ""
             }
            },
            "type": "scatterternary"
           }
          ],
          "surface": [
           {
            "colorbar": {
             "outlinewidth": 0,
             "ticks": ""
            },
            "colorscale": [
             [
              0,
              "#0d0887"
             ],
             [
              0.1111111111111111,
              "#46039f"
             ],
             [
              0.2222222222222222,
              "#7201a8"
             ],
             [
              0.3333333333333333,
              "#9c179e"
             ],
             [
              0.4444444444444444,
              "#bd3786"
             ],
             [
              0.5555555555555556,
              "#d8576b"
             ],
             [
              0.6666666666666666,
              "#ed7953"
             ],
             [
              0.7777777777777778,
              "#fb9f3a"
             ],
             [
              0.8888888888888888,
              "#fdca26"
             ],
             [
              1,
              "#f0f921"
             ]
            ],
            "type": "surface"
           }
          ],
          "table": [
           {
            "cells": {
             "fill": {
              "color": "#EBF0F8"
             },
             "line": {
              "color": "white"
             }
            },
            "header": {
             "fill": {
              "color": "#C8D4E3"
             },
             "line": {
              "color": "white"
             }
            },
            "type": "table"
           }
          ]
         },
         "layout": {
          "annotationdefaults": {
           "arrowcolor": "#2a3f5f",
           "arrowhead": 0,
           "arrowwidth": 1
          },
          "coloraxis": {
           "colorbar": {
            "outlinewidth": 0,
            "ticks": ""
           }
          },
          "colorscale": {
           "diverging": [
            [
             0,
             "#8e0152"
            ],
            [
             0.1,
             "#c51b7d"
            ],
            [
             0.2,
             "#de77ae"
            ],
            [
             0.3,
             "#f1b6da"
            ],
            [
             0.4,
             "#fde0ef"
            ],
            [
             0.5,
             "#f7f7f7"
            ],
            [
             0.6,
             "#e6f5d0"
            ],
            [
             0.7,
             "#b8e186"
            ],
            [
             0.8,
             "#7fbc41"
            ],
            [
             0.9,
             "#4d9221"
            ],
            [
             1,
             "#276419"
            ]
           ],
           "sequential": [
            [
             0,
             "#0d0887"
            ],
            [
             0.1111111111111111,
             "#46039f"
            ],
            [
             0.2222222222222222,
             "#7201a8"
            ],
            [
             0.3333333333333333,
             "#9c179e"
            ],
            [
             0.4444444444444444,
             "#bd3786"
            ],
            [
             0.5555555555555556,
             "#d8576b"
            ],
            [
             0.6666666666666666,
             "#ed7953"
            ],
            [
             0.7777777777777778,
             "#fb9f3a"
            ],
            [
             0.8888888888888888,
             "#fdca26"
            ],
            [
             1,
             "#f0f921"
            ]
           ],
           "sequentialminus": [
            [
             0,
             "#0d0887"
            ],
            [
             0.1111111111111111,
             "#46039f"
            ],
            [
             0.2222222222222222,
             "#7201a8"
            ],
            [
             0.3333333333333333,
             "#9c179e"
            ],
            [
             0.4444444444444444,
             "#bd3786"
            ],
            [
             0.5555555555555556,
             "#d8576b"
            ],
            [
             0.6666666666666666,
             "#ed7953"
            ],
            [
             0.7777777777777778,
             "#fb9f3a"
            ],
            [
             0.8888888888888888,
             "#fdca26"
            ],
            [
             1,
             "#f0f921"
            ]
           ]
          },
          "colorway": [
           "#636efa",
           "#EF553B",
           "#00cc96",
           "#ab63fa",
           "#FFA15A",
           "#19d3f3",
           "#FF6692",
           "#B6E880",
           "#FF97FF",
           "#FECB52"
          ],
          "font": {
           "color": "#2a3f5f"
          },
          "geo": {
           "bgcolor": "white",
           "lakecolor": "white",
           "landcolor": "#E5ECF6",
           "showlakes": true,
           "showland": true,
           "subunitcolor": "white"
          },
          "hoverlabel": {
           "align": "left"
          },
          "hovermode": "closest",
          "mapbox": {
           "style": "light"
          },
          "paper_bgcolor": "white",
          "plot_bgcolor": "#E5ECF6",
          "polar": {
           "angularaxis": {
            "gridcolor": "white",
            "linecolor": "white",
            "ticks": ""
           },
           "bgcolor": "#E5ECF6",
           "radialaxis": {
            "gridcolor": "white",
            "linecolor": "white",
            "ticks": ""
           }
          },
          "scene": {
           "xaxis": {
            "backgroundcolor": "#E5ECF6",
            "gridcolor": "white",
            "gridwidth": 2,
            "linecolor": "white",
            "showbackground": true,
            "ticks": "",
            "zerolinecolor": "white"
           },
           "yaxis": {
            "backgroundcolor": "#E5ECF6",
            "gridcolor": "white",
            "gridwidth": 2,
            "linecolor": "white",
            "showbackground": true,
            "ticks": "",
            "zerolinecolor": "white"
           },
           "zaxis": {
            "backgroundcolor": "#E5ECF6",
            "gridcolor": "white",
            "gridwidth": 2,
            "linecolor": "white",
            "showbackground": true,
            "ticks": "",
            "zerolinecolor": "white"
           }
          },
          "shapedefaults": {
           "line": {
            "color": "#2a3f5f"
           }
          },
          "ternary": {
           "aaxis": {
            "gridcolor": "white",
            "linecolor": "white",
            "ticks": ""
           },
           "baxis": {
            "gridcolor": "white",
            "linecolor": "white",
            "ticks": ""
           },
           "bgcolor": "#E5ECF6",
           "caxis": {
            "gridcolor": "white",
            "linecolor": "white",
            "ticks": ""
           }
          },
          "title": {
           "x": 0.05
          },
          "xaxis": {
           "automargin": true,
           "gridcolor": "white",
           "linecolor": "white",
           "ticks": "",
           "title": {
            "standoff": 15
           },
           "zerolinecolor": "white",
           "zerolinewidth": 2
          },
          "yaxis": {
           "automargin": true,
           "gridcolor": "white",
           "linecolor": "white",
           "ticks": "",
           "title": {
            "standoff": 15
           },
           "zerolinecolor": "white",
           "zerolinewidth": 2
          }
         }
        }
       }
      },
      "text/html": [
       "<div>\n",
       "        \n",
       "        \n",
       "            <div id=\"115a4e22-01c7-4343-acae-511cdb672930\" class=\"plotly-graph-div\" style=\"height:525px; width:100%;\"></div>\n",
       "            <script type=\"text/javascript\">\n",
       "                require([\"plotly\"], function(Plotly) {\n",
       "                    window.PLOTLYENV=window.PLOTLYENV || {};\n",
       "                    \n",
       "                if (document.getElementById(\"115a4e22-01c7-4343-acae-511cdb672930\")) {\n",
       "                    Plotly.newPlot(\n",
       "                        '115a4e22-01c7-4343-acae-511cdb672930',\n",
       "                        [{\"geo\": \"geo\", \"hoverlabel\": {\"namelength\": 0}, \"hovertemplate\": \"<b>%{hovertext}</b><br><br>State=Maharashtra<br>TotalConfirmedCasesInIndia=%{marker.size}<br>lat=%{lat}<br>lon=%{lon}\", \"hovertext\": [\"Maharashtra\"], \"lat\": [19.7515], \"legendgroup\": \"State=Maharashtra\", \"locationmode\": \"ISO-3\", \"lon\": [75.7139], \"marker\": {\"color\": \"#636efa\", \"size\": [49], \"sizemode\": \"area\", \"sizeref\": 0.1225}, \"name\": \"State=Maharashtra\", \"showlegend\": true, \"type\": \"scattergeo\"}, {\"geo\": \"geo\", \"hoverlabel\": {\"namelength\": 0}, \"hovertemplate\": \"<b>%{hovertext}</b><br><br>State=Kerala<br>TotalConfirmedCasesInIndia=%{marker.size}<br>lat=%{lat}<br>lon=%{lon}\", \"hovertext\": [\"Kerala\"], \"lat\": [10.8505], \"legendgroup\": \"State=Kerala\", \"locationmode\": \"ISO-3\", \"lon\": [76.2711], \"marker\": {\"color\": \"#EF553B\", \"size\": [26], \"sizemode\": \"area\", \"sizeref\": 0.1225}, \"name\": \"State=Kerala\", \"showlegend\": true, \"type\": \"scattergeo\"}, {\"geo\": \"geo\", \"hoverlabel\": {\"namelength\": 0}, \"hovertemplate\": \"<b>%{hovertext}</b><br><br>State=Uttar Pradesh<br>TotalConfirmedCasesInIndia=%{marker.size}<br>lat=%{lat}<br>lon=%{lon}\", \"hovertext\": [\"Uttar Pradesh\"], \"lat\": [26.8467], \"legendgroup\": \"State=Uttar Pradesh\", \"locationmode\": \"ISO-3\", \"lon\": [80.9462], \"marker\": {\"color\": \"#00cc96\", \"size\": [22], \"sizemode\": \"area\", \"sizeref\": 0.1225}, \"name\": \"State=Uttar Pradesh\", \"showlegend\": true, \"type\": \"scattergeo\"}, {\"geo\": \"geo\", \"hoverlabel\": {\"namelength\": 0}, \"hovertemplate\": \"<b>%{hovertext}</b><br><br>State=Rajasthan<br>TotalConfirmedCasesInIndia=%{marker.size}<br>lat=%{lat}<br>lon=%{lon}\", \"hovertext\": [\"Rajasthan\"], \"lat\": [27.0238], \"legendgroup\": \"State=Rajasthan\", \"locationmode\": \"ISO-3\", \"lon\": [74.2179], \"marker\": {\"color\": \"#ab63fa\", \"size\": [15], \"sizemode\": \"area\", \"sizeref\": 0.1225}, \"name\": \"State=Rajasthan\", \"showlegend\": true, \"type\": \"scattergeo\"}, {\"geo\": \"geo\", \"hoverlabel\": {\"namelength\": 0}, \"hovertemplate\": \"<b>%{hovertext}</b><br><br>State=Karnataka<br>TotalConfirmedCasesInIndia=%{marker.size}<br>lat=%{lat}<br>lon=%{lon}\", \"hovertext\": [\"Karnataka\"], \"lat\": [15.3173], \"legendgroup\": \"State=Karnataka\", \"locationmode\": \"ISO-3\", \"lon\": [75.7139], \"marker\": {\"color\": \"#FFA15A\", \"size\": [15], \"sizemode\": \"area\", \"sizeref\": 0.1225}, \"name\": \"State=Karnataka\", \"showlegend\": true, \"type\": \"scattergeo\"}, {\"geo\": \"geo\", \"hoverlabel\": {\"namelength\": 0}, \"hovertemplate\": \"<b>%{hovertext}</b><br><br>State=Union Territory of Ladakh<br>TotalConfirmedCasesInIndia=%{marker.size}<br>lat=%{lat}<br>lon=%{lon}\", \"hovertext\": [\"Union Territory of Ladakh\"], \"lat\": [34.209515], \"legendgroup\": \"State=Union Territory of Ladakh\", \"locationmode\": \"ISO-3\", \"lon\": [77.615112], \"marker\": {\"color\": \"#19d3f3\", \"size\": [10], \"sizemode\": \"area\", \"sizeref\": 0.1225}, \"name\": \"State=Union Territory of Ladakh\", \"showlegend\": true, \"type\": \"scattergeo\"}, {\"geo\": \"geo\", \"hoverlabel\": {\"namelength\": 0}, \"hovertemplate\": \"<b>%{hovertext}</b><br><br>State=Gujarat<br>TotalConfirmedCasesInIndia=%{marker.size}<br>lat=%{lat}<br>lon=%{lon}\", \"hovertext\": [\"Gujarat\"], \"lat\": [22.2587], \"legendgroup\": \"State=Gujarat\", \"locationmode\": \"ISO-3\", \"lon\": [71.1924], \"marker\": {\"color\": \"#FF6692\", \"size\": [5], \"sizemode\": \"area\", \"sizeref\": 0.1225}, \"name\": \"State=Gujarat\", \"showlegend\": true, \"type\": \"scattergeo\"}, {\"geo\": \"geo\", \"hoverlabel\": {\"namelength\": 0}, \"hovertemplate\": \"<b>%{hovertext}</b><br><br>State=Union Territory of Jammu and Kashmir<br>TotalConfirmedCasesInIndia=%{marker.size}<br>lat=%{lat}<br>lon=%{lon}\", \"hovertext\": [\"Union Territory of Jammu and Kashmir\"], \"lat\": [33.7782], \"legendgroup\": \"State=Union Territory of Jammu and Kashmir\", \"locationmode\": \"ISO-3\", \"lon\": [76.5762], \"marker\": {\"color\": \"#B6E880\", \"size\": [4], \"sizemode\": \"area\", \"sizeref\": 0.1225}, \"name\": \"State=Union Territory of Jammu and Kashmir\", \"showlegend\": true, \"type\": \"scattergeo\"}, {\"geo\": \"geo\", \"hoverlabel\": {\"namelength\": 0}, \"hovertemplate\": \"<b>%{hovertext}</b><br><br>State=Tamil Nadu<br>TotalConfirmedCasesInIndia=%{marker.size}<br>lat=%{lat}<br>lon=%{lon}\", \"hovertext\": [\"Tamil Nadu\"], \"lat\": [11.1271], \"legendgroup\": \"State=Tamil Nadu\", \"locationmode\": \"ISO-3\", \"lon\": [78.6569], \"marker\": {\"color\": \"#FF97FF\", \"size\": [3], \"sizemode\": \"area\", \"sizeref\": 0.1225}, \"name\": \"State=Tamil Nadu\", \"showlegend\": true, \"type\": \"scattergeo\"}, {\"geo\": \"geo\", \"hoverlabel\": {\"namelength\": 0}, \"hovertemplate\": \"<b>%{hovertext}</b><br><br>State=Uttarakhand<br>TotalConfirmedCasesInIndia=%{marker.size}<br>lat=%{lat}<br>lon=%{lon}\", \"hovertext\": [\"Uttarakhand\"], \"lat\": [30.0668], \"legendgroup\": \"State=Uttarakhand\", \"locationmode\": \"ISO-3\", \"lon\": [79.0193], \"marker\": {\"color\": \"#FECB52\", \"size\": [3], \"sizemode\": \"area\", \"sizeref\": 0.1225}, \"name\": \"State=Uttarakhand\", \"showlegend\": true, \"type\": \"scattergeo\"}, {\"geo\": \"geo\", \"hoverlabel\": {\"namelength\": 0}, \"hovertemplate\": \"<b>%{hovertext}</b><br><br>State=Haryana<br>TotalConfirmedCasesInIndia=%{marker.size}<br>lat=%{lat}<br>lon=%{lon}\", \"hovertext\": [\"Haryana\"], \"lat\": [29.0588], \"legendgroup\": \"State=Haryana\", \"locationmode\": \"ISO-3\", \"lon\": [76.0856], \"marker\": {\"color\": \"#636efa\", \"size\": [3], \"sizemode\": \"area\", \"sizeref\": 0.1225}, \"name\": \"State=Haryana\", \"showlegend\": true, \"type\": \"scattergeo\"}, {\"geo\": \"geo\", \"hoverlabel\": {\"namelength\": 0}, \"hovertemplate\": \"<b>%{hovertext}</b><br><br>State=Andhra Pradesh<br>TotalConfirmedCasesInIndia=%{marker.size}<br>lat=%{lat}<br>lon=%{lon}\", \"hovertext\": [\"Andhra Pradesh\"], \"lat\": [15.9129], \"legendgroup\": \"State=Andhra Pradesh\", \"locationmode\": \"ISO-3\", \"lon\": [79.74], \"marker\": {\"color\": \"#EF553B\", \"size\": [3], \"sizemode\": \"area\", \"sizeref\": 0.1225}, \"name\": \"State=Andhra Pradesh\", \"showlegend\": true, \"type\": \"scattergeo\"}, {\"geo\": \"geo\", \"hoverlabel\": {\"namelength\": 0}, \"hovertemplate\": \"<b>%{hovertext}</b><br><br>State=West Bengal<br>TotalConfirmedCasesInIndia=%{marker.size}<br>lat=%{lat}<br>lon=%{lon}\", \"hovertext\": [\"West Bengal\"], \"lat\": [22.9868], \"legendgroup\": \"State=West Bengal\", \"locationmode\": \"ISO-3\", \"lon\": [87.855], \"marker\": {\"color\": \"#00cc96\", \"size\": [2], \"sizemode\": \"area\", \"sizeref\": 0.1225}, \"name\": \"State=West Bengal\", \"showlegend\": true, \"type\": \"scattergeo\"}, {\"geo\": \"geo\", \"hoverlabel\": {\"namelength\": 0}, \"hovertemplate\": \"<b>%{hovertext}</b><br><br>State=Odisha<br>TotalConfirmedCasesInIndia=%{marker.size}<br>lat=%{lat}<br>lon=%{lon}\", \"hovertext\": [\"Odisha\"], \"lat\": [20.9517], \"legendgroup\": \"State=Odisha\", \"locationmode\": \"ISO-3\", \"lon\": [85.0985], \"marker\": {\"color\": \"#ab63fa\", \"size\": [2], \"sizemode\": \"area\", \"sizeref\": 0.1225}, \"name\": \"State=Odisha\", \"showlegend\": true, \"type\": \"scattergeo\"}, {\"geo\": \"geo\", \"hoverlabel\": {\"namelength\": 0}, \"hovertemplate\": \"<b>%{hovertext}</b><br><br>State=Chhattisgarh<br>TotalConfirmedCasesInIndia=%{marker.size}<br>lat=%{lat}<br>lon=%{lon}\", \"hovertext\": [\"Chhattisgarh\"], \"lat\": [21.2787], \"legendgroup\": \"State=Chhattisgarh\", \"locationmode\": \"ISO-3\", \"lon\": [81.8661], \"marker\": {\"color\": \"#FFA15A\", \"size\": [1], \"sizemode\": \"area\", \"sizeref\": 0.1225}, \"name\": \"State=Chhattisgarh\", \"showlegend\": true, \"type\": \"scattergeo\"}, {\"geo\": \"geo\", \"hoverlabel\": {\"namelength\": 0}, \"hovertemplate\": \"<b>%{hovertext}</b><br><br>State=Puducherry<br>TotalConfirmedCasesInIndia=%{marker.size}<br>lat=%{lat}<br>lon=%{lon}\", \"hovertext\": [\"Puducherry\"], \"lat\": [11.9416], \"legendgroup\": \"State=Puducherry\", \"locationmode\": \"ISO-3\", \"lon\": [79.8083], \"marker\": {\"color\": \"#19d3f3\", \"size\": [1], \"sizemode\": \"area\", \"sizeref\": 0.1225}, \"name\": \"State=Puducherry\", \"showlegend\": true, \"type\": \"scattergeo\"}, {\"geo\": \"geo\", \"hoverlabel\": {\"namelength\": 0}, \"hovertemplate\": \"<b>%{hovertext}</b><br><br>State=Union Territory of Chandigarh<br>TotalConfirmedCasesInIndia=%{marker.size}<br>lat=%{lat}<br>lon=%{lon}\", \"hovertext\": [\"Union Territory of Chandigarh\"], \"lat\": [31.1471], \"legendgroup\": \"State=Union Territory of Chandigarh\", \"locationmode\": \"ISO-3\", \"lon\": [75.3412], \"marker\": {\"color\": \"#FF6692\", \"size\": [1], \"sizemode\": \"area\", \"sizeref\": 0.1225}, \"name\": \"State=Union Territory of Chandigarh\", \"showlegend\": true, \"type\": \"scattergeo\"}, {\"geo\": \"geo\", \"hoverlabel\": {\"namelength\": 0}, \"hovertemplate\": \"<b>%{hovertext}</b><br><br>State=Sikkim<br>TotalConfirmedCasesInIndia=%{marker.size}<br>lat=%{lat}<br>lon=%{lon}\", \"hovertext\": [\"Sikkim\"], \"lat\": [27.533], \"legendgroup\": \"State=Sikkim\", \"locationmode\": \"ISO-3\", \"lon\": [88.5122], \"marker\": {\"color\": \"#B6E880\", \"size\": [0], \"sizemode\": \"area\", \"sizeref\": 0.1225}, \"name\": \"State=Sikkim\", \"showlegend\": true, \"type\": \"scattergeo\"}, {\"geo\": \"geo\", \"hoverlabel\": {\"namelength\": 0}, \"hovertemplate\": \"<b>%{hovertext}</b><br><br>State=Mizoram<br>TotalConfirmedCasesInIndia=%{marker.size}<br>lat=%{lat}<br>lon=%{lon}\", \"hovertext\": [\"Mizoram\"], \"lat\": [23.1645], \"legendgroup\": \"State=Mizoram\", \"locationmode\": \"ISO-3\", \"lon\": [92.9376], \"marker\": {\"color\": \"#FF97FF\", \"size\": [0], \"sizemode\": \"area\", \"sizeref\": 0.1225}, \"name\": \"State=Mizoram\", \"showlegend\": true, \"type\": \"scattergeo\"}, {\"geo\": \"geo\", \"hoverlabel\": {\"namelength\": 0}, \"hovertemplate\": \"<b>%{hovertext}</b><br><br>State=Meghalaya<br>TotalConfirmedCasesInIndia=%{marker.size}<br>lat=%{lat}<br>lon=%{lon}\", \"hovertext\": [\"Meghalaya\"], \"lat\": [25.467], \"legendgroup\": \"State=Meghalaya\", \"locationmode\": \"ISO-3\", \"lon\": [91.3662], \"marker\": {\"color\": \"#FECB52\", \"size\": [0], \"sizemode\": \"area\", \"sizeref\": 0.1225}, \"name\": \"State=Meghalaya\", \"showlegend\": true, \"type\": \"scattergeo\"}, {\"geo\": \"geo\", \"hoverlabel\": {\"namelength\": 0}, \"hovertemplate\": \"<b>%{hovertext}</b><br><br>State=Arunachal Pradesh<br>TotalConfirmedCasesInIndia=%{marker.size}<br>lat=%{lat}<br>lon=%{lon}\", \"hovertext\": [\"Arunachal Pradesh\"], \"lat\": [28.218000000000004], \"legendgroup\": \"State=Arunachal Pradesh\", \"locationmode\": \"ISO-3\", \"lon\": [94.7278], \"marker\": {\"color\": \"#636efa\", \"size\": [0], \"sizemode\": \"area\", \"sizeref\": 0.1225}, \"name\": \"State=Arunachal Pradesh\", \"showlegend\": true, \"type\": \"scattergeo\"}, {\"geo\": \"geo\", \"hoverlabel\": {\"namelength\": 0}, \"hovertemplate\": \"<b>%{hovertext}</b><br><br>State=Tripura<br>TotalConfirmedCasesInIndia=%{marker.size}<br>lat=%{lat}<br>lon=%{lon}\", \"hovertext\": [\"Tripura\"], \"lat\": [23.9408], \"legendgroup\": \"State=Tripura\", \"locationmode\": \"ISO-3\", \"lon\": [91.9882], \"marker\": {\"color\": \"#EF553B\", \"size\": [0], \"sizemode\": \"area\", \"sizeref\": 0.1225}, \"name\": \"State=Tripura\", \"showlegend\": true, \"type\": \"scattergeo\"}, {\"geo\": \"geo\", \"hoverlabel\": {\"namelength\": 0}, \"hovertemplate\": \"<b>%{hovertext}</b><br><br>State=Manipur<br>TotalConfirmedCasesInIndia=%{marker.size}<br>lat=%{lat}<br>lon=%{lon}\", \"hovertext\": [\"Manipur\"], \"lat\": [24.6637], \"legendgroup\": \"State=Manipur\", \"locationmode\": \"ISO-3\", \"lon\": [93.9063], \"marker\": {\"color\": \"#00cc96\", \"size\": [0], \"sizemode\": \"area\", \"sizeref\": 0.1225}, \"name\": \"State=Manipur\", \"showlegend\": true, \"type\": \"scattergeo\"}, {\"geo\": \"geo\", \"hoverlabel\": {\"namelength\": 0}, \"hovertemplate\": \"<b>%{hovertext}</b><br><br>State=Telangana<br>TotalConfirmedCasesInIndia=%{marker.size}<br>lat=%{lat}<br>lon=%{lon}\", \"hovertext\": [\"Telangana\"], \"lat\": [18.1124], \"legendgroup\": \"State=Telangana\", \"locationmode\": \"ISO-3\", \"lon\": [79.0193], \"marker\": {\"color\": \"#ab63fa\", \"size\": [0], \"sizemode\": \"area\", \"sizeref\": 0.1225}, \"name\": \"State=Telangana\", \"showlegend\": true, \"type\": \"scattergeo\"}, {\"geo\": \"geo\", \"hoverlabel\": {\"namelength\": 0}, \"hovertemplate\": \"<b>%{hovertext}</b><br><br>State=Goa<br>TotalConfirmedCasesInIndia=%{marker.size}<br>lat=%{lat}<br>lon=%{lon}\", \"hovertext\": [\"Goa\"], \"lat\": [15.2993], \"legendgroup\": \"State=Goa\", \"locationmode\": \"ISO-3\", \"lon\": [74.124], \"marker\": {\"color\": \"#FFA15A\", \"size\": [0], \"sizemode\": \"area\", \"sizeref\": 0.1225}, \"name\": \"State=Goa\", \"showlegend\": true, \"type\": \"scattergeo\"}, {\"geo\": \"geo\", \"hoverlabel\": {\"namelength\": 0}, \"hovertemplate\": \"<b>%{hovertext}</b><br><br>State=Nagaland<br>TotalConfirmedCasesInIndia=%{marker.size}<br>lat=%{lat}<br>lon=%{lon}\", \"hovertext\": [\"Nagaland\"], \"lat\": [26.1584], \"legendgroup\": \"State=Nagaland\", \"locationmode\": \"ISO-3\", \"lon\": [94.5624], \"marker\": {\"color\": \"#19d3f3\", \"size\": [0], \"sizemode\": \"area\", \"sizeref\": 0.1225}, \"name\": \"State=Nagaland\", \"showlegend\": true, \"type\": \"scattergeo\"}, {\"geo\": \"geo\", \"hoverlabel\": {\"namelength\": 0}, \"hovertemplate\": \"<b>%{hovertext}</b><br><br>State=Bihar<br>TotalConfirmedCasesInIndia=%{marker.size}<br>lat=%{lat}<br>lon=%{lon}\", \"hovertext\": [\"Bihar\"], \"lat\": [25.0961], \"legendgroup\": \"State=Bihar\", \"locationmode\": \"ISO-3\", \"lon\": [85.3131], \"marker\": {\"color\": \"#FF6692\", \"size\": [0], \"sizemode\": \"area\", \"sizeref\": 0.1225}, \"name\": \"State=Bihar\", \"showlegend\": true, \"type\": \"scattergeo\"}, {\"geo\": \"geo\", \"hoverlabel\": {\"namelength\": 0}, \"hovertemplate\": \"<b>%{hovertext}</b><br><br>State=Jharkhand<br>TotalConfirmedCasesInIndia=%{marker.size}<br>lat=%{lat}<br>lon=%{lon}\", \"hovertext\": [\"Jharkhand\"], \"lat\": [23.6102], \"legendgroup\": \"State=Jharkhand\", \"locationmode\": \"ISO-3\", \"lon\": [85.2799], \"marker\": {\"color\": \"#B6E880\", \"size\": [0], \"sizemode\": \"area\", \"sizeref\": 0.1225}, \"name\": \"State=Jharkhand\", \"showlegend\": true, \"type\": \"scattergeo\"}, {\"geo\": \"geo\", \"hoverlabel\": {\"namelength\": 0}, \"hovertemplate\": \"<b>%{hovertext}</b><br><br>State=Madhya Pradesh<br>TotalConfirmedCasesInIndia=%{marker.size}<br>lat=%{lat}<br>lon=%{lon}\", \"hovertext\": [\"Madhya Pradesh\"], \"lat\": [22.9734], \"legendgroup\": \"State=Madhya Pradesh\", \"locationmode\": \"ISO-3\", \"lon\": [78.6569], \"marker\": {\"color\": \"#FF97FF\", \"size\": [0], \"sizemode\": \"area\", \"sizeref\": 0.1225}, \"name\": \"State=Madhya Pradesh\", \"showlegend\": true, \"type\": \"scattergeo\"}, {\"geo\": \"geo\", \"hoverlabel\": {\"namelength\": 0}, \"hovertemplate\": \"<b>%{hovertext}</b><br><br>State=Assam<br>TotalConfirmedCasesInIndia=%{marker.size}<br>lat=%{lat}<br>lon=%{lon}\", \"hovertext\": [\"Assam\"], \"lat\": [26.2006], \"legendgroup\": \"State=Assam\", \"locationmode\": \"ISO-3\", \"lon\": [92.9376], \"marker\": {\"color\": \"#FECB52\", \"size\": [0], \"sizemode\": \"area\", \"sizeref\": 0.1225}, \"name\": \"State=Assam\", \"showlegend\": true, \"type\": \"scattergeo\"}, {\"geo\": \"geo\", \"hoverlabel\": {\"namelength\": 0}, \"hovertemplate\": \"<b>%{hovertext}</b><br><br>State=Himachal Pradesh<br>TotalConfirmedCasesInIndia=%{marker.size}<br>lat=%{lat}<br>lon=%{lon}\", \"hovertext\": [\"Himachal Pradesh\"], \"lat\": [31.1048], \"legendgroup\": \"State=Himachal Pradesh\", \"locationmode\": \"ISO-3\", \"lon\": [77.1734], \"marker\": {\"color\": \"#636efa\", \"size\": [0], \"sizemode\": \"area\", \"sizeref\": 0.1225}, \"name\": \"State=Himachal Pradesh\", \"showlegend\": true, \"type\": \"scattergeo\"}],\n",
       "                        {\"geo\": {\"center\": {}, \"domain\": {\"x\": [0.0, 1.0], \"y\": [0.0, 1.0]}, \"projection\": {\"type\": \"natural earth\"}}, \"legend\": {\"itemsizing\": \"constant\", \"tracegroupgap\": 0}, \"margin\": {\"t\": 60}, \"template\": {\"data\": {\"bar\": [{\"error_x\": {\"color\": \"#2a3f5f\"}, \"error_y\": {\"color\": \"#2a3f5f\"}, \"marker\": {\"line\": {\"color\": \"#E5ECF6\", \"width\": 0.5}}, \"type\": \"bar\"}], \"barpolar\": [{\"marker\": {\"line\": {\"color\": \"#E5ECF6\", \"width\": 0.5}}, \"type\": \"barpolar\"}], \"carpet\": [{\"aaxis\": {\"endlinecolor\": \"#2a3f5f\", \"gridcolor\": \"white\", \"linecolor\": \"white\", \"minorgridcolor\": \"white\", \"startlinecolor\": \"#2a3f5f\"}, \"baxis\": {\"endlinecolor\": \"#2a3f5f\", \"gridcolor\": \"white\", \"linecolor\": \"white\", \"minorgridcolor\": \"white\", \"startlinecolor\": \"#2a3f5f\"}, \"type\": \"carpet\"}], \"choropleth\": [{\"colorbar\": {\"outlinewidth\": 0, \"ticks\": \"\"}, \"type\": \"choropleth\"}], \"contour\": [{\"colorbar\": {\"outlinewidth\": 0, \"ticks\": \"\"}, \"colorscale\": [[0.0, \"#0d0887\"], [0.1111111111111111, \"#46039f\"], [0.2222222222222222, \"#7201a8\"], [0.3333333333333333, \"#9c179e\"], [0.4444444444444444, \"#bd3786\"], [0.5555555555555556, \"#d8576b\"], [0.6666666666666666, \"#ed7953\"], [0.7777777777777778, \"#fb9f3a\"], [0.8888888888888888, \"#fdca26\"], [1.0, \"#f0f921\"]], \"type\": \"contour\"}], \"contourcarpet\": [{\"colorbar\": {\"outlinewidth\": 0, \"ticks\": \"\"}, \"type\": \"contourcarpet\"}], \"heatmap\": [{\"colorbar\": {\"outlinewidth\": 0, \"ticks\": \"\"}, \"colorscale\": [[0.0, \"#0d0887\"], [0.1111111111111111, \"#46039f\"], [0.2222222222222222, \"#7201a8\"], [0.3333333333333333, \"#9c179e\"], [0.4444444444444444, \"#bd3786\"], [0.5555555555555556, \"#d8576b\"], [0.6666666666666666, \"#ed7953\"], [0.7777777777777778, \"#fb9f3a\"], [0.8888888888888888, \"#fdca26\"], [1.0, \"#f0f921\"]], \"type\": \"heatmap\"}], \"heatmapgl\": [{\"colorbar\": {\"outlinewidth\": 0, \"ticks\": \"\"}, \"colorscale\": [[0.0, \"#0d0887\"], [0.1111111111111111, \"#46039f\"], [0.2222222222222222, \"#7201a8\"], [0.3333333333333333, \"#9c179e\"], [0.4444444444444444, \"#bd3786\"], [0.5555555555555556, \"#d8576b\"], [0.6666666666666666, \"#ed7953\"], [0.7777777777777778, \"#fb9f3a\"], [0.8888888888888888, \"#fdca26\"], [1.0, \"#f0f921\"]], \"type\": \"heatmapgl\"}], \"histogram\": [{\"marker\": {\"colorbar\": {\"outlinewidth\": 0, \"ticks\": \"\"}}, \"type\": \"histogram\"}], \"histogram2d\": [{\"colorbar\": {\"outlinewidth\": 0, \"ticks\": \"\"}, \"colorscale\": [[0.0, \"#0d0887\"], [0.1111111111111111, \"#46039f\"], [0.2222222222222222, \"#7201a8\"], [0.3333333333333333, \"#9c179e\"], [0.4444444444444444, \"#bd3786\"], [0.5555555555555556, \"#d8576b\"], [0.6666666666666666, \"#ed7953\"], [0.7777777777777778, \"#fb9f3a\"], [0.8888888888888888, \"#fdca26\"], [1.0, \"#f0f921\"]], \"type\": \"histogram2d\"}], \"histogram2dcontour\": [{\"colorbar\": {\"outlinewidth\": 0, \"ticks\": \"\"}, \"colorscale\": [[0.0, \"#0d0887\"], [0.1111111111111111, \"#46039f\"], [0.2222222222222222, \"#7201a8\"], [0.3333333333333333, \"#9c179e\"], [0.4444444444444444, \"#bd3786\"], [0.5555555555555556, \"#d8576b\"], [0.6666666666666666, \"#ed7953\"], [0.7777777777777778, \"#fb9f3a\"], [0.8888888888888888, \"#fdca26\"], [1.0, \"#f0f921\"]], \"type\": \"histogram2dcontour\"}], \"mesh3d\": [{\"colorbar\": {\"outlinewidth\": 0, \"ticks\": \"\"}, \"type\": \"mesh3d\"}], \"parcoords\": [{\"line\": {\"colorbar\": {\"outlinewidth\": 0, \"ticks\": \"\"}}, \"type\": \"parcoords\"}], \"pie\": [{\"automargin\": true, \"type\": \"pie\"}], \"scatter\": [{\"marker\": {\"colorbar\": {\"outlinewidth\": 0, \"ticks\": \"\"}}, \"type\": \"scatter\"}], \"scatter3d\": [{\"line\": {\"colorbar\": {\"outlinewidth\": 0, \"ticks\": \"\"}}, \"marker\": {\"colorbar\": {\"outlinewidth\": 0, \"ticks\": \"\"}}, \"type\": \"scatter3d\"}], \"scattercarpet\": [{\"marker\": {\"colorbar\": {\"outlinewidth\": 0, \"ticks\": \"\"}}, \"type\": \"scattercarpet\"}], \"scattergeo\": [{\"marker\": {\"colorbar\": {\"outlinewidth\": 0, \"ticks\": \"\"}}, \"type\": \"scattergeo\"}], \"scattergl\": [{\"marker\": {\"colorbar\": {\"outlinewidth\": 0, \"ticks\": \"\"}}, \"type\": \"scattergl\"}], \"scattermapbox\": [{\"marker\": {\"colorbar\": {\"outlinewidth\": 0, \"ticks\": \"\"}}, \"type\": \"scattermapbox\"}], \"scatterpolar\": [{\"marker\": {\"colorbar\": {\"outlinewidth\": 0, \"ticks\": \"\"}}, \"type\": \"scatterpolar\"}], \"scatterpolargl\": [{\"marker\": {\"colorbar\": {\"outlinewidth\": 0, \"ticks\": \"\"}}, \"type\": \"scatterpolargl\"}], \"scatterternary\": [{\"marker\": {\"colorbar\": {\"outlinewidth\": 0, \"ticks\": \"\"}}, \"type\": \"scatterternary\"}], \"surface\": [{\"colorbar\": {\"outlinewidth\": 0, \"ticks\": \"\"}, \"colorscale\": [[0.0, \"#0d0887\"], [0.1111111111111111, \"#46039f\"], [0.2222222222222222, \"#7201a8\"], [0.3333333333333333, \"#9c179e\"], [0.4444444444444444, \"#bd3786\"], [0.5555555555555556, \"#d8576b\"], [0.6666666666666666, \"#ed7953\"], [0.7777777777777778, \"#fb9f3a\"], [0.8888888888888888, \"#fdca26\"], [1.0, \"#f0f921\"]], \"type\": \"surface\"}], \"table\": [{\"cells\": {\"fill\": {\"color\": \"#EBF0F8\"}, \"line\": {\"color\": \"white\"}}, \"header\": {\"fill\": {\"color\": \"#C8D4E3\"}, \"line\": {\"color\": \"white\"}}, \"type\": \"table\"}]}, \"layout\": {\"annotationdefaults\": {\"arrowcolor\": \"#2a3f5f\", \"arrowhead\": 0, \"arrowwidth\": 1}, \"coloraxis\": {\"colorbar\": {\"outlinewidth\": 0, \"ticks\": \"\"}}, \"colorscale\": {\"diverging\": [[0, \"#8e0152\"], [0.1, \"#c51b7d\"], [0.2, \"#de77ae\"], [0.3, \"#f1b6da\"], [0.4, \"#fde0ef\"], [0.5, \"#f7f7f7\"], [0.6, \"#e6f5d0\"], [0.7, \"#b8e186\"], [0.8, \"#7fbc41\"], [0.9, \"#4d9221\"], [1, \"#276419\"]], \"sequential\": [[0.0, \"#0d0887\"], [0.1111111111111111, \"#46039f\"], [0.2222222222222222, \"#7201a8\"], [0.3333333333333333, \"#9c179e\"], [0.4444444444444444, \"#bd3786\"], [0.5555555555555556, \"#d8576b\"], [0.6666666666666666, \"#ed7953\"], [0.7777777777777778, \"#fb9f3a\"], [0.8888888888888888, \"#fdca26\"], [1.0, \"#f0f921\"]], \"sequentialminus\": [[0.0, \"#0d0887\"], [0.1111111111111111, \"#46039f\"], [0.2222222222222222, \"#7201a8\"], [0.3333333333333333, \"#9c179e\"], [0.4444444444444444, \"#bd3786\"], [0.5555555555555556, \"#d8576b\"], [0.6666666666666666, \"#ed7953\"], [0.7777777777777778, \"#fb9f3a\"], [0.8888888888888888, \"#fdca26\"], [1.0, \"#f0f921\"]]}, \"colorway\": [\"#636efa\", \"#EF553B\", \"#00cc96\", \"#ab63fa\", \"#FFA15A\", \"#19d3f3\", \"#FF6692\", \"#B6E880\", \"#FF97FF\", \"#FECB52\"], \"font\": {\"color\": \"#2a3f5f\"}, \"geo\": {\"bgcolor\": \"white\", \"lakecolor\": \"white\", \"landcolor\": \"#E5ECF6\", \"showlakes\": true, \"showland\": true, \"subunitcolor\": \"white\"}, \"hoverlabel\": {\"align\": \"left\"}, \"hovermode\": \"closest\", \"mapbox\": {\"style\": \"light\"}, \"paper_bgcolor\": \"white\", \"plot_bgcolor\": \"#E5ECF6\", \"polar\": {\"angularaxis\": {\"gridcolor\": \"white\", \"linecolor\": \"white\", \"ticks\": \"\"}, \"bgcolor\": \"#E5ECF6\", \"radialaxis\": {\"gridcolor\": \"white\", \"linecolor\": \"white\", \"ticks\": \"\"}}, \"scene\": {\"xaxis\": {\"backgroundcolor\": \"#E5ECF6\", \"gridcolor\": \"white\", \"gridwidth\": 2, \"linecolor\": \"white\", \"showbackground\": true, \"ticks\": \"\", \"zerolinecolor\": \"white\"}, \"yaxis\": {\"backgroundcolor\": \"#E5ECF6\", \"gridcolor\": \"white\", \"gridwidth\": 2, \"linecolor\": \"white\", \"showbackground\": true, \"ticks\": \"\", \"zerolinecolor\": \"white\"}, \"zaxis\": {\"backgroundcolor\": \"#E5ECF6\", \"gridcolor\": \"white\", \"gridwidth\": 2, \"linecolor\": \"white\", \"showbackground\": true, \"ticks\": \"\", \"zerolinecolor\": \"white\"}}, \"shapedefaults\": {\"line\": {\"color\": \"#2a3f5f\"}}, \"ternary\": {\"aaxis\": {\"gridcolor\": \"white\", \"linecolor\": \"white\", \"ticks\": \"\"}, \"baxis\": {\"gridcolor\": \"white\", \"linecolor\": \"white\", \"ticks\": \"\"}, \"bgcolor\": \"#E5ECF6\", \"caxis\": {\"gridcolor\": \"white\", \"linecolor\": \"white\", \"ticks\": \"\"}}, \"title\": {\"x\": 0.05}, \"xaxis\": {\"automargin\": true, \"gridcolor\": \"white\", \"linecolor\": \"white\", \"ticks\": \"\", \"title\": {\"standoff\": 15}, \"zerolinecolor\": \"white\", \"zerolinewidth\": 2}, \"yaxis\": {\"automargin\": true, \"gridcolor\": \"white\", \"linecolor\": \"white\", \"ticks\": \"\", \"title\": {\"standoff\": 15}, \"zerolinecolor\": \"white\", \"zerolinewidth\": 2}}}},\n",
       "                        {\"responsive\": true}\n",
       "                    ).then(function(){\n",
       "                            \n",
       "var gd = document.getElementById('115a4e22-01c7-4343-acae-511cdb672930');\n",
       "var x = new MutationObserver(function (mutations, observer) {{\n",
       "        var display = window.getComputedStyle(gd).display;\n",
       "        if (!display || display === 'none') {{\n",
       "            console.log([gd, 'removed!']);\n",
       "            Plotly.purge(gd);\n",
       "            observer.disconnect();\n",
       "        }}\n",
       "}});\n",
       "\n",
       "// Listen for the removal of the full notebook cells\n",
       "var notebookContainer = gd.closest('#notebook-container');\n",
       "if (notebookContainer) {{\n",
       "    x.observe(notebookContainer, {childList: true});\n",
       "}}\n",
       "\n",
       "// Listen for the clearing of the current output cell\n",
       "var outputEl = gd.closest('.output');\n",
       "if (outputEl) {{\n",
       "    x.observe(outputEl, {childList: true});\n",
       "}}\n",
       "\n",
       "                        })\n",
       "                };\n",
       "                });\n",
       "            </script>\n",
       "        </div>"
      ]
     },
     "metadata": {},
     "output_type": "display_data"
    }
   ],
   "source": [
    "import plotly.express as px\n",
    "fig = px.scatter_geo(indian_states_corona_df, lat='lat', lon='lon', color=\"State\",\n",
    "                     hover_name=\"State\", size=\"TotalConfirmedCasesInIndia\", locationmode='ISO-3',\n",
    "                     projection=\"natural earth\")\n",
    "fig.show()"
   ]
  }
 ],
 "metadata": {
  "kernelspec": {
   "display_name": "Python 3",
   "language": "python",
   "name": "python3"
  },
  "language_info": {
   "codemirror_mode": {
    "name": "ipython",
    "version": 3
   },
   "file_extension": ".py",
   "mimetype": "text/x-python",
   "name": "python",
   "nbconvert_exporter": "python",
   "pygments_lexer": "ipython3",
   "version": "3.7.3"
  }
 },
 "nbformat": 4,
 "nbformat_minor": 2
}
